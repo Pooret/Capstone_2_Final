{
 "cells": [
  {
   "cell_type": "markdown",
   "id": "f5691640",
   "metadata": {},
   "source": [
    "# Part 3 Preprocessing and Machine Learning"
   ]
  },
  {
   "cell_type": "markdown",
   "id": "7c5e85d4",
   "metadata": {},
   "source": [
    "3. Contents\n",
    "3.1 Overview\n",
    "3.2 Preprocessing Data\n",
    "3.2.1 Text Cleaning\n",
    "3.2.2 Feature Selection\n",
    "3.2.3 Feature Scaling\n",
    "3.2.4 Term-Document Matrices\n",
    "3.2.5 Transformation Pipeline\n",
    "3.3 Create a Test Set\n",
    "3.4 Model Training and Selection\n",
    "3.4.1 Training and Evaluating Training Data\n",
    "3.4.2 Cross Validation\n",
    "3.5 Model Fine-Tuning\n",
    "3.5.1 Grid Search\n",
    "3.5.2 Randomized Hyperparameter Search\n",
    "3.6 Model Analysis\n",
    "3.6.1 Best Model and Errors\n",
    "3.6.2 Evaluate System on Test Data\n",
    "3.7 Discussion"
   ]
  },
  {
   "cell_type": "code",
   "execution_count": 468,
   "id": "55a1e18a",
   "metadata": {},
   "outputs": [],
   "source": [
    "# Import modules\n",
    "import pandas as pd\n",
    "import numpy as np\n",
    "import matplotlib.pyplot as plt\n",
    "from NLP_Pipeline import *\n",
    "\n",
    "# For text preprocessing\n",
    "import spacy\n",
    "from nltk.tokenize import sent_tokenize\n",
    "\n",
    "# For machine learning\n",
    "from sklearn.model_selection import train_test_split\n",
    "from sklearn import metrics\n",
    "from sklearn.metrics import roc_curve\n",
    "from sklearn.metrics import precision_recall_curve\n",
    "from sklearn.metrics import balanced_accuracy_score\n",
    "from sklearn.metrics import accuracy_score\n",
    "from sklearn.feature_extraction.text import TfidfVectorizer\n",
    "from sklearn.feature_extraction.text import CountVectorizer\n",
    "from sklearn.naive_bayes import MultinomialNB\n",
    "from sklearn.linear_model import SGDClassifier\n",
    "from sklearn.linear_model import LogisticRegression, LinearRegression\n",
    "from sklearn.svm import SVC\n",
    "from sklearn.ensemble import RandomForestClassifier, GradientBoostingClassifier\n",
    "from sklearn.metrics import confusion_matrix, accuracy_score, precision_recall_fscore_support as score\n",
    "from sklearn.preprocessing import MinMaxScaler, StandardScaler\n",
    "from sklearn.model_selection import KFold, cross_val_score, GridSearchCV\n",
    "from sklearn.metrics import classification_report, confusion_matrix, accuracy_score, ConfusionMatrixDisplay\n",
    "from sklearn.model_selection import RandomizedSearchCV\n",
    "from sklearn.model_selection import GridSearchCV\n",
    "from sklearn.model_selection import KFold, cross_val_score\n",
    "from sklearn.decomposition import PCA, TruncatedSVD\n",
    "from sklearn.metrics import plot_roc_curve, plot_precision_recall_curve\n",
    "import warnings\n",
    "import plotly.figure_factory as ff\n",
    "import random\n",
    "warnings.filterwarnings('ignore')\n",
    "from sklearn.ensemble import RandomForestRegressor"
   ]
  },
  {
   "cell_type": "code",
   "execution_count": 469,
   "id": "2e74e419",
   "metadata": {},
   "outputs": [],
   "source": [
    "# Read in the data\n",
    "df = pd.read_pickle('data/df_fromEDA.pkl')"
   ]
  },
  {
   "cell_type": "code",
   "execution_count": 470,
   "id": "89fcd305",
   "metadata": {},
   "outputs": [
    {
     "data": {
      "image/png": "[encoded data removed]",
      "text/plain": [
       "<Figure size 432x288 with 1 Axes>"
      ]
     },
     "metadata": {
      "needs_background": "light"
     },
     "output_type": "display_data"
    }
   ],
   "source": [
    "_ = df[df['username'] == 'elonmusk'].plot('date', 'price')"
   ]
  },
  {
   "cell_type": "code",
   "execution_count": 471,
   "id": "01905fff",
   "metadata": {},
   "outputs": [],
   "source": [
    "test = df[df['username'] == 'elonmusk'].copy()"
   ]
  },
  {
   "cell_type": "code",
   "execution_count": 472,
   "id": "c13ba0dd",
   "metadata": {},
   "outputs": [],
   "source": [
    "test['verification'] = test['price'][0]"
   ]
  },
  {
   "cell_type": "code",
   "execution_count": 473,
   "id": "8ef15263",
   "metadata": {},
   "outputs": [],
   "source": [
    "pct_change = list(test['percent change'])"
   ]
  },
  {
   "cell_type": "code",
   "execution_count": 474,
   "id": "978128d5",
   "metadata": {},
   "outputs": [],
   "source": [
    "del pct_change[0]"
   ]
  },
  {
   "cell_type": "code",
   "execution_count": 475,
   "id": "a8921a24",
   "metadata": {},
   "outputs": [],
   "source": [
    "pct_change.append(0)"
   ]
  },
  {
   "cell_type": "code",
   "execution_count": 476,
   "id": "d28c9a75",
   "metadata": {},
   "outputs": [],
   "source": [
    "test['target'] = pct_change"
   ]
  },
  {
   "cell_type": "code",
   "execution_count": 477,
   "id": "7efb4eba",
   "metadata": {},
   "outputs": [
    {
     "data": {
      "text/html": [
       "<div>\n",
       "<style scoped>\n",
       "    .dataframe tbody tr th:only-of-type {\n",
       "        vertical-align: middle;\n",
       "    }\n",
       "\n",
       "    .dataframe tbody tr th {\n",
       "        vertical-align: top;\n",
       "    }\n",
       "\n",
       "    .dataframe thead th {\n",
       "        text-align: right;\n",
       "    }\n",
       "</style>\n",
       "<table border=\"1\" class=\"dataframe\">\n",
       "  <thead>\n",
       "    <tr style=\"text-align: right;\">\n",
       "      <th></th>\n",
       "      <th>percent change</th>\n",
       "      <th>target</th>\n",
       "    </tr>\n",
       "  </thead>\n",
       "  <tbody>\n",
       "    <tr>\n",
       "      <th>0</th>\n",
       "      <td>0.017729</td>\n",
       "      <td>-0.010605</td>\n",
       "    </tr>\n",
       "    <tr>\n",
       "      <th>1</th>\n",
       "      <td>-0.010605</td>\n",
       "      <td>0.003860</td>\n",
       "    </tr>\n",
       "    <tr>\n",
       "      <th>2</th>\n",
       "      <td>0.003860</td>\n",
       "      <td>-0.009819</td>\n",
       "    </tr>\n",
       "    <tr>\n",
       "      <th>3</th>\n",
       "      <td>-0.009819</td>\n",
       "      <td>-0.023312</td>\n",
       "    </tr>\n",
       "    <tr>\n",
       "      <th>4</th>\n",
       "      <td>-0.023312</td>\n",
       "      <td>-0.000321</td>\n",
       "    </tr>\n",
       "    <tr>\n",
       "      <th>...</th>\n",
       "      <td>...</td>\n",
       "      <td>...</td>\n",
       "    </tr>\n",
       "    <tr>\n",
       "      <th>2157</th>\n",
       "      <td>0.008789</td>\n",
       "      <td>-0.028068</td>\n",
       "    </tr>\n",
       "    <tr>\n",
       "      <th>2158</th>\n",
       "      <td>-0.028068</td>\n",
       "      <td>-0.000031</td>\n",
       "    </tr>\n",
       "    <tr>\n",
       "      <th>2159</th>\n",
       "      <td>-0.000031</td>\n",
       "      <td>0.004343</td>\n",
       "    </tr>\n",
       "    <tr>\n",
       "      <th>2160</th>\n",
       "      <td>0.004343</td>\n",
       "      <td>0.046107</td>\n",
       "    </tr>\n",
       "    <tr>\n",
       "      <th>2161</th>\n",
       "      <td>0.046107</td>\n",
       "      <td>0.000000</td>\n",
       "    </tr>\n",
       "  </tbody>\n",
       "</table>\n",
       "<p>2162 rows × 2 columns</p>\n",
       "</div>"
      ],
      "text/plain": [
       "      percent change    target\n",
       "0           0.017729 -0.010605\n",
       "1          -0.010605  0.003860\n",
       "2           0.003860 -0.009819\n",
       "3          -0.009819 -0.023312\n",
       "4          -0.023312 -0.000321\n",
       "...              ...       ...\n",
       "2157        0.008789 -0.028068\n",
       "2158       -0.028068 -0.000031\n",
       "2159       -0.000031  0.004343\n",
       "2160        0.004343  0.046107\n",
       "2161        0.046107  0.000000\n",
       "\n",
       "[2162 rows x 2 columns]"
      ]
     },
     "execution_count": 477,
     "metadata": {},
     "output_type": "execute_result"
    }
   ],
   "source": [
    "test[['percent change', 'target']]"
   ]
  },
  {
   "cell_type": "code",
   "execution_count": 478,
   "id": "2c80fe04",
   "metadata": {},
   "outputs": [],
   "source": [
    "for i in range(len(test)):\n",
    "    if i == len(test) - 1:\n",
    "        quit\n",
    "    else:\n",
    "        test['verification'].iloc[i+1] = (test['verification'].iloc[i] * test['percent change'].iloc[i+1]) + test['verification'].iloc[i]\n",
    "        "
   ]
  },
  {
   "cell_type": "code",
   "execution_count": 479,
   "id": "1b4bd76f",
   "metadata": {
    "scrolled": false
   },
   "outputs": [
    {
     "data": {
      "text/plain": [
       "Index(['date', 'tweet', 'username', 'mentions', 'hashtags', 'video', 'photos',\n",
       "       'urls', 'replies_count', 'retweets_count', 'likes_count',\n",
       "       'number of tweets', 'price', 'percent change', 'labels', 'text',\n",
       "       'n_char', 'n_words', 'avg_word_len', 'sentiment_dict', 'compound_sent',\n",
       "       'neg_sent', 'neu_sent', 'pos_sent', 'readability', 'verification',\n",
       "       'target'],\n",
       "      dtype='object')"
      ]
     },
     "execution_count": 479,
     "metadata": {},
     "output_type": "execute_result"
    }
   ],
   "source": [
    "test.columns"
   ]
  },
  {
   "cell_type": "code",
   "execution_count": 480,
   "id": "661bb0ab",
   "metadata": {},
   "outputs": [],
   "source": [
    "features = ['date','mentions', 'hashtags', 'video', 'photos',\n",
    "       'urls', 'replies_count', 'retweets_count', 'likes_count',\n",
    "       'number of tweets', 'text', 'price', 'percent change',\n",
    "       'n_char', 'n_words', 'avg_word_len', 'compound_sent',\n",
    "       'neg_sent', 'neu_sent', 'pos_sent', 'readability', 'target']"
   ]
  },
  {
   "cell_type": "code",
   "execution_count": 481,
   "id": "e28cdfb9",
   "metadata": {},
   "outputs": [],
   "source": [
    "test['cleaned'] = test['text'].apply(lambda x: clean_text(x))"
   ]
  },
  {
   "cell_type": "code",
   "execution_count": 482,
   "id": "486d366b",
   "metadata": {},
   "outputs": [],
   "source": [
    "X_vect, _ = vectorize(test['cleaned'], test[features].drop(labels=['text'], axis=1))"
   ]
  },
  {
   "cell_type": "code",
   "execution_count": 483,
   "id": "5cc431fb",
   "metadata": {},
   "outputs": [
    {
     "data": {
      "text/html": [
       "<div>\n",
       "<style scoped>\n",
       "    .dataframe tbody tr th:only-of-type {\n",
       "        vertical-align: middle;\n",
       "    }\n",
       "\n",
       "    .dataframe tbody tr th {\n",
       "        vertical-align: top;\n",
       "    }\n",
       "\n",
       "    .dataframe thead th {\n",
       "        text-align: right;\n",
       "    }\n",
       "</style>\n",
       "<table border=\"1\" class=\"dataframe\">\n",
       "  <thead>\n",
       "    <tr style=\"text-align: right;\">\n",
       "      <th></th>\n",
       "      <th>percent change</th>\n",
       "    </tr>\n",
       "  </thead>\n",
       "  <tbody>\n",
       "    <tr>\n",
       "      <th>0</th>\n",
       "      <td>0.017729</td>\n",
       "    </tr>\n",
       "    <tr>\n",
       "      <th>1</th>\n",
       "      <td>-0.010605</td>\n",
       "    </tr>\n",
       "    <tr>\n",
       "      <th>2</th>\n",
       "      <td>0.003860</td>\n",
       "    </tr>\n",
       "    <tr>\n",
       "      <th>3</th>\n",
       "      <td>-0.009819</td>\n",
       "    </tr>\n",
       "    <tr>\n",
       "      <th>4</th>\n",
       "      <td>-0.023312</td>\n",
       "    </tr>\n",
       "    <tr>\n",
       "      <th>...</th>\n",
       "      <td>...</td>\n",
       "    </tr>\n",
       "    <tr>\n",
       "      <th>2157</th>\n",
       "      <td>0.008789</td>\n",
       "    </tr>\n",
       "    <tr>\n",
       "      <th>2158</th>\n",
       "      <td>-0.028068</td>\n",
       "    </tr>\n",
       "    <tr>\n",
       "      <th>2159</th>\n",
       "      <td>-0.000031</td>\n",
       "    </tr>\n",
       "    <tr>\n",
       "      <th>2160</th>\n",
       "      <td>0.004343</td>\n",
       "    </tr>\n",
       "    <tr>\n",
       "      <th>2161</th>\n",
       "      <td>0.046107</td>\n",
       "    </tr>\n",
       "  </tbody>\n",
       "</table>\n",
       "<p>2162 rows × 1 columns</p>\n",
       "</div>"
      ],
      "text/plain": [
       "      percent change\n",
       "0           0.017729\n",
       "1          -0.010605\n",
       "2           0.003860\n",
       "3          -0.009819\n",
       "4          -0.023312\n",
       "...              ...\n",
       "2157        0.008789\n",
       "2158       -0.028068\n",
       "2159       -0.000031\n",
       "2160        0.004343\n",
       "2161        0.046107\n",
       "\n",
       "[2162 rows x 1 columns]"
      ]
     },
     "execution_count": 483,
     "metadata": {},
     "output_type": "execute_result"
    }
   ],
   "source": [
    "y = test[['percent change']]\n",
    "y"
   ]
  },
  {
   "cell_type": "code",
   "execution_count": 484,
   "id": "81eab6de",
   "metadata": {},
   "outputs": [],
   "source": [
    "X_train, X_test, y_train, y_test = train_test_split(X_vect, y, test_size=0.2)"
   ]
  },
  {
   "cell_type": "code",
   "execution_count": 485,
   "id": "e74b9ffb",
   "metadata": {},
   "outputs": [
    {
     "name": "stdout",
     "output_type": "stream",
     "text": [
      "(1729, 8891)\n",
      "(1729, 1)\n"
     ]
    }
   ],
   "source": [
    "print(X_train.shape)\n",
    "print(y_train.shape)"
   ]
  },
  {
   "cell_type": "code",
   "execution_count": 486,
   "id": "992438c1",
   "metadata": {},
   "outputs": [
    {
     "name": "stdout",
     "output_type": "stream",
     "text": [
      "(433, 8891)\n",
      "(433, 1)\n"
     ]
    }
   ],
   "source": [
    "print(X_test.shape)\n",
    "print(y_test.shape)"
   ]
  },
  {
   "cell_type": "code",
   "execution_count": 455,
   "id": "7a9d723c",
   "metadata": {},
   "outputs": [],
   "source": [
    "linreg = LinearRegression(n_jobs=-1, normalize=False)\n",
    "linreg.fit(X_train.drop(labels=['date', 'percent change', 'price', 'target'], axis=1), y_train)\n",
    "y_pred = linreg.predict(X_test.drop(labels=['date', 'percent change', 'price', 'target'], axis=1))"
   ]
  },
  {
   "cell_type": "code",
   "execution_count": 487,
   "id": "2ae9b022",
   "metadata": {},
   "outputs": [],
   "source": [
    "%%time\n",
    "rfreg = RandomForestRegressor(n_jobs=-1)\n",
    "rfreg.fit(X_train.drop(labels=['date', 'percent change', 'price', 'target'], axis=1), y_train)\n",
    "y_pred = rfreg.predict(X_test.drop(labels=['date', 'percent change', 'price', 'target'], axis=1))"
   ]
  },
  {
   "cell_type": "code",
   "execution_count": 495,
   "id": "797f0f39",
   "metadata": {},
   "outputs": [
    {
     "data": {
      "image/png": "[encoded data removed]",
      "text/plain": [
       "<Figure size 432x288 with 1 Axes>"
      ]
     },
     "metadata": {
      "needs_background": "light"
     },
     "output_type": "display_data"
    }
   ],
   "source": [
    "_ = plt.scatter(X_test['date'], y_test)\n",
    "_ = plt.scatter(X_test['date'], y_pred, color='red')"
   ]
  },
  {
   "cell_type": "code",
   "execution_count": 500,
   "id": "54e75c32",
   "metadata": {
    "scrolled": false
   },
   "outputs": [],
   "source": [
    "metrics = pd.DataFrame()"
   ]
  },
  {
   "cell_type": "code",
   "execution_count": null,
   "id": "03fab7ba",
   "metadata": {},
   "outputs": [],
   "source": []
  },
  {
   "cell_type": "code",
   "execution_count": 497,
   "id": "647836d4",
   "metadata": {},
   "outputs": [
    {
     "data": {
      "text/plain": [
       "<matplotlib.collections.PathCollection at 0x7ff7593fa160>"
      ]
     },
     "execution_count": 497,
     "metadata": {},
     "output_type": "execute_result"
    },
    {
     "data": {
      "image/png": "[encoded data removed]",
      "text/plain": [
       "<Figure size 432x288 with 1 Axes>"
      ]
     },
     "metadata": {
      "needs_background": "light"
     },
     "output_type": "display_data"
    }
   ],
   "source": [
    "plt.scatter(y_test, y_pred)"
   ]
  },
  {
   "cell_type": "code",
   "execution_count": 505,
   "id": "586e71f2",
   "metadata": {},
   "outputs": [],
   "source": [
    "X_test['y_pred'] = y_pred"
   ]
  },
  {
   "cell_type": "code",
   "execution_count": 506,
   "id": "ac8c2720",
   "metadata": {},
   "outputs": [],
   "source": [
    "X_test.reset_index(drop=True, inplace=True)"
   ]
  },
  {
   "cell_type": "code",
   "execution_count": 507,
   "id": "07a15123",
   "metadata": {},
   "outputs": [],
   "source": [
    "X_sorted = X_test.sort_values(by='date')"
   ]
  },
  {
   "cell_type": "code",
   "execution_count": 508,
   "id": "9f8e4afb",
   "metadata": {},
   "outputs": [],
   "source": [
    "X_sorted['verification'] = X_sorted['price']"
   ]
  },
  {
   "cell_type": "code",
   "execution_count": 509,
   "id": "fb6af081",
   "metadata": {},
   "outputs": [],
   "source": [
    "for i in range(len(X_sorted)):\n",
    "    if i == len(X_sorted) - 1:\n",
    "        break\n",
    "    else:\n",
    "        X_sorted['verification'].iloc[i+1] = (X_sorted['price'].iloc[i] * X_sorted['target'].iloc[i]) + X_sorted['price'].iloc[i]"
   ]
  },
  {
   "cell_type": "code",
   "execution_count": 510,
   "id": "a67feca2",
   "metadata": {},
   "outputs": [
    {
     "data": {
      "text/html": [
       "<div>\n",
       "<style scoped>\n",
       "    .dataframe tbody tr th:only-of-type {\n",
       "        vertical-align: middle;\n",
       "    }\n",
       "\n",
       "    .dataframe tbody tr th {\n",
       "        vertical-align: top;\n",
       "    }\n",
       "\n",
       "    .dataframe thead th {\n",
       "        text-align: right;\n",
       "    }\n",
       "</style>\n",
       "<table border=\"1\" class=\"dataframe\">\n",
       "  <thead>\n",
       "    <tr style=\"text-align: right;\">\n",
       "      <th></th>\n",
       "      <th>verification</th>\n",
       "      <th>price</th>\n",
       "      <th>target</th>\n",
       "    </tr>\n",
       "  </thead>\n",
       "  <tbody>\n",
       "    <tr>\n",
       "      <th>53</th>\n",
       "      <td>46.459999</td>\n",
       "      <td>46.459999</td>\n",
       "      <td>0.003860</td>\n",
       "    </tr>\n",
       "    <tr>\n",
       "      <th>228</th>\n",
       "      <td>46.639333</td>\n",
       "      <td>46.639333</td>\n",
       "      <td>-0.009819</td>\n",
       "    </tr>\n",
       "    <tr>\n",
       "      <th>150</th>\n",
       "      <td>46.181382</td>\n",
       "      <td>40.466000</td>\n",
       "      <td>0.008766</td>\n",
       "    </tr>\n",
       "    <tr>\n",
       "      <th>175</th>\n",
       "      <td>40.820713</td>\n",
       "      <td>41.080002</td>\n",
       "      <td>-0.013567</td>\n",
       "    </tr>\n",
       "    <tr>\n",
       "      <th>113</th>\n",
       "      <td>40.522667</td>\n",
       "      <td>41.369999</td>\n",
       "      <td>-0.005573</td>\n",
       "    </tr>\n",
       "    <tr>\n",
       "      <th>...</th>\n",
       "      <td>...</td>\n",
       "      <td>...</td>\n",
       "      <td>...</td>\n",
       "    </tr>\n",
       "    <tr>\n",
       "      <th>104</th>\n",
       "      <td>664.410019</td>\n",
       "      <td>681.710022</td>\n",
       "      <td>-0.032462</td>\n",
       "    </tr>\n",
       "    <tr>\n",
       "      <th>32</th>\n",
       "      <td>659.580017</td>\n",
       "      <td>654.679993</td>\n",
       "      <td>-0.015977</td>\n",
       "    </tr>\n",
       "    <tr>\n",
       "      <th>344</th>\n",
       "      <td>644.219971</td>\n",
       "      <td>645.553304</td>\n",
       "      <td>-0.024263</td>\n",
       "    </tr>\n",
       "    <tr>\n",
       "      <th>61</th>\n",
       "      <td>629.890015</td>\n",
       "      <td>646.979980</td>\n",
       "      <td>0.004343</td>\n",
       "    </tr>\n",
       "    <tr>\n",
       "      <th>284</th>\n",
       "      <td>649.789978</td>\n",
       "      <td>649.789978</td>\n",
       "      <td>0.046107</td>\n",
       "    </tr>\n",
       "  </tbody>\n",
       "</table>\n",
       "<p>433 rows × 3 columns</p>\n",
       "</div>"
      ],
      "text/plain": [
       "     verification       price    target\n",
       "53      46.459999   46.459999  0.003860\n",
       "228     46.639333   46.639333 -0.009819\n",
       "150     46.181382   40.466000  0.008766\n",
       "175     40.820713   41.080002 -0.013567\n",
       "113     40.522667   41.369999 -0.005573\n",
       "..            ...         ...       ...\n",
       "104    664.410019  681.710022 -0.032462\n",
       "32     659.580017  654.679993 -0.015977\n",
       "344    644.219971  645.553304 -0.024263\n",
       "61     629.890015  646.979980  0.004343\n",
       "284    649.789978  649.789978  0.046107\n",
       "\n",
       "[433 rows x 3 columns]"
      ]
     },
     "execution_count": 510,
     "metadata": {},
     "output_type": "execute_result"
    }
   ],
   "source": [
    "X_sorted[['verification', 'price', 'target']]"
   ]
  },
  {
   "cell_type": "code",
   "execution_count": 511,
   "id": "10763e22",
   "metadata": {
    "scrolled": true
   },
   "outputs": [
    {
     "data": {
      "image/png": "[encoded data removed]",
      "text/plain": [
       "<Figure size 432x288 with 1 Axes>"
      ]
     },
     "metadata": {
      "needs_background": "light"
     },
     "output_type": "display_data"
    }
   ],
   "source": [
    "_ = X_sorted.plot('date', 'verification')"
   ]
  },
  {
   "cell_type": "code",
   "execution_count": 512,
   "id": "b97e5e32",
   "metadata": {},
   "outputs": [],
   "source": [
    "X_sorted['pred_price'] = X_sorted['price']\n",
    "for i in range(len(X_sorted)):\n",
    "    if i == len(X_sorted) - 1:\n",
    "        break\n",
    "    else:\n",
    "        X_sorted['pred_price'].iloc[i+1] = (X_sorted['price'].iloc[i] * X_sorted['y_pred'].iloc[i]) + X_sorted['price'].iloc[i]"
   ]
  },
  {
   "cell_type": "code",
   "execution_count": 513,
   "id": "70a0c03c",
   "metadata": {},
   "outputs": [],
   "source": [
    "X_sorted['pred_price_2'] = X_sorted['price']\n",
    "for i in range(len(X_sorted)):\n",
    "    if i == len(X_sorted) - 1:\n",
    "        break\n",
    "    else:\n",
    "        X_sorted['pred_price_2'].iloc[i+1] = (X_sorted['price'].iloc[i] * X_sorted['pred_price'].iloc[i]) + X_sorted['price'].iloc[i]\n",
    "        "
   ]
  },
  {
   "cell_type": "code",
   "execution_count": 514,
   "id": "88bed569",
   "metadata": {
    "scrolled": true
   },
   "outputs": [
    {
     "data": {
      "text/html": [
       "<div>\n",
       "<style scoped>\n",
       "    .dataframe tbody tr th:only-of-type {\n",
       "        vertical-align: middle;\n",
       "    }\n",
       "\n",
       "    .dataframe tbody tr th {\n",
       "        vertical-align: top;\n",
       "    }\n",
       "\n",
       "    .dataframe thead th {\n",
       "        text-align: right;\n",
       "    }\n",
       "</style>\n",
       "<table border=\"1\" class=\"dataframe\">\n",
       "  <thead>\n",
       "    <tr style=\"text-align: right;\">\n",
       "      <th></th>\n",
       "      <th>pred_price</th>\n",
       "      <th>price</th>\n",
       "      <th>target</th>\n",
       "      <th>y_pred</th>\n",
       "    </tr>\n",
       "  </thead>\n",
       "  <tbody>\n",
       "    <tr>\n",
       "      <th>53</th>\n",
       "      <td>46.459999</td>\n",
       "      <td>46.459999</td>\n",
       "      <td>0.003860</td>\n",
       "      <td>0.001630</td>\n",
       "    </tr>\n",
       "    <tr>\n",
       "      <th>228</th>\n",
       "      <td>46.535724</td>\n",
       "      <td>46.639333</td>\n",
       "      <td>-0.009819</td>\n",
       "      <td>0.015645</td>\n",
       "    </tr>\n",
       "    <tr>\n",
       "      <th>150</th>\n",
       "      <td>47.368999</td>\n",
       "      <td>40.466000</td>\n",
       "      <td>0.008766</td>\n",
       "      <td>0.003111</td>\n",
       "    </tr>\n",
       "    <tr>\n",
       "      <th>175</th>\n",
       "      <td>40.591891</td>\n",
       "      <td>41.080002</td>\n",
       "      <td>-0.013567</td>\n",
       "      <td>-0.001210</td>\n",
       "    </tr>\n",
       "    <tr>\n",
       "      <th>113</th>\n",
       "      <td>41.030290</td>\n",
       "      <td>41.369999</td>\n",
       "      <td>-0.005573</td>\n",
       "      <td>0.005951</td>\n",
       "    </tr>\n",
       "    <tr>\n",
       "      <th>...</th>\n",
       "      <td>...</td>\n",
       "      <td>...</td>\n",
       "      <td>...</td>\n",
       "      <td>...</td>\n",
       "    </tr>\n",
       "    <tr>\n",
       "      <th>104</th>\n",
       "      <td>680.137187</td>\n",
       "      <td>681.710022</td>\n",
       "      <td>-0.032462</td>\n",
       "      <td>0.003208</td>\n",
       "    </tr>\n",
       "    <tr>\n",
       "      <th>32</th>\n",
       "      <td>683.897120</td>\n",
       "      <td>654.679993</td>\n",
       "      <td>-0.015977</td>\n",
       "      <td>-0.002213</td>\n",
       "    </tr>\n",
       "    <tr>\n",
       "      <th>344</th>\n",
       "      <td>653.231199</td>\n",
       "      <td>645.553304</td>\n",
       "      <td>-0.024263</td>\n",
       "      <td>0.007501</td>\n",
       "    </tr>\n",
       "    <tr>\n",
       "      <th>61</th>\n",
       "      <td>650.395660</td>\n",
       "      <td>646.979980</td>\n",
       "      <td>0.004343</td>\n",
       "      <td>0.003170</td>\n",
       "    </tr>\n",
       "    <tr>\n",
       "      <th>284</th>\n",
       "      <td>649.031008</td>\n",
       "      <td>649.789978</td>\n",
       "      <td>0.046107</td>\n",
       "      <td>0.010250</td>\n",
       "    </tr>\n",
       "  </tbody>\n",
       "</table>\n",
       "<p>433 rows × 4 columns</p>\n",
       "</div>"
      ],
      "text/plain": [
       "     pred_price       price    target    y_pred\n",
       "53    46.459999   46.459999  0.003860  0.001630\n",
       "228   46.535724   46.639333 -0.009819  0.015645\n",
       "150   47.368999   40.466000  0.008766  0.003111\n",
       "175   40.591891   41.080002 -0.013567 -0.001210\n",
       "113   41.030290   41.369999 -0.005573  0.005951\n",
       "..          ...         ...       ...       ...\n",
       "104  680.137187  681.710022 -0.032462  0.003208\n",
       "32   683.897120  654.679993 -0.015977 -0.002213\n",
       "344  653.231199  645.553304 -0.024263  0.007501\n",
       "61   650.395660  646.979980  0.004343  0.003170\n",
       "284  649.031008  649.789978  0.046107  0.010250\n",
       "\n",
       "[433 rows x 4 columns]"
      ]
     },
     "execution_count": 514,
     "metadata": {},
     "output_type": "execute_result"
    }
   ],
   "source": [
    "X_sorted[['pred_price', 'price', 'target', 'y_pred']]"
   ]
  },
  {
   "cell_type": "code",
   "execution_count": 586,
   "id": "504dfd80",
   "metadata": {},
   "outputs": [],
   "source": [
    "X_sorted['y_pred'] = np.mean(X_sorted['target'])"
   ]
  },
  {
   "cell_type": "code",
   "execution_count": 587,
   "id": "d1eab01a",
   "metadata": {},
   "outputs": [],
   "source": [
    "X_sorted['error'] = np.abs(X_sorted['pred_price'] - X_sorted['price'])"
   ]
  },
  {
   "cell_type": "code",
   "execution_count": 588,
   "id": "aaf74eeb",
   "metadata": {},
   "outputs": [],
   "source": [
    "avg_abs_error = np.mean(X_sorted['error'])"
   ]
  },
  {
   "cell_type": "code",
   "execution_count": 589,
   "id": "c81967d3",
   "metadata": {},
   "outputs": [
    {
     "data": {
      "text/plain": [
       "1.5211835574470105"
      ]
     },
     "execution_count": 589,
     "metadata": {},
     "output_type": "execute_result"
    }
   ],
   "source": [
    "avg_abs_error"
   ]
  },
  {
   "cell_type": "code",
   "execution_count": 590,
   "id": "3eafd91b",
   "metadata": {},
   "outputs": [],
   "source": [
    "X_sorted['mean_abs_pct_error'] = 100* (X_sorted['error'] / X_sorted['price'])"
   ]
  },
  {
   "cell_type": "code",
   "execution_count": 591,
   "id": "187d9edd",
   "metadata": {},
   "outputs": [
    {
     "data": {
      "text/html": [
       "<div>\n",
       "<style scoped>\n",
       "    .dataframe tbody tr th:only-of-type {\n",
       "        vertical-align: middle;\n",
       "    }\n",
       "\n",
       "    .dataframe tbody tr th {\n",
       "        vertical-align: top;\n",
       "    }\n",
       "\n",
       "    .dataframe thead th {\n",
       "        text-align: right;\n",
       "    }\n",
       "</style>\n",
       "<table border=\"1\" class=\"dataframe\">\n",
       "  <thead>\n",
       "    <tr style=\"text-align: right;\">\n",
       "      <th></th>\n",
       "      <th>date</th>\n",
       "      <th>mentions</th>\n",
       "      <th>hashtags</th>\n",
       "      <th>video</th>\n",
       "      <th>photos</th>\n",
       "      <th>urls</th>\n",
       "      <th>replies_count</th>\n",
       "      <th>retweets_count</th>\n",
       "      <th>likes_count</th>\n",
       "      <th>number of tweets</th>\n",
       "      <th>...</th>\n",
       "      <th>4030</th>\n",
       "      <th>4031</th>\n",
       "      <th>4032</th>\n",
       "      <th>4033</th>\n",
       "      <th>y_pred</th>\n",
       "      <th>verification</th>\n",
       "      <th>pred_price</th>\n",
       "      <th>pred_price_2</th>\n",
       "      <th>error</th>\n",
       "      <th>mean_abs_pct_error</th>\n",
       "    </tr>\n",
       "  </thead>\n",
       "  <tbody>\n",
       "    <tr>\n",
       "      <th>173</th>\n",
       "      <td>2016-08-04 16:00:00</td>\n",
       "      <td>0.000000</td>\n",
       "      <td>0.000000</td>\n",
       "      <td>0.000000</td>\n",
       "      <td>0.000000</td>\n",
       "      <td>0.693147</td>\n",
       "      <td>3.951244</td>\n",
       "      <td>5.081404</td>\n",
       "      <td>6.142037</td>\n",
       "      <td>1.386294</td>\n",
       "      <td>...</td>\n",
       "      <td>0.0</td>\n",
       "      <td>0.0</td>\n",
       "      <td>0.0</td>\n",
       "      <td>0.0</td>\n",
       "      <td>0.001967</td>\n",
       "      <td>18.129999</td>\n",
       "      <td>18.129999</td>\n",
       "      <td>18.129999</td>\n",
       "      <td>0.000000</td>\n",
       "      <td>0.000000</td>\n",
       "    </tr>\n",
       "    <tr>\n",
       "      <th>125</th>\n",
       "      <td>2016-08-10 16:00:00</td>\n",
       "      <td>0.000000</td>\n",
       "      <td>0.000000</td>\n",
       "      <td>0.000000</td>\n",
       "      <td>0.000000</td>\n",
       "      <td>1.098612</td>\n",
       "      <td>4.521789</td>\n",
       "      <td>4.905275</td>\n",
       "      <td>5.840642</td>\n",
       "      <td>1.098612</td>\n",
       "      <td>...</td>\n",
       "      <td>0.0</td>\n",
       "      <td>0.0</td>\n",
       "      <td>0.0</td>\n",
       "      <td>0.0</td>\n",
       "      <td>0.001967</td>\n",
       "      <td>18.190001</td>\n",
       "      <td>18.133652</td>\n",
       "      <td>346.826869</td>\n",
       "      <td>0.906349</td>\n",
       "      <td>4.760235</td>\n",
       "    </tr>\n",
       "    <tr>\n",
       "      <th>116</th>\n",
       "      <td>2016-08-17 09:30:00</td>\n",
       "      <td>0.693147</td>\n",
       "      <td>0.000000</td>\n",
       "      <td>0.693147</td>\n",
       "      <td>0.693147</td>\n",
       "      <td>0.000000</td>\n",
       "      <td>4.025352</td>\n",
       "      <td>5.068904</td>\n",
       "      <td>6.617403</td>\n",
       "      <td>0.693147</td>\n",
       "      <td>...</td>\n",
       "      <td>0.0</td>\n",
       "      <td>0.0</td>\n",
       "      <td>0.0</td>\n",
       "      <td>0.0</td>\n",
       "      <td>0.001967</td>\n",
       "      <td>19.170000</td>\n",
       "      <td>18.987697</td>\n",
       "      <td>364.304754</td>\n",
       "      <td>1.442303</td>\n",
       "      <td>7.059731</td>\n",
       "    </tr>\n",
       "    <tr>\n",
       "      <th>14</th>\n",
       "      <td>2016-08-19 09:30:00</td>\n",
       "      <td>0.000000</td>\n",
       "      <td>0.693147</td>\n",
       "      <td>0.000000</td>\n",
       "      <td>0.000000</td>\n",
       "      <td>0.693147</td>\n",
       "      <td>2.833213</td>\n",
       "      <td>3.610918</td>\n",
       "      <td>4.330733</td>\n",
       "      <td>1.098612</td>\n",
       "      <td>...</td>\n",
       "      <td>0.0</td>\n",
       "      <td>0.0</td>\n",
       "      <td>0.0</td>\n",
       "      <td>0.0</td>\n",
       "      <td>0.001967</td>\n",
       "      <td>20.170000</td>\n",
       "      <td>20.775125</td>\n",
       "      <td>408.348659</td>\n",
       "      <td>1.815126</td>\n",
       "      <td>9.573452</td>\n",
       "    </tr>\n",
       "    <tr>\n",
       "      <th>235</th>\n",
       "      <td>2016-08-19 16:00:00</td>\n",
       "      <td>0.693147</td>\n",
       "      <td>0.000000</td>\n",
       "      <td>0.000000</td>\n",
       "      <td>0.000000</td>\n",
       "      <td>0.693147</td>\n",
       "      <td>3.178054</td>\n",
       "      <td>4.094345</td>\n",
       "      <td>5.652489</td>\n",
       "      <td>0.693147</td>\n",
       "      <td>...</td>\n",
       "      <td>0.0</td>\n",
       "      <td>0.0</td>\n",
       "      <td>0.0</td>\n",
       "      <td>0.0</td>\n",
       "      <td>0.001967</td>\n",
       "      <td>18.980000</td>\n",
       "      <td>19.030014</td>\n",
       "      <td>412.856358</td>\n",
       "      <td>0.050015</td>\n",
       "      <td>0.263512</td>\n",
       "    </tr>\n",
       "    <tr>\n",
       "      <th>...</th>\n",
       "      <td>...</td>\n",
       "      <td>...</td>\n",
       "      <td>...</td>\n",
       "      <td>...</td>\n",
       "      <td>...</td>\n",
       "      <td>...</td>\n",
       "      <td>...</td>\n",
       "      <td>...</td>\n",
       "      <td>...</td>\n",
       "      <td>...</td>\n",
       "      <td>...</td>\n",
       "      <td>...</td>\n",
       "      <td>...</td>\n",
       "      <td>...</td>\n",
       "      <td>...</td>\n",
       "      <td>...</td>\n",
       "      <td>...</td>\n",
       "      <td>...</td>\n",
       "      <td>...</td>\n",
       "      <td>...</td>\n",
       "      <td>...</td>\n",
       "    </tr>\n",
       "    <tr>\n",
       "      <th>210</th>\n",
       "      <td>2021-05-14 16:00:00</td>\n",
       "      <td>0.693147</td>\n",
       "      <td>0.693147</td>\n",
       "      <td>0.000000</td>\n",
       "      <td>0.000000</td>\n",
       "      <td>0.000000</td>\n",
       "      <td>5.501258</td>\n",
       "      <td>5.342334</td>\n",
       "      <td>7.421178</td>\n",
       "      <td>0.693147</td>\n",
       "      <td>...</td>\n",
       "      <td>0.0</td>\n",
       "      <td>0.0</td>\n",
       "      <td>0.0</td>\n",
       "      <td>0.0</td>\n",
       "      <td>0.001967</td>\n",
       "      <td>53.969976</td>\n",
       "      <td>55.297624</td>\n",
       "      <td>3829.058007</td>\n",
       "      <td>3.567625</td>\n",
       "      <td>6.896626</td>\n",
       "    </tr>\n",
       "    <tr>\n",
       "      <th>94</th>\n",
       "      <td>2021-06-10 09:30:00</td>\n",
       "      <td>0.000000</td>\n",
       "      <td>0.693147</td>\n",
       "      <td>0.000000</td>\n",
       "      <td>0.000000</td>\n",
       "      <td>0.693147</td>\n",
       "      <td>7.268920</td>\n",
       "      <td>8.652423</td>\n",
       "      <td>10.497974</td>\n",
       "      <td>1.386294</td>\n",
       "      <td>...</td>\n",
       "      <td>0.0</td>\n",
       "      <td>0.0</td>\n",
       "      <td>0.0</td>\n",
       "      <td>0.0</td>\n",
       "      <td>0.001967</td>\n",
       "      <td>51.150000</td>\n",
       "      <td>51.738861</td>\n",
       "      <td>2912.276070</td>\n",
       "      <td>8.061138</td>\n",
       "      <td>13.480164</td>\n",
       "    </tr>\n",
       "    <tr>\n",
       "      <th>72</th>\n",
       "      <td>2021-06-29 16:00:00</td>\n",
       "      <td>0.000000</td>\n",
       "      <td>0.000000</td>\n",
       "      <td>0.000000</td>\n",
       "      <td>0.000000</td>\n",
       "      <td>0.000000</td>\n",
       "      <td>4.043051</td>\n",
       "      <td>3.135494</td>\n",
       "      <td>6.013715</td>\n",
       "      <td>0.693147</td>\n",
       "      <td>...</td>\n",
       "      <td>0.0</td>\n",
       "      <td>0.0</td>\n",
       "      <td>0.0</td>\n",
       "      <td>0.0</td>\n",
       "      <td>0.001967</td>\n",
       "      <td>60.299999</td>\n",
       "      <td>60.720020</td>\n",
       "      <td>3153.783872</td>\n",
       "      <td>8.279980</td>\n",
       "      <td>11.999971</td>\n",
       "    </tr>\n",
       "    <tr>\n",
       "      <th>11</th>\n",
       "      <td>2021-07-02 09:30:00</td>\n",
       "      <td>0.000000</td>\n",
       "      <td>0.000000</td>\n",
       "      <td>0.000000</td>\n",
       "      <td>0.000000</td>\n",
       "      <td>0.000000</td>\n",
       "      <td>3.688879</td>\n",
       "      <td>2.890372</td>\n",
       "      <td>7.050989</td>\n",
       "      <td>0.693147</td>\n",
       "      <td>...</td>\n",
       "      <td>0.0</td>\n",
       "      <td>0.0</td>\n",
       "      <td>0.0</td>\n",
       "      <td>0.0</td>\n",
       "      <td>0.001967</td>\n",
       "      <td>69.050170</td>\n",
       "      <td>69.967133</td>\n",
       "      <td>4258.681400</td>\n",
       "      <td>1.257134</td>\n",
       "      <td>1.829623</td>\n",
       "    </tr>\n",
       "    <tr>\n",
       "      <th>13</th>\n",
       "      <td>2021-07-20 09:30:00</td>\n",
       "      <td>0.000000</td>\n",
       "      <td>0.000000</td>\n",
       "      <td>0.693147</td>\n",
       "      <td>0.693147</td>\n",
       "      <td>1.098612</td>\n",
       "      <td>6.698268</td>\n",
       "      <td>6.924612</td>\n",
       "      <td>9.122055</td>\n",
       "      <td>1.386294</td>\n",
       "      <td>...</td>\n",
       "      <td>0.0</td>\n",
       "      <td>0.0</td>\n",
       "      <td>0.0</td>\n",
       "      <td>0.0</td>\n",
       "      <td>0.001967</td>\n",
       "      <td>68.956748</td>\n",
       "      <td>68.839172</td>\n",
       "      <td>4876.151643</td>\n",
       "      <td>2.589172</td>\n",
       "      <td>3.908184</td>\n",
       "    </tr>\n",
       "  </tbody>\n",
       "</table>\n",
       "<p>265 rows × 4061 columns</p>\n",
       "</div>"
      ],
      "text/plain": [
       "                   date  mentions  hashtags     video    photos      urls  \\\n",
       "173 2016-08-04 16:00:00  0.000000  0.000000  0.000000  0.000000  0.693147   \n",
       "125 2016-08-10 16:00:00  0.000000  0.000000  0.000000  0.000000  1.098612   \n",
       "116 2016-08-17 09:30:00  0.693147  0.000000  0.693147  0.693147  0.000000   \n",
       "14  2016-08-19 09:30:00  0.000000  0.693147  0.000000  0.000000  0.693147   \n",
       "235 2016-08-19 16:00:00  0.693147  0.000000  0.000000  0.000000  0.693147   \n",
       "..                  ...       ...       ...       ...       ...       ...   \n",
       "210 2021-05-14 16:00:00  0.693147  0.693147  0.000000  0.000000  0.000000   \n",
       "94  2021-06-10 09:30:00  0.000000  0.693147  0.000000  0.000000  0.693147   \n",
       "72  2021-06-29 16:00:00  0.000000  0.000000  0.000000  0.000000  0.000000   \n",
       "11  2021-07-02 09:30:00  0.000000  0.000000  0.000000  0.000000  0.000000   \n",
       "13  2021-07-20 09:30:00  0.000000  0.000000  0.693147  0.693147  1.098612   \n",
       "\n",
       "     replies_count  retweets_count  likes_count  number of tweets  ...  4030  \\\n",
       "173       3.951244        5.081404     6.142037          1.386294  ...   0.0   \n",
       "125       4.521789        4.905275     5.840642          1.098612  ...   0.0   \n",
       "116       4.025352        5.068904     6.617403          0.693147  ...   0.0   \n",
       "14        2.833213        3.610918     4.330733          1.098612  ...   0.0   \n",
       "235       3.178054        4.094345     5.652489          0.693147  ...   0.0   \n",
       "..             ...             ...          ...               ...  ...   ...   \n",
       "210       5.501258        5.342334     7.421178          0.693147  ...   0.0   \n",
       "94        7.268920        8.652423    10.497974          1.386294  ...   0.0   \n",
       "72        4.043051        3.135494     6.013715          0.693147  ...   0.0   \n",
       "11        3.688879        2.890372     7.050989          0.693147  ...   0.0   \n",
       "13        6.698268        6.924612     9.122055          1.386294  ...   0.0   \n",
       "\n",
       "     4031  4032  4033    y_pred  verification  pred_price  pred_price_2  \\\n",
       "173   0.0   0.0   0.0  0.001967     18.129999   18.129999     18.129999   \n",
       "125   0.0   0.0   0.0  0.001967     18.190001   18.133652    346.826869   \n",
       "116   0.0   0.0   0.0  0.001967     19.170000   18.987697    364.304754   \n",
       "14    0.0   0.0   0.0  0.001967     20.170000   20.775125    408.348659   \n",
       "235   0.0   0.0   0.0  0.001967     18.980000   19.030014    412.856358   \n",
       "..    ...   ...   ...       ...           ...         ...           ...   \n",
       "210   0.0   0.0   0.0  0.001967     53.969976   55.297624   3829.058007   \n",
       "94    0.0   0.0   0.0  0.001967     51.150000   51.738861   2912.276070   \n",
       "72    0.0   0.0   0.0  0.001967     60.299999   60.720020   3153.783872   \n",
       "11    0.0   0.0   0.0  0.001967     69.050170   69.967133   4258.681400   \n",
       "13    0.0   0.0   0.0  0.001967     68.956748   68.839172   4876.151643   \n",
       "\n",
       "        error  mean_abs_pct_error  \n",
       "173  0.000000            0.000000  \n",
       "125  0.906349            4.760235  \n",
       "116  1.442303            7.059731  \n",
       "14   1.815126            9.573452  \n",
       "235  0.050015            0.263512  \n",
       "..        ...                 ...  \n",
       "210  3.567625            6.896626  \n",
       "94   8.061138           13.480164  \n",
       "72   8.279980           11.999971  \n",
       "11   1.257134            1.829623  \n",
       "13   2.589172            3.908184  \n",
       "\n",
       "[265 rows x 4061 columns]"
      ]
     },
     "execution_count": 591,
     "metadata": {},
     "output_type": "execute_result"
    }
   ],
   "source": [
    "X_sorted"
   ]
  },
  {
   "cell_type": "code",
   "execution_count": 592,
   "id": "efa8a1ee",
   "metadata": {},
   "outputs": [],
   "source": [
    "accuracy = 100 - np.mean(X_sorted['mean_abs_pct_error'])"
   ]
  },
  {
   "cell_type": "code",
   "execution_count": 593,
   "id": "6c53f7ca",
   "metadata": {},
   "outputs": [
    {
     "data": {
      "text/plain": [
       "95.36957836392459"
      ]
     },
     "execution_count": 593,
     "metadata": {},
     "output_type": "execute_result"
    }
   ],
   "source": [
    "accuracy"
   ]
  },
  {
   "cell_type": "code",
   "execution_count": 515,
   "id": "da66df4e",
   "metadata": {
    "scrolled": false
   },
   "outputs": [
    {
     "data": {
      "image/png": "[encoded data removed]",
      "text/plain": [
       "<Figure size 432x288 with 1 Axes>"
      ]
     },
     "metadata": {
      "needs_background": "light"
     },
     "output_type": "display_data"
    },
    {
     "data": {
      "image/png": "[encoded data removed]",
      "text/plain": [
       "<Figure size 432x288 with 1 Axes>"
      ]
     },
     "metadata": {
      "needs_background": "light"
     },
     "output_type": "display_data"
    }
   ],
   "source": [
    "_ = X_sorted.plot('date', 'pred_price', c='r')\n",
    "_ = X_sorted.plot('date', 'verification', c='b')\n",
    "plt.show()"
   ]
  },
  {
   "cell_type": "code",
   "execution_count": 352,
   "id": "dc68b3f3",
   "metadata": {},
   "outputs": [
    {
     "data": {
      "text/html": [
       "<div>\n",
       "<style scoped>\n",
       "    .dataframe tbody tr th:only-of-type {\n",
       "        vertical-align: middle;\n",
       "    }\n",
       "\n",
       "    .dataframe tbody tr th {\n",
       "        vertical-align: top;\n",
       "    }\n",
       "\n",
       "    .dataframe thead th {\n",
       "        text-align: right;\n",
       "    }\n",
       "</style>\n",
       "<table border=\"1\" class=\"dataframe\">\n",
       "  <thead>\n",
       "    <tr style=\"text-align: right;\">\n",
       "      <th></th>\n",
       "      <th>price</th>\n",
       "      <th>y_pred</th>\n",
       "    </tr>\n",
       "  </thead>\n",
       "  <tbody>\n",
       "    <tr>\n",
       "      <th>42</th>\n",
       "      <td>45.234001</td>\n",
       "      <td>-4.065522e+07</td>\n",
       "    </tr>\n",
       "    <tr>\n",
       "      <th>150</th>\n",
       "      <td>44.834000</td>\n",
       "      <td>3.223028e+06</td>\n",
       "    </tr>\n",
       "    <tr>\n",
       "      <th>368</th>\n",
       "      <td>40.466000</td>\n",
       "      <td>5.850672e+07</td>\n",
       "    </tr>\n",
       "    <tr>\n",
       "      <th>160</th>\n",
       "      <td>38.894001</td>\n",
       "      <td>2.304152e+08</td>\n",
       "    </tr>\n",
       "    <tr>\n",
       "      <th>158</th>\n",
       "      <td>39.545334</td>\n",
       "      <td>4.361677e+06</td>\n",
       "    </tr>\n",
       "    <tr>\n",
       "      <th>...</th>\n",
       "      <td>...</td>\n",
       "      <td>...</td>\n",
       "    </tr>\n",
       "    <tr>\n",
       "      <th>101</th>\n",
       "      <td>651.989990</td>\n",
       "      <td>1.160808e+08</td>\n",
       "    </tr>\n",
       "    <tr>\n",
       "      <th>390</th>\n",
       "      <td>647.896647</td>\n",
       "      <td>-1.151925e+08</td>\n",
       "    </tr>\n",
       "    <tr>\n",
       "      <th>418</th>\n",
       "      <td>650.969971</td>\n",
       "      <td>2.614646e+07</td>\n",
       "    </tr>\n",
       "    <tr>\n",
       "      <th>274</th>\n",
       "      <td>644.780029</td>\n",
       "      <td>9.869203e+07</td>\n",
       "    </tr>\n",
       "    <tr>\n",
       "      <th>209</th>\n",
       "      <td>649.789978</td>\n",
       "      <td>1.106436e+08</td>\n",
       "    </tr>\n",
       "  </tbody>\n",
       "</table>\n",
       "<p>433 rows × 2 columns</p>\n",
       "</div>"
      ],
      "text/plain": [
       "          price        y_pred\n",
       "42    45.234001 -4.065522e+07\n",
       "150   44.834000  3.223028e+06\n",
       "368   40.466000  5.850672e+07\n",
       "160   38.894001  2.304152e+08\n",
       "158   39.545334  4.361677e+06\n",
       "..          ...           ...\n",
       "101  651.989990  1.160808e+08\n",
       "390  647.896647 -1.151925e+08\n",
       "418  650.969971  2.614646e+07\n",
       "274  644.780029  9.869203e+07\n",
       "209  649.789978  1.106436e+08\n",
       "\n",
       "[433 rows x 2 columns]"
      ]
     },
     "execution_count": 352,
     "metadata": {},
     "output_type": "execute_result"
    }
   ],
   "source": [
    "X_sorted[['price', 'y_pred']]"
   ]
  },
  {
   "cell_type": "code",
   "execution_count": null,
   "id": "d1775d09",
   "metadata": {},
   "outputs": [],
   "source": []
  },
  {
   "cell_type": "code",
   "execution_count": 528,
   "id": "ec6abddd",
   "metadata": {},
   "outputs": [],
   "source": [
    "test = df[df['username'] == 'jack'].copy()"
   ]
  },
  {
   "cell_type": "code",
   "execution_count": 533,
   "id": "024474c8",
   "metadata": {},
   "outputs": [],
   "source": [
    "test.reset_index(inplace=True, drop=True)"
   ]
  },
  {
   "cell_type": "code",
   "execution_count": 534,
   "id": "94f572a9",
   "metadata": {},
   "outputs": [],
   "source": [
    "test['verification'] = test['price'][0]"
   ]
  },
  {
   "cell_type": "code",
   "execution_count": 535,
   "id": "99cf4b93",
   "metadata": {},
   "outputs": [],
   "source": [
    "pct_change = list(test['percent change'])"
   ]
  },
  {
   "cell_type": "code",
   "execution_count": 536,
   "id": "a2ae48de",
   "metadata": {},
   "outputs": [],
   "source": [
    "del pct_change[0]"
   ]
  },
  {
   "cell_type": "code",
   "execution_count": 537,
   "id": "9bca14d1",
   "metadata": {},
   "outputs": [],
   "source": [
    "pct_change.append(0)"
   ]
  },
  {
   "cell_type": "code",
   "execution_count": 538,
   "id": "7fa29eae",
   "metadata": {},
   "outputs": [],
   "source": [
    "test['target'] = pct_change"
   ]
  },
  {
   "cell_type": "code",
   "execution_count": 539,
   "id": "f261fa85",
   "metadata": {},
   "outputs": [
    {
     "data": {
      "text/html": [
       "<div>\n",
       "<style scoped>\n",
       "    .dataframe tbody tr th:only-of-type {\n",
       "        vertical-align: middle;\n",
       "    }\n",
       "\n",
       "    .dataframe tbody tr th {\n",
       "        vertical-align: top;\n",
       "    }\n",
       "\n",
       "    .dataframe thead th {\n",
       "        text-align: right;\n",
       "    }\n",
       "</style>\n",
       "<table border=\"1\" class=\"dataframe\">\n",
       "  <thead>\n",
       "    <tr style=\"text-align: right;\">\n",
       "      <th></th>\n",
       "      <th>percent change</th>\n",
       "      <th>target</th>\n",
       "    </tr>\n",
       "  </thead>\n",
       "  <tbody>\n",
       "    <tr>\n",
       "      <th>0</th>\n",
       "      <td>0.015253</td>\n",
       "      <td>-0.009816</td>\n",
       "    </tr>\n",
       "    <tr>\n",
       "      <th>1</th>\n",
       "      <td>-0.009816</td>\n",
       "      <td>0.009913</td>\n",
       "    </tr>\n",
       "    <tr>\n",
       "      <th>2</th>\n",
       "      <td>0.009913</td>\n",
       "      <td>0.004629</td>\n",
       "    </tr>\n",
       "    <tr>\n",
       "      <th>3</th>\n",
       "      <td>0.004629</td>\n",
       "      <td>-0.002271</td>\n",
       "    </tr>\n",
       "    <tr>\n",
       "      <th>4</th>\n",
       "      <td>-0.002271</td>\n",
       "      <td>0.031872</td>\n",
       "    </tr>\n",
       "    <tr>\n",
       "      <th>...</th>\n",
       "      <td>...</td>\n",
       "      <td>...</td>\n",
       "    </tr>\n",
       "    <tr>\n",
       "      <th>1317</th>\n",
       "      <td>-0.005152</td>\n",
       "      <td>-0.012942</td>\n",
       "    </tr>\n",
       "    <tr>\n",
       "      <th>1318</th>\n",
       "      <td>-0.012942</td>\n",
       "      <td>0.037804</td>\n",
       "    </tr>\n",
       "    <tr>\n",
       "      <th>1319</th>\n",
       "      <td>0.037804</td>\n",
       "      <td>-0.007064</td>\n",
       "    </tr>\n",
       "    <tr>\n",
       "      <th>1320</th>\n",
       "      <td>-0.007064</td>\n",
       "      <td>-0.006575</td>\n",
       "    </tr>\n",
       "    <tr>\n",
       "      <th>1321</th>\n",
       "      <td>-0.006575</td>\n",
       "      <td>0.000000</td>\n",
       "    </tr>\n",
       "  </tbody>\n",
       "</table>\n",
       "<p>1322 rows × 2 columns</p>\n",
       "</div>"
      ],
      "text/plain": [
       "      percent change    target\n",
       "0           0.015253 -0.009816\n",
       "1          -0.009816  0.009913\n",
       "2           0.009913  0.004629\n",
       "3           0.004629 -0.002271\n",
       "4          -0.002271  0.031872\n",
       "...              ...       ...\n",
       "1317       -0.005152 -0.012942\n",
       "1318       -0.012942  0.037804\n",
       "1319        0.037804 -0.007064\n",
       "1320       -0.007064 -0.006575\n",
       "1321       -0.006575  0.000000\n",
       "\n",
       "[1322 rows x 2 columns]"
      ]
     },
     "execution_count": 539,
     "metadata": {},
     "output_type": "execute_result"
    }
   ],
   "source": [
    "test[['percent change', 'target']]"
   ]
  },
  {
   "cell_type": "code",
   "execution_count": 540,
   "id": "0042af1d",
   "metadata": {},
   "outputs": [],
   "source": [
    "for i in range(len(test)):\n",
    "    if i == len(test) - 1:\n",
    "        quit\n",
    "    else:\n",
    "        test['verification'].iloc[i+1] = (test['verification'].iloc[i] * test['percent change'].iloc[i+1]) + test['verification'].iloc[i]\n",
    "        "
   ]
  },
  {
   "cell_type": "code",
   "execution_count": 541,
   "id": "21cbd720",
   "metadata": {
    "scrolled": false
   },
   "outputs": [
    {
     "data": {
      "text/plain": [
       "Index(['date', 'tweet', 'username', 'mentions', 'hashtags', 'video', 'photos',\n",
       "       'urls', 'replies_count', 'retweets_count', 'likes_count',\n",
       "       'number of tweets', 'price', 'percent change', 'labels', 'text',\n",
       "       'n_char', 'n_words', 'avg_word_len', 'sentiment_dict', 'compound_sent',\n",
       "       'neg_sent', 'neu_sent', 'pos_sent', 'readability', 'verification',\n",
       "       'target'],\n",
       "      dtype='object')"
      ]
     },
     "execution_count": 541,
     "metadata": {},
     "output_type": "execute_result"
    }
   ],
   "source": [
    "test.columns"
   ]
  },
  {
   "cell_type": "code",
   "execution_count": 542,
   "id": "d0cb7036",
   "metadata": {},
   "outputs": [],
   "source": [
    "features = ['date','mentions', 'hashtags', 'video', 'photos',\n",
    "       'urls', 'replies_count', 'retweets_count', 'likes_count',\n",
    "       'number of tweets', 'text', 'price', 'percent change',\n",
    "       'n_char', 'n_words', 'avg_word_len', 'compound_sent',\n",
    "       'neg_sent', 'neu_sent', 'pos_sent', 'readability', 'target']"
   ]
  },
  {
   "cell_type": "code",
   "execution_count": 543,
   "id": "3f54058c",
   "metadata": {},
   "outputs": [],
   "source": [
    "test['cleaned'] = test['text'].apply(lambda x: clean_text(x))"
   ]
  },
  {
   "cell_type": "code",
   "execution_count": 544,
   "id": "7b05a471",
   "metadata": {},
   "outputs": [],
   "source": [
    "X_vect, _ = vectorize(test['cleaned'], test[features].drop(labels=['text'], axis=1))"
   ]
  },
  {
   "cell_type": "code",
   "execution_count": 545,
   "id": "d01e25cf",
   "metadata": {},
   "outputs": [
    {
     "data": {
      "text/html": [
       "<div>\n",
       "<style scoped>\n",
       "    .dataframe tbody tr th:only-of-type {\n",
       "        vertical-align: middle;\n",
       "    }\n",
       "\n",
       "    .dataframe tbody tr th {\n",
       "        vertical-align: top;\n",
       "    }\n",
       "\n",
       "    .dataframe thead th {\n",
       "        text-align: right;\n",
       "    }\n",
       "</style>\n",
       "<table border=\"1\" class=\"dataframe\">\n",
       "  <thead>\n",
       "    <tr style=\"text-align: right;\">\n",
       "      <th></th>\n",
       "      <th>percent change</th>\n",
       "    </tr>\n",
       "  </thead>\n",
       "  <tbody>\n",
       "    <tr>\n",
       "      <th>0</th>\n",
       "      <td>0.015253</td>\n",
       "    </tr>\n",
       "    <tr>\n",
       "      <th>1</th>\n",
       "      <td>-0.009816</td>\n",
       "    </tr>\n",
       "    <tr>\n",
       "      <th>2</th>\n",
       "      <td>0.009913</td>\n",
       "    </tr>\n",
       "    <tr>\n",
       "      <th>3</th>\n",
       "      <td>0.004629</td>\n",
       "    </tr>\n",
       "    <tr>\n",
       "      <th>4</th>\n",
       "      <td>-0.002271</td>\n",
       "    </tr>\n",
       "    <tr>\n",
       "      <th>...</th>\n",
       "      <td>...</td>\n",
       "    </tr>\n",
       "    <tr>\n",
       "      <th>1317</th>\n",
       "      <td>-0.005152</td>\n",
       "    </tr>\n",
       "    <tr>\n",
       "      <th>1318</th>\n",
       "      <td>-0.012942</td>\n",
       "    </tr>\n",
       "    <tr>\n",
       "      <th>1319</th>\n",
       "      <td>0.037804</td>\n",
       "    </tr>\n",
       "    <tr>\n",
       "      <th>1320</th>\n",
       "      <td>-0.007064</td>\n",
       "    </tr>\n",
       "    <tr>\n",
       "      <th>1321</th>\n",
       "      <td>-0.006575</td>\n",
       "    </tr>\n",
       "  </tbody>\n",
       "</table>\n",
       "<p>1322 rows × 1 columns</p>\n",
       "</div>"
      ],
      "text/plain": [
       "      percent change\n",
       "0           0.015253\n",
       "1          -0.009816\n",
       "2           0.009913\n",
       "3           0.004629\n",
       "4          -0.002271\n",
       "...              ...\n",
       "1317       -0.005152\n",
       "1318       -0.012942\n",
       "1319        0.037804\n",
       "1320       -0.007064\n",
       "1321       -0.006575\n",
       "\n",
       "[1322 rows x 1 columns]"
      ]
     },
     "execution_count": 545,
     "metadata": {},
     "output_type": "execute_result"
    }
   ],
   "source": [
    "y = test[['percent change']]\n",
    "y"
   ]
  },
  {
   "cell_type": "code",
   "execution_count": 546,
   "id": "e7dab48c",
   "metadata": {},
   "outputs": [],
   "source": [
    "X_train, X_test, y_train, y_test = train_test_split(X_vect, y, test_size=0.2)"
   ]
  },
  {
   "cell_type": "code",
   "execution_count": 547,
   "id": "28103e53",
   "metadata": {},
   "outputs": [
    {
     "name": "stdout",
     "output_type": "stream",
     "text": [
      "(1057, 4055)\n",
      "(1057, 1)\n"
     ]
    }
   ],
   "source": [
    "print(X_train.shape)\n",
    "print(y_train.shape)"
   ]
  },
  {
   "cell_type": "code",
   "execution_count": 548,
   "id": "06b92d25",
   "metadata": {},
   "outputs": [
    {
     "name": "stdout",
     "output_type": "stream",
     "text": [
      "(265, 4055)\n",
      "(265, 1)\n"
     ]
    }
   ],
   "source": [
    "print(X_test.shape)\n",
    "print(y_test.shape)"
   ]
  },
  {
   "cell_type": "code",
   "execution_count": 549,
   "id": "866f84a3",
   "metadata": {},
   "outputs": [
    {
     "name": "stdout",
     "output_type": "stream",
     "text": [
      "CPU times: user 59.8 s, sys: 219 ms, total: 1min\n",
      "Wall time: 17.7 s\n"
     ]
    }
   ],
   "source": [
    "%%time\n",
    "rfreg = RandomForestRegressor(n_jobs=-1)\n",
    "rfreg.fit(X_train.drop(labels=['date', 'percent change', 'price', 'target'], axis=1), y_train)\n",
    "y_pred = rfreg.predict(X_test.drop(labels=['date', 'percent change', 'price', 'target'], axis=1))"
   ]
  },
  {
   "cell_type": "code",
   "execution_count": 550,
   "id": "fdd67918",
   "metadata": {},
   "outputs": [
    {
     "data": {
      "image/png": "[encoded data removed]",
      "text/plain": [
       "<Figure size 432x288 with 1 Axes>"
      ]
     },
     "metadata": {
      "needs_background": "light"
     },
     "output_type": "display_data"
    }
   ],
   "source": [
    "_ = plt.scatter(X_test['date'], y_test)\n",
    "_ = plt.scatter(X_test['date'], y_pred, color='red')"
   ]
  },
  {
   "cell_type": "code",
   "execution_count": 551,
   "id": "b90a8872",
   "metadata": {
    "scrolled": false
   },
   "outputs": [],
   "source": [
    "metrics = pd.DataFrame()"
   ]
  },
  {
   "cell_type": "code",
   "execution_count": null,
   "id": "5e6ca64e",
   "metadata": {},
   "outputs": [],
   "source": []
  },
  {
   "cell_type": "code",
   "execution_count": 552,
   "id": "4047778a",
   "metadata": {},
   "outputs": [
    {
     "data": {
      "text/plain": [
       "<matplotlib.collections.PathCollection at 0x7ff764fc1880>"
      ]
     },
     "execution_count": 552,
     "metadata": {},
     "output_type": "execute_result"
    },
    {
     "data": {
      "image/png": "[encoded data removed]",
      "text/plain": [
       "<Figure size 432x288 with 1 Axes>"
      ]
     },
     "metadata": {
      "needs_background": "light"
     },
     "output_type": "display_data"
    }
   ],
   "source": [
    "plt.scatter(y_test, y_pred)"
   ]
  },
  {
   "cell_type": "code",
   "execution_count": 553,
   "id": "462c7650",
   "metadata": {},
   "outputs": [],
   "source": [
    "X_test['y_pred'] = y_pred"
   ]
  },
  {
   "cell_type": "code",
   "execution_count": 554,
   "id": "bb38afd2",
   "metadata": {},
   "outputs": [],
   "source": [
    "X_test.reset_index(drop=True, inplace=True)"
   ]
  },
  {
   "cell_type": "code",
   "execution_count": 555,
   "id": "b169d206",
   "metadata": {},
   "outputs": [],
   "source": [
    "X_sorted = X_test.sort_values(by='date')"
   ]
  },
  {
   "cell_type": "code",
   "execution_count": 556,
   "id": "cb3256b5",
   "metadata": {},
   "outputs": [],
   "source": [
    "X_sorted['verification'] = X_sorted['price']"
   ]
  },
  {
   "cell_type": "code",
   "execution_count": 557,
   "id": "d612db1a",
   "metadata": {},
   "outputs": [],
   "source": [
    "for i in range(len(X_sorted)):\n",
    "    if i == len(X_sorted) - 1:\n",
    "        break\n",
    "    else:\n",
    "        X_sorted['verification'].iloc[i+1] = (X_sorted['price'].iloc[i] * X_sorted['target'].iloc[i]) + X_sorted['price'].iloc[i]"
   ]
  },
  {
   "cell_type": "code",
   "execution_count": 558,
   "id": "e35c330b",
   "metadata": {},
   "outputs": [
    {
     "data": {
      "text/html": [
       "<div>\n",
       "<style scoped>\n",
       "    .dataframe tbody tr th:only-of-type {\n",
       "        vertical-align: middle;\n",
       "    }\n",
       "\n",
       "    .dataframe tbody tr th {\n",
       "        vertical-align: top;\n",
       "    }\n",
       "\n",
       "    .dataframe thead th {\n",
       "        text-align: right;\n",
       "    }\n",
       "</style>\n",
       "<table border=\"1\" class=\"dataframe\">\n",
       "  <thead>\n",
       "    <tr style=\"text-align: right;\">\n",
       "      <th></th>\n",
       "      <th>verification</th>\n",
       "      <th>price</th>\n",
       "      <th>target</th>\n",
       "    </tr>\n",
       "  </thead>\n",
       "  <tbody>\n",
       "    <tr>\n",
       "      <th>173</th>\n",
       "      <td>18.129999</td>\n",
       "      <td>18.129999</td>\n",
       "      <td>0.003310</td>\n",
       "    </tr>\n",
       "    <tr>\n",
       "      <th>125</th>\n",
       "      <td>18.190001</td>\n",
       "      <td>19.040001</td>\n",
       "      <td>0.006828</td>\n",
       "    </tr>\n",
       "    <tr>\n",
       "      <th>116</th>\n",
       "      <td>19.170000</td>\n",
       "      <td>20.430000</td>\n",
       "      <td>-0.012726</td>\n",
       "    </tr>\n",
       "    <tr>\n",
       "      <th>14</th>\n",
       "      <td>20.170000</td>\n",
       "      <td>18.959999</td>\n",
       "      <td>0.001055</td>\n",
       "    </tr>\n",
       "    <tr>\n",
       "      <th>235</th>\n",
       "      <td>18.980000</td>\n",
       "      <td>18.980000</td>\n",
       "      <td>-0.006330</td>\n",
       "    </tr>\n",
       "    <tr>\n",
       "      <th>...</th>\n",
       "      <td>...</td>\n",
       "      <td>...</td>\n",
       "      <td>...</td>\n",
       "    </tr>\n",
       "    <tr>\n",
       "      <th>210</th>\n",
       "      <td>53.969976</td>\n",
       "      <td>51.730000</td>\n",
       "      <td>-0.011212</td>\n",
       "    </tr>\n",
       "    <tr>\n",
       "      <th>94</th>\n",
       "      <td>51.150000</td>\n",
       "      <td>59.799999</td>\n",
       "      <td>0.008361</td>\n",
       "    </tr>\n",
       "    <tr>\n",
       "      <th>72</th>\n",
       "      <td>60.299999</td>\n",
       "      <td>69.000000</td>\n",
       "      <td>0.000727</td>\n",
       "    </tr>\n",
       "    <tr>\n",
       "      <th>11</th>\n",
       "      <td>69.050170</td>\n",
       "      <td>68.709999</td>\n",
       "      <td>0.003591</td>\n",
       "    </tr>\n",
       "    <tr>\n",
       "      <th>13</th>\n",
       "      <td>68.956748</td>\n",
       "      <td>66.250000</td>\n",
       "      <td>-0.005152</td>\n",
       "    </tr>\n",
       "  </tbody>\n",
       "</table>\n",
       "<p>265 rows × 3 columns</p>\n",
       "</div>"
      ],
      "text/plain": [
       "     verification      price    target\n",
       "173     18.129999  18.129999  0.003310\n",
       "125     18.190001  19.040001  0.006828\n",
       "116     19.170000  20.430000 -0.012726\n",
       "14      20.170000  18.959999  0.001055\n",
       "235     18.980000  18.980000 -0.006330\n",
       "..            ...        ...       ...\n",
       "210     53.969976  51.730000 -0.011212\n",
       "94      51.150000  59.799999  0.008361\n",
       "72      60.299999  69.000000  0.000727\n",
       "11      69.050170  68.709999  0.003591\n",
       "13      68.956748  66.250000 -0.005152\n",
       "\n",
       "[265 rows x 3 columns]"
      ]
     },
     "execution_count": 558,
     "metadata": {},
     "output_type": "execute_result"
    }
   ],
   "source": [
    "X_sorted[['verification', 'price', 'target']]"
   ]
  },
  {
   "cell_type": "code",
   "execution_count": 559,
   "id": "b6e9d99a",
   "metadata": {
    "scrolled": true
   },
   "outputs": [
    {
     "data": {
      "image/png": "[encoded data removed]",
      "text/plain": [
       "<Figure size 432x288 with 1 Axes>"
      ]
     },
     "metadata": {
      "needs_background": "light"
     },
     "output_type": "display_data"
    }
   ],
   "source": [
    "_ = X_sorted.plot('date', 'verification')"
   ]
  },
  {
   "cell_type": "code",
   "execution_count": 560,
   "id": "a45c7d69",
   "metadata": {},
   "outputs": [],
   "source": [
    "X_sorted['pred_price'] = X_sorted['price']\n",
    "for i in range(len(X_sorted)):\n",
    "    if i == len(X_sorted) - 1:\n",
    "        break\n",
    "    else:\n",
    "        X_sorted['pred_price'].iloc[i+1] = (X_sorted['price'].iloc[i] * X_sorted['y_pred'].iloc[i]) + X_sorted['price'].iloc[i]"
   ]
  },
  {
   "cell_type": "code",
   "execution_count": 561,
   "id": "3503dcfb",
   "metadata": {},
   "outputs": [],
   "source": [
    "X_sorted['pred_price_2'] = X_sorted['price']\n",
    "for i in range(len(X_sorted)):\n",
    "    if i == len(X_sorted) - 1:\n",
    "        break\n",
    "    else:\n",
    "        X_sorted['pred_price_2'].iloc[i+1] = (X_sorted['price'].iloc[i] * X_sorted['pred_price'].iloc[i]) + X_sorted['price'].iloc[i]\n",
    "        "
   ]
  },
  {
   "cell_type": "code",
   "execution_count": 562,
   "id": "4ed7651c",
   "metadata": {
    "scrolled": true
   },
   "outputs": [
    {
     "data": {
      "text/html": [
       "<div>\n",
       "<style scoped>\n",
       "    .dataframe tbody tr th:only-of-type {\n",
       "        vertical-align: middle;\n",
       "    }\n",
       "\n",
       "    .dataframe tbody tr th {\n",
       "        vertical-align: top;\n",
       "    }\n",
       "\n",
       "    .dataframe thead th {\n",
       "        text-align: right;\n",
       "    }\n",
       "</style>\n",
       "<table border=\"1\" class=\"dataframe\">\n",
       "  <thead>\n",
       "    <tr style=\"text-align: right;\">\n",
       "      <th></th>\n",
       "      <th>pred_price</th>\n",
       "      <th>price</th>\n",
       "      <th>target</th>\n",
       "      <th>y_pred</th>\n",
       "    </tr>\n",
       "  </thead>\n",
       "  <tbody>\n",
       "    <tr>\n",
       "      <th>173</th>\n",
       "      <td>18.129999</td>\n",
       "      <td>18.129999</td>\n",
       "      <td>0.003310</td>\n",
       "      <td>0.000201</td>\n",
       "    </tr>\n",
       "    <tr>\n",
       "      <th>125</th>\n",
       "      <td>18.133652</td>\n",
       "      <td>19.040001</td>\n",
       "      <td>0.006828</td>\n",
       "      <td>-0.002747</td>\n",
       "    </tr>\n",
       "    <tr>\n",
       "      <th>116</th>\n",
       "      <td>18.987697</td>\n",
       "      <td>20.430000</td>\n",
       "      <td>-0.012726</td>\n",
       "      <td>0.016893</td>\n",
       "    </tr>\n",
       "    <tr>\n",
       "      <th>14</th>\n",
       "      <td>20.775125</td>\n",
       "      <td>18.959999</td>\n",
       "      <td>0.001055</td>\n",
       "      <td>0.003693</td>\n",
       "    </tr>\n",
       "    <tr>\n",
       "      <th>235</th>\n",
       "      <td>19.030014</td>\n",
       "      <td>18.980000</td>\n",
       "      <td>-0.006330</td>\n",
       "      <td>0.003618</td>\n",
       "    </tr>\n",
       "    <tr>\n",
       "      <th>...</th>\n",
       "      <td>...</td>\n",
       "      <td>...</td>\n",
       "      <td>...</td>\n",
       "      <td>...</td>\n",
       "    </tr>\n",
       "    <tr>\n",
       "      <th>210</th>\n",
       "      <td>55.297624</td>\n",
       "      <td>51.730000</td>\n",
       "      <td>-0.011212</td>\n",
       "      <td>0.000171</td>\n",
       "    </tr>\n",
       "    <tr>\n",
       "      <th>94</th>\n",
       "      <td>51.738861</td>\n",
       "      <td>59.799999</td>\n",
       "      <td>0.008361</td>\n",
       "      <td>0.015385</td>\n",
       "    </tr>\n",
       "    <tr>\n",
       "      <th>72</th>\n",
       "      <td>60.720020</td>\n",
       "      <td>69.000000</td>\n",
       "      <td>0.000727</td>\n",
       "      <td>0.014016</td>\n",
       "    </tr>\n",
       "    <tr>\n",
       "      <th>11</th>\n",
       "      <td>69.967133</td>\n",
       "      <td>68.709999</td>\n",
       "      <td>0.003591</td>\n",
       "      <td>0.001880</td>\n",
       "    </tr>\n",
       "    <tr>\n",
       "      <th>13</th>\n",
       "      <td>68.839172</td>\n",
       "      <td>66.250000</td>\n",
       "      <td>-0.005152</td>\n",
       "      <td>-0.001087</td>\n",
       "    </tr>\n",
       "  </tbody>\n",
       "</table>\n",
       "<p>265 rows × 4 columns</p>\n",
       "</div>"
      ],
      "text/plain": [
       "     pred_price      price    target    y_pred\n",
       "173   18.129999  18.129999  0.003310  0.000201\n",
       "125   18.133652  19.040001  0.006828 -0.002747\n",
       "116   18.987697  20.430000 -0.012726  0.016893\n",
       "14    20.775125  18.959999  0.001055  0.003693\n",
       "235   19.030014  18.980000 -0.006330  0.003618\n",
       "..          ...        ...       ...       ...\n",
       "210   55.297624  51.730000 -0.011212  0.000171\n",
       "94    51.738861  59.799999  0.008361  0.015385\n",
       "72    60.720020  69.000000  0.000727  0.014016\n",
       "11    69.967133  68.709999  0.003591  0.001880\n",
       "13    68.839172  66.250000 -0.005152 -0.001087\n",
       "\n",
       "[265 rows x 4 columns]"
      ]
     },
     "execution_count": 562,
     "metadata": {},
     "output_type": "execute_result"
    }
   ],
   "source": [
    "X_sorted[['pred_price', 'price', 'target', 'y_pred']]"
   ]
  },
  {
   "cell_type": "code",
   "execution_count": 563,
   "id": "2cbe79cc",
   "metadata": {},
   "outputs": [],
   "source": [
    "X_sorted['error'] = np.abs(X_sorted['pred_price'] - X_sorted['price'])"
   ]
  },
  {
   "cell_type": "code",
   "execution_count": 571,
   "id": "868c454c",
   "metadata": {},
   "outputs": [],
   "source": [
    "test = X_sorted.copy()"
   ]
  },
  {
   "cell_type": "code",
   "execution_count": 583,
   "id": "459d24b3",
   "metadata": {},
   "outputs": [],
   "source": [
    "test['error'] = np.abs(test['y_pred'] - test['target'])\n",
    "avg_abs_error = np.mean(test['error'])\n",
    "test['target'] += 0.00001\n",
    "test['mean_abs_pct_error'] = 100* (test['error'] / test['target'])\n",
    "accuracy = 100 - np.mean(test['mean_abs_pct_error'])"
   ]
  },
  {
   "cell_type": "code",
   "execution_count": 584,
   "id": "2d7d9dba",
   "metadata": {},
   "outputs": [
    {
     "data": {
      "text/plain": [
       "-326.432231738809"
      ]
     },
     "execution_count": 584,
     "metadata": {},
     "output_type": "execute_result"
    }
   ],
   "source": [
    "accuracy"
   ]
  },
  {
   "cell_type": "code",
   "execution_count": 577,
   "id": "412f99a5",
   "metadata": {},
   "outputs": [
    {
     "data": {
      "text/html": [
       "<div>\n",
       "<style scoped>\n",
       "    .dataframe tbody tr th:only-of-type {\n",
       "        vertical-align: middle;\n",
       "    }\n",
       "\n",
       "    .dataframe tbody tr th {\n",
       "        vertical-align: top;\n",
       "    }\n",
       "\n",
       "    .dataframe thead th {\n",
       "        text-align: right;\n",
       "    }\n",
       "</style>\n",
       "<table border=\"1\" class=\"dataframe\">\n",
       "  <thead>\n",
       "    <tr style=\"text-align: right;\">\n",
       "      <th></th>\n",
       "      <th>error</th>\n",
       "      <th>target</th>\n",
       "      <th>y_pred</th>\n",
       "    </tr>\n",
       "  </thead>\n",
       "  <tbody>\n",
       "    <tr>\n",
       "      <th>173</th>\n",
       "      <td>0.003108</td>\n",
       "      <td>0.003310</td>\n",
       "      <td>0.000201</td>\n",
       "    </tr>\n",
       "    <tr>\n",
       "      <th>125</th>\n",
       "      <td>0.009575</td>\n",
       "      <td>0.006828</td>\n",
       "      <td>-0.002747</td>\n",
       "    </tr>\n",
       "    <tr>\n",
       "      <th>116</th>\n",
       "      <td>0.029619</td>\n",
       "      <td>-0.012726</td>\n",
       "      <td>0.016893</td>\n",
       "    </tr>\n",
       "    <tr>\n",
       "      <th>14</th>\n",
       "      <td>0.002638</td>\n",
       "      <td>0.001055</td>\n",
       "      <td>0.003693</td>\n",
       "    </tr>\n",
       "    <tr>\n",
       "      <th>235</th>\n",
       "      <td>0.009948</td>\n",
       "      <td>-0.006330</td>\n",
       "      <td>0.003618</td>\n",
       "    </tr>\n",
       "    <tr>\n",
       "      <th>...</th>\n",
       "      <td>...</td>\n",
       "      <td>...</td>\n",
       "      <td>...</td>\n",
       "    </tr>\n",
       "    <tr>\n",
       "      <th>210</th>\n",
       "      <td>0.011383</td>\n",
       "      <td>-0.011212</td>\n",
       "      <td>0.000171</td>\n",
       "    </tr>\n",
       "    <tr>\n",
       "      <th>94</th>\n",
       "      <td>0.007024</td>\n",
       "      <td>0.008361</td>\n",
       "      <td>0.015385</td>\n",
       "    </tr>\n",
       "    <tr>\n",
       "      <th>72</th>\n",
       "      <td>0.013289</td>\n",
       "      <td>0.000727</td>\n",
       "      <td>0.014016</td>\n",
       "    </tr>\n",
       "    <tr>\n",
       "      <th>11</th>\n",
       "      <td>0.001711</td>\n",
       "      <td>0.003591</td>\n",
       "      <td>0.001880</td>\n",
       "    </tr>\n",
       "    <tr>\n",
       "      <th>13</th>\n",
       "      <td>0.004064</td>\n",
       "      <td>-0.005152</td>\n",
       "      <td>-0.001087</td>\n",
       "    </tr>\n",
       "  </tbody>\n",
       "</table>\n",
       "<p>265 rows × 3 columns</p>\n",
       "</div>"
      ],
      "text/plain": [
       "        error    target    y_pred\n",
       "173  0.003108  0.003310  0.000201\n",
       "125  0.009575  0.006828 -0.002747\n",
       "116  0.029619 -0.012726  0.016893\n",
       "14   0.002638  0.001055  0.003693\n",
       "235  0.009948 -0.006330  0.003618\n",
       "..        ...       ...       ...\n",
       "210  0.011383 -0.011212  0.000171\n",
       "94   0.007024  0.008361  0.015385\n",
       "72   0.013289  0.000727  0.014016\n",
       "11   0.001711  0.003591  0.001880\n",
       "13   0.004064 -0.005152 -0.001087\n",
       "\n",
       "[265 rows x 3 columns]"
      ]
     },
     "execution_count": 577,
     "metadata": {},
     "output_type": "execute_result"
    }
   ],
   "source": [
    "test[['error', 'target', 'y_pred']]"
   ]
  },
  {
   "cell_type": "code",
   "execution_count": 573,
   "id": "fec38a22",
   "metadata": {},
   "outputs": [
    {
     "data": {
      "text/plain": [
       "-inf"
      ]
     },
     "execution_count": 573,
     "metadata": {},
     "output_type": "execute_result"
    }
   ],
   "source": [
    "accuracy"
   ]
  },
  {
   "cell_type": "code",
   "execution_count": 564,
   "id": "a8f23c45",
   "metadata": {},
   "outputs": [],
   "source": [
    "avg_abs_error = np.mean(X_sorted['error'])"
   ]
  },
  {
   "cell_type": "code",
   "execution_count": 565,
   "id": "89b2c9f1",
   "metadata": {},
   "outputs": [
    {
     "data": {
      "text/plain": [
       "1.5211835574470105"
      ]
     },
     "execution_count": 565,
     "metadata": {},
     "output_type": "execute_result"
    }
   ],
   "source": [
    "avg_abs_error"
   ]
  },
  {
   "cell_type": "code",
   "execution_count": 566,
   "id": "0e36bfe4",
   "metadata": {},
   "outputs": [],
   "source": [
    "X_sorted['mean_abs_pct_error'] = 100* (X_sorted['error'] / X_sorted['price'])"
   ]
  },
  {
   "cell_type": "code",
   "execution_count": 567,
   "id": "ec9d75a8",
   "metadata": {},
   "outputs": [
    {
     "data": {
      "text/html": [
       "<div>\n",
       "<style scoped>\n",
       "    .dataframe tbody tr th:only-of-type {\n",
       "        vertical-align: middle;\n",
       "    }\n",
       "\n",
       "    .dataframe tbody tr th {\n",
       "        vertical-align: top;\n",
       "    }\n",
       "\n",
       "    .dataframe thead th {\n",
       "        text-align: right;\n",
       "    }\n",
       "</style>\n",
       "<table border=\"1\" class=\"dataframe\">\n",
       "  <thead>\n",
       "    <tr style=\"text-align: right;\">\n",
       "      <th></th>\n",
       "      <th>date</th>\n",
       "      <th>mentions</th>\n",
       "      <th>hashtags</th>\n",
       "      <th>video</th>\n",
       "      <th>photos</th>\n",
       "      <th>urls</th>\n",
       "      <th>replies_count</th>\n",
       "      <th>retweets_count</th>\n",
       "      <th>likes_count</th>\n",
       "      <th>number of tweets</th>\n",
       "      <th>...</th>\n",
       "      <th>4030</th>\n",
       "      <th>4031</th>\n",
       "      <th>4032</th>\n",
       "      <th>4033</th>\n",
       "      <th>y_pred</th>\n",
       "      <th>verification</th>\n",
       "      <th>pred_price</th>\n",
       "      <th>pred_price_2</th>\n",
       "      <th>error</th>\n",
       "      <th>mean_abs_pct_error</th>\n",
       "    </tr>\n",
       "  </thead>\n",
       "  <tbody>\n",
       "    <tr>\n",
       "      <th>173</th>\n",
       "      <td>2016-08-04 16:00:00</td>\n",
       "      <td>0.000000</td>\n",
       "      <td>0.000000</td>\n",
       "      <td>0.000000</td>\n",
       "      <td>0.000000</td>\n",
       "      <td>0.693147</td>\n",
       "      <td>3.951244</td>\n",
       "      <td>5.081404</td>\n",
       "      <td>6.142037</td>\n",
       "      <td>1.386294</td>\n",
       "      <td>...</td>\n",
       "      <td>0.0</td>\n",
       "      <td>0.0</td>\n",
       "      <td>0.0</td>\n",
       "      <td>0.0</td>\n",
       "      <td>0.000201</td>\n",
       "      <td>18.129999</td>\n",
       "      <td>18.129999</td>\n",
       "      <td>18.129999</td>\n",
       "      <td>0.000000</td>\n",
       "      <td>0.000000</td>\n",
       "    </tr>\n",
       "    <tr>\n",
       "      <th>125</th>\n",
       "      <td>2016-08-10 16:00:00</td>\n",
       "      <td>0.000000</td>\n",
       "      <td>0.000000</td>\n",
       "      <td>0.000000</td>\n",
       "      <td>0.000000</td>\n",
       "      <td>1.098612</td>\n",
       "      <td>4.521789</td>\n",
       "      <td>4.905275</td>\n",
       "      <td>5.840642</td>\n",
       "      <td>1.098612</td>\n",
       "      <td>...</td>\n",
       "      <td>0.0</td>\n",
       "      <td>0.0</td>\n",
       "      <td>0.0</td>\n",
       "      <td>0.0</td>\n",
       "      <td>-0.002747</td>\n",
       "      <td>18.190001</td>\n",
       "      <td>18.133652</td>\n",
       "      <td>346.826869</td>\n",
       "      <td>0.906349</td>\n",
       "      <td>4.760235</td>\n",
       "    </tr>\n",
       "    <tr>\n",
       "      <th>116</th>\n",
       "      <td>2016-08-17 09:30:00</td>\n",
       "      <td>0.693147</td>\n",
       "      <td>0.000000</td>\n",
       "      <td>0.693147</td>\n",
       "      <td>0.693147</td>\n",
       "      <td>0.000000</td>\n",
       "      <td>4.025352</td>\n",
       "      <td>5.068904</td>\n",
       "      <td>6.617403</td>\n",
       "      <td>0.693147</td>\n",
       "      <td>...</td>\n",
       "      <td>0.0</td>\n",
       "      <td>0.0</td>\n",
       "      <td>0.0</td>\n",
       "      <td>0.0</td>\n",
       "      <td>0.016893</td>\n",
       "      <td>19.170000</td>\n",
       "      <td>18.987697</td>\n",
       "      <td>364.304754</td>\n",
       "      <td>1.442303</td>\n",
       "      <td>7.059731</td>\n",
       "    </tr>\n",
       "    <tr>\n",
       "      <th>14</th>\n",
       "      <td>2016-08-19 09:30:00</td>\n",
       "      <td>0.000000</td>\n",
       "      <td>0.693147</td>\n",
       "      <td>0.000000</td>\n",
       "      <td>0.000000</td>\n",
       "      <td>0.693147</td>\n",
       "      <td>2.833213</td>\n",
       "      <td>3.610918</td>\n",
       "      <td>4.330733</td>\n",
       "      <td>1.098612</td>\n",
       "      <td>...</td>\n",
       "      <td>0.0</td>\n",
       "      <td>0.0</td>\n",
       "      <td>0.0</td>\n",
       "      <td>0.0</td>\n",
       "      <td>0.003693</td>\n",
       "      <td>20.170000</td>\n",
       "      <td>20.775125</td>\n",
       "      <td>408.348659</td>\n",
       "      <td>1.815126</td>\n",
       "      <td>9.573452</td>\n",
       "    </tr>\n",
       "    <tr>\n",
       "      <th>235</th>\n",
       "      <td>2016-08-19 16:00:00</td>\n",
       "      <td>0.693147</td>\n",
       "      <td>0.000000</td>\n",
       "      <td>0.000000</td>\n",
       "      <td>0.000000</td>\n",
       "      <td>0.693147</td>\n",
       "      <td>3.178054</td>\n",
       "      <td>4.094345</td>\n",
       "      <td>5.652489</td>\n",
       "      <td>0.693147</td>\n",
       "      <td>...</td>\n",
       "      <td>0.0</td>\n",
       "      <td>0.0</td>\n",
       "      <td>0.0</td>\n",
       "      <td>0.0</td>\n",
       "      <td>0.003618</td>\n",
       "      <td>18.980000</td>\n",
       "      <td>19.030014</td>\n",
       "      <td>412.856358</td>\n",
       "      <td>0.050015</td>\n",
       "      <td>0.263512</td>\n",
       "    </tr>\n",
       "    <tr>\n",
       "      <th>...</th>\n",
       "      <td>...</td>\n",
       "      <td>...</td>\n",
       "      <td>...</td>\n",
       "      <td>...</td>\n",
       "      <td>...</td>\n",
       "      <td>...</td>\n",
       "      <td>...</td>\n",
       "      <td>...</td>\n",
       "      <td>...</td>\n",
       "      <td>...</td>\n",
       "      <td>...</td>\n",
       "      <td>...</td>\n",
       "      <td>...</td>\n",
       "      <td>...</td>\n",
       "      <td>...</td>\n",
       "      <td>...</td>\n",
       "      <td>...</td>\n",
       "      <td>...</td>\n",
       "      <td>...</td>\n",
       "      <td>...</td>\n",
       "      <td>...</td>\n",
       "    </tr>\n",
       "    <tr>\n",
       "      <th>210</th>\n",
       "      <td>2021-05-14 16:00:00</td>\n",
       "      <td>0.693147</td>\n",
       "      <td>0.693147</td>\n",
       "      <td>0.000000</td>\n",
       "      <td>0.000000</td>\n",
       "      <td>0.000000</td>\n",
       "      <td>5.501258</td>\n",
       "      <td>5.342334</td>\n",
       "      <td>7.421178</td>\n",
       "      <td>0.693147</td>\n",
       "      <td>...</td>\n",
       "      <td>0.0</td>\n",
       "      <td>0.0</td>\n",
       "      <td>0.0</td>\n",
       "      <td>0.0</td>\n",
       "      <td>0.000171</td>\n",
       "      <td>53.969976</td>\n",
       "      <td>55.297624</td>\n",
       "      <td>3829.058007</td>\n",
       "      <td>3.567625</td>\n",
       "      <td>6.896626</td>\n",
       "    </tr>\n",
       "    <tr>\n",
       "      <th>94</th>\n",
       "      <td>2021-06-10 09:30:00</td>\n",
       "      <td>0.000000</td>\n",
       "      <td>0.693147</td>\n",
       "      <td>0.000000</td>\n",
       "      <td>0.000000</td>\n",
       "      <td>0.693147</td>\n",
       "      <td>7.268920</td>\n",
       "      <td>8.652423</td>\n",
       "      <td>10.497974</td>\n",
       "      <td>1.386294</td>\n",
       "      <td>...</td>\n",
       "      <td>0.0</td>\n",
       "      <td>0.0</td>\n",
       "      <td>0.0</td>\n",
       "      <td>0.0</td>\n",
       "      <td>0.015385</td>\n",
       "      <td>51.150000</td>\n",
       "      <td>51.738861</td>\n",
       "      <td>2912.276070</td>\n",
       "      <td>8.061138</td>\n",
       "      <td>13.480164</td>\n",
       "    </tr>\n",
       "    <tr>\n",
       "      <th>72</th>\n",
       "      <td>2021-06-29 16:00:00</td>\n",
       "      <td>0.000000</td>\n",
       "      <td>0.000000</td>\n",
       "      <td>0.000000</td>\n",
       "      <td>0.000000</td>\n",
       "      <td>0.000000</td>\n",
       "      <td>4.043051</td>\n",
       "      <td>3.135494</td>\n",
       "      <td>6.013715</td>\n",
       "      <td>0.693147</td>\n",
       "      <td>...</td>\n",
       "      <td>0.0</td>\n",
       "      <td>0.0</td>\n",
       "      <td>0.0</td>\n",
       "      <td>0.0</td>\n",
       "      <td>0.014016</td>\n",
       "      <td>60.299999</td>\n",
       "      <td>60.720020</td>\n",
       "      <td>3153.783872</td>\n",
       "      <td>8.279980</td>\n",
       "      <td>11.999971</td>\n",
       "    </tr>\n",
       "    <tr>\n",
       "      <th>11</th>\n",
       "      <td>2021-07-02 09:30:00</td>\n",
       "      <td>0.000000</td>\n",
       "      <td>0.000000</td>\n",
       "      <td>0.000000</td>\n",
       "      <td>0.000000</td>\n",
       "      <td>0.000000</td>\n",
       "      <td>3.688879</td>\n",
       "      <td>2.890372</td>\n",
       "      <td>7.050989</td>\n",
       "      <td>0.693147</td>\n",
       "      <td>...</td>\n",
       "      <td>0.0</td>\n",
       "      <td>0.0</td>\n",
       "      <td>0.0</td>\n",
       "      <td>0.0</td>\n",
       "      <td>0.001880</td>\n",
       "      <td>69.050170</td>\n",
       "      <td>69.967133</td>\n",
       "      <td>4258.681400</td>\n",
       "      <td>1.257134</td>\n",
       "      <td>1.829623</td>\n",
       "    </tr>\n",
       "    <tr>\n",
       "      <th>13</th>\n",
       "      <td>2021-07-20 09:30:00</td>\n",
       "      <td>0.000000</td>\n",
       "      <td>0.000000</td>\n",
       "      <td>0.693147</td>\n",
       "      <td>0.693147</td>\n",
       "      <td>1.098612</td>\n",
       "      <td>6.698268</td>\n",
       "      <td>6.924612</td>\n",
       "      <td>9.122055</td>\n",
       "      <td>1.386294</td>\n",
       "      <td>...</td>\n",
       "      <td>0.0</td>\n",
       "      <td>0.0</td>\n",
       "      <td>0.0</td>\n",
       "      <td>0.0</td>\n",
       "      <td>-0.001087</td>\n",
       "      <td>68.956748</td>\n",
       "      <td>68.839172</td>\n",
       "      <td>4876.151643</td>\n",
       "      <td>2.589172</td>\n",
       "      <td>3.908184</td>\n",
       "    </tr>\n",
       "  </tbody>\n",
       "</table>\n",
       "<p>265 rows × 4061 columns</p>\n",
       "</div>"
      ],
      "text/plain": [
       "                   date  mentions  hashtags     video    photos      urls  \\\n",
       "173 2016-08-04 16:00:00  0.000000  0.000000  0.000000  0.000000  0.693147   \n",
       "125 2016-08-10 16:00:00  0.000000  0.000000  0.000000  0.000000  1.098612   \n",
       "116 2016-08-17 09:30:00  0.693147  0.000000  0.693147  0.693147  0.000000   \n",
       "14  2016-08-19 09:30:00  0.000000  0.693147  0.000000  0.000000  0.693147   \n",
       "235 2016-08-19 16:00:00  0.693147  0.000000  0.000000  0.000000  0.693147   \n",
       "..                  ...       ...       ...       ...       ...       ...   \n",
       "210 2021-05-14 16:00:00  0.693147  0.693147  0.000000  0.000000  0.000000   \n",
       "94  2021-06-10 09:30:00  0.000000  0.693147  0.000000  0.000000  0.693147   \n",
       "72  2021-06-29 16:00:00  0.000000  0.000000  0.000000  0.000000  0.000000   \n",
       "11  2021-07-02 09:30:00  0.000000  0.000000  0.000000  0.000000  0.000000   \n",
       "13  2021-07-20 09:30:00  0.000000  0.000000  0.693147  0.693147  1.098612   \n",
       "\n",
       "     replies_count  retweets_count  likes_count  number of tweets  ...  4030  \\\n",
       "173       3.951244        5.081404     6.142037          1.386294  ...   0.0   \n",
       "125       4.521789        4.905275     5.840642          1.098612  ...   0.0   \n",
       "116       4.025352        5.068904     6.617403          0.693147  ...   0.0   \n",
       "14        2.833213        3.610918     4.330733          1.098612  ...   0.0   \n",
       "235       3.178054        4.094345     5.652489          0.693147  ...   0.0   \n",
       "..             ...             ...          ...               ...  ...   ...   \n",
       "210       5.501258        5.342334     7.421178          0.693147  ...   0.0   \n",
       "94        7.268920        8.652423    10.497974          1.386294  ...   0.0   \n",
       "72        4.043051        3.135494     6.013715          0.693147  ...   0.0   \n",
       "11        3.688879        2.890372     7.050989          0.693147  ...   0.0   \n",
       "13        6.698268        6.924612     9.122055          1.386294  ...   0.0   \n",
       "\n",
       "     4031  4032  4033    y_pred  verification  pred_price  pred_price_2  \\\n",
       "173   0.0   0.0   0.0  0.000201     18.129999   18.129999     18.129999   \n",
       "125   0.0   0.0   0.0 -0.002747     18.190001   18.133652    346.826869   \n",
       "116   0.0   0.0   0.0  0.016893     19.170000   18.987697    364.304754   \n",
       "14    0.0   0.0   0.0  0.003693     20.170000   20.775125    408.348659   \n",
       "235   0.0   0.0   0.0  0.003618     18.980000   19.030014    412.856358   \n",
       "..    ...   ...   ...       ...           ...         ...           ...   \n",
       "210   0.0   0.0   0.0  0.000171     53.969976   55.297624   3829.058007   \n",
       "94    0.0   0.0   0.0  0.015385     51.150000   51.738861   2912.276070   \n",
       "72    0.0   0.0   0.0  0.014016     60.299999   60.720020   3153.783872   \n",
       "11    0.0   0.0   0.0  0.001880     69.050170   69.967133   4258.681400   \n",
       "13    0.0   0.0   0.0 -0.001087     68.956748   68.839172   4876.151643   \n",
       "\n",
       "        error  mean_abs_pct_error  \n",
       "173  0.000000            0.000000  \n",
       "125  0.906349            4.760235  \n",
       "116  1.442303            7.059731  \n",
       "14   1.815126            9.573452  \n",
       "235  0.050015            0.263512  \n",
       "..        ...                 ...  \n",
       "210  3.567625            6.896626  \n",
       "94   8.061138           13.480164  \n",
       "72   8.279980           11.999971  \n",
       "11   1.257134            1.829623  \n",
       "13   2.589172            3.908184  \n",
       "\n",
       "[265 rows x 4061 columns]"
      ]
     },
     "execution_count": 567,
     "metadata": {},
     "output_type": "execute_result"
    }
   ],
   "source": [
    "X_sorted"
   ]
  },
  {
   "cell_type": "code",
   "execution_count": 568,
   "id": "89e86b31",
   "metadata": {},
   "outputs": [],
   "source": [
    "accuracy = 100 - np.mean(X_sorted['mean_abs_pct_error'])"
   ]
  },
  {
   "cell_type": "code",
   "execution_count": 569,
   "id": "39f8c554",
   "metadata": {},
   "outputs": [
    {
     "data": {
      "text/plain": [
       "95.36957836392459"
      ]
     },
     "execution_count": 569,
     "metadata": {},
     "output_type": "execute_result"
    }
   ],
   "source": [
    "accuracy"
   ]
  },
  {
   "cell_type": "code",
   "execution_count": 570,
   "id": "595cea08",
   "metadata": {
    "scrolled": false
   },
   "outputs": [
    {
     "data": {
      "image/png": "[encoded data removed]",
      "text/plain": [
       "<Figure size 432x288 with 1 Axes>"
      ]
     },
     "metadata": {
      "needs_background": "light"
     },
     "output_type": "display_data"
    },
    {
     "data": {
      "image/png": "[encoded data removed]",
      "text/plain": [
       "<Figure size 432x288 with 1 Axes>"
      ]
     },
     "metadata": {
      "needs_background": "light"
     },
     "output_type": "display_data"
    }
   ],
   "source": [
    "_ = X_sorted.plot('date', 'pred_price', c='r')\n",
    "_ = X_sorted.plot('date', 'verification', c='b')\n",
    "plt.show()"
   ]
  },
  {
   "cell_type": "code",
   "execution_count": null,
   "id": "0e57d299",
   "metadata": {},
   "outputs": [],
   "source": [
    "X_test['verification'] = X_test['price'][0]\n",
    "for i in range(len(X_test)):\n",
    "    if i == len(X_test) - 1:\n",
    "        quit\n",
    "    else:\n",
    "        X_test['verification'].iloc[i+1] = (X_test['verification'].iloc[i] * y_pred[i]) + X_test['verification'].iloc[i]\n",
    "        "
   ]
  },
  {
   "cell_type": "code",
   "execution_count": 585,
   "id": "ce31102a",
   "metadata": {},
   "outputs": [
    {
     "data": {
      "text/html": [
       "<div>\n",
       "<style scoped>\n",
       "    .dataframe tbody tr th:only-of-type {\n",
       "        vertical-align: middle;\n",
       "    }\n",
       "\n",
       "    .dataframe tbody tr th {\n",
       "        vertical-align: top;\n",
       "    }\n",
       "\n",
       "    .dataframe thead th {\n",
       "        text-align: right;\n",
       "    }\n",
       "</style>\n",
       "<table border=\"1\" class=\"dataframe\">\n",
       "  <thead>\n",
       "    <tr style=\"text-align: right;\">\n",
       "      <th></th>\n",
       "      <th>date</th>\n",
       "      <th>mentions</th>\n",
       "      <th>hashtags</th>\n",
       "      <th>video</th>\n",
       "      <th>photos</th>\n",
       "      <th>urls</th>\n",
       "      <th>replies_count</th>\n",
       "      <th>retweets_count</th>\n",
       "      <th>likes_count</th>\n",
       "      <th>number of tweets</th>\n",
       "      <th>...</th>\n",
       "      <th>4025</th>\n",
       "      <th>4026</th>\n",
       "      <th>4027</th>\n",
       "      <th>4028</th>\n",
       "      <th>4029</th>\n",
       "      <th>4030</th>\n",
       "      <th>4031</th>\n",
       "      <th>4032</th>\n",
       "      <th>4033</th>\n",
       "      <th>y_pred</th>\n",
       "    </tr>\n",
       "  </thead>\n",
       "  <tbody>\n",
       "    <tr>\n",
       "      <th>0</th>\n",
       "      <td>2017-05-15 16:00:00</td>\n",
       "      <td>1.098612</td>\n",
       "      <td>0.000000</td>\n",
       "      <td>0.000000</td>\n",
       "      <td>0.000000</td>\n",
       "      <td>1.386294</td>\n",
       "      <td>3.610918</td>\n",
       "      <td>6.035481</td>\n",
       "      <td>7.032624</td>\n",
       "      <td>1.386294</td>\n",
       "      <td>...</td>\n",
       "      <td>0.0</td>\n",
       "      <td>0.0</td>\n",
       "      <td>0.0</td>\n",
       "      <td>0.0</td>\n",
       "      <td>0.0</td>\n",
       "      <td>0.0</td>\n",
       "      <td>0.0</td>\n",
       "      <td>0.0</td>\n",
       "      <td>0.0</td>\n",
       "      <td>0.006243</td>\n",
       "    </tr>\n",
       "    <tr>\n",
       "      <th>1</th>\n",
       "      <td>2019-07-14 16:00:00</td>\n",
       "      <td>0.693147</td>\n",
       "      <td>0.000000</td>\n",
       "      <td>0.693147</td>\n",
       "      <td>0.693147</td>\n",
       "      <td>0.000000</td>\n",
       "      <td>5.375278</td>\n",
       "      <td>4.158883</td>\n",
       "      <td>6.364751</td>\n",
       "      <td>0.693147</td>\n",
       "      <td>...</td>\n",
       "      <td>0.0</td>\n",
       "      <td>0.0</td>\n",
       "      <td>0.0</td>\n",
       "      <td>0.0</td>\n",
       "      <td>0.0</td>\n",
       "      <td>0.0</td>\n",
       "      <td>0.0</td>\n",
       "      <td>0.0</td>\n",
       "      <td>0.0</td>\n",
       "      <td>-0.001774</td>\n",
       "    </tr>\n",
       "    <tr>\n",
       "      <th>2</th>\n",
       "      <td>2018-11-02 09:30:00</td>\n",
       "      <td>0.000000</td>\n",
       "      <td>0.000000</td>\n",
       "      <td>0.000000</td>\n",
       "      <td>0.000000</td>\n",
       "      <td>0.000000</td>\n",
       "      <td>3.178054</td>\n",
       "      <td>0.000000</td>\n",
       "      <td>4.787492</td>\n",
       "      <td>0.693147</td>\n",
       "      <td>...</td>\n",
       "      <td>0.0</td>\n",
       "      <td>0.0</td>\n",
       "      <td>0.0</td>\n",
       "      <td>0.0</td>\n",
       "      <td>0.0</td>\n",
       "      <td>0.0</td>\n",
       "      <td>0.0</td>\n",
       "      <td>0.0</td>\n",
       "      <td>0.0</td>\n",
       "      <td>-0.006358</td>\n",
       "    </tr>\n",
       "    <tr>\n",
       "      <th>3</th>\n",
       "      <td>2017-08-02 09:30:00</td>\n",
       "      <td>0.000000</td>\n",
       "      <td>0.000000</td>\n",
       "      <td>0.000000</td>\n",
       "      <td>0.000000</td>\n",
       "      <td>1.609438</td>\n",
       "      <td>4.718499</td>\n",
       "      <td>4.905275</td>\n",
       "      <td>6.669498</td>\n",
       "      <td>2.708050</td>\n",
       "      <td>...</td>\n",
       "      <td>0.0</td>\n",
       "      <td>0.0</td>\n",
       "      <td>0.0</td>\n",
       "      <td>0.0</td>\n",
       "      <td>0.0</td>\n",
       "      <td>0.0</td>\n",
       "      <td>0.0</td>\n",
       "      <td>0.0</td>\n",
       "      <td>0.0</td>\n",
       "      <td>-0.005123</td>\n",
       "    </tr>\n",
       "    <tr>\n",
       "      <th>4</th>\n",
       "      <td>2019-07-12 16:00:00</td>\n",
       "      <td>0.000000</td>\n",
       "      <td>0.000000</td>\n",
       "      <td>0.000000</td>\n",
       "      <td>0.000000</td>\n",
       "      <td>0.693147</td>\n",
       "      <td>3.713572</td>\n",
       "      <td>4.007333</td>\n",
       "      <td>5.771441</td>\n",
       "      <td>0.693147</td>\n",
       "      <td>...</td>\n",
       "      <td>0.0</td>\n",
       "      <td>0.0</td>\n",
       "      <td>0.0</td>\n",
       "      <td>0.0</td>\n",
       "      <td>0.0</td>\n",
       "      <td>0.0</td>\n",
       "      <td>0.0</td>\n",
       "      <td>0.0</td>\n",
       "      <td>0.0</td>\n",
       "      <td>0.002783</td>\n",
       "    </tr>\n",
       "    <tr>\n",
       "      <th>...</th>\n",
       "      <td>...</td>\n",
       "      <td>...</td>\n",
       "      <td>...</td>\n",
       "      <td>...</td>\n",
       "      <td>...</td>\n",
       "      <td>...</td>\n",
       "      <td>...</td>\n",
       "      <td>...</td>\n",
       "      <td>...</td>\n",
       "      <td>...</td>\n",
       "      <td>...</td>\n",
       "      <td>...</td>\n",
       "      <td>...</td>\n",
       "      <td>...</td>\n",
       "      <td>...</td>\n",
       "      <td>...</td>\n",
       "      <td>...</td>\n",
       "      <td>...</td>\n",
       "      <td>...</td>\n",
       "      <td>...</td>\n",
       "      <td>...</td>\n",
       "    </tr>\n",
       "    <tr>\n",
       "      <th>260</th>\n",
       "      <td>2018-06-17 09:30:00</td>\n",
       "      <td>0.000000</td>\n",
       "      <td>0.000000</td>\n",
       "      <td>0.000000</td>\n",
       "      <td>0.000000</td>\n",
       "      <td>0.000000</td>\n",
       "      <td>1.386294</td>\n",
       "      <td>0.000000</td>\n",
       "      <td>2.708050</td>\n",
       "      <td>0.693147</td>\n",
       "      <td>...</td>\n",
       "      <td>0.0</td>\n",
       "      <td>0.0</td>\n",
       "      <td>0.0</td>\n",
       "      <td>0.0</td>\n",
       "      <td>0.0</td>\n",
       "      <td>0.0</td>\n",
       "      <td>0.0</td>\n",
       "      <td>0.0</td>\n",
       "      <td>0.0</td>\n",
       "      <td>-0.006555</td>\n",
       "    </tr>\n",
       "    <tr>\n",
       "      <th>261</th>\n",
       "      <td>2017-02-13 09:30:00</td>\n",
       "      <td>0.693147</td>\n",
       "      <td>0.693147</td>\n",
       "      <td>0.000000</td>\n",
       "      <td>0.000000</td>\n",
       "      <td>1.098612</td>\n",
       "      <td>4.094345</td>\n",
       "      <td>6.950815</td>\n",
       "      <td>7.968320</td>\n",
       "      <td>1.098612</td>\n",
       "      <td>...</td>\n",
       "      <td>0.0</td>\n",
       "      <td>0.0</td>\n",
       "      <td>0.0</td>\n",
       "      <td>0.0</td>\n",
       "      <td>0.0</td>\n",
       "      <td>0.0</td>\n",
       "      <td>0.0</td>\n",
       "      <td>0.0</td>\n",
       "      <td>0.0</td>\n",
       "      <td>-0.004052</td>\n",
       "    </tr>\n",
       "    <tr>\n",
       "      <th>262</th>\n",
       "      <td>2018-09-07 09:30:00</td>\n",
       "      <td>0.000000</td>\n",
       "      <td>0.000000</td>\n",
       "      <td>0.000000</td>\n",
       "      <td>0.000000</td>\n",
       "      <td>0.000000</td>\n",
       "      <td>3.891820</td>\n",
       "      <td>1.098612</td>\n",
       "      <td>4.007333</td>\n",
       "      <td>0.693147</td>\n",
       "      <td>...</td>\n",
       "      <td>0.0</td>\n",
       "      <td>0.0</td>\n",
       "      <td>0.0</td>\n",
       "      <td>0.0</td>\n",
       "      <td>0.0</td>\n",
       "      <td>0.0</td>\n",
       "      <td>0.0</td>\n",
       "      <td>0.0</td>\n",
       "      <td>0.0</td>\n",
       "      <td>-0.004682</td>\n",
       "    </tr>\n",
       "    <tr>\n",
       "      <th>263</th>\n",
       "      <td>2020-04-21 09:30:00</td>\n",
       "      <td>0.000000</td>\n",
       "      <td>0.000000</td>\n",
       "      <td>0.000000</td>\n",
       "      <td>0.000000</td>\n",
       "      <td>0.000000</td>\n",
       "      <td>1.945910</td>\n",
       "      <td>1.098612</td>\n",
       "      <td>4.007333</td>\n",
       "      <td>0.693147</td>\n",
       "      <td>...</td>\n",
       "      <td>0.0</td>\n",
       "      <td>0.0</td>\n",
       "      <td>0.0</td>\n",
       "      <td>0.0</td>\n",
       "      <td>0.0</td>\n",
       "      <td>0.0</td>\n",
       "      <td>0.0</td>\n",
       "      <td>0.0</td>\n",
       "      <td>0.0</td>\n",
       "      <td>0.001517</td>\n",
       "    </tr>\n",
       "    <tr>\n",
       "      <th>264</th>\n",
       "      <td>2017-08-10 16:00:00</td>\n",
       "      <td>0.000000</td>\n",
       "      <td>0.000000</td>\n",
       "      <td>0.000000</td>\n",
       "      <td>0.000000</td>\n",
       "      <td>0.693147</td>\n",
       "      <td>1.945910</td>\n",
       "      <td>3.218876</td>\n",
       "      <td>4.682131</td>\n",
       "      <td>0.693147</td>\n",
       "      <td>...</td>\n",
       "      <td>0.0</td>\n",
       "      <td>0.0</td>\n",
       "      <td>0.0</td>\n",
       "      <td>0.0</td>\n",
       "      <td>0.0</td>\n",
       "      <td>0.0</td>\n",
       "      <td>0.0</td>\n",
       "      <td>0.0</td>\n",
       "      <td>0.0</td>\n",
       "      <td>0.049015</td>\n",
       "    </tr>\n",
       "  </tbody>\n",
       "</table>\n",
       "<p>265 rows × 4056 columns</p>\n",
       "</div>"
      ],
      "text/plain": [
       "                   date  mentions  hashtags     video    photos      urls  \\\n",
       "0   2017-05-15 16:00:00  1.098612  0.000000  0.000000  0.000000  1.386294   \n",
       "1   2019-07-14 16:00:00  0.693147  0.000000  0.693147  0.693147  0.000000   \n",
       "2   2018-11-02 09:30:00  0.000000  0.000000  0.000000  0.000000  0.000000   \n",
       "3   2017-08-02 09:30:00  0.000000  0.000000  0.000000  0.000000  1.609438   \n",
       "4   2019-07-12 16:00:00  0.000000  0.000000  0.000000  0.000000  0.693147   \n",
       "..                  ...       ...       ...       ...       ...       ...   \n",
       "260 2018-06-17 09:30:00  0.000000  0.000000  0.000000  0.000000  0.000000   \n",
       "261 2017-02-13 09:30:00  0.693147  0.693147  0.000000  0.000000  1.098612   \n",
       "262 2018-09-07 09:30:00  0.000000  0.000000  0.000000  0.000000  0.000000   \n",
       "263 2020-04-21 09:30:00  0.000000  0.000000  0.000000  0.000000  0.000000   \n",
       "264 2017-08-10 16:00:00  0.000000  0.000000  0.000000  0.000000  0.693147   \n",
       "\n",
       "     replies_count  retweets_count  likes_count  number of tweets  ...  4025  \\\n",
       "0         3.610918        6.035481     7.032624          1.386294  ...   0.0   \n",
       "1         5.375278        4.158883     6.364751          0.693147  ...   0.0   \n",
       "2         3.178054        0.000000     4.787492          0.693147  ...   0.0   \n",
       "3         4.718499        4.905275     6.669498          2.708050  ...   0.0   \n",
       "4         3.713572        4.007333     5.771441          0.693147  ...   0.0   \n",
       "..             ...             ...          ...               ...  ...   ...   \n",
       "260       1.386294        0.000000     2.708050          0.693147  ...   0.0   \n",
       "261       4.094345        6.950815     7.968320          1.098612  ...   0.0   \n",
       "262       3.891820        1.098612     4.007333          0.693147  ...   0.0   \n",
       "263       1.945910        1.098612     4.007333          0.693147  ...   0.0   \n",
       "264       1.945910        3.218876     4.682131          0.693147  ...   0.0   \n",
       "\n",
       "     4026  4027  4028  4029  4030  4031  4032  4033    y_pred  \n",
       "0     0.0   0.0   0.0   0.0   0.0   0.0   0.0   0.0  0.006243  \n",
       "1     0.0   0.0   0.0   0.0   0.0   0.0   0.0   0.0 -0.001774  \n",
       "2     0.0   0.0   0.0   0.0   0.0   0.0   0.0   0.0 -0.006358  \n",
       "3     0.0   0.0   0.0   0.0   0.0   0.0   0.0   0.0 -0.005123  \n",
       "4     0.0   0.0   0.0   0.0   0.0   0.0   0.0   0.0  0.002783  \n",
       "..    ...   ...   ...   ...   ...   ...   ...   ...       ...  \n",
       "260   0.0   0.0   0.0   0.0   0.0   0.0   0.0   0.0 -0.006555  \n",
       "261   0.0   0.0   0.0   0.0   0.0   0.0   0.0   0.0 -0.004052  \n",
       "262   0.0   0.0   0.0   0.0   0.0   0.0   0.0   0.0 -0.004682  \n",
       "263   0.0   0.0   0.0   0.0   0.0   0.0   0.0   0.0  0.001517  \n",
       "264   0.0   0.0   0.0   0.0   0.0   0.0   0.0   0.0  0.049015  \n",
       "\n",
       "[265 rows x 4056 columns]"
      ]
     },
     "execution_count": 585,
     "metadata": {},
     "output_type": "execute_result"
    }
   ],
   "source": [
    "X_test"
   ]
  },
  {
   "cell_type": "markdown",
   "id": "0b2a8f9f",
   "metadata": {},
   "source": [
    "# Preprocessing"
   ]
  },
  {
   "cell_type": "markdown",
   "id": "5cff2627",
   "metadata": {},
   "source": [
    "To get the text ready for machine learning, we will remove punctuation, stopwords, junkwords, and normalize the text by making it lowercase and lemmatizing it."
   ]
  },
  {
   "cell_type": "markdown",
   "id": "e70a78f8",
   "metadata": {},
   "source": [
    "## Text Cleaning"
   ]
  },
  {
   "cell_type": "code",
   "execution_count": 4,
   "id": "7b7a5fcc",
   "metadata": {
    "scrolled": true
   },
   "outputs": [],
   "source": [
    "# Sample Text\n",
    "sample = df[df['username'] == 'elonmusk']\n",
    "sample['date'] = pd.to_datetime(sample['date'])\n",
    "sample.set_index('date', inplace=True)"
   ]
  },
  {
   "cell_type": "markdown",
   "id": "08a49210",
   "metadata": {},
   "source": [
    "We have two tweets from Elon Musk that made headlines for how they affected the stock. August 7th, 2018 caused stocks to jump and May 1st, 2020. Let't take a look at these tweets."
   ]
  },
  {
   "cell_type": "code",
   "execution_count": 5,
   "id": "aea8c290",
   "metadata": {},
   "outputs": [],
   "source": [
    "pd.options.display.max_colwidth = 1000\n",
    "sample_increase = sample['2018-08-07']\n",
    "sample_decrease = sample['2020-05-01']"
   ]
  },
  {
   "cell_type": "code",
   "execution_count": 6,
   "id": "e1114da0",
   "metadata": {},
   "outputs": [
    {
     "data": {
      "text/html": [
       "<div>\n",
       "<style scoped>\n",
       "    .dataframe tbody tr th:only-of-type {\n",
       "        vertical-align: middle;\n",
       "    }\n",
       "\n",
       "    .dataframe tbody tr th {\n",
       "        vertical-align: top;\n",
       "    }\n",
       "\n",
       "    .dataframe thead th {\n",
       "        text-align: right;\n",
       "    }\n",
       "</style>\n",
       "<table border=\"1\" class=\"dataframe\">\n",
       "  <thead>\n",
       "    <tr style=\"text-align: right;\">\n",
       "      <th></th>\n",
       "      <th>text</th>\n",
       "      <th>percent change</th>\n",
       "    </tr>\n",
       "    <tr>\n",
       "      <th>date</th>\n",
       "      <th></th>\n",
       "      <th></th>\n",
       "    </tr>\n",
       "  </thead>\n",
       "  <tbody>\n",
       "    <tr>\n",
       "      <th>2018-08-07 16:00:00</th>\n",
       "      <td>Investor support is confirmed. Only reason why this is not certain is that it is contingent on a shareholder vote. Def no forced sales. Hope all shareholders remain. Will be way smoother less disruptive as a private company. Ends negative propaganda from shorts. Yes, but liquidity events would be limited to every 6 months or so like SpaceX Shareholders could either to sell at 420 or hold shares go private Absolutely. Am super appreciative of Tesla shareholders. Will ensure their prosperity in any scenario. My hope is all current investors remain with Tesla even if we are private. Would create special purpose fund enabling anyone to stay with Tesla. Already do this with Fidelitys SpaceX investment. Yes I do not have a controlling vote now would not expect any shareholder to have one if we go private. I will not be selling in either scenario. Good morning 420 Am considering taking Tesla private at 420. Funding secured.</td>\n",
       "      <td>0.103915</td>\n",
       "    </tr>\n",
       "  </tbody>\n",
       "</table>\n",
       "</div>"
      ],
      "text/plain": [
       "                                                                                                                                                                                                                                                                                                                                                                                                                                                                                                                                                                                                                                                                                                                                                                                                                                                                                                                                                                                   text  \\\n",
       "date                                                                                                                                                                                                                                                                                                                                                                                                                                                                                                                                                                                                                                                                                                                                                                                                                                                                                                                                                                                      \n",
       "2018-08-07 16:00:00  Investor support is confirmed. Only reason why this is not certain is that it is contingent on a shareholder vote. Def no forced sales. Hope all shareholders remain. Will be way smoother less disruptive as a private company. Ends negative propaganda from shorts. Yes, but liquidity events would be limited to every 6 months or so like SpaceX Shareholders could either to sell at 420 or hold shares go private Absolutely. Am super appreciative of Tesla shareholders. Will ensure their prosperity in any scenario. My hope is all current investors remain with Tesla even if we are private. Would create special purpose fund enabling anyone to stay with Tesla. Already do this with Fidelitys SpaceX investment. Yes I do not have a controlling vote now would not expect any shareholder to have one if we go private. I will not be selling in either scenario. Good morning 420 Am considering taking Tesla private at 420. Funding secured.   \n",
       "\n",
       "                     percent change  \n",
       "date                                 \n",
       "2018-08-07 16:00:00        0.103915  "
      ]
     },
     "execution_count": 6,
     "metadata": {},
     "output_type": "execute_result"
    }
   ],
   "source": [
    "sample_increase[['text', 'percent change']]"
   ]
  },
  {
   "cell_type": "code",
   "execution_count": 7,
   "id": "f5484ed1",
   "metadata": {},
   "outputs": [
    {
     "data": {
      "text/html": [
       "<div>\n",
       "<style scoped>\n",
       "    .dataframe tbody tr th:only-of-type {\n",
       "        vertical-align: middle;\n",
       "    }\n",
       "\n",
       "    .dataframe tbody tr th {\n",
       "        vertical-align: top;\n",
       "    }\n",
       "\n",
       "    .dataframe thead th {\n",
       "        text-align: right;\n",
       "    }\n",
       "</style>\n",
       "<table border=\"1\" class=\"dataframe\">\n",
       "  <thead>\n",
       "    <tr style=\"text-align: right;\">\n",
       "      <th></th>\n",
       "      <th>text</th>\n",
       "      <th>percent change</th>\n",
       "    </tr>\n",
       "    <tr>\n",
       "      <th>date</th>\n",
       "      <th></th>\n",
       "      <th></th>\n",
       "    </tr>\n",
       "  </thead>\n",
       "  <tbody>\n",
       "    <tr>\n",
       "      <th>2020-05-01 09:30:00</th>\n",
       "      <td>You got it! Exactly Well said This needs to stop</td>\n",
       "      <td>-0.034379</td>\n",
       "    </tr>\n",
       "    <tr>\n",
       "      <th>2020-05-01 16:00:00</th>\n",
       "      <td>Baby due on Monday do not need the cash. Devoting myself to Mars and Earth. Possession just weigh you down. My gf is mad at me Just one stipulation on sale I own Gene Wilders old house. It cannot be torn down or lose any its soul. Rage, rage against the dying of the light of consciousness Exactly. How cheaply freedom is sold. over the land of the free and the home of the brave? Oh, say does that starspangled banner yet wave Gave proof through the night that our flag was still there And the rockets red glare, the bombs bursting in air Now give people back their FREEDOM Tesla stock price is too high I am going to I am selling almost all physical possessions. Will own no house. Incentives matter Starship is making good progress What is real any more</td>\n",
       "      <td>-0.071099</td>\n",
       "    </tr>\n",
       "  </tbody>\n",
       "</table>\n",
       "</div>"
      ],
      "text/plain": [
       "                                                                                                                                                                                                                                                                                                                                                                                                                                                                                                                                                                                                                                                                                                                                                                                                     text  \\\n",
       "date                                                                                                                                                                                                                                                                                                                                                                                                                                                                                                                                                                                                                                                                                                                                                                                                        \n",
       "2020-05-01 09:30:00                                                                                                                                                                                                                                                                                                                                                                                                                                                                                                                                                                                                                                                                                                                                      You got it! Exactly Well said This needs to stop   \n",
       "2020-05-01 16:00:00  Baby due on Monday do not need the cash. Devoting myself to Mars and Earth. Possession just weigh you down. My gf is mad at me Just one stipulation on sale I own Gene Wilders old house. It cannot be torn down or lose any its soul. Rage, rage against the dying of the light of consciousness Exactly. How cheaply freedom is sold. over the land of the free and the home of the brave? Oh, say does that starspangled banner yet wave Gave proof through the night that our flag was still there And the rockets red glare, the bombs bursting in air Now give people back their FREEDOM Tesla stock price is too high I am going to I am selling almost all physical possessions. Will own no house. Incentives matter Starship is making good progress What is real any more   \n",
       "\n",
       "                     percent change  \n",
       "date                                 \n",
       "2020-05-01 09:30:00       -0.034379  \n",
       "2020-05-01 16:00:00       -0.071099  "
      ]
     },
     "execution_count": 7,
     "metadata": {},
     "output_type": "execute_result"
    }
   ],
   "source": [
    "sample_decrease[['text' ,'percent change']]"
   ]
  },
  {
   "cell_type": "markdown",
   "id": "76636b93",
   "metadata": {},
   "source": [
    "Both twitter samples have Tesla in them. The cleaning needs to be able to conserve the context around the text. Let's extract these key phrases and then look at the spacy stopwords to see if we need to remove any of them."
   ]
  },
  {
   "cell_type": "code",
   "execution_count": 8,
   "id": "e06d5388",
   "metadata": {},
   "outputs": [
    {
     "name": "stdout",
     "output_type": "stream",
     "text": [
      "{'all', 'onto', 'may', 'front', 'can', 'own', '‘ll', 'every', 'thereafter', 'whether', 'empty', \"'m\", 'together', 'perhaps', 'why', 'wherein', 'many', 'something', 'be', 'out', 'your', 'two', 'with', 'ourselves', 'hereupon', 'then', 'within', 'now', 'hers', '‘re', 'myself', 'show', 'amongst', 'still', 'go', 'have', 'among', 'and', 'between', 'nowhere', 'he', 'here', 'you', '’m', '‘d', 'whenever', '’re', 'whoever', 'on', 'because', 'indeed', 'never', 'full', 'upon', 'except', 'not', 'cannot', 'third', 'above', \"'ll\", 'down', 'seem', 'through', 'next', 'several', '’s', 'we', 'too', 'must', 'those', 'as', 'first', 'for', 'thence', 'thru', 'ever', 'various', 'forty', 'if', 'whole', 'around', 'else', 'whose', 'wherever', 'three', 'call', 'hereafter', 'more', 'nine', 'hence', 'yourself', 'latter', 'during', 'whatever', 'somehow', 'beyond', 'throughout', 'give', 'his', 'another', 'until', 'ours', '‘s', 'no', '’ve', 'him', 'itself', 'were', 'should', 'me', 'that', 'most', 'whither', 'n’t', 'so', 'top', 'i', 'always', 'would', 'alone', 'whereafter', 'move', 'one', 'their', 'former', 'us', 'ca', 'but', 'seems', 'side', 'via', \"'re\", 'someone', 'any', 'being', 'due', \"'ve\", 'meanwhile', 'serious', 'say', 'fifty', 'whence', 'twenty', 'under', 'himself', 'hereby', 'nobody', 'enough', 'bottom', 'few', 'eight', 'made', 'will', 'both', 'of', 'eleven', 'the', 'do', 'very', 'our', 'name', 'anyway', 'done', 'unless', 'noone', 'otherwise', 'get', 'while', 'n‘t', 'had', 'thereupon', 'each', 'was', 'part', 'anything', 'by', 'against', 'off', '‘ve', 'everything', 'has', 'toward', 'been', 'though', 'nothing', 'others', 'whereby', 'seemed', 'into', 'much', 'since', 'than', 'sometime', 'also', 'used', 'other', 'becoming', 'did', 'fifteen', 'them', '‘m', 'less', 'become', 'whereas', 'over', 'whereupon', 'five', 'make', 'put', 'themselves', 'mostly', 'everywhere', 'latterly', 'see', 'somewhere', 'might', 'often', 'such', 'without', 'up', 'thus', 'anyhow', 'thereby', 'nor', 'yet', 'beforehand', 'an', 'per', 'which', 'take', 'nevertheless', 'afterwards', 'sixty', 'least', 'does', 'quite', 'just', 'am', 'seeming', 'she', 'further', 'however', 'regarding', \"n't\", 'or', 'these', 'in', 'anyone', 'even', 'same', 'from', 'hundred', '’d', 'its', 'yours', 'is', 'where', 'four', 'amount', 'doing', 'last', '’ll', 'whom', 'twelve', 'anywhere', 'about', 're', 'became', 'formerly', 'using', 'along', 'namely', 'herself', 'when', 'towards', 'becomes', 'this', 'none', 'keep', 'herein', 'therefore', 'rather', 'really', 'once', 'across', 'again', 'either', 'some', 'neither', 'elsewhere', 'they', 'therein', 'are', 'only', 'there', 'well', 'everyone', 'although', 'sometimes', 'after', 'behind', 'before', 'it', 'my', 'mine', 'could', 'back', 'yourselves', 'beside', 'below', 'six', 'ten', 'besides', \"'s\", 'her', 'already', 'a', \"'d\", 'who', 'at', 'almost', 'please', 'how', 'to', 'what', 'moreover'}\n"
     ]
    }
   ],
   "source": [
    "print(nlp.Defaults.stop_words)"
   ]
  },
  {
   "cell_type": "code",
   "execution_count": 9,
   "id": "269d79a9",
   "metadata": {},
   "outputs": [],
   "source": [
    "# Will add or remove to this list as needed\n",
    "nlp.Defaults.stop_words.remove(\"too\")"
   ]
  },
  {
   "cell_type": "code",
   "execution_count": 10,
   "id": "2711d41c",
   "metadata": {},
   "outputs": [],
   "source": [
    "STOP_WORDS = nlp.Defaults.stop_words"
   ]
  },
  {
   "cell_type": "code",
   "execution_count": 11,
   "id": "7d9b1aac",
   "metadata": {},
   "outputs": [],
   "source": [
    "sample_increase['cleaned'] = sample_increase['text'].apply(lambda x: clean_text(x, stop_words=STOP_WORDS))\n",
    "sample_decrease['cleaned'] = sample_decrease['text'].apply(lambda x: clean_text(x, stop_words=STOP_WORDS))"
   ]
  },
  {
   "cell_type": "code",
   "execution_count": 12,
   "id": "6030ec75",
   "metadata": {},
   "outputs": [
    {
     "data": {
      "text/html": [
       "<div>\n",
       "<style scoped>\n",
       "    .dataframe tbody tr th:only-of-type {\n",
       "        vertical-align: middle;\n",
       "    }\n",
       "\n",
       "    .dataframe tbody tr th {\n",
       "        vertical-align: top;\n",
       "    }\n",
       "\n",
       "    .dataframe thead th {\n",
       "        text-align: right;\n",
       "    }\n",
       "</style>\n",
       "<table border=\"1\" class=\"dataframe\">\n",
       "  <thead>\n",
       "    <tr style=\"text-align: right;\">\n",
       "      <th></th>\n",
       "      <th>cleaned</th>\n",
       "    </tr>\n",
       "    <tr>\n",
       "      <th>date</th>\n",
       "      <th></th>\n",
       "    </tr>\n",
       "  </thead>\n",
       "  <tbody>\n",
       "    <tr>\n",
       "      <th>2018-08-07 16:00:00</th>\n",
       "      <td>investor support confirm reason certain contingent shareholder vote def force sale hope shareholder remain way smoother disruptive private company end negative propaganda short yes liquidity event limit month like spacex shareholder sell hold share private absolutely super appreciative tesla shareholder ensure prosperity scenario hope current investor remain tesla private create special purpose fund enable stay tesla fidelitys spacex investment yes control vote expect shareholder private selling scenario good morning consider take tesla private funding secure</td>\n",
       "    </tr>\n",
       "  </tbody>\n",
       "</table>\n",
       "</div>"
      ],
      "text/plain": [
       "                                                                                                                                                                                                                                                                                                                                                                                                                                                                                                                                                                                                   cleaned\n",
       "date                                                                                                                                                                                                                                                                                                                                                                                                                                                                                                                                                                                                      \n",
       "2018-08-07 16:00:00  investor support confirm reason certain contingent shareholder vote def force sale hope shareholder remain way smoother disruptive private company end negative propaganda short yes liquidity event limit month like spacex shareholder sell hold share private absolutely super appreciative tesla shareholder ensure prosperity scenario hope current investor remain tesla private create special purpose fund enable stay tesla fidelitys spacex investment yes control vote expect shareholder private selling scenario good morning consider take tesla private funding secure"
      ]
     },
     "execution_count": 12,
     "metadata": {},
     "output_type": "execute_result"
    }
   ],
   "source": [
    "sample_increase[['cleaned']]"
   ]
  },
  {
   "cell_type": "code",
   "execution_count": 13,
   "id": "531bfb41",
   "metadata": {},
   "outputs": [
    {
     "data": {
      "text/html": [
       "<div>\n",
       "<style scoped>\n",
       "    .dataframe tbody tr th:only-of-type {\n",
       "        vertical-align: middle;\n",
       "    }\n",
       "\n",
       "    .dataframe tbody tr th {\n",
       "        vertical-align: top;\n",
       "    }\n",
       "\n",
       "    .dataframe thead th {\n",
       "        text-align: right;\n",
       "    }\n",
       "</style>\n",
       "<table border=\"1\" class=\"dataframe\">\n",
       "  <thead>\n",
       "    <tr style=\"text-align: right;\">\n",
       "      <th></th>\n",
       "      <th>cleaned</th>\n",
       "    </tr>\n",
       "    <tr>\n",
       "      <th>date</th>\n",
       "      <th></th>\n",
       "    </tr>\n",
       "  </thead>\n",
       "  <tbody>\n",
       "    <tr>\n",
       "      <th>2020-05-01 09:30:00</th>\n",
       "      <td>got exactly say need stop</td>\n",
       "    </tr>\n",
       "    <tr>\n",
       "      <th>2020-05-01 16:00:00</th>\n",
       "      <td>baby monday need cash devote mars earth possession weigh gf mad stipulation sale gene wilder old house tear lose soul rage rage die light consciousness exactly cheaply freedom sell land free home brave oh starspangle banner wave give proof night flag rocket red glare bomb burst air people freedom tesla stock price too high going sell physical possession house incentive matter starship make good progress real</td>\n",
       "    </tr>\n",
       "  </tbody>\n",
       "</table>\n",
       "</div>"
      ],
      "text/plain": [
       "                                                                                                                                                                                                                                                                                                                                                                                                                                         cleaned\n",
       "date                                                                                                                                                                                                                                                                                                                                                                                                                                            \n",
       "2020-05-01 09:30:00                                                                                                                                                                                                                                                                                                                                                                                                    got exactly say need stop\n",
       "2020-05-01 16:00:00  baby monday need cash devote mars earth possession weigh gf mad stipulation sale gene wilder old house tear lose soul rage rage die light consciousness exactly cheaply freedom sell land free home brave oh starspangle banner wave give proof night flag rocket red glare bomb burst air people freedom tesla stock price too high going sell physical possession house incentive matter starship make good progress real"
      ]
     },
     "execution_count": 13,
     "metadata": {},
     "output_type": "execute_result"
    }
   ],
   "source": [
    "sample_decrease[['cleaned']]"
   ]
  },
  {
   "cell_type": "markdown",
   "id": "32d05076",
   "metadata": {},
   "source": [
    "We can see from the cleaned text that there are going to be some words that won't be recognized. Let's look at all short words and see if they can be removed."
   ]
  },
  {
   "cell_type": "code",
   "execution_count": 14,
   "id": "18d91a0f",
   "metadata": {},
   "outputs": [
    {
     "name": "stdout",
     "output_type": "stream",
     "text": [
      "CPU times: user 2min 32s, sys: 3.34 s, total: 2min 35s\n",
      "Wall time: 2min 50s\n"
     ]
    }
   ],
   "source": [
    "%%time\n",
    "# This can take a bit of time due to the lemmatizer\n",
    "df['cleaned'] = df['text'].apply(lambda x:clean_text(x, stop_words=STOP_WORDS))"
   ]
  },
  {
   "cell_type": "code",
   "execution_count": 15,
   "id": "cd820015",
   "metadata": {},
   "outputs": [],
   "source": [
    "all_text = \" \".join(df['cleaned'])"
   ]
  },
  {
   "cell_type": "code",
   "execution_count": 16,
   "id": "2e63009a",
   "metadata": {},
   "outputs": [],
   "source": [
    "small_words = [word for word in all_text.split() if len(word) <= 2]"
   ]
  },
  {
   "cell_type": "code",
   "execution_count": 17,
   "id": "31e05dbc",
   "metadata": {},
   "outputs": [],
   "source": [
    "small_words = set(small_words)"
   ]
  },
  {
   "cell_type": "code",
   "execution_count": 18,
   "id": "c8ce3a5e",
   "metadata": {},
   "outputs": [],
   "source": [
    "small_words;"
   ]
  },
  {
   "cell_type": "markdown",
   "id": "ac6e1322",
   "metadata": {},
   "source": [
    "Let's remove these"
   ]
  },
  {
   "cell_type": "code",
   "execution_count": 19,
   "id": "1b3e070c",
   "metadata": {},
   "outputs": [],
   "source": [
    "sample_decrease['cleaned'] = sample_decrease['cleaned'].apply(lambda x:\" \".join([x for x in x.split() if x not in small_words]))"
   ]
  },
  {
   "cell_type": "code",
   "execution_count": 20,
   "id": "db4b6474",
   "metadata": {},
   "outputs": [
    {
     "data": {
      "text/html": [
       "<div>\n",
       "<style scoped>\n",
       "    .dataframe tbody tr th:only-of-type {\n",
       "        vertical-align: middle;\n",
       "    }\n",
       "\n",
       "    .dataframe tbody tr th {\n",
       "        vertical-align: top;\n",
       "    }\n",
       "\n",
       "    .dataframe thead th {\n",
       "        text-align: right;\n",
       "    }\n",
       "</style>\n",
       "<table border=\"1\" class=\"dataframe\">\n",
       "  <thead>\n",
       "    <tr style=\"text-align: right;\">\n",
       "      <th></th>\n",
       "      <th>cleaned</th>\n",
       "    </tr>\n",
       "    <tr>\n",
       "      <th>date</th>\n",
       "      <th></th>\n",
       "    </tr>\n",
       "  </thead>\n",
       "  <tbody>\n",
       "    <tr>\n",
       "      <th>2020-05-01 09:30:00</th>\n",
       "      <td>got exactly say need stop</td>\n",
       "    </tr>\n",
       "    <tr>\n",
       "      <th>2020-05-01 16:00:00</th>\n",
       "      <td>baby monday need cash devote mars earth possession weigh mad stipulation sale gene wilder old house tear lose soul rage rage die light consciousness exactly cheaply freedom sell land free home brave starspangle banner wave give proof night flag rocket red glare bomb burst air people freedom tesla stock price too high going sell physical possession house incentive matter starship make good progress real</td>\n",
       "    </tr>\n",
       "  </tbody>\n",
       "</table>\n",
       "</div>"
      ],
      "text/plain": [
       "                                                                                                                                                                                                                                                                                                                                                                                                                                   cleaned\n",
       "date                                                                                                                                                                                                                                                                                                                                                                                                                                      \n",
       "2020-05-01 09:30:00                                                                                                                                                                                                                                                                                                                                                                                              got exactly say need stop\n",
       "2020-05-01 16:00:00  baby monday need cash devote mars earth possession weigh mad stipulation sale gene wilder old house tear lose soul rage rage die light consciousness exactly cheaply freedom sell land free home brave starspangle banner wave give proof night flag rocket red glare bomb burst air people freedom tesla stock price too high going sell physical possession house incentive matter starship make good progress real"
      ]
     },
     "execution_count": 20,
     "metadata": {},
     "output_type": "execute_result"
    }
   ],
   "source": [
    "sample_decrease[['cleaned']]"
   ]
  },
  {
   "cell_type": "markdown",
   "id": "95a22b55",
   "metadata": {},
   "source": [
    "This looks like it works. Let's apply it over the whole dataframe."
   ]
  },
  {
   "cell_type": "code",
   "execution_count": 21,
   "id": "66779aa3",
   "metadata": {},
   "outputs": [],
   "source": [
    "df['cleaned'] = df['cleaned'].apply(lambda x:\" \".join([x for x in x.split() if x not in small_words]))"
   ]
  },
  {
   "cell_type": "markdown",
   "id": "071e4bcf",
   "metadata": {},
   "source": [
    "Let's now look at infrequent words to see if we can remove any of them."
   ]
  },
  {
   "cell_type": "code",
   "execution_count": 22,
   "id": "ebacf565",
   "metadata": {},
   "outputs": [],
   "source": [
    "all_text = \" \".join(df['cleaned'])"
   ]
  },
  {
   "cell_type": "code",
   "execution_count": 23,
   "id": "752d4dd9",
   "metadata": {},
   "outputs": [
    {
     "data": {
      "text/plain": [
       "2253777"
      ]
     },
     "execution_count": 23,
     "metadata": {},
     "output_type": "execute_result"
    }
   ],
   "source": [
    "len(all_text)"
   ]
  },
  {
   "cell_type": "code",
   "execution_count": 24,
   "id": "419c5be5",
   "metadata": {},
   "outputs": [],
   "source": [
    "freq_words = pd.Series(all_text.split()).value_counts()"
   ]
  },
  {
   "cell_type": "code",
   "execution_count": 25,
   "id": "21541372",
   "metadata": {},
   "outputs": [],
   "source": [
    "rare_words = freq_words[freq_words.values == 1]"
   ]
  },
  {
   "cell_type": "code",
   "execution_count": 26,
   "id": "f9c944a2",
   "metadata": {},
   "outputs": [
    {
     "data": {
      "text/plain": [
       "flippersvery     1\n",
       "revolutionis     1\n",
       "californiaas     1\n",
       "northam          1\n",
       "besidesall       1\n",
       "                ..\n",
       "philosophiesa    1\n",
       "congregate       1\n",
       "carmax           1\n",
       "curbside         1\n",
       "magentai         1\n",
       "Length: 14224, dtype: int64"
      ]
     },
     "execution_count": 26,
     "metadata": {},
     "output_type": "execute_result"
    }
   ],
   "source": [
    "rare_words"
   ]
  },
  {
   "cell_type": "markdown",
   "id": "fb0ce113",
   "metadata": {},
   "source": [
    "A lot of these are misspellings and can be safely removed. "
   ]
  },
  {
   "cell_type": "code",
   "execution_count": 27,
   "id": "012d0a90",
   "metadata": {},
   "outputs": [],
   "source": [
    "df['cleaned'] = df['cleaned'].apply(lambda x:\" \".join([x for x in x.split() if x not in rare_words]))"
   ]
  },
  {
   "cell_type": "code",
   "execution_count": 28,
   "id": "221aff33",
   "metadata": {
    "scrolled": true
   },
   "outputs": [
    {
     "data": {
      "text/plain": [
       "2112719"
      ]
     },
     "execution_count": 28,
     "metadata": {},
     "output_type": "execute_result"
    }
   ],
   "source": [
    "all_text = \" \".join(df['cleaned'])\n",
    "len(all_text)"
   ]
  },
  {
   "cell_type": "markdown",
   "id": "c95d9053",
   "metadata": {},
   "source": [
    "## Creating Term-Document Matrices\n",
    "I will be transforming the text into term-document matrices using Tfidf with varous n-grams. "
   ]
  },
  {
   "cell_type": "code",
   "execution_count": 29,
   "id": "79e86286",
   "metadata": {},
   "outputs": [],
   "source": [
    "features = ['mentions', 'hashtags', 'video', 'photos',\n",
    "       'urls', 'replies_count', 'retweets_count', 'likes_count',\n",
    "       'number of tweets',\n",
    "       'n_char', 'n_words', 'avg_word_len', 'cleaned', 'labels']"
   ]
  },
  {
   "cell_type": "code",
   "execution_count": null,
   "id": "a444a472",
   "metadata": {},
   "outputs": [],
   "source": []
  },
  {
   "cell_type": "code",
   "execution_count": 41,
   "id": "00e0b735",
   "metadata": {},
   "outputs": [],
   "source": [
    "def classify(X, y):\n",
    "    #scaler = MinMaxScaler(feature_range=(0,1))\n",
    "    #X = scaler.fit_transform(X)\n",
    "    #X_train, X_test, y_train, y_test = train_test_split(X, y, test_size=0.2, stratify=y, random_state=42) #stratify?\n",
    "    \n",
    "    nb = MultinomialNB()\n",
    "    sgd = SGDClassifier(n_jobs=-1)\n",
    "    lgr = LogisticRegression(random_state=42)\n",
    "    svm = SVC(random_state=42)\n",
    "    rf = RandomForestClassifier(random_state=42, n_jobs=-1)\n",
    "    clf = {'NB': nb, 'SGD':sgd, 'LGR':lgr, 'SVM':svm, 'RF':rf}\n",
    "    \n",
    "    \n",
    "    for key in clf.keys():\n",
    "        kfold = KFold(n_splits = 5)\n",
    "        #clf[key].fit(X_train, y_train)\n",
    "        #y_pred = clf[key].predict(X_test)\n",
    "        score = cross_val_score(clf[key], X, y, cv = kfold, scoring='accuracy', n_jobs=-1)\n",
    "        print(key)\n",
    "        print(\"best accuracy: {:.3f}\".format(score.max()))\n",
    "        print(\"average accuracy: {:.3f}\".format(score.mean()))\n",
    "        print(\"accuracy std: {:.3f}\".format(score.std()))\n",
    "        #ac = accuracy_score(y_test, y_pred)\n",
    "        #print(key, \" ---> \", ac)\n",
    "        #precision, recall, f_score, support = score(y_test, y_pred)\n",
    "        #print('precision: {}'.format(precision))\n",
    "        #print('recall: {}'.format(recall))\n",
    "        \n",
    "# Generate Confusion Matrix\n",
    "def plot_confusion_matrix(conf_matrix):\n",
    "    # https://stackoverflow.com/questions/60860121/plotly-how-to-make-an-annotated-confusion-matrix-using-a-heatmap\n",
    "    z = np.round(conf_matrix*100)\n",
    "\n",
    "    x = ['drop', 'no change', 'rise']\n",
    "    y =  ['drop', 'no change', 'rise']\n",
    "\n",
    "    # change each element of z to type string for annotations\n",
    "    z_text = [[str(y) for y in x] for x in z]\n",
    "\n",
    "    # set up figure \n",
    "    # https://plotly.com/python/builtin-colorscales/\n",
    "    fig = ff.create_annotated_heatmap(z, x=x, y=y, annotation_text=z_text, colorscale='Blues')\n",
    "\n",
    "    # add title\n",
    "    fig.update_layout(title_text='<i><b>Confusion matrix</b></i>',\n",
    "                      #xaxis = dict(title='x'),\n",
    "                      #yaxis = dict(title='x')\n",
    "                     )\n",
    "    # add custom xaxis title\n",
    "    fig.add_annotation(dict(font=dict(color=\"black\",size=14),\n",
    "                            x=0.5,\n",
    "                            y=-0.15,\n",
    "                            showarrow=False,\n",
    "                            text=\"Percent True Positives Correctly Predicted\",\n",
    "                            xref=\"paper\",\n",
    "                            yref=\"paper\"))\n",
    "\n",
    "    # add custom yaxis title\n",
    "    fig.add_annotation(dict(font=dict(color=\"black\",size=14),\n",
    "                            x=-0.35,\n",
    "                            y=0.5,\n",
    "                            showarrow=False,\n",
    "                            text=\"Real value\",\n",
    "                            textangle=-90,\n",
    "                            xref=\"paper\",\n",
    "                            yref=\"paper\"))\n",
    "\n",
    "    # adjust margins to make room for yaxis title\n",
    "    fig.update_layout(margin=dict(t=50, l=200))\n",
    "\n",
    "    # add colorbar\n",
    "    fig['data'][0]['showscale'] = True\n",
    "    fig.show()\n",
    "    \n"
   ]
  },
  {
   "cell_type": "markdown",
   "id": "62b67139",
   "metadata": {},
   "source": [
    "# Separate Training and Test Sets"
   ]
  },
  {
   "cell_type": "code",
   "execution_count": 31,
   "id": "a5260278",
   "metadata": {},
   "outputs": [],
   "source": [
    "train_set, test_set = train_test_split(df, test_size=0.2)"
   ]
  },
  {
   "cell_type": "code",
   "execution_count": 32,
   "id": "be3c6919",
   "metadata": {},
   "outputs": [
    {
     "name": "stdout",
     "output_type": "stream",
     "text": [
      "(9357, 26)\n",
      "(2340, 26)\n"
     ]
    }
   ],
   "source": [
    "print(train_set.shape)\n",
    "print(test_set.shape)"
   ]
  },
  {
   "cell_type": "code",
   "execution_count": 33,
   "id": "da6b48ee",
   "metadata": {},
   "outputs": [],
   "source": [
    "features = [ 'mentions', 'hashtags', 'video', 'photos', 'urls', 'replies_count',\n",
    "       'retweets_count', 'likes_count', 'number of tweets', 'n_char',\n",
    "       'n_words', 'avg_word_len']"
   ]
  },
  {
   "cell_type": "code",
   "execution_count": 34,
   "id": "99473a7b",
   "metadata": {},
   "outputs": [],
   "source": [
    "best_params = {}"
   ]
  },
  {
   "cell_type": "code",
   "execution_count": 42,
   "id": "a8fa1c3b",
   "metadata": {},
   "outputs": [],
   "source": [
    "def vectorize(X_text, X_features=None, ngram_range=(1,1), min_df=1):\n",
    "    tfidf = TfidfVectorizer(ngram_range = ngram_range, min_df = min_df)\n",
    "    matrix = tfidf.fit_transform(X_text)\n",
    "    matrix_df = pd.DataFrame(matrix.toarray())\n",
    "    if type(X_features) != 'NoneType':\n",
    "        matrix_df = pd.concat([X_features, matrix_df], axis=1)\n",
    "        return matrix_df, tfidf.get_feature_names\n",
    "    else:\n",
    "        return matrix_df, tfidf.get_feature_names\n",
    "    "
   ]
  },
  {
   "cell_type": "code",
   "execution_count": null,
   "id": "7c5c849e",
   "metadata": {},
   "outputs": [],
   "source": []
  },
  {
   "cell_type": "code",
   "execution_count": 36,
   "id": "38a3a49d",
   "metadata": {},
   "outputs": [],
   "source": [
    "x = train_set.sample(frac=0.15)\n",
    "x.reset_index(inplace=True, drop=True)"
   ]
  },
  {
   "cell_type": "code",
   "execution_count": 37,
   "id": "fef3384c",
   "metadata": {},
   "outputs": [],
   "source": [
    "X, vocab = vectorize(x['cleaned'], x[features])\n",
    "y = x['labels']"
   ]
  },
  {
   "cell_type": "code",
   "execution_count": 38,
   "id": "9b3c8aca",
   "metadata": {},
   "outputs": [],
   "source": [
    "assert len(X) == len(y)"
   ]
  },
  {
   "cell_type": "code",
   "execution_count": 39,
   "id": "c9288299",
   "metadata": {
    "scrolled": true
   },
   "outputs": [
    {
     "ename": "NameError",
     "evalue": "name 'ngram' is not defined",
     "output_type": "error",
     "traceback": [
      "\u001b[0;31m---------------------------------------------------------------------------\u001b[0m",
      "\u001b[0;31mNameError\u001b[0m                                 Traceback (most recent call last)",
      "\u001b[0;32m<ipython-input-39-c53d297f8bfc>\u001b[0m in \u001b[0;36m<module>\u001b[0;34m\u001b[0m\n\u001b[1;32m      1\u001b[0m \u001b[0mX\u001b[0m\u001b[0;34m,\u001b[0m \u001b[0mvocab\u001b[0m \u001b[0;34m=\u001b[0m \u001b[0mvectorize\u001b[0m\u001b[0;34m(\u001b[0m\u001b[0mx\u001b[0m\u001b[0;34m[\u001b[0m\u001b[0;34m'cleaned'\u001b[0m\u001b[0;34m]\u001b[0m\u001b[0;34m,\u001b[0m \u001b[0mx\u001b[0m\u001b[0;34m[\u001b[0m\u001b[0mfeatures\u001b[0m\u001b[0;34m]\u001b[0m\u001b[0;34m)\u001b[0m\u001b[0;34m\u001b[0m\u001b[0;34m\u001b[0m\u001b[0m\n\u001b[1;32m      2\u001b[0m \u001b[0my\u001b[0m \u001b[0;34m=\u001b[0m \u001b[0mx\u001b[0m\u001b[0;34m[\u001b[0m\u001b[0;34m'labels'\u001b[0m\u001b[0;34m]\u001b[0m\u001b[0;34m\u001b[0m\u001b[0;34m\u001b[0m\u001b[0m\n\u001b[0;32m----> 3\u001b[0;31m \u001b[0mprint\u001b[0m\u001b[0;34m(\u001b[0m\u001b[0;34m'ngram range: {}'\u001b[0m\u001b[0;34m.\u001b[0m\u001b[0mformat\u001b[0m\u001b[0;34m(\u001b[0m\u001b[0mngram\u001b[0m\u001b[0;34m)\u001b[0m\u001b[0;34m)\u001b[0m\u001b[0;34m\u001b[0m\u001b[0;34m\u001b[0m\u001b[0m\n\u001b[0m\u001b[1;32m      4\u001b[0m \u001b[0mclassify\u001b[0m\u001b[0;34m(\u001b[0m\u001b[0mX\u001b[0m\u001b[0;34m,\u001b[0m \u001b[0my\u001b[0m\u001b[0;34m)\u001b[0m\u001b[0;34m\u001b[0m\u001b[0;34m\u001b[0m\u001b[0m\n",
      "\u001b[0;31mNameError\u001b[0m: name 'ngram' is not defined"
     ]
    }
   ],
   "source": [
    "X, vocab = vectorize(x['cleaned'], x[features])\n",
    "y = x['labels']\n",
    "print('ngram range: {}'.format(ngram))\n",
    "classify(X, y)"
   ]
  },
  {
   "cell_type": "markdown",
   "id": "64d3b792",
   "metadata": {},
   "source": [
    "The classifiers with the best accuracy were the Naive Bayes, Random Forests, Stochastic Gradient Descent, and Logistic Regression classifiers. Let's look at these models in-depth."
   ]
  },
  {
   "cell_type": "markdown",
   "id": "7a558690",
   "metadata": {},
   "source": [
    "# Tests"
   ]
  },
  {
   "cell_type": "markdown",
   "id": "b322b3fb",
   "metadata": {},
   "source": [
    "Training on high/low only"
   ]
  },
  {
   "cell_type": "code",
   "execution_count": 40,
   "id": "9154e11d",
   "metadata": {},
   "outputs": [],
   "source": [
    "df_hi_low = df[df['labels'] != 'no change']"
   ]
  },
  {
   "cell_type": "code",
   "execution_count": 41,
   "id": "db768d14",
   "metadata": {},
   "outputs": [],
   "source": [
    "features = df_hi_low.columns"
   ]
  },
  {
   "cell_type": "code",
   "execution_count": 42,
   "id": "a016e67a",
   "metadata": {},
   "outputs": [],
   "source": [
    "features  = features.drop(labels=['date', 'tweet', 'username', 'price', 'text', 'cleaned'])"
   ]
  },
  {
   "cell_type": "code",
   "execution_count": 43,
   "id": "a6bc72c6",
   "metadata": {},
   "outputs": [],
   "source": [
    "df_hi_low.reset_index(inplace=True, drop=True)"
   ]
  },
  {
   "cell_type": "code",
   "execution_count": 44,
   "id": "a636b689",
   "metadata": {},
   "outputs": [],
   "source": [
    "df_vect, _ =  vectorize(df_hi_low['cleaned'], df_hi_low[features])"
   ]
  },
  {
   "cell_type": "code",
   "execution_count": 45,
   "id": "9dd71860",
   "metadata": {},
   "outputs": [],
   "source": [
    "train_set_high = df_vect.sort_values('percent change', ascending=False)[:30]\n",
    "train_set_low = df_vect.sort_values('percent change', ascending=True)[:30]\n",
    "train_set_high.reset_index(inplace=True, drop=True)\n",
    "train_set_low.reset_index(inplace=True, drop=True)"
   ]
  },
  {
   "cell_type": "code",
   "execution_count": 46,
   "id": "be9ac6b5",
   "metadata": {},
   "outputs": [
    {
     "data": {
      "text/plain": [
       "Index([        'mentions',         'hashtags',            'video',\n",
       "                 'photos',             'urls',    'replies_count',\n",
       "         'retweets_count',      'likes_count', 'number of tweets',\n",
       "         'percent change',\n",
       "       ...\n",
       "                    10211,              10212,              10213,\n",
       "                    10214,              10215,              10216,\n",
       "                    10217,              10218,              10219,\n",
       "                    10220],\n",
       "      dtype='object', length=10241)"
      ]
     },
     "execution_count": 46,
     "metadata": {},
     "output_type": "execute_result"
    }
   ],
   "source": [
    "train_set_high.columns"
   ]
  },
  {
   "cell_type": "code",
   "execution_count": 47,
   "id": "2015377c",
   "metadata": {},
   "outputs": [],
   "source": [
    "test_set = df_vect\n",
    "test_set.reset_index(inplace=True, drop=True)"
   ]
  },
  {
   "cell_type": "code",
   "execution_count": 48,
   "id": "52e30073",
   "metadata": {},
   "outputs": [],
   "source": [
    "X_train_high = train_set_high.drop(labels=['labels', 'sentiment_dict','percent change'], axis=1)\n",
    "y_train_high = train_set_high['labels'].values\n",
    "X_train_low = train_set_low.drop(labels=[ 'labels', 'sentiment_dict', 'percent change'], axis=1)\n",
    "y_train_low = train_set_low['labels'].values"
   ]
  },
  {
   "cell_type": "code",
   "execution_count": 49,
   "id": "a4882b7c",
   "metadata": {},
   "outputs": [
    {
     "data": {
      "text/html": [
       "<div>\n",
       "<style scoped>\n",
       "    .dataframe tbody tr th:only-of-type {\n",
       "        vertical-align: middle;\n",
       "    }\n",
       "\n",
       "    .dataframe tbody tr th {\n",
       "        vertical-align: top;\n",
       "    }\n",
       "\n",
       "    .dataframe thead th {\n",
       "        text-align: right;\n",
       "    }\n",
       "</style>\n",
       "<table border=\"1\" class=\"dataframe\">\n",
       "  <thead>\n",
       "    <tr style=\"text-align: right;\">\n",
       "      <th></th>\n",
       "      <th>mentions</th>\n",
       "      <th>hashtags</th>\n",
       "      <th>video</th>\n",
       "      <th>photos</th>\n",
       "      <th>urls</th>\n",
       "      <th>replies_count</th>\n",
       "      <th>retweets_count</th>\n",
       "      <th>likes_count</th>\n",
       "      <th>number of tweets</th>\n",
       "      <th>n_char</th>\n",
       "      <th>...</th>\n",
       "      <th>10211</th>\n",
       "      <th>10212</th>\n",
       "      <th>10213</th>\n",
       "      <th>10214</th>\n",
       "      <th>10215</th>\n",
       "      <th>10216</th>\n",
       "      <th>10217</th>\n",
       "      <th>10218</th>\n",
       "      <th>10219</th>\n",
       "      <th>10220</th>\n",
       "    </tr>\n",
       "  </thead>\n",
       "  <tbody>\n",
       "    <tr>\n",
       "      <th>0</th>\n",
       "      <td>1.609438</td>\n",
       "      <td>1.791759</td>\n",
       "      <td>1.791759</td>\n",
       "      <td>1.386294</td>\n",
       "      <td>1.791759</td>\n",
       "      <td>7.414573</td>\n",
       "      <td>8.217169</td>\n",
       "      <td>10.214239</td>\n",
       "      <td>1.791759</td>\n",
       "      <td>6.675823</td>\n",
       "      <td>...</td>\n",
       "      <td>0.0</td>\n",
       "      <td>0.0</td>\n",
       "      <td>0.0</td>\n",
       "      <td>0.0</td>\n",
       "      <td>0.0</td>\n",
       "      <td>0.0</td>\n",
       "      <td>0.0</td>\n",
       "      <td>0.0</td>\n",
       "      <td>0.0</td>\n",
       "      <td>0.0</td>\n",
       "    </tr>\n",
       "    <tr>\n",
       "      <th>1</th>\n",
       "      <td>0.000000</td>\n",
       "      <td>0.000000</td>\n",
       "      <td>0.000000</td>\n",
       "      <td>0.000000</td>\n",
       "      <td>0.000000</td>\n",
       "      <td>0.000000</td>\n",
       "      <td>0.693147</td>\n",
       "      <td>2.772589</td>\n",
       "      <td>0.693147</td>\n",
       "      <td>3.988984</td>\n",
       "      <td>...</td>\n",
       "      <td>0.0</td>\n",
       "      <td>0.0</td>\n",
       "      <td>0.0</td>\n",
       "      <td>0.0</td>\n",
       "      <td>0.0</td>\n",
       "      <td>0.0</td>\n",
       "      <td>0.0</td>\n",
       "      <td>0.0</td>\n",
       "      <td>0.0</td>\n",
       "      <td>0.0</td>\n",
       "    </tr>\n",
       "    <tr>\n",
       "      <th>2</th>\n",
       "      <td>0.000000</td>\n",
       "      <td>0.693147</td>\n",
       "      <td>0.000000</td>\n",
       "      <td>0.000000</td>\n",
       "      <td>0.000000</td>\n",
       "      <td>4.143135</td>\n",
       "      <td>4.204693</td>\n",
       "      <td>6.990257</td>\n",
       "      <td>1.098612</td>\n",
       "      <td>5.117994</td>\n",
       "      <td>...</td>\n",
       "      <td>0.0</td>\n",
       "      <td>0.0</td>\n",
       "      <td>0.0</td>\n",
       "      <td>0.0</td>\n",
       "      <td>0.0</td>\n",
       "      <td>0.0</td>\n",
       "      <td>0.0</td>\n",
       "      <td>0.0</td>\n",
       "      <td>0.0</td>\n",
       "      <td>0.0</td>\n",
       "    </tr>\n",
       "    <tr>\n",
       "      <th>3</th>\n",
       "      <td>0.000000</td>\n",
       "      <td>0.000000</td>\n",
       "      <td>0.000000</td>\n",
       "      <td>0.000000</td>\n",
       "      <td>0.000000</td>\n",
       "      <td>4.644391</td>\n",
       "      <td>4.691348</td>\n",
       "      <td>6.783325</td>\n",
       "      <td>0.693147</td>\n",
       "      <td>4.442651</td>\n",
       "      <td>...</td>\n",
       "      <td>0.0</td>\n",
       "      <td>0.0</td>\n",
       "      <td>0.0</td>\n",
       "      <td>0.0</td>\n",
       "      <td>0.0</td>\n",
       "      <td>0.0</td>\n",
       "      <td>0.0</td>\n",
       "      <td>0.0</td>\n",
       "      <td>0.0</td>\n",
       "      <td>0.0</td>\n",
       "    </tr>\n",
       "    <tr>\n",
       "      <th>4</th>\n",
       "      <td>0.693147</td>\n",
       "      <td>0.000000</td>\n",
       "      <td>0.000000</td>\n",
       "      <td>0.000000</td>\n",
       "      <td>0.693147</td>\n",
       "      <td>3.091042</td>\n",
       "      <td>3.218876</td>\n",
       "      <td>4.844187</td>\n",
       "      <td>0.693147</td>\n",
       "      <td>5.147494</td>\n",
       "      <td>...</td>\n",
       "      <td>0.0</td>\n",
       "      <td>0.0</td>\n",
       "      <td>0.0</td>\n",
       "      <td>0.0</td>\n",
       "      <td>0.0</td>\n",
       "      <td>0.0</td>\n",
       "      <td>0.0</td>\n",
       "      <td>0.0</td>\n",
       "      <td>0.0</td>\n",
       "      <td>0.0</td>\n",
       "    </tr>\n",
       "    <tr>\n",
       "      <th>5</th>\n",
       "      <td>0.000000</td>\n",
       "      <td>0.000000</td>\n",
       "      <td>0.693147</td>\n",
       "      <td>0.693147</td>\n",
       "      <td>0.000000</td>\n",
       "      <td>8.545586</td>\n",
       "      <td>11.183212</td>\n",
       "      <td>13.090297</td>\n",
       "      <td>1.386294</td>\n",
       "      <td>5.509388</td>\n",
       "      <td>...</td>\n",
       "      <td>0.0</td>\n",
       "      <td>0.0</td>\n",
       "      <td>0.0</td>\n",
       "      <td>0.0</td>\n",
       "      <td>0.0</td>\n",
       "      <td>0.0</td>\n",
       "      <td>0.0</td>\n",
       "      <td>0.0</td>\n",
       "      <td>0.0</td>\n",
       "      <td>0.0</td>\n",
       "    </tr>\n",
       "    <tr>\n",
       "      <th>6</th>\n",
       "      <td>0.693147</td>\n",
       "      <td>0.693147</td>\n",
       "      <td>0.693147</td>\n",
       "      <td>0.000000</td>\n",
       "      <td>0.693147</td>\n",
       "      <td>3.850148</td>\n",
       "      <td>5.036953</td>\n",
       "      <td>6.682109</td>\n",
       "      <td>0.693147</td>\n",
       "      <td>4.859812</td>\n",
       "      <td>...</td>\n",
       "      <td>0.0</td>\n",
       "      <td>0.0</td>\n",
       "      <td>0.0</td>\n",
       "      <td>0.0</td>\n",
       "      <td>0.0</td>\n",
       "      <td>0.0</td>\n",
       "      <td>0.0</td>\n",
       "      <td>0.0</td>\n",
       "      <td>0.0</td>\n",
       "      <td>0.0</td>\n",
       "    </tr>\n",
       "    <tr>\n",
       "      <th>7</th>\n",
       "      <td>1.098612</td>\n",
       "      <td>0.000000</td>\n",
       "      <td>0.693147</td>\n",
       "      <td>0.693147</td>\n",
       "      <td>1.098612</td>\n",
       "      <td>4.812184</td>\n",
       "      <td>5.323010</td>\n",
       "      <td>7.347300</td>\n",
       "      <td>1.098612</td>\n",
       "      <td>5.303305</td>\n",
       "      <td>...</td>\n",
       "      <td>0.0</td>\n",
       "      <td>0.0</td>\n",
       "      <td>0.0</td>\n",
       "      <td>0.0</td>\n",
       "      <td>0.0</td>\n",
       "      <td>0.0</td>\n",
       "      <td>0.0</td>\n",
       "      <td>0.0</td>\n",
       "      <td>0.0</td>\n",
       "      <td>0.0</td>\n",
       "    </tr>\n",
       "    <tr>\n",
       "      <th>8</th>\n",
       "      <td>1.098612</td>\n",
       "      <td>0.000000</td>\n",
       "      <td>1.609438</td>\n",
       "      <td>1.386294</td>\n",
       "      <td>0.693147</td>\n",
       "      <td>5.093750</td>\n",
       "      <td>6.865891</td>\n",
       "      <td>8.861917</td>\n",
       "      <td>2.079442</td>\n",
       "      <td>7.206377</td>\n",
       "      <td>...</td>\n",
       "      <td>0.0</td>\n",
       "      <td>0.0</td>\n",
       "      <td>0.0</td>\n",
       "      <td>0.0</td>\n",
       "      <td>0.0</td>\n",
       "      <td>0.0</td>\n",
       "      <td>0.0</td>\n",
       "      <td>0.0</td>\n",
       "      <td>0.0</td>\n",
       "      <td>0.0</td>\n",
       "    </tr>\n",
       "    <tr>\n",
       "      <th>9</th>\n",
       "      <td>0.693147</td>\n",
       "      <td>0.000000</td>\n",
       "      <td>1.098612</td>\n",
       "      <td>1.098612</td>\n",
       "      <td>1.098612</td>\n",
       "      <td>3.806662</td>\n",
       "      <td>3.828641</td>\n",
       "      <td>6.066108</td>\n",
       "      <td>1.098612</td>\n",
       "      <td>5.252273</td>\n",
       "      <td>...</td>\n",
       "      <td>0.0</td>\n",
       "      <td>0.0</td>\n",
       "      <td>0.0</td>\n",
       "      <td>0.0</td>\n",
       "      <td>0.0</td>\n",
       "      <td>0.0</td>\n",
       "      <td>0.0</td>\n",
       "      <td>0.0</td>\n",
       "      <td>0.0</td>\n",
       "      <td>0.0</td>\n",
       "    </tr>\n",
       "    <tr>\n",
       "      <th>10</th>\n",
       "      <td>0.000000</td>\n",
       "      <td>0.000000</td>\n",
       "      <td>0.000000</td>\n",
       "      <td>0.000000</td>\n",
       "      <td>0.000000</td>\n",
       "      <td>4.317488</td>\n",
       "      <td>4.905275</td>\n",
       "      <td>7.783224</td>\n",
       "      <td>0.693147</td>\n",
       "      <td>5.620401</td>\n",
       "      <td>...</td>\n",
       "      <td>0.0</td>\n",
       "      <td>0.0</td>\n",
       "      <td>0.0</td>\n",
       "      <td>0.0</td>\n",
       "      <td>0.0</td>\n",
       "      <td>0.0</td>\n",
       "      <td>0.0</td>\n",
       "      <td>0.0</td>\n",
       "      <td>0.0</td>\n",
       "      <td>0.0</td>\n",
       "    </tr>\n",
       "    <tr>\n",
       "      <th>11</th>\n",
       "      <td>0.000000</td>\n",
       "      <td>0.000000</td>\n",
       "      <td>0.693147</td>\n",
       "      <td>0.693147</td>\n",
       "      <td>1.098612</td>\n",
       "      <td>3.970292</td>\n",
       "      <td>4.624973</td>\n",
       "      <td>5.902633</td>\n",
       "      <td>1.098612</td>\n",
       "      <td>3.401197</td>\n",
       "      <td>...</td>\n",
       "      <td>0.0</td>\n",
       "      <td>0.0</td>\n",
       "      <td>0.0</td>\n",
       "      <td>0.0</td>\n",
       "      <td>0.0</td>\n",
       "      <td>0.0</td>\n",
       "      <td>0.0</td>\n",
       "      <td>0.0</td>\n",
       "      <td>0.0</td>\n",
       "      <td>0.0</td>\n",
       "    </tr>\n",
       "    <tr>\n",
       "      <th>12</th>\n",
       "      <td>0.000000</td>\n",
       "      <td>0.000000</td>\n",
       "      <td>0.000000</td>\n",
       "      <td>0.000000</td>\n",
       "      <td>0.693147</td>\n",
       "      <td>7.027315</td>\n",
       "      <td>7.223296</td>\n",
       "      <td>9.689985</td>\n",
       "      <td>1.386294</td>\n",
       "      <td>5.598422</td>\n",
       "      <td>...</td>\n",
       "      <td>0.0</td>\n",
       "      <td>0.0</td>\n",
       "      <td>0.0</td>\n",
       "      <td>0.0</td>\n",
       "      <td>0.0</td>\n",
       "      <td>0.0</td>\n",
       "      <td>0.0</td>\n",
       "      <td>0.0</td>\n",
       "      <td>0.0</td>\n",
       "      <td>0.0</td>\n",
       "    </tr>\n",
       "    <tr>\n",
       "      <th>13</th>\n",
       "      <td>0.000000</td>\n",
       "      <td>0.000000</td>\n",
       "      <td>0.693147</td>\n",
       "      <td>0.693147</td>\n",
       "      <td>0.000000</td>\n",
       "      <td>6.364751</td>\n",
       "      <td>6.354370</td>\n",
       "      <td>9.177611</td>\n",
       "      <td>1.098612</td>\n",
       "      <td>2.833213</td>\n",
       "      <td>...</td>\n",
       "      <td>0.0</td>\n",
       "      <td>0.0</td>\n",
       "      <td>0.0</td>\n",
       "      <td>0.0</td>\n",
       "      <td>0.0</td>\n",
       "      <td>0.0</td>\n",
       "      <td>0.0</td>\n",
       "      <td>0.0</td>\n",
       "      <td>0.0</td>\n",
       "      <td>0.0</td>\n",
       "    </tr>\n",
       "    <tr>\n",
       "      <th>14</th>\n",
       "      <td>0.693147</td>\n",
       "      <td>1.098612</td>\n",
       "      <td>1.098612</td>\n",
       "      <td>0.000000</td>\n",
       "      <td>0.693147</td>\n",
       "      <td>7.088409</td>\n",
       "      <td>7.669962</td>\n",
       "      <td>9.627602</td>\n",
       "      <td>1.098612</td>\n",
       "      <td>5.347108</td>\n",
       "      <td>...</td>\n",
       "      <td>0.0</td>\n",
       "      <td>0.0</td>\n",
       "      <td>0.0</td>\n",
       "      <td>0.0</td>\n",
       "      <td>0.0</td>\n",
       "      <td>0.0</td>\n",
       "      <td>0.0</td>\n",
       "      <td>0.0</td>\n",
       "      <td>0.0</td>\n",
       "      <td>0.0</td>\n",
       "    </tr>\n",
       "    <tr>\n",
       "      <th>15</th>\n",
       "      <td>0.693147</td>\n",
       "      <td>0.000000</td>\n",
       "      <td>0.000000</td>\n",
       "      <td>0.000000</td>\n",
       "      <td>0.693147</td>\n",
       "      <td>4.828314</td>\n",
       "      <td>4.955827</td>\n",
       "      <td>6.532334</td>\n",
       "      <td>1.609438</td>\n",
       "      <td>5.645447</td>\n",
       "      <td>...</td>\n",
       "      <td>0.0</td>\n",
       "      <td>0.0</td>\n",
       "      <td>0.0</td>\n",
       "      <td>0.0</td>\n",
       "      <td>0.0</td>\n",
       "      <td>0.0</td>\n",
       "      <td>0.0</td>\n",
       "      <td>0.0</td>\n",
       "      <td>0.0</td>\n",
       "      <td>0.0</td>\n",
       "    </tr>\n",
       "    <tr>\n",
       "      <th>16</th>\n",
       "      <td>0.000000</td>\n",
       "      <td>0.000000</td>\n",
       "      <td>0.000000</td>\n",
       "      <td>0.000000</td>\n",
       "      <td>0.000000</td>\n",
       "      <td>6.994850</td>\n",
       "      <td>7.672292</td>\n",
       "      <td>10.360406</td>\n",
       "      <td>1.098612</td>\n",
       "      <td>5.198497</td>\n",
       "      <td>...</td>\n",
       "      <td>0.0</td>\n",
       "      <td>0.0</td>\n",
       "      <td>0.0</td>\n",
       "      <td>0.0</td>\n",
       "      <td>0.0</td>\n",
       "      <td>0.0</td>\n",
       "      <td>0.0</td>\n",
       "      <td>0.0</td>\n",
       "      <td>0.0</td>\n",
       "      <td>0.0</td>\n",
       "    </tr>\n",
       "    <tr>\n",
       "      <th>17</th>\n",
       "      <td>0.693147</td>\n",
       "      <td>0.693147</td>\n",
       "      <td>0.693147</td>\n",
       "      <td>0.000000</td>\n",
       "      <td>1.098612</td>\n",
       "      <td>5.463832</td>\n",
       "      <td>6.626718</td>\n",
       "      <td>8.357494</td>\n",
       "      <td>1.098612</td>\n",
       "      <td>5.831882</td>\n",
       "      <td>...</td>\n",
       "      <td>0.0</td>\n",
       "      <td>0.0</td>\n",
       "      <td>0.0</td>\n",
       "      <td>0.0</td>\n",
       "      <td>0.0</td>\n",
       "      <td>0.0</td>\n",
       "      <td>0.0</td>\n",
       "      <td>0.0</td>\n",
       "      <td>0.0</td>\n",
       "      <td>0.0</td>\n",
       "    </tr>\n",
       "    <tr>\n",
       "      <th>18</th>\n",
       "      <td>1.098612</td>\n",
       "      <td>0.000000</td>\n",
       "      <td>1.098612</td>\n",
       "      <td>0.693147</td>\n",
       "      <td>1.386294</td>\n",
       "      <td>4.290459</td>\n",
       "      <td>5.192957</td>\n",
       "      <td>7.150701</td>\n",
       "      <td>1.386294</td>\n",
       "      <td>5.579730</td>\n",
       "      <td>...</td>\n",
       "      <td>0.0</td>\n",
       "      <td>0.0</td>\n",
       "      <td>0.0</td>\n",
       "      <td>0.0</td>\n",
       "      <td>0.0</td>\n",
       "      <td>0.0</td>\n",
       "      <td>0.0</td>\n",
       "      <td>0.0</td>\n",
       "      <td>0.0</td>\n",
       "      <td>0.0</td>\n",
       "    </tr>\n",
       "    <tr>\n",
       "      <th>19</th>\n",
       "      <td>0.000000</td>\n",
       "      <td>0.000000</td>\n",
       "      <td>0.000000</td>\n",
       "      <td>0.000000</td>\n",
       "      <td>0.000000</td>\n",
       "      <td>8.867146</td>\n",
       "      <td>9.399720</td>\n",
       "      <td>12.320936</td>\n",
       "      <td>2.079442</td>\n",
       "      <td>6.261492</td>\n",
       "      <td>...</td>\n",
       "      <td>0.0</td>\n",
       "      <td>0.0</td>\n",
       "      <td>0.0</td>\n",
       "      <td>0.0</td>\n",
       "      <td>0.0</td>\n",
       "      <td>0.0</td>\n",
       "      <td>0.0</td>\n",
       "      <td>0.0</td>\n",
       "      <td>0.0</td>\n",
       "      <td>0.0</td>\n",
       "    </tr>\n",
       "    <tr>\n",
       "      <th>20</th>\n",
       "      <td>0.693147</td>\n",
       "      <td>0.693147</td>\n",
       "      <td>0.693147</td>\n",
       "      <td>0.693147</td>\n",
       "      <td>0.693147</td>\n",
       "      <td>3.583519</td>\n",
       "      <td>4.174387</td>\n",
       "      <td>6.244167</td>\n",
       "      <td>0.693147</td>\n",
       "      <td>5.429346</td>\n",
       "      <td>...</td>\n",
       "      <td>0.0</td>\n",
       "      <td>0.0</td>\n",
       "      <td>0.0</td>\n",
       "      <td>0.0</td>\n",
       "      <td>0.0</td>\n",
       "      <td>0.0</td>\n",
       "      <td>0.0</td>\n",
       "      <td>0.0</td>\n",
       "      <td>0.0</td>\n",
       "      <td>0.0</td>\n",
       "    </tr>\n",
       "    <tr>\n",
       "      <th>21</th>\n",
       "      <td>0.000000</td>\n",
       "      <td>0.000000</td>\n",
       "      <td>0.000000</td>\n",
       "      <td>0.000000</td>\n",
       "      <td>0.693147</td>\n",
       "      <td>7.287561</td>\n",
       "      <td>8.167352</td>\n",
       "      <td>11.264464</td>\n",
       "      <td>1.791759</td>\n",
       "      <td>4.912655</td>\n",
       "      <td>...</td>\n",
       "      <td>0.0</td>\n",
       "      <td>0.0</td>\n",
       "      <td>0.0</td>\n",
       "      <td>0.0</td>\n",
       "      <td>0.0</td>\n",
       "      <td>0.0</td>\n",
       "      <td>0.0</td>\n",
       "      <td>0.0</td>\n",
       "      <td>0.0</td>\n",
       "      <td>0.0</td>\n",
       "    </tr>\n",
       "    <tr>\n",
       "      <th>22</th>\n",
       "      <td>0.000000</td>\n",
       "      <td>0.000000</td>\n",
       "      <td>0.000000</td>\n",
       "      <td>0.000000</td>\n",
       "      <td>0.000000</td>\n",
       "      <td>2.302585</td>\n",
       "      <td>0.693147</td>\n",
       "      <td>3.988984</td>\n",
       "      <td>0.693147</td>\n",
       "      <td>2.197225</td>\n",
       "      <td>...</td>\n",
       "      <td>0.0</td>\n",
       "      <td>0.0</td>\n",
       "      <td>0.0</td>\n",
       "      <td>0.0</td>\n",
       "      <td>0.0</td>\n",
       "      <td>0.0</td>\n",
       "      <td>0.0</td>\n",
       "      <td>0.0</td>\n",
       "      <td>0.0</td>\n",
       "      <td>0.0</td>\n",
       "    </tr>\n",
       "    <tr>\n",
       "      <th>23</th>\n",
       "      <td>0.000000</td>\n",
       "      <td>0.000000</td>\n",
       "      <td>0.693147</td>\n",
       "      <td>0.693147</td>\n",
       "      <td>0.000000</td>\n",
       "      <td>7.327781</td>\n",
       "      <td>7.751905</td>\n",
       "      <td>10.679343</td>\n",
       "      <td>2.564949</td>\n",
       "      <td>6.747587</td>\n",
       "      <td>...</td>\n",
       "      <td>0.0</td>\n",
       "      <td>0.0</td>\n",
       "      <td>0.0</td>\n",
       "      <td>0.0</td>\n",
       "      <td>0.0</td>\n",
       "      <td>0.0</td>\n",
       "      <td>0.0</td>\n",
       "      <td>0.0</td>\n",
       "      <td>0.0</td>\n",
       "      <td>0.0</td>\n",
       "    </tr>\n",
       "    <tr>\n",
       "      <th>24</th>\n",
       "      <td>0.000000</td>\n",
       "      <td>0.000000</td>\n",
       "      <td>0.693147</td>\n",
       "      <td>0.693147</td>\n",
       "      <td>0.000000</td>\n",
       "      <td>7.994632</td>\n",
       "      <td>9.578242</td>\n",
       "      <td>12.294106</td>\n",
       "      <td>1.386294</td>\n",
       "      <td>4.634729</td>\n",
       "      <td>...</td>\n",
       "      <td>0.0</td>\n",
       "      <td>0.0</td>\n",
       "      <td>0.0</td>\n",
       "      <td>0.0</td>\n",
       "      <td>0.0</td>\n",
       "      <td>0.0</td>\n",
       "      <td>0.0</td>\n",
       "      <td>0.0</td>\n",
       "      <td>0.0</td>\n",
       "      <td>0.0</td>\n",
       "    </tr>\n",
       "    <tr>\n",
       "      <th>25</th>\n",
       "      <td>0.000000</td>\n",
       "      <td>0.000000</td>\n",
       "      <td>0.000000</td>\n",
       "      <td>0.000000</td>\n",
       "      <td>0.000000</td>\n",
       "      <td>7.644441</td>\n",
       "      <td>8.305978</td>\n",
       "      <td>11.209588</td>\n",
       "      <td>1.791759</td>\n",
       "      <td>6.556778</td>\n",
       "      <td>...</td>\n",
       "      <td>0.0</td>\n",
       "      <td>0.0</td>\n",
       "      <td>0.0</td>\n",
       "      <td>0.0</td>\n",
       "      <td>0.0</td>\n",
       "      <td>0.0</td>\n",
       "      <td>0.0</td>\n",
       "      <td>0.0</td>\n",
       "      <td>0.0</td>\n",
       "      <td>0.0</td>\n",
       "    </tr>\n",
       "    <tr>\n",
       "      <th>26</th>\n",
       "      <td>0.000000</td>\n",
       "      <td>0.000000</td>\n",
       "      <td>0.000000</td>\n",
       "      <td>0.000000</td>\n",
       "      <td>0.000000</td>\n",
       "      <td>1.098612</td>\n",
       "      <td>0.000000</td>\n",
       "      <td>4.290459</td>\n",
       "      <td>0.693147</td>\n",
       "      <td>4.043051</td>\n",
       "      <td>...</td>\n",
       "      <td>0.0</td>\n",
       "      <td>0.0</td>\n",
       "      <td>0.0</td>\n",
       "      <td>0.0</td>\n",
       "      <td>0.0</td>\n",
       "      <td>0.0</td>\n",
       "      <td>0.0</td>\n",
       "      <td>0.0</td>\n",
       "      <td>0.0</td>\n",
       "      <td>0.0</td>\n",
       "    </tr>\n",
       "    <tr>\n",
       "      <th>27</th>\n",
       "      <td>0.693147</td>\n",
       "      <td>0.000000</td>\n",
       "      <td>0.000000</td>\n",
       "      <td>0.000000</td>\n",
       "      <td>0.693147</td>\n",
       "      <td>7.961719</td>\n",
       "      <td>8.906122</td>\n",
       "      <td>11.331751</td>\n",
       "      <td>1.791759</td>\n",
       "      <td>6.915723</td>\n",
       "      <td>...</td>\n",
       "      <td>0.0</td>\n",
       "      <td>0.0</td>\n",
       "      <td>0.0</td>\n",
       "      <td>0.0</td>\n",
       "      <td>0.0</td>\n",
       "      <td>0.0</td>\n",
       "      <td>0.0</td>\n",
       "      <td>0.0</td>\n",
       "      <td>0.0</td>\n",
       "      <td>0.0</td>\n",
       "    </tr>\n",
       "    <tr>\n",
       "      <th>28</th>\n",
       "      <td>0.000000</td>\n",
       "      <td>0.000000</td>\n",
       "      <td>0.693147</td>\n",
       "      <td>0.693147</td>\n",
       "      <td>0.000000</td>\n",
       "      <td>3.555348</td>\n",
       "      <td>6.212606</td>\n",
       "      <td>8.187299</td>\n",
       "      <td>0.693147</td>\n",
       "      <td>3.784190</td>\n",
       "      <td>...</td>\n",
       "      <td>0.0</td>\n",
       "      <td>0.0</td>\n",
       "      <td>0.0</td>\n",
       "      <td>0.0</td>\n",
       "      <td>0.0</td>\n",
       "      <td>0.0</td>\n",
       "      <td>0.0</td>\n",
       "      <td>0.0</td>\n",
       "      <td>0.0</td>\n",
       "      <td>0.0</td>\n",
       "    </tr>\n",
       "    <tr>\n",
       "      <th>29</th>\n",
       "      <td>0.000000</td>\n",
       "      <td>0.000000</td>\n",
       "      <td>0.000000</td>\n",
       "      <td>0.000000</td>\n",
       "      <td>0.000000</td>\n",
       "      <td>3.688879</td>\n",
       "      <td>4.442651</td>\n",
       "      <td>7.082549</td>\n",
       "      <td>1.386294</td>\n",
       "      <td>4.905275</td>\n",
       "      <td>...</td>\n",
       "      <td>0.0</td>\n",
       "      <td>0.0</td>\n",
       "      <td>0.0</td>\n",
       "      <td>0.0</td>\n",
       "      <td>0.0</td>\n",
       "      <td>0.0</td>\n",
       "      <td>0.0</td>\n",
       "      <td>0.0</td>\n",
       "      <td>0.0</td>\n",
       "      <td>0.0</td>\n",
       "    </tr>\n",
       "  </tbody>\n",
       "</table>\n",
       "<p>30 rows × 10238 columns</p>\n",
       "</div>"
      ],
      "text/plain": [
       "    mentions  hashtags     video    photos      urls  replies_count  \\\n",
       "0   1.609438  1.791759  1.791759  1.386294  1.791759       7.414573   \n",
       "1   0.000000  0.000000  0.000000  0.000000  0.000000       0.000000   \n",
       "2   0.000000  0.693147  0.000000  0.000000  0.000000       4.143135   \n",
       "3   0.000000  0.000000  0.000000  0.000000  0.000000       4.644391   \n",
       "4   0.693147  0.000000  0.000000  0.000000  0.693147       3.091042   \n",
       "5   0.000000  0.000000  0.693147  0.693147  0.000000       8.545586   \n",
       "6   0.693147  0.693147  0.693147  0.000000  0.693147       3.850148   \n",
       "7   1.098612  0.000000  0.693147  0.693147  1.098612       4.812184   \n",
       "8   1.098612  0.000000  1.609438  1.386294  0.693147       5.093750   \n",
       "9   0.693147  0.000000  1.098612  1.098612  1.098612       3.806662   \n",
       "10  0.000000  0.000000  0.000000  0.000000  0.000000       4.317488   \n",
       "11  0.000000  0.000000  0.693147  0.693147  1.098612       3.970292   \n",
       "12  0.000000  0.000000  0.000000  0.000000  0.693147       7.027315   \n",
       "13  0.000000  0.000000  0.693147  0.693147  0.000000       6.364751   \n",
       "14  0.693147  1.098612  1.098612  0.000000  0.693147       7.088409   \n",
       "15  0.693147  0.000000  0.000000  0.000000  0.693147       4.828314   \n",
       "16  0.000000  0.000000  0.000000  0.000000  0.000000       6.994850   \n",
       "17  0.693147  0.693147  0.693147  0.000000  1.098612       5.463832   \n",
       "18  1.098612  0.000000  1.098612  0.693147  1.386294       4.290459   \n",
       "19  0.000000  0.000000  0.000000  0.000000  0.000000       8.867146   \n",
       "20  0.693147  0.693147  0.693147  0.693147  0.693147       3.583519   \n",
       "21  0.000000  0.000000  0.000000  0.000000  0.693147       7.287561   \n",
       "22  0.000000  0.000000  0.000000  0.000000  0.000000       2.302585   \n",
       "23  0.000000  0.000000  0.693147  0.693147  0.000000       7.327781   \n",
       "24  0.000000  0.000000  0.693147  0.693147  0.000000       7.994632   \n",
       "25  0.000000  0.000000  0.000000  0.000000  0.000000       7.644441   \n",
       "26  0.000000  0.000000  0.000000  0.000000  0.000000       1.098612   \n",
       "27  0.693147  0.000000  0.000000  0.000000  0.693147       7.961719   \n",
       "28  0.000000  0.000000  0.693147  0.693147  0.000000       3.555348   \n",
       "29  0.000000  0.000000  0.000000  0.000000  0.000000       3.688879   \n",
       "\n",
       "    retweets_count  likes_count  number of tweets    n_char  ...  10211  \\\n",
       "0         8.217169    10.214239          1.791759  6.675823  ...    0.0   \n",
       "1         0.693147     2.772589          0.693147  3.988984  ...    0.0   \n",
       "2         4.204693     6.990257          1.098612  5.117994  ...    0.0   \n",
       "3         4.691348     6.783325          0.693147  4.442651  ...    0.0   \n",
       "4         3.218876     4.844187          0.693147  5.147494  ...    0.0   \n",
       "5        11.183212    13.090297          1.386294  5.509388  ...    0.0   \n",
       "6         5.036953     6.682109          0.693147  4.859812  ...    0.0   \n",
       "7         5.323010     7.347300          1.098612  5.303305  ...    0.0   \n",
       "8         6.865891     8.861917          2.079442  7.206377  ...    0.0   \n",
       "9         3.828641     6.066108          1.098612  5.252273  ...    0.0   \n",
       "10        4.905275     7.783224          0.693147  5.620401  ...    0.0   \n",
       "11        4.624973     5.902633          1.098612  3.401197  ...    0.0   \n",
       "12        7.223296     9.689985          1.386294  5.598422  ...    0.0   \n",
       "13        6.354370     9.177611          1.098612  2.833213  ...    0.0   \n",
       "14        7.669962     9.627602          1.098612  5.347108  ...    0.0   \n",
       "15        4.955827     6.532334          1.609438  5.645447  ...    0.0   \n",
       "16        7.672292    10.360406          1.098612  5.198497  ...    0.0   \n",
       "17        6.626718     8.357494          1.098612  5.831882  ...    0.0   \n",
       "18        5.192957     7.150701          1.386294  5.579730  ...    0.0   \n",
       "19        9.399720    12.320936          2.079442  6.261492  ...    0.0   \n",
       "20        4.174387     6.244167          0.693147  5.429346  ...    0.0   \n",
       "21        8.167352    11.264464          1.791759  4.912655  ...    0.0   \n",
       "22        0.693147     3.988984          0.693147  2.197225  ...    0.0   \n",
       "23        7.751905    10.679343          2.564949  6.747587  ...    0.0   \n",
       "24        9.578242    12.294106          1.386294  4.634729  ...    0.0   \n",
       "25        8.305978    11.209588          1.791759  6.556778  ...    0.0   \n",
       "26        0.000000     4.290459          0.693147  4.043051  ...    0.0   \n",
       "27        8.906122    11.331751          1.791759  6.915723  ...    0.0   \n",
       "28        6.212606     8.187299          0.693147  3.784190  ...    0.0   \n",
       "29        4.442651     7.082549          1.386294  4.905275  ...    0.0   \n",
       "\n",
       "    10212  10213  10214  10215  10216  10217  10218  10219  10220  \n",
       "0     0.0    0.0    0.0    0.0    0.0    0.0    0.0    0.0    0.0  \n",
       "1     0.0    0.0    0.0    0.0    0.0    0.0    0.0    0.0    0.0  \n",
       "2     0.0    0.0    0.0    0.0    0.0    0.0    0.0    0.0    0.0  \n",
       "3     0.0    0.0    0.0    0.0    0.0    0.0    0.0    0.0    0.0  \n",
       "4     0.0    0.0    0.0    0.0    0.0    0.0    0.0    0.0    0.0  \n",
       "5     0.0    0.0    0.0    0.0    0.0    0.0    0.0    0.0    0.0  \n",
       "6     0.0    0.0    0.0    0.0    0.0    0.0    0.0    0.0    0.0  \n",
       "7     0.0    0.0    0.0    0.0    0.0    0.0    0.0    0.0    0.0  \n",
       "8     0.0    0.0    0.0    0.0    0.0    0.0    0.0    0.0    0.0  \n",
       "9     0.0    0.0    0.0    0.0    0.0    0.0    0.0    0.0    0.0  \n",
       "10    0.0    0.0    0.0    0.0    0.0    0.0    0.0    0.0    0.0  \n",
       "11    0.0    0.0    0.0    0.0    0.0    0.0    0.0    0.0    0.0  \n",
       "12    0.0    0.0    0.0    0.0    0.0    0.0    0.0    0.0    0.0  \n",
       "13    0.0    0.0    0.0    0.0    0.0    0.0    0.0    0.0    0.0  \n",
       "14    0.0    0.0    0.0    0.0    0.0    0.0    0.0    0.0    0.0  \n",
       "15    0.0    0.0    0.0    0.0    0.0    0.0    0.0    0.0    0.0  \n",
       "16    0.0    0.0    0.0    0.0    0.0    0.0    0.0    0.0    0.0  \n",
       "17    0.0    0.0    0.0    0.0    0.0    0.0    0.0    0.0    0.0  \n",
       "18    0.0    0.0    0.0    0.0    0.0    0.0    0.0    0.0    0.0  \n",
       "19    0.0    0.0    0.0    0.0    0.0    0.0    0.0    0.0    0.0  \n",
       "20    0.0    0.0    0.0    0.0    0.0    0.0    0.0    0.0    0.0  \n",
       "21    0.0    0.0    0.0    0.0    0.0    0.0    0.0    0.0    0.0  \n",
       "22    0.0    0.0    0.0    0.0    0.0    0.0    0.0    0.0    0.0  \n",
       "23    0.0    0.0    0.0    0.0    0.0    0.0    0.0    0.0    0.0  \n",
       "24    0.0    0.0    0.0    0.0    0.0    0.0    0.0    0.0    0.0  \n",
       "25    0.0    0.0    0.0    0.0    0.0    0.0    0.0    0.0    0.0  \n",
       "26    0.0    0.0    0.0    0.0    0.0    0.0    0.0    0.0    0.0  \n",
       "27    0.0    0.0    0.0    0.0    0.0    0.0    0.0    0.0    0.0  \n",
       "28    0.0    0.0    0.0    0.0    0.0    0.0    0.0    0.0    0.0  \n",
       "29    0.0    0.0    0.0    0.0    0.0    0.0    0.0    0.0    0.0  \n",
       "\n",
       "[30 rows x 10238 columns]"
      ]
     },
     "execution_count": 49,
     "metadata": {},
     "output_type": "execute_result"
    }
   ],
   "source": [
    "X_train_high"
   ]
  },
  {
   "cell_type": "code",
   "execution_count": 50,
   "id": "81f01394",
   "metadata": {},
   "outputs": [],
   "source": [
    "X_test_set = test_set.drop(labels=['labels', 'sentiment_dict','percent change'], axis=1)\n",
    "y_test_set = test_set['labels'].values\n",
    "X_train_high.reset_index(inplace=True, drop=True)\n",
    "X_train_low.reset_index(inplace=True, drop=True)"
   ]
  },
  {
   "cell_type": "code",
   "execution_count": 51,
   "id": "27269a0a",
   "metadata": {},
   "outputs": [],
   "source": [
    "X_train_high = X_train_high > 0"
   ]
  },
  {
   "cell_type": "code",
   "execution_count": 52,
   "id": "0cad2b04",
   "metadata": {
    "scrolled": false
   },
   "outputs": [],
   "source": [
    "nb = MultinomialNB()\n",
    "nb.fit(X_train_high, y_train_high)\n",
    "y_pred = nb.predict(X_test_set)"
   ]
  },
  {
   "cell_type": "code",
   "execution_count": 53,
   "id": "d5c389b5",
   "metadata": {},
   "outputs": [
    {
     "name": "stdout",
     "output_type": "stream",
     "text": [
      "              precision    recall  f1-score   support\n",
      "\n",
      "        drop       0.00      0.00      0.00      3862\n",
      "        rise       0.51      1.00      0.67      3960\n",
      "\n",
      "    accuracy                           0.51      7822\n",
      "   macro avg       0.25      0.50      0.34      7822\n",
      "weighted avg       0.26      0.51      0.34      7822\n",
      "\n"
     ]
    }
   ],
   "source": [
    "print(classification_report(y_test_set, y_pred))"
   ]
  },
  {
   "cell_type": "code",
   "execution_count": 54,
   "id": "ea54fbda",
   "metadata": {},
   "outputs": [
    {
     "ename": "KeyError",
     "evalue": "'cleaned'",
     "output_type": "error",
     "traceback": [
      "\u001b[0;31m---------------------------------------------------------------------------\u001b[0m",
      "\u001b[0;31mKeyError\u001b[0m                                  Traceback (most recent call last)",
      "\u001b[0;32m/Library/Frameworks/Python.framework/Versions/3.9/lib/python3.9/site-packages/pandas/core/indexes/base.py\u001b[0m in \u001b[0;36mget_loc\u001b[0;34m(self, key, method, tolerance)\u001b[0m\n\u001b[1;32m   3360\u001b[0m             \u001b[0;32mtry\u001b[0m\u001b[0;34m:\u001b[0m\u001b[0;34m\u001b[0m\u001b[0;34m\u001b[0m\u001b[0m\n\u001b[0;32m-> 3361\u001b[0;31m                 \u001b[0;32mreturn\u001b[0m \u001b[0mself\u001b[0m\u001b[0;34m.\u001b[0m\u001b[0m_engine\u001b[0m\u001b[0;34m.\u001b[0m\u001b[0mget_loc\u001b[0m\u001b[0;34m(\u001b[0m\u001b[0mcasted_key\u001b[0m\u001b[0;34m)\u001b[0m\u001b[0;34m\u001b[0m\u001b[0;34m\u001b[0m\u001b[0m\n\u001b[0m\u001b[1;32m   3362\u001b[0m             \u001b[0;32mexcept\u001b[0m \u001b[0mKeyError\u001b[0m \u001b[0;32mas\u001b[0m \u001b[0merr\u001b[0m\u001b[0;34m:\u001b[0m\u001b[0;34m\u001b[0m\u001b[0;34m\u001b[0m\u001b[0m\n",
      "\u001b[0;32m/Library/Frameworks/Python.framework/Versions/3.9/lib/python3.9/site-packages/pandas/_libs/index.pyx\u001b[0m in \u001b[0;36mpandas._libs.index.IndexEngine.get_loc\u001b[0;34m()\u001b[0m\n",
      "\u001b[0;32m/Library/Frameworks/Python.framework/Versions/3.9/lib/python3.9/site-packages/pandas/_libs/index.pyx\u001b[0m in \u001b[0;36mpandas._libs.index.IndexEngine.get_loc\u001b[0;34m()\u001b[0m\n",
      "\u001b[0;32mpandas/_libs/hashtable_class_helper.pxi\u001b[0m in \u001b[0;36mpandas._libs.hashtable.PyObjectHashTable.get_item\u001b[0;34m()\u001b[0m\n",
      "\u001b[0;32mpandas/_libs/hashtable_class_helper.pxi\u001b[0m in \u001b[0;36mpandas._libs.hashtable.PyObjectHashTable.get_item\u001b[0;34m()\u001b[0m\n",
      "\u001b[0;31mKeyError\u001b[0m: 'cleaned'",
      "\nThe above exception was the direct cause of the following exception:\n",
      "\u001b[0;31mKeyError\u001b[0m                                  Traceback (most recent call last)",
      "\u001b[0;32m<timed exec>\u001b[0m in \u001b[0;36m<module>\u001b[0;34m\u001b[0m\n",
      "\u001b[0;32m/Library/Frameworks/Python.framework/Versions/3.9/lib/python3.9/site-packages/pandas/core/frame.py\u001b[0m in \u001b[0;36m__getitem__\u001b[0;34m(self, key)\u001b[0m\n\u001b[1;32m   3453\u001b[0m             \u001b[0;32mif\u001b[0m \u001b[0mself\u001b[0m\u001b[0;34m.\u001b[0m\u001b[0mcolumns\u001b[0m\u001b[0;34m.\u001b[0m\u001b[0mnlevels\u001b[0m \u001b[0;34m>\u001b[0m \u001b[0;36m1\u001b[0m\u001b[0;34m:\u001b[0m\u001b[0;34m\u001b[0m\u001b[0;34m\u001b[0m\u001b[0m\n\u001b[1;32m   3454\u001b[0m                 \u001b[0;32mreturn\u001b[0m \u001b[0mself\u001b[0m\u001b[0;34m.\u001b[0m\u001b[0m_getitem_multilevel\u001b[0m\u001b[0;34m(\u001b[0m\u001b[0mkey\u001b[0m\u001b[0;34m)\u001b[0m\u001b[0;34m\u001b[0m\u001b[0;34m\u001b[0m\u001b[0m\n\u001b[0;32m-> 3455\u001b[0;31m             \u001b[0mindexer\u001b[0m \u001b[0;34m=\u001b[0m \u001b[0mself\u001b[0m\u001b[0;34m.\u001b[0m\u001b[0mcolumns\u001b[0m\u001b[0;34m.\u001b[0m\u001b[0mget_loc\u001b[0m\u001b[0;34m(\u001b[0m\u001b[0mkey\u001b[0m\u001b[0;34m)\u001b[0m\u001b[0;34m\u001b[0m\u001b[0;34m\u001b[0m\u001b[0m\n\u001b[0m\u001b[1;32m   3456\u001b[0m             \u001b[0;32mif\u001b[0m \u001b[0mis_integer\u001b[0m\u001b[0;34m(\u001b[0m\u001b[0mindexer\u001b[0m\u001b[0;34m)\u001b[0m\u001b[0;34m:\u001b[0m\u001b[0;34m\u001b[0m\u001b[0;34m\u001b[0m\u001b[0m\n\u001b[1;32m   3457\u001b[0m                 \u001b[0mindexer\u001b[0m \u001b[0;34m=\u001b[0m \u001b[0;34m[\u001b[0m\u001b[0mindexer\u001b[0m\u001b[0;34m]\u001b[0m\u001b[0;34m\u001b[0m\u001b[0;34m\u001b[0m\u001b[0m\n",
      "\u001b[0;32m/Library/Frameworks/Python.framework/Versions/3.9/lib/python3.9/site-packages/pandas/core/indexes/base.py\u001b[0m in \u001b[0;36mget_loc\u001b[0;34m(self, key, method, tolerance)\u001b[0m\n\u001b[1;32m   3361\u001b[0m                 \u001b[0;32mreturn\u001b[0m \u001b[0mself\u001b[0m\u001b[0;34m.\u001b[0m\u001b[0m_engine\u001b[0m\u001b[0;34m.\u001b[0m\u001b[0mget_loc\u001b[0m\u001b[0;34m(\u001b[0m\u001b[0mcasted_key\u001b[0m\u001b[0;34m)\u001b[0m\u001b[0;34m\u001b[0m\u001b[0;34m\u001b[0m\u001b[0m\n\u001b[1;32m   3362\u001b[0m             \u001b[0;32mexcept\u001b[0m \u001b[0mKeyError\u001b[0m \u001b[0;32mas\u001b[0m \u001b[0merr\u001b[0m\u001b[0;34m:\u001b[0m\u001b[0;34m\u001b[0m\u001b[0;34m\u001b[0m\u001b[0m\n\u001b[0;32m-> 3363\u001b[0;31m                 \u001b[0;32mraise\u001b[0m \u001b[0mKeyError\u001b[0m\u001b[0;34m(\u001b[0m\u001b[0mkey\u001b[0m\u001b[0;34m)\u001b[0m \u001b[0;32mfrom\u001b[0m \u001b[0merr\u001b[0m\u001b[0;34m\u001b[0m\u001b[0;34m\u001b[0m\u001b[0m\n\u001b[0m\u001b[1;32m   3364\u001b[0m \u001b[0;34m\u001b[0m\u001b[0m\n\u001b[1;32m   3365\u001b[0m         \u001b[0;32mif\u001b[0m \u001b[0mis_scalar\u001b[0m\u001b[0;34m(\u001b[0m\u001b[0mkey\u001b[0m\u001b[0;34m)\u001b[0m \u001b[0;32mand\u001b[0m \u001b[0misna\u001b[0m\u001b[0;34m(\u001b[0m\u001b[0mkey\u001b[0m\u001b[0;34m)\u001b[0m \u001b[0;32mand\u001b[0m \u001b[0;32mnot\u001b[0m \u001b[0mself\u001b[0m\u001b[0;34m.\u001b[0m\u001b[0mhasnans\u001b[0m\u001b[0;34m:\u001b[0m\u001b[0;34m\u001b[0m\u001b[0;34m\u001b[0m\u001b[0m\n",
      "\u001b[0;31mKeyError\u001b[0m: 'cleaned'"
     ]
    }
   ],
   "source": [
    "%%time\n",
    "\n",
    "x = train_set_high\n",
    "x.reset_index(inplace=True, drop=True)\n",
    "X, _ = vectorize(x['cleaned'], x[features], ngram_range=ngram)\n",
    "y = x['labels']\n",
    "clf =  GridSearchCV(nb, cv_grid)\n",
    "clf.fit(X, y)\n",
    "print('\\n')\n",
    "print(\"For {}-grams\".format(ngram))\n",
    "sorted(clf.cv_results_.keys())\n",
    "results = clf.cv_results_['mean_test_score']\n",
    "print(\"Best Parameters for Naive_Bayes: {}\".format(clf.best_params_))\n",
    "print('Best Accuracy over {}-folds : {:.3f}'.format(len(results), results.max()))\n",
    "print('Average Accuracy {:.3f}'.format(results.mean()))"
   ]
  },
  {
   "cell_type": "markdown",
   "id": "9ef54a9d",
   "metadata": {},
   "source": [
    "# Naive Bayes"
   ]
  },
  {
   "cell_type": "code",
   "execution_count": 55,
   "id": "849f7224",
   "metadata": {
    "scrolled": true
   },
   "outputs": [
    {
     "name": "stdout",
     "output_type": "stream",
     "text": [
      "current params:\n",
      "{'alpha': 1.0, 'class_prior': None, 'fit_prior': True}\n"
     ]
    }
   ],
   "source": [
    "# Get current Parameters\n",
    "nb = MultinomialNB()\n",
    "print('current params:')\n",
    "print(nb.get_params())"
   ]
  },
  {
   "cell_type": "markdown",
   "id": "308d560f",
   "metadata": {},
   "source": [
    "We will be looking at the best parameters for the Multinomial NB Classifier as well as looking at different n_grams. Do examine this, we will be looking at a subset of the dataframe. Let's take a look at Elon Musk's tweets for this."
   ]
  },
  {
   "cell_type": "code",
   "execution_count": 56,
   "id": "b0001c69",
   "metadata": {},
   "outputs": [],
   "source": [
    "# Fine Tuning for Naive Bayes\n",
    "\n",
    "# Smoothing Parameter\n",
    "alpha = np.linspace(0, 1.0, num=11)\n",
    "\n",
    "cv_grid = {'alpha':alpha}"
   ]
  },
  {
   "cell_type": "code",
   "execution_count": 57,
   "id": "73ecdbb3",
   "metadata": {
    "scrolled": true
   },
   "outputs": [
    {
     "ename": "ValueError",
     "evalue": "Unable to convert array of bytes/strings into decimal numbers with dtype='numeric'",
     "output_type": "error",
     "traceback": [
      "\u001b[0;31m---------------------------------------------------------------------------\u001b[0m",
      "\u001b[0;31mValueError\u001b[0m                                Traceback (most recent call last)",
      "\u001b[0;32m/Library/Frameworks/Python.framework/Versions/3.9/lib/python3.9/site-packages/sklearn/utils/validation.py\u001b[0m in \u001b[0;36mcheck_array\u001b[0;34m(array, accept_sparse, accept_large_sparse, dtype, order, copy, force_all_finite, ensure_2d, allow_nd, ensure_min_samples, ensure_min_features, estimator)\u001b[0m\n\u001b[1;32m    709\u001b[0m             \u001b[0;32mtry\u001b[0m\u001b[0;34m:\u001b[0m\u001b[0;34m\u001b[0m\u001b[0;34m\u001b[0m\u001b[0m\n\u001b[0;32m--> 710\u001b[0;31m                 \u001b[0marray\u001b[0m \u001b[0;34m=\u001b[0m \u001b[0marray\u001b[0m\u001b[0;34m.\u001b[0m\u001b[0mastype\u001b[0m\u001b[0;34m(\u001b[0m\u001b[0mnp\u001b[0m\u001b[0;34m.\u001b[0m\u001b[0mfloat64\u001b[0m\u001b[0;34m)\u001b[0m\u001b[0;34m\u001b[0m\u001b[0;34m\u001b[0m\u001b[0m\n\u001b[0m\u001b[1;32m    711\u001b[0m             \u001b[0;32mexcept\u001b[0m \u001b[0mValueError\u001b[0m \u001b[0;32mas\u001b[0m \u001b[0me\u001b[0m\u001b[0;34m:\u001b[0m\u001b[0;34m\u001b[0m\u001b[0;34m\u001b[0m\u001b[0m\n",
      "\u001b[0;31mValueError\u001b[0m: could not convert string to float: 'drop'",
      "\nThe above exception was the direct cause of the following exception:\n",
      "\u001b[0;31mValueError\u001b[0m                                Traceback (most recent call last)",
      "\u001b[0;32m<timed exec>\u001b[0m in \u001b[0;36m<module>\u001b[0;34m\u001b[0m\n",
      "\u001b[0;32m/Library/Frameworks/Python.framework/Versions/3.9/lib/python3.9/site-packages/sklearn/utils/validation.py\u001b[0m in \u001b[0;36minner_f\u001b[0;34m(*args, **kwargs)\u001b[0m\n\u001b[1;32m     61\u001b[0m             \u001b[0mextra_args\u001b[0m \u001b[0;34m=\u001b[0m \u001b[0mlen\u001b[0m\u001b[0;34m(\u001b[0m\u001b[0margs\u001b[0m\u001b[0;34m)\u001b[0m \u001b[0;34m-\u001b[0m \u001b[0mlen\u001b[0m\u001b[0;34m(\u001b[0m\u001b[0mall_args\u001b[0m\u001b[0;34m)\u001b[0m\u001b[0;34m\u001b[0m\u001b[0;34m\u001b[0m\u001b[0m\n\u001b[1;32m     62\u001b[0m             \u001b[0;32mif\u001b[0m \u001b[0mextra_args\u001b[0m \u001b[0;34m<=\u001b[0m \u001b[0;36m0\u001b[0m\u001b[0;34m:\u001b[0m\u001b[0;34m\u001b[0m\u001b[0;34m\u001b[0m\u001b[0m\n\u001b[0;32m---> 63\u001b[0;31m                 \u001b[0;32mreturn\u001b[0m \u001b[0mf\u001b[0m\u001b[0;34m(\u001b[0m\u001b[0;34m*\u001b[0m\u001b[0margs\u001b[0m\u001b[0;34m,\u001b[0m \u001b[0;34m**\u001b[0m\u001b[0mkwargs\u001b[0m\u001b[0;34m)\u001b[0m\u001b[0;34m\u001b[0m\u001b[0;34m\u001b[0m\u001b[0m\n\u001b[0m\u001b[1;32m     64\u001b[0m \u001b[0;34m\u001b[0m\u001b[0m\n\u001b[1;32m     65\u001b[0m             \u001b[0;31m# extra_args > 0\u001b[0m\u001b[0;34m\u001b[0m\u001b[0;34m\u001b[0m\u001b[0;34m\u001b[0m\u001b[0m\n",
      "\u001b[0;32m/Library/Frameworks/Python.framework/Versions/3.9/lib/python3.9/site-packages/sklearn/model_selection/_search.py\u001b[0m in \u001b[0;36mfit\u001b[0;34m(self, X, y, groups, **fit_params)\u001b[0m\n\u001b[1;32m    878\u001b[0m             \u001b[0mrefit_start_time\u001b[0m \u001b[0;34m=\u001b[0m \u001b[0mtime\u001b[0m\u001b[0;34m.\u001b[0m\u001b[0mtime\u001b[0m\u001b[0;34m(\u001b[0m\u001b[0;34m)\u001b[0m\u001b[0;34m\u001b[0m\u001b[0;34m\u001b[0m\u001b[0m\n\u001b[1;32m    879\u001b[0m             \u001b[0;32mif\u001b[0m \u001b[0my\u001b[0m \u001b[0;32mis\u001b[0m \u001b[0;32mnot\u001b[0m \u001b[0;32mNone\u001b[0m\u001b[0;34m:\u001b[0m\u001b[0;34m\u001b[0m\u001b[0;34m\u001b[0m\u001b[0m\n\u001b[0;32m--> 880\u001b[0;31m                 \u001b[0mself\u001b[0m\u001b[0;34m.\u001b[0m\u001b[0mbest_estimator_\u001b[0m\u001b[0;34m.\u001b[0m\u001b[0mfit\u001b[0m\u001b[0;34m(\u001b[0m\u001b[0mX\u001b[0m\u001b[0;34m,\u001b[0m \u001b[0my\u001b[0m\u001b[0;34m,\u001b[0m \u001b[0;34m**\u001b[0m\u001b[0mfit_params\u001b[0m\u001b[0;34m)\u001b[0m\u001b[0;34m\u001b[0m\u001b[0;34m\u001b[0m\u001b[0m\n\u001b[0m\u001b[1;32m    881\u001b[0m             \u001b[0;32melse\u001b[0m\u001b[0;34m:\u001b[0m\u001b[0;34m\u001b[0m\u001b[0;34m\u001b[0m\u001b[0m\n\u001b[1;32m    882\u001b[0m                 \u001b[0mself\u001b[0m\u001b[0;34m.\u001b[0m\u001b[0mbest_estimator_\u001b[0m\u001b[0;34m.\u001b[0m\u001b[0mfit\u001b[0m\u001b[0;34m(\u001b[0m\u001b[0mX\u001b[0m\u001b[0;34m,\u001b[0m \u001b[0;34m**\u001b[0m\u001b[0mfit_params\u001b[0m\u001b[0;34m)\u001b[0m\u001b[0;34m\u001b[0m\u001b[0;34m\u001b[0m\u001b[0m\n",
      "\u001b[0;32m/Library/Frameworks/Python.framework/Versions/3.9/lib/python3.9/site-packages/sklearn/naive_bayes.py\u001b[0m in \u001b[0;36mfit\u001b[0;34m(self, X, y, sample_weight)\u001b[0m\n\u001b[1;32m    610\u001b[0m         \u001b[0mself\u001b[0m \u001b[0;34m:\u001b[0m \u001b[0mobject\u001b[0m\u001b[0;34m\u001b[0m\u001b[0;34m\u001b[0m\u001b[0m\n\u001b[1;32m    611\u001b[0m         \"\"\"\n\u001b[0;32m--> 612\u001b[0;31m         \u001b[0mX\u001b[0m\u001b[0;34m,\u001b[0m \u001b[0my\u001b[0m \u001b[0;34m=\u001b[0m \u001b[0mself\u001b[0m\u001b[0;34m.\u001b[0m\u001b[0m_check_X_y\u001b[0m\u001b[0;34m(\u001b[0m\u001b[0mX\u001b[0m\u001b[0;34m,\u001b[0m \u001b[0my\u001b[0m\u001b[0;34m)\u001b[0m\u001b[0;34m\u001b[0m\u001b[0;34m\u001b[0m\u001b[0m\n\u001b[0m\u001b[1;32m    613\u001b[0m         \u001b[0m_\u001b[0m\u001b[0;34m,\u001b[0m \u001b[0mn_features\u001b[0m \u001b[0;34m=\u001b[0m \u001b[0mX\u001b[0m\u001b[0;34m.\u001b[0m\u001b[0mshape\u001b[0m\u001b[0;34m\u001b[0m\u001b[0;34m\u001b[0m\u001b[0m\n\u001b[1;32m    614\u001b[0m         \u001b[0mself\u001b[0m\u001b[0;34m.\u001b[0m\u001b[0mn_features_\u001b[0m \u001b[0;34m=\u001b[0m \u001b[0mn_features\u001b[0m\u001b[0;34m\u001b[0m\u001b[0;34m\u001b[0m\u001b[0m\n",
      "\u001b[0;32m/Library/Frameworks/Python.framework/Versions/3.9/lib/python3.9/site-packages/sklearn/naive_bayes.py\u001b[0m in \u001b[0;36m_check_X_y\u001b[0;34m(self, X, y)\u001b[0m\n\u001b[1;32m    475\u001b[0m \u001b[0;34m\u001b[0m\u001b[0m\n\u001b[1;32m    476\u001b[0m     \u001b[0;32mdef\u001b[0m \u001b[0m_check_X_y\u001b[0m\u001b[0;34m(\u001b[0m\u001b[0mself\u001b[0m\u001b[0;34m,\u001b[0m \u001b[0mX\u001b[0m\u001b[0;34m,\u001b[0m \u001b[0my\u001b[0m\u001b[0;34m)\u001b[0m\u001b[0;34m:\u001b[0m\u001b[0;34m\u001b[0m\u001b[0;34m\u001b[0m\u001b[0m\n\u001b[0;32m--> 477\u001b[0;31m         \u001b[0;32mreturn\u001b[0m \u001b[0mself\u001b[0m\u001b[0;34m.\u001b[0m\u001b[0m_validate_data\u001b[0m\u001b[0;34m(\u001b[0m\u001b[0mX\u001b[0m\u001b[0;34m,\u001b[0m \u001b[0my\u001b[0m\u001b[0;34m,\u001b[0m \u001b[0maccept_sparse\u001b[0m\u001b[0;34m=\u001b[0m\u001b[0;34m'csr'\u001b[0m\u001b[0;34m)\u001b[0m\u001b[0;34m\u001b[0m\u001b[0;34m\u001b[0m\u001b[0m\n\u001b[0m\u001b[1;32m    478\u001b[0m \u001b[0;34m\u001b[0m\u001b[0m\n\u001b[1;32m    479\u001b[0m     \u001b[0;32mdef\u001b[0m \u001b[0m_update_class_log_prior\u001b[0m\u001b[0;34m(\u001b[0m\u001b[0mself\u001b[0m\u001b[0;34m,\u001b[0m \u001b[0mclass_prior\u001b[0m\u001b[0;34m=\u001b[0m\u001b[0;32mNone\u001b[0m\u001b[0;34m)\u001b[0m\u001b[0;34m:\u001b[0m\u001b[0;34m\u001b[0m\u001b[0;34m\u001b[0m\u001b[0m\n",
      "\u001b[0;32m/Library/Frameworks/Python.framework/Versions/3.9/lib/python3.9/site-packages/sklearn/base.py\u001b[0m in \u001b[0;36m_validate_data\u001b[0;34m(self, X, y, reset, validate_separately, **check_params)\u001b[0m\n\u001b[1;32m    431\u001b[0m                 \u001b[0my\u001b[0m \u001b[0;34m=\u001b[0m \u001b[0mcheck_array\u001b[0m\u001b[0;34m(\u001b[0m\u001b[0my\u001b[0m\u001b[0;34m,\u001b[0m \u001b[0;34m**\u001b[0m\u001b[0mcheck_y_params\u001b[0m\u001b[0;34m)\u001b[0m\u001b[0;34m\u001b[0m\u001b[0;34m\u001b[0m\u001b[0m\n\u001b[1;32m    432\u001b[0m             \u001b[0;32melse\u001b[0m\u001b[0;34m:\u001b[0m\u001b[0;34m\u001b[0m\u001b[0;34m\u001b[0m\u001b[0m\n\u001b[0;32m--> 433\u001b[0;31m                 \u001b[0mX\u001b[0m\u001b[0;34m,\u001b[0m \u001b[0my\u001b[0m \u001b[0;34m=\u001b[0m \u001b[0mcheck_X_y\u001b[0m\u001b[0;34m(\u001b[0m\u001b[0mX\u001b[0m\u001b[0;34m,\u001b[0m \u001b[0my\u001b[0m\u001b[0;34m,\u001b[0m \u001b[0;34m**\u001b[0m\u001b[0mcheck_params\u001b[0m\u001b[0;34m)\u001b[0m\u001b[0;34m\u001b[0m\u001b[0;34m\u001b[0m\u001b[0m\n\u001b[0m\u001b[1;32m    434\u001b[0m             \u001b[0mout\u001b[0m \u001b[0;34m=\u001b[0m \u001b[0mX\u001b[0m\u001b[0;34m,\u001b[0m \u001b[0my\u001b[0m\u001b[0;34m\u001b[0m\u001b[0;34m\u001b[0m\u001b[0m\n\u001b[1;32m    435\u001b[0m \u001b[0;34m\u001b[0m\u001b[0m\n",
      "\u001b[0;32m/Library/Frameworks/Python.framework/Versions/3.9/lib/python3.9/site-packages/sklearn/utils/validation.py\u001b[0m in \u001b[0;36minner_f\u001b[0;34m(*args, **kwargs)\u001b[0m\n\u001b[1;32m     61\u001b[0m             \u001b[0mextra_args\u001b[0m \u001b[0;34m=\u001b[0m \u001b[0mlen\u001b[0m\u001b[0;34m(\u001b[0m\u001b[0margs\u001b[0m\u001b[0;34m)\u001b[0m \u001b[0;34m-\u001b[0m \u001b[0mlen\u001b[0m\u001b[0;34m(\u001b[0m\u001b[0mall_args\u001b[0m\u001b[0;34m)\u001b[0m\u001b[0;34m\u001b[0m\u001b[0;34m\u001b[0m\u001b[0m\n\u001b[1;32m     62\u001b[0m             \u001b[0;32mif\u001b[0m \u001b[0mextra_args\u001b[0m \u001b[0;34m<=\u001b[0m \u001b[0;36m0\u001b[0m\u001b[0;34m:\u001b[0m\u001b[0;34m\u001b[0m\u001b[0;34m\u001b[0m\u001b[0m\n\u001b[0;32m---> 63\u001b[0;31m                 \u001b[0;32mreturn\u001b[0m \u001b[0mf\u001b[0m\u001b[0;34m(\u001b[0m\u001b[0;34m*\u001b[0m\u001b[0margs\u001b[0m\u001b[0;34m,\u001b[0m \u001b[0;34m**\u001b[0m\u001b[0mkwargs\u001b[0m\u001b[0;34m)\u001b[0m\u001b[0;34m\u001b[0m\u001b[0;34m\u001b[0m\u001b[0m\n\u001b[0m\u001b[1;32m     64\u001b[0m \u001b[0;34m\u001b[0m\u001b[0m\n\u001b[1;32m     65\u001b[0m             \u001b[0;31m# extra_args > 0\u001b[0m\u001b[0;34m\u001b[0m\u001b[0;34m\u001b[0m\u001b[0;34m\u001b[0m\u001b[0m\n",
      "\u001b[0;32m/Library/Frameworks/Python.framework/Versions/3.9/lib/python3.9/site-packages/sklearn/utils/validation.py\u001b[0m in \u001b[0;36mcheck_X_y\u001b[0;34m(X, y, accept_sparse, accept_large_sparse, dtype, order, copy, force_all_finite, ensure_2d, allow_nd, multi_output, ensure_min_samples, ensure_min_features, y_numeric, estimator)\u001b[0m\n\u001b[1;32m    869\u001b[0m         \u001b[0;32mraise\u001b[0m \u001b[0mValueError\u001b[0m\u001b[0;34m(\u001b[0m\u001b[0;34m\"y cannot be None\"\u001b[0m\u001b[0;34m)\u001b[0m\u001b[0;34m\u001b[0m\u001b[0;34m\u001b[0m\u001b[0m\n\u001b[1;32m    870\u001b[0m \u001b[0;34m\u001b[0m\u001b[0m\n\u001b[0;32m--> 871\u001b[0;31m     X = check_array(X, accept_sparse=accept_sparse,\n\u001b[0m\u001b[1;32m    872\u001b[0m                     \u001b[0maccept_large_sparse\u001b[0m\u001b[0;34m=\u001b[0m\u001b[0maccept_large_sparse\u001b[0m\u001b[0;34m,\u001b[0m\u001b[0;34m\u001b[0m\u001b[0;34m\u001b[0m\u001b[0m\n\u001b[1;32m    873\u001b[0m                     \u001b[0mdtype\u001b[0m\u001b[0;34m=\u001b[0m\u001b[0mdtype\u001b[0m\u001b[0;34m,\u001b[0m \u001b[0morder\u001b[0m\u001b[0;34m=\u001b[0m\u001b[0morder\u001b[0m\u001b[0;34m,\u001b[0m \u001b[0mcopy\u001b[0m\u001b[0;34m=\u001b[0m\u001b[0mcopy\u001b[0m\u001b[0;34m,\u001b[0m\u001b[0;34m\u001b[0m\u001b[0;34m\u001b[0m\u001b[0m\n",
      "\u001b[0;32m/Library/Frameworks/Python.framework/Versions/3.9/lib/python3.9/site-packages/sklearn/utils/validation.py\u001b[0m in \u001b[0;36minner_f\u001b[0;34m(*args, **kwargs)\u001b[0m\n\u001b[1;32m     61\u001b[0m             \u001b[0mextra_args\u001b[0m \u001b[0;34m=\u001b[0m \u001b[0mlen\u001b[0m\u001b[0;34m(\u001b[0m\u001b[0margs\u001b[0m\u001b[0;34m)\u001b[0m \u001b[0;34m-\u001b[0m \u001b[0mlen\u001b[0m\u001b[0;34m(\u001b[0m\u001b[0mall_args\u001b[0m\u001b[0;34m)\u001b[0m\u001b[0;34m\u001b[0m\u001b[0;34m\u001b[0m\u001b[0m\n\u001b[1;32m     62\u001b[0m             \u001b[0;32mif\u001b[0m \u001b[0mextra_args\u001b[0m \u001b[0;34m<=\u001b[0m \u001b[0;36m0\u001b[0m\u001b[0;34m:\u001b[0m\u001b[0;34m\u001b[0m\u001b[0;34m\u001b[0m\u001b[0m\n\u001b[0;32m---> 63\u001b[0;31m                 \u001b[0;32mreturn\u001b[0m \u001b[0mf\u001b[0m\u001b[0;34m(\u001b[0m\u001b[0;34m*\u001b[0m\u001b[0margs\u001b[0m\u001b[0;34m,\u001b[0m \u001b[0;34m**\u001b[0m\u001b[0mkwargs\u001b[0m\u001b[0;34m)\u001b[0m\u001b[0;34m\u001b[0m\u001b[0;34m\u001b[0m\u001b[0m\n\u001b[0m\u001b[1;32m     64\u001b[0m \u001b[0;34m\u001b[0m\u001b[0m\n\u001b[1;32m     65\u001b[0m             \u001b[0;31m# extra_args > 0\u001b[0m\u001b[0;34m\u001b[0m\u001b[0;34m\u001b[0m\u001b[0;34m\u001b[0m\u001b[0m\n",
      "\u001b[0;32m/Library/Frameworks/Python.framework/Versions/3.9/lib/python3.9/site-packages/sklearn/utils/validation.py\u001b[0m in \u001b[0;36mcheck_array\u001b[0;34m(array, accept_sparse, accept_large_sparse, dtype, order, copy, force_all_finite, ensure_2d, allow_nd, ensure_min_samples, ensure_min_features, estimator)\u001b[0m\n\u001b[1;32m    710\u001b[0m                 \u001b[0marray\u001b[0m \u001b[0;34m=\u001b[0m \u001b[0marray\u001b[0m\u001b[0;34m.\u001b[0m\u001b[0mastype\u001b[0m\u001b[0;34m(\u001b[0m\u001b[0mnp\u001b[0m\u001b[0;34m.\u001b[0m\u001b[0mfloat64\u001b[0m\u001b[0;34m)\u001b[0m\u001b[0;34m\u001b[0m\u001b[0;34m\u001b[0m\u001b[0m\n\u001b[1;32m    711\u001b[0m             \u001b[0;32mexcept\u001b[0m \u001b[0mValueError\u001b[0m \u001b[0;32mas\u001b[0m \u001b[0me\u001b[0m\u001b[0;34m:\u001b[0m\u001b[0;34m\u001b[0m\u001b[0;34m\u001b[0m\u001b[0m\n\u001b[0;32m--> 712\u001b[0;31m                 raise ValueError(\n\u001b[0m\u001b[1;32m    713\u001b[0m                     \u001b[0;34m\"Unable to convert array of bytes/strings \"\u001b[0m\u001b[0;34m\u001b[0m\u001b[0;34m\u001b[0m\u001b[0m\n\u001b[1;32m    714\u001b[0m                     \"into decimal numbers with dtype='numeric'\") from e\n",
      "\u001b[0;31mValueError\u001b[0m: Unable to convert array of bytes/strings into decimal numbers with dtype='numeric'"
     ]
    }
   ],
   "source": [
    "%%time\n",
    "best_score = 0\n",
    "best_ngram = []\n",
    "# Iteration over ngrams and alpha\n",
    "ngram_range = [(1,1), (1,2), (1,3), (2,2), (2,3), (3,3)]\n",
    "for ngram in ngram_range:\n",
    "    x = train_set.sample(frac=0.15)\n",
    "    x.reset_index(inplace=True, drop=True)\n",
    "    X, _ = vectorize(x['cleaned'], x[features], ngram_range=ngram)\n",
    "    y = x['labels']\n",
    "    clf =  GridSearchCV(nb, cv_grid)\n",
    "    clf.fit(X, y)\n",
    "    print('\\n')\n",
    "    print(\"For {}-grams\".format(ngram))\n",
    "    sorted(clf.cv_results_.keys())\n",
    "    results = clf.cv_results_['mean_test_score']\n",
    "    print(\"Best Parameters for Naive_Bayes: {}\".format(clf.best_params_))\n",
    "    print('Best Accuracy over {}-folds : {:.3f}'.format(len(results), results.max()))\n",
    "    print('Average Accuracy {:.3f}'.format(results.mean()))\n",
    "    if results.mean() > best_score:\n",
    "        best_score = results.mean()\n",
    "        best_ngram = ngram"
   ]
  },
  {
   "cell_type": "code",
   "execution_count": 58,
   "id": "09def996",
   "metadata": {},
   "outputs": [
    {
     "name": "stdout",
     "output_type": "stream",
     "text": [
      "best avg score 0.000 for []-grams\n"
     ]
    }
   ],
   "source": [
    "print(\"best avg score {:.3f} for {}-grams\".format(best_score, best_ngram))\n",
    "best_params['best_ngram'] = best_ngram"
   ]
  },
  {
   "cell_type": "code",
   "execution_count": 59,
   "id": "4e554c4c",
   "metadata": {},
   "outputs": [],
   "source": [
    "# Get best estimator for NB\n",
    "best_nb = clf.best_estimator_\n",
    "best_params['best_nb'] = best_nb"
   ]
  },
  {
   "cell_type": "code",
   "execution_count": 60,
   "id": "e1d29671",
   "metadata": {
    "scrolled": true
   },
   "outputs": [
    {
     "ename": "ValueError",
     "evalue": "not enough values to unpack (expected 2, got 0)",
     "output_type": "error",
     "traceback": [
      "\u001b[0;31m---------------------------------------------------------------------------\u001b[0m",
      "\u001b[0;31mValueError\u001b[0m                                Traceback (most recent call last)",
      "\u001b[0;32m<timed exec>\u001b[0m in \u001b[0;36m<module>\u001b[0;34m\u001b[0m\n",
      "\u001b[0;32m<ipython-input-35-946ee865a2c7>\u001b[0m in \u001b[0;36mvectorize\u001b[0;34m(X_text, X_features, ngram_range, min_df)\u001b[0m\n\u001b[1;32m      1\u001b[0m \u001b[0;32mdef\u001b[0m \u001b[0mvectorize\u001b[0m\u001b[0;34m(\u001b[0m\u001b[0mX_text\u001b[0m\u001b[0;34m,\u001b[0m \u001b[0mX_features\u001b[0m\u001b[0;34m=\u001b[0m\u001b[0;32mNone\u001b[0m\u001b[0;34m,\u001b[0m \u001b[0mngram_range\u001b[0m\u001b[0;34m=\u001b[0m\u001b[0;34m(\u001b[0m\u001b[0;36m1\u001b[0m\u001b[0;34m,\u001b[0m\u001b[0;36m1\u001b[0m\u001b[0;34m)\u001b[0m\u001b[0;34m,\u001b[0m \u001b[0mmin_df\u001b[0m\u001b[0;34m=\u001b[0m\u001b[0;36m1\u001b[0m\u001b[0;34m)\u001b[0m\u001b[0;34m:\u001b[0m\u001b[0;34m\u001b[0m\u001b[0;34m\u001b[0m\u001b[0m\n\u001b[1;32m      2\u001b[0m     \u001b[0mtfidf\u001b[0m \u001b[0;34m=\u001b[0m \u001b[0mTfidfVectorizer\u001b[0m\u001b[0;34m(\u001b[0m\u001b[0mngram_range\u001b[0m \u001b[0;34m=\u001b[0m \u001b[0mngram_range\u001b[0m\u001b[0;34m,\u001b[0m \u001b[0mmin_df\u001b[0m \u001b[0;34m=\u001b[0m \u001b[0mmin_df\u001b[0m\u001b[0;34m)\u001b[0m\u001b[0;34m\u001b[0m\u001b[0;34m\u001b[0m\u001b[0m\n\u001b[0;32m----> 3\u001b[0;31m     \u001b[0mmatrix\u001b[0m \u001b[0;34m=\u001b[0m \u001b[0mtfidf\u001b[0m\u001b[0;34m.\u001b[0m\u001b[0mfit_transform\u001b[0m\u001b[0;34m(\u001b[0m\u001b[0mX_text\u001b[0m\u001b[0;34m)\u001b[0m\u001b[0;34m\u001b[0m\u001b[0;34m\u001b[0m\u001b[0m\n\u001b[0m\u001b[1;32m      4\u001b[0m     \u001b[0mmatrix_df\u001b[0m \u001b[0;34m=\u001b[0m \u001b[0mpd\u001b[0m\u001b[0;34m.\u001b[0m\u001b[0mDataFrame\u001b[0m\u001b[0;34m(\u001b[0m\u001b[0mmatrix\u001b[0m\u001b[0;34m.\u001b[0m\u001b[0mtoarray\u001b[0m\u001b[0;34m(\u001b[0m\u001b[0;34m)\u001b[0m\u001b[0;34m)\u001b[0m\u001b[0;34m\u001b[0m\u001b[0;34m\u001b[0m\u001b[0m\n\u001b[1;32m      5\u001b[0m     \u001b[0;32mif\u001b[0m \u001b[0mtype\u001b[0m\u001b[0;34m(\u001b[0m\u001b[0mX_features\u001b[0m\u001b[0;34m)\u001b[0m \u001b[0;34m!=\u001b[0m \u001b[0;34m'NoneType'\u001b[0m\u001b[0;34m:\u001b[0m\u001b[0;34m\u001b[0m\u001b[0;34m\u001b[0m\u001b[0m\n",
      "\u001b[0;32m/Library/Frameworks/Python.framework/Versions/3.9/lib/python3.9/site-packages/sklearn/feature_extraction/text.py\u001b[0m in \u001b[0;36mfit_transform\u001b[0;34m(self, raw_documents, y)\u001b[0m\n\u001b[1;32m   1844\u001b[0m         \"\"\"\n\u001b[1;32m   1845\u001b[0m         \u001b[0mself\u001b[0m\u001b[0;34m.\u001b[0m\u001b[0m_check_params\u001b[0m\u001b[0;34m(\u001b[0m\u001b[0;34m)\u001b[0m\u001b[0;34m\u001b[0m\u001b[0;34m\u001b[0m\u001b[0m\n\u001b[0;32m-> 1846\u001b[0;31m         \u001b[0mX\u001b[0m \u001b[0;34m=\u001b[0m \u001b[0msuper\u001b[0m\u001b[0;34m(\u001b[0m\u001b[0;34m)\u001b[0m\u001b[0;34m.\u001b[0m\u001b[0mfit_transform\u001b[0m\u001b[0;34m(\u001b[0m\u001b[0mraw_documents\u001b[0m\u001b[0;34m)\u001b[0m\u001b[0;34m\u001b[0m\u001b[0;34m\u001b[0m\u001b[0m\n\u001b[0m\u001b[1;32m   1847\u001b[0m         \u001b[0mself\u001b[0m\u001b[0;34m.\u001b[0m\u001b[0m_tfidf\u001b[0m\u001b[0;34m.\u001b[0m\u001b[0mfit\u001b[0m\u001b[0;34m(\u001b[0m\u001b[0mX\u001b[0m\u001b[0;34m)\u001b[0m\u001b[0;34m\u001b[0m\u001b[0;34m\u001b[0m\u001b[0m\n\u001b[1;32m   1848\u001b[0m         \u001b[0;31m# X is already a transformed view of raw_documents so\u001b[0m\u001b[0;34m\u001b[0m\u001b[0;34m\u001b[0m\u001b[0;34m\u001b[0m\u001b[0m\n",
      "\u001b[0;32m/Library/Frameworks/Python.framework/Versions/3.9/lib/python3.9/site-packages/sklearn/feature_extraction/text.py\u001b[0m in \u001b[0;36mfit_transform\u001b[0;34m(self, raw_documents, y)\u001b[0m\n\u001b[1;32m   1194\u001b[0m                 \"string object received.\")\n\u001b[1;32m   1195\u001b[0m \u001b[0;34m\u001b[0m\u001b[0m\n\u001b[0;32m-> 1196\u001b[0;31m         \u001b[0mself\u001b[0m\u001b[0;34m.\u001b[0m\u001b[0m_validate_params\u001b[0m\u001b[0;34m(\u001b[0m\u001b[0;34m)\u001b[0m\u001b[0;34m\u001b[0m\u001b[0;34m\u001b[0m\u001b[0m\n\u001b[0m\u001b[1;32m   1197\u001b[0m         \u001b[0mself\u001b[0m\u001b[0;34m.\u001b[0m\u001b[0m_validate_vocabulary\u001b[0m\u001b[0;34m(\u001b[0m\u001b[0;34m)\u001b[0m\u001b[0;34m\u001b[0m\u001b[0;34m\u001b[0m\u001b[0m\n\u001b[1;32m   1198\u001b[0m         \u001b[0mmax_df\u001b[0m \u001b[0;34m=\u001b[0m \u001b[0mself\u001b[0m\u001b[0;34m.\u001b[0m\u001b[0mmax_df\u001b[0m\u001b[0;34m\u001b[0m\u001b[0;34m\u001b[0m\u001b[0m\n",
      "\u001b[0;32m/Library/Frameworks/Python.framework/Versions/3.9/lib/python3.9/site-packages/sklearn/feature_extraction/text.py\u001b[0m in \u001b[0;36m_validate_params\u001b[0;34m(self)\u001b[0m\n\u001b[1;32m    477\u001b[0m     \u001b[0;32mdef\u001b[0m \u001b[0m_validate_params\u001b[0m\u001b[0;34m(\u001b[0m\u001b[0mself\u001b[0m\u001b[0;34m)\u001b[0m\u001b[0;34m:\u001b[0m\u001b[0;34m\u001b[0m\u001b[0;34m\u001b[0m\u001b[0m\n\u001b[1;32m    478\u001b[0m         \u001b[0;34m\"\"\"Check validity of ngram_range parameter\"\"\"\u001b[0m\u001b[0;34m\u001b[0m\u001b[0;34m\u001b[0m\u001b[0m\n\u001b[0;32m--> 479\u001b[0;31m         \u001b[0mmin_n\u001b[0m\u001b[0;34m,\u001b[0m \u001b[0mmax_m\u001b[0m \u001b[0;34m=\u001b[0m \u001b[0mself\u001b[0m\u001b[0;34m.\u001b[0m\u001b[0mngram_range\u001b[0m\u001b[0;34m\u001b[0m\u001b[0;34m\u001b[0m\u001b[0m\n\u001b[0m\u001b[1;32m    480\u001b[0m         \u001b[0;32mif\u001b[0m \u001b[0mmin_n\u001b[0m \u001b[0;34m>\u001b[0m \u001b[0mmax_m\u001b[0m\u001b[0;34m:\u001b[0m\u001b[0;34m\u001b[0m\u001b[0;34m\u001b[0m\u001b[0m\n\u001b[1;32m    481\u001b[0m             raise ValueError(\n",
      "\u001b[0;31mValueError\u001b[0m: not enough values to unpack (expected 2, got 0)"
     ]
    }
   ],
   "source": [
    "%%time\n",
    "best_min_df = 0\n",
    "best_score = 0\n",
    "# Iteration over min_df\n",
    "min_df_list = [0, 0.001, 0.01, 0.1, 1]\n",
    "for min_df in min_df_list:\n",
    "    x = train_set.sample(frac=0.15)\n",
    "    x.reset_index(inplace=True, drop=True)\n",
    "    X, _ = vectorize(x['cleaned'], x[features], ngram_range=best_ngram, min_df = min_df)\n",
    "    y = x['labels']\n",
    "    scores = cross_val_score(best_nb, X, y, n_jobs=-1)\n",
    "    print('scores for {}-gram Naive Bayes with min_df of {}:'.format(best_ngram, min_df))\n",
    "    print('')\n",
    "    print(scores)\n",
    "    print('')\n",
    "    print('     best score: {}'.format(scores.max()))\n",
    "    print('     mean score: {}'.format(scores.mean()))\n",
    "    print('     score std: {}'.format(scores.std()))\n",
    "    print('')\n",
    "    if scores.mean() > best_score:\n",
    "        best_score = scores.mean()\n",
    "        best_min_df = min_df"
   ]
  },
  {
   "cell_type": "code",
   "execution_count": 61,
   "id": "ae8f3729",
   "metadata": {},
   "outputs": [
    {
     "name": "stdout",
     "output_type": "stream",
     "text": [
      "best avg score 0.000 for 0-grams\n"
     ]
    }
   ],
   "source": [
    "print(\"best avg score {:.3f} for {}-grams\".format(best_score, best_min_df))\n",
    "best_params['best_min_df'] = best_min_df"
   ]
  },
  {
   "cell_type": "code",
   "execution_count": 62,
   "id": "0090f18a",
   "metadata": {
    "scrolled": true
   },
   "outputs": [
    {
     "ename": "TypeError",
     "evalue": "Population must be a sequence.  For dicts or sets, use sorted(d).",
     "output_type": "error",
     "traceback": [
      "\u001b[0;31m---------------------------------------------------------------------------\u001b[0m",
      "\u001b[0;31mTypeError\u001b[0m                                 Traceback (most recent call last)",
      "\u001b[0;32m<timed exec>\u001b[0m in \u001b[0;36m<module>\u001b[0;34m\u001b[0m\n",
      "\u001b[0;32m/Library/Frameworks/Python.framework/Versions/3.9/lib/python3.9/random.py\u001b[0m in \u001b[0;36msample\u001b[0;34m(self, population, k, counts)\u001b[0m\n\u001b[1;32m    432\u001b[0m             \u001b[0mpopulation\u001b[0m \u001b[0;34m=\u001b[0m \u001b[0mtuple\u001b[0m\u001b[0;34m(\u001b[0m\u001b[0mpopulation\u001b[0m\u001b[0;34m)\u001b[0m\u001b[0;34m\u001b[0m\u001b[0;34m\u001b[0m\u001b[0m\n\u001b[1;32m    433\u001b[0m         \u001b[0;32mif\u001b[0m \u001b[0;32mnot\u001b[0m \u001b[0misinstance\u001b[0m\u001b[0;34m(\u001b[0m\u001b[0mpopulation\u001b[0m\u001b[0;34m,\u001b[0m \u001b[0m_Sequence\u001b[0m\u001b[0;34m)\u001b[0m\u001b[0;34m:\u001b[0m\u001b[0;34m\u001b[0m\u001b[0;34m\u001b[0m\u001b[0m\n\u001b[0;32m--> 434\u001b[0;31m             \u001b[0;32mraise\u001b[0m \u001b[0mTypeError\u001b[0m\u001b[0;34m(\u001b[0m\u001b[0;34m\"Population must be a sequence.  For dicts or sets, use sorted(d).\"\u001b[0m\u001b[0;34m)\u001b[0m\u001b[0;34m\u001b[0m\u001b[0;34m\u001b[0m\u001b[0m\n\u001b[0m\u001b[1;32m    435\u001b[0m         \u001b[0mn\u001b[0m \u001b[0;34m=\u001b[0m \u001b[0mlen\u001b[0m\u001b[0;34m(\u001b[0m\u001b[0mpopulation\u001b[0m\u001b[0;34m)\u001b[0m\u001b[0;34m\u001b[0m\u001b[0;34m\u001b[0m\u001b[0m\n\u001b[1;32m    436\u001b[0m         \u001b[0;32mif\u001b[0m \u001b[0mcounts\u001b[0m \u001b[0;32mis\u001b[0m \u001b[0;32mnot\u001b[0m \u001b[0;32mNone\u001b[0m\u001b[0;34m:\u001b[0m\u001b[0;34m\u001b[0m\u001b[0;34m\u001b[0m\u001b[0m\n",
      "\u001b[0;31mTypeError\u001b[0m: Population must be a sequence.  For dicts or sets, use sorted(d)."
     ]
    }
   ],
   "source": [
    "%%time\n",
    "best_features = []\n",
    "best_score = 0\n",
    "# Transformations\n",
    "for iter in range(3):\n",
    "    for i in range(len(features)):\n",
    "        feature = random.sample(features, i)\n",
    "        x = train_set.sample(frac=0.15)\n",
    "        x.reset_index(inplace=True, drop=True)\n",
    "        X, _ = vectorize(x['cleaned'], x[feature], ngram_range=best_ngram, min_df = best_min_df)\n",
    "        y = x['labels']\n",
    "        scores = cross_val_score(best_nb, X, y, n_jobs=-1)\n",
    "        if scores.mean() > best_score:\n",
    "            best_features = feature\n",
    "            best_score = scores.mean()\n",
    "        print('scores for {}-gram Naive Bayes with min_df of {} and {}:'.format(best_ngrams, best_min_df, feature))\n",
    "        print('')\n",
    "        print(scores)\n",
    "        print('')\n",
    "        print('     best score: {}'.format(scores.max()))\n",
    "        print('     mean score: {}'.format(scores.mean()))\n",
    "        print('     score std: {}'.format(scores.std()))\n",
    "        print('')\n"
   ]
  },
  {
   "cell_type": "code",
   "execution_count": 63,
   "id": "a1a1dcc6",
   "metadata": {},
   "outputs": [
    {
     "name": "stdout",
     "output_type": "stream",
     "text": [
      "best score 0\n",
      "best features []\n"
     ]
    }
   ],
   "source": [
    "print(\"best score {}\".format(best_score))\n",
    "print('best features {}'.format(best_features))\n",
    "best_params['best_features'] = best_features\n",
    "model_params = {}\n",
    "model_params['best_nb'] = best_params"
   ]
  },
  {
   "cell_type": "code",
   "execution_count": 64,
   "id": "0affbce9",
   "metadata": {
    "scrolled": true
   },
   "outputs": [
    {
     "data": {
      "text/plain": [
       "{'best_nb': {'best_ngram': [],\n",
       "  'best_nb': MultinomialNB(alpha=0.0),\n",
       "  'best_min_df': 0,\n",
       "  'best_features': []}}"
      ]
     },
     "execution_count": 64,
     "metadata": {},
     "output_type": "execute_result"
    }
   ],
   "source": [
    "# Final NB Model Fitting\n",
    "model_params"
   ]
  },
  {
   "cell_type": "code",
   "execution_count": 65,
   "id": "87d7f2de",
   "metadata": {},
   "outputs": [
    {
     "ename": "ValueError",
     "evalue": "not enough values to unpack (expected 2, got 0)",
     "output_type": "error",
     "traceback": [
      "\u001b[0;31m---------------------------------------------------------------------------\u001b[0m",
      "\u001b[0;31mValueError\u001b[0m                                Traceback (most recent call last)",
      "\u001b[0;32m<ipython-input-65-683cd658433b>\u001b[0m in \u001b[0;36m<module>\u001b[0;34m\u001b[0m\n\u001b[1;32m      1\u001b[0m \u001b[0mdf\u001b[0m\u001b[0;34m.\u001b[0m\u001b[0mreset_index\u001b[0m\u001b[0;34m(\u001b[0m\u001b[0minplace\u001b[0m\u001b[0;34m=\u001b[0m\u001b[0;32mTrue\u001b[0m\u001b[0;34m,\u001b[0m \u001b[0mdrop\u001b[0m\u001b[0;34m=\u001b[0m\u001b[0;32mTrue\u001b[0m\u001b[0;34m)\u001b[0m\u001b[0;34m\u001b[0m\u001b[0;34m\u001b[0m\u001b[0m\n\u001b[0;32m----> 2\u001b[0;31m \u001b[0mX\u001b[0m\u001b[0;34m,\u001b[0m \u001b[0m_\u001b[0m \u001b[0;34m=\u001b[0m \u001b[0mvectorize\u001b[0m\u001b[0;34m(\u001b[0m\u001b[0mdf\u001b[0m\u001b[0;34m[\u001b[0m\u001b[0;34m'cleaned'\u001b[0m\u001b[0;34m]\u001b[0m\u001b[0;34m,\u001b[0m \u001b[0mdf\u001b[0m\u001b[0;34m[\u001b[0m\u001b[0mbest_features\u001b[0m\u001b[0;34m]\u001b[0m\u001b[0;34m,\u001b[0m \u001b[0mngram_range\u001b[0m \u001b[0;34m=\u001b[0m \u001b[0mbest_ngram\u001b[0m\u001b[0;34m,\u001b[0m \u001b[0mmin_df\u001b[0m \u001b[0;34m=\u001b[0m \u001b[0mbest_min_df\u001b[0m\u001b[0;34m)\u001b[0m\u001b[0;34m\u001b[0m\u001b[0;34m\u001b[0m\u001b[0m\n\u001b[0m\u001b[1;32m      3\u001b[0m \u001b[0mX\u001b[0m\u001b[0;34m.\u001b[0m\u001b[0mreset_index\u001b[0m\u001b[0;34m(\u001b[0m\u001b[0minplace\u001b[0m\u001b[0;34m=\u001b[0m\u001b[0;32mTrue\u001b[0m\u001b[0;34m,\u001b[0m \u001b[0mdrop\u001b[0m\u001b[0;34m=\u001b[0m\u001b[0;32mTrue\u001b[0m\u001b[0;34m)\u001b[0m\u001b[0;34m\u001b[0m\u001b[0;34m\u001b[0m\u001b[0m\n\u001b[1;32m      4\u001b[0m \u001b[0my\u001b[0m \u001b[0;34m=\u001b[0m \u001b[0mdf\u001b[0m\u001b[0;34m[\u001b[0m\u001b[0;34m'labels'\u001b[0m\u001b[0;34m]\u001b[0m\u001b[0;34m\u001b[0m\u001b[0;34m\u001b[0m\u001b[0m\n",
      "\u001b[0;32m<ipython-input-35-946ee865a2c7>\u001b[0m in \u001b[0;36mvectorize\u001b[0;34m(X_text, X_features, ngram_range, min_df)\u001b[0m\n\u001b[1;32m      1\u001b[0m \u001b[0;32mdef\u001b[0m \u001b[0mvectorize\u001b[0m\u001b[0;34m(\u001b[0m\u001b[0mX_text\u001b[0m\u001b[0;34m,\u001b[0m \u001b[0mX_features\u001b[0m\u001b[0;34m=\u001b[0m\u001b[0;32mNone\u001b[0m\u001b[0;34m,\u001b[0m \u001b[0mngram_range\u001b[0m\u001b[0;34m=\u001b[0m\u001b[0;34m(\u001b[0m\u001b[0;36m1\u001b[0m\u001b[0;34m,\u001b[0m\u001b[0;36m1\u001b[0m\u001b[0;34m)\u001b[0m\u001b[0;34m,\u001b[0m \u001b[0mmin_df\u001b[0m\u001b[0;34m=\u001b[0m\u001b[0;36m1\u001b[0m\u001b[0;34m)\u001b[0m\u001b[0;34m:\u001b[0m\u001b[0;34m\u001b[0m\u001b[0;34m\u001b[0m\u001b[0m\n\u001b[1;32m      2\u001b[0m     \u001b[0mtfidf\u001b[0m \u001b[0;34m=\u001b[0m \u001b[0mTfidfVectorizer\u001b[0m\u001b[0;34m(\u001b[0m\u001b[0mngram_range\u001b[0m \u001b[0;34m=\u001b[0m \u001b[0mngram_range\u001b[0m\u001b[0;34m,\u001b[0m \u001b[0mmin_df\u001b[0m \u001b[0;34m=\u001b[0m \u001b[0mmin_df\u001b[0m\u001b[0;34m)\u001b[0m\u001b[0;34m\u001b[0m\u001b[0;34m\u001b[0m\u001b[0m\n\u001b[0;32m----> 3\u001b[0;31m     \u001b[0mmatrix\u001b[0m \u001b[0;34m=\u001b[0m \u001b[0mtfidf\u001b[0m\u001b[0;34m.\u001b[0m\u001b[0mfit_transform\u001b[0m\u001b[0;34m(\u001b[0m\u001b[0mX_text\u001b[0m\u001b[0;34m)\u001b[0m\u001b[0;34m\u001b[0m\u001b[0;34m\u001b[0m\u001b[0m\n\u001b[0m\u001b[1;32m      4\u001b[0m     \u001b[0mmatrix_df\u001b[0m \u001b[0;34m=\u001b[0m \u001b[0mpd\u001b[0m\u001b[0;34m.\u001b[0m\u001b[0mDataFrame\u001b[0m\u001b[0;34m(\u001b[0m\u001b[0mmatrix\u001b[0m\u001b[0;34m.\u001b[0m\u001b[0mtoarray\u001b[0m\u001b[0;34m(\u001b[0m\u001b[0;34m)\u001b[0m\u001b[0;34m)\u001b[0m\u001b[0;34m\u001b[0m\u001b[0;34m\u001b[0m\u001b[0m\n\u001b[1;32m      5\u001b[0m     \u001b[0;32mif\u001b[0m \u001b[0mtype\u001b[0m\u001b[0;34m(\u001b[0m\u001b[0mX_features\u001b[0m\u001b[0;34m)\u001b[0m \u001b[0;34m!=\u001b[0m \u001b[0;34m'NoneType'\u001b[0m\u001b[0;34m:\u001b[0m\u001b[0;34m\u001b[0m\u001b[0;34m\u001b[0m\u001b[0m\n",
      "\u001b[0;32m/Library/Frameworks/Python.framework/Versions/3.9/lib/python3.9/site-packages/sklearn/feature_extraction/text.py\u001b[0m in \u001b[0;36mfit_transform\u001b[0;34m(self, raw_documents, y)\u001b[0m\n\u001b[1;32m   1844\u001b[0m         \"\"\"\n\u001b[1;32m   1845\u001b[0m         \u001b[0mself\u001b[0m\u001b[0;34m.\u001b[0m\u001b[0m_check_params\u001b[0m\u001b[0;34m(\u001b[0m\u001b[0;34m)\u001b[0m\u001b[0;34m\u001b[0m\u001b[0;34m\u001b[0m\u001b[0m\n\u001b[0;32m-> 1846\u001b[0;31m         \u001b[0mX\u001b[0m \u001b[0;34m=\u001b[0m \u001b[0msuper\u001b[0m\u001b[0;34m(\u001b[0m\u001b[0;34m)\u001b[0m\u001b[0;34m.\u001b[0m\u001b[0mfit_transform\u001b[0m\u001b[0;34m(\u001b[0m\u001b[0mraw_documents\u001b[0m\u001b[0;34m)\u001b[0m\u001b[0;34m\u001b[0m\u001b[0;34m\u001b[0m\u001b[0m\n\u001b[0m\u001b[1;32m   1847\u001b[0m         \u001b[0mself\u001b[0m\u001b[0;34m.\u001b[0m\u001b[0m_tfidf\u001b[0m\u001b[0;34m.\u001b[0m\u001b[0mfit\u001b[0m\u001b[0;34m(\u001b[0m\u001b[0mX\u001b[0m\u001b[0;34m)\u001b[0m\u001b[0;34m\u001b[0m\u001b[0;34m\u001b[0m\u001b[0m\n\u001b[1;32m   1848\u001b[0m         \u001b[0;31m# X is already a transformed view of raw_documents so\u001b[0m\u001b[0;34m\u001b[0m\u001b[0;34m\u001b[0m\u001b[0;34m\u001b[0m\u001b[0m\n",
      "\u001b[0;32m/Library/Frameworks/Python.framework/Versions/3.9/lib/python3.9/site-packages/sklearn/feature_extraction/text.py\u001b[0m in \u001b[0;36mfit_transform\u001b[0;34m(self, raw_documents, y)\u001b[0m\n\u001b[1;32m   1194\u001b[0m                 \"string object received.\")\n\u001b[1;32m   1195\u001b[0m \u001b[0;34m\u001b[0m\u001b[0m\n\u001b[0;32m-> 1196\u001b[0;31m         \u001b[0mself\u001b[0m\u001b[0;34m.\u001b[0m\u001b[0m_validate_params\u001b[0m\u001b[0;34m(\u001b[0m\u001b[0;34m)\u001b[0m\u001b[0;34m\u001b[0m\u001b[0;34m\u001b[0m\u001b[0m\n\u001b[0m\u001b[1;32m   1197\u001b[0m         \u001b[0mself\u001b[0m\u001b[0;34m.\u001b[0m\u001b[0m_validate_vocabulary\u001b[0m\u001b[0;34m(\u001b[0m\u001b[0;34m)\u001b[0m\u001b[0;34m\u001b[0m\u001b[0;34m\u001b[0m\u001b[0m\n\u001b[1;32m   1198\u001b[0m         \u001b[0mmax_df\u001b[0m \u001b[0;34m=\u001b[0m \u001b[0mself\u001b[0m\u001b[0;34m.\u001b[0m\u001b[0mmax_df\u001b[0m\u001b[0;34m\u001b[0m\u001b[0;34m\u001b[0m\u001b[0m\n",
      "\u001b[0;32m/Library/Frameworks/Python.framework/Versions/3.9/lib/python3.9/site-packages/sklearn/feature_extraction/text.py\u001b[0m in \u001b[0;36m_validate_params\u001b[0;34m(self)\u001b[0m\n\u001b[1;32m    477\u001b[0m     \u001b[0;32mdef\u001b[0m \u001b[0m_validate_params\u001b[0m\u001b[0;34m(\u001b[0m\u001b[0mself\u001b[0m\u001b[0;34m)\u001b[0m\u001b[0;34m:\u001b[0m\u001b[0;34m\u001b[0m\u001b[0;34m\u001b[0m\u001b[0m\n\u001b[1;32m    478\u001b[0m         \u001b[0;34m\"\"\"Check validity of ngram_range parameter\"\"\"\u001b[0m\u001b[0;34m\u001b[0m\u001b[0;34m\u001b[0m\u001b[0m\n\u001b[0;32m--> 479\u001b[0;31m         \u001b[0mmin_n\u001b[0m\u001b[0;34m,\u001b[0m \u001b[0mmax_m\u001b[0m \u001b[0;34m=\u001b[0m \u001b[0mself\u001b[0m\u001b[0;34m.\u001b[0m\u001b[0mngram_range\u001b[0m\u001b[0;34m\u001b[0m\u001b[0;34m\u001b[0m\u001b[0m\n\u001b[0m\u001b[1;32m    480\u001b[0m         \u001b[0;32mif\u001b[0m \u001b[0mmin_n\u001b[0m \u001b[0;34m>\u001b[0m \u001b[0mmax_m\u001b[0m\u001b[0;34m:\u001b[0m\u001b[0;34m\u001b[0m\u001b[0;34m\u001b[0m\u001b[0m\n\u001b[1;32m    481\u001b[0m             raise ValueError(\n",
      "\u001b[0;31mValueError\u001b[0m: not enough values to unpack (expected 2, got 0)"
     ]
    }
   ],
   "source": [
    "df.reset_index(inplace=True, drop=True)\n",
    "X, _ = vectorize(df['cleaned'], df[best_features], ngram_range = best_ngram, min_df = best_min_df)\n",
    "X.reset_index(inplace=True, drop=True)\n",
    "y = df['labels']"
   ]
  },
  {
   "cell_type": "code",
   "execution_count": 66,
   "id": "a0108e36",
   "metadata": {},
   "outputs": [],
   "source": [
    "y.reset_index(inplace=True, drop=True)"
   ]
  },
  {
   "cell_type": "code",
   "execution_count": 67,
   "id": "ba626406",
   "metadata": {},
   "outputs": [],
   "source": [
    "assert len(X) == len(y)"
   ]
  },
  {
   "cell_type": "code",
   "execution_count": 68,
   "id": "c25a785e",
   "metadata": {},
   "outputs": [
    {
     "ename": "ValueError",
     "evalue": "Unable to convert array of bytes/strings into decimal numbers with dtype='numeric'",
     "output_type": "error",
     "traceback": [
      "\u001b[0;31m---------------------------------------------------------------------------\u001b[0m",
      "\u001b[0;31mValueError\u001b[0m                                Traceback (most recent call last)",
      "\u001b[0;32m/Library/Frameworks/Python.framework/Versions/3.9/lib/python3.9/site-packages/sklearn/utils/validation.py\u001b[0m in \u001b[0;36mcheck_array\u001b[0;34m(array, accept_sparse, accept_large_sparse, dtype, order, copy, force_all_finite, ensure_2d, allow_nd, ensure_min_samples, ensure_min_features, estimator)\u001b[0m\n\u001b[1;32m    709\u001b[0m             \u001b[0;32mtry\u001b[0m\u001b[0;34m:\u001b[0m\u001b[0;34m\u001b[0m\u001b[0;34m\u001b[0m\u001b[0m\n\u001b[0;32m--> 710\u001b[0;31m                 \u001b[0marray\u001b[0m \u001b[0;34m=\u001b[0m \u001b[0marray\u001b[0m\u001b[0;34m.\u001b[0m\u001b[0mastype\u001b[0m\u001b[0;34m(\u001b[0m\u001b[0mnp\u001b[0m\u001b[0;34m.\u001b[0m\u001b[0mfloat64\u001b[0m\u001b[0;34m)\u001b[0m\u001b[0;34m\u001b[0m\u001b[0;34m\u001b[0m\u001b[0m\n\u001b[0m\u001b[1;32m    711\u001b[0m             \u001b[0;32mexcept\u001b[0m \u001b[0mValueError\u001b[0m \u001b[0;32mas\u001b[0m \u001b[0me\u001b[0m\u001b[0;34m:\u001b[0m\u001b[0;34m\u001b[0m\u001b[0;34m\u001b[0m\u001b[0m\n",
      "\u001b[0;31mValueError\u001b[0m: could not convert string to float: 'no change'",
      "\nThe above exception was the direct cause of the following exception:\n",
      "\u001b[0;31mValueError\u001b[0m                                Traceback (most recent call last)",
      "\u001b[0;32m<ipython-input-68-4e09ad205557>\u001b[0m in \u001b[0;36m<module>\u001b[0;34m\u001b[0m\n\u001b[1;32m      1\u001b[0m \u001b[0mX_train\u001b[0m\u001b[0;34m,\u001b[0m \u001b[0mX_test\u001b[0m\u001b[0;34m,\u001b[0m \u001b[0my_train\u001b[0m\u001b[0;34m,\u001b[0m \u001b[0my_test\u001b[0m \u001b[0;34m=\u001b[0m \u001b[0mtrain_test_split\u001b[0m\u001b[0;34m(\u001b[0m\u001b[0mX\u001b[0m\u001b[0;34m,\u001b[0m \u001b[0my\u001b[0m\u001b[0;34m,\u001b[0m \u001b[0mtest_size\u001b[0m \u001b[0;34m=\u001b[0m \u001b[0;36m0.2\u001b[0m\u001b[0;34m,\u001b[0m \u001b[0mstratify\u001b[0m\u001b[0;34m=\u001b[0m\u001b[0my\u001b[0m\u001b[0;34m)\u001b[0m\u001b[0;34m\u001b[0m\u001b[0;34m\u001b[0m\u001b[0m\n\u001b[0;32m----> 2\u001b[0;31m \u001b[0mbest_nb\u001b[0m\u001b[0;34m.\u001b[0m\u001b[0mfit\u001b[0m\u001b[0;34m(\u001b[0m\u001b[0mX_train\u001b[0m\u001b[0;34m,\u001b[0m \u001b[0my_train\u001b[0m\u001b[0;34m)\u001b[0m\u001b[0;34m\u001b[0m\u001b[0;34m\u001b[0m\u001b[0m\n\u001b[0m\u001b[1;32m      3\u001b[0m \u001b[0my_pred\u001b[0m \u001b[0;34m=\u001b[0m \u001b[0mbest_nb\u001b[0m\u001b[0;34m.\u001b[0m\u001b[0mpredict\u001b[0m\u001b[0;34m(\u001b[0m\u001b[0mX_test\u001b[0m\u001b[0;34m)\u001b[0m\u001b[0;34m\u001b[0m\u001b[0;34m\u001b[0m\u001b[0m\n",
      "\u001b[0;32m/Library/Frameworks/Python.framework/Versions/3.9/lib/python3.9/site-packages/sklearn/naive_bayes.py\u001b[0m in \u001b[0;36mfit\u001b[0;34m(self, X, y, sample_weight)\u001b[0m\n\u001b[1;32m    610\u001b[0m         \u001b[0mself\u001b[0m \u001b[0;34m:\u001b[0m \u001b[0mobject\u001b[0m\u001b[0;34m\u001b[0m\u001b[0;34m\u001b[0m\u001b[0m\n\u001b[1;32m    611\u001b[0m         \"\"\"\n\u001b[0;32m--> 612\u001b[0;31m         \u001b[0mX\u001b[0m\u001b[0;34m,\u001b[0m \u001b[0my\u001b[0m \u001b[0;34m=\u001b[0m \u001b[0mself\u001b[0m\u001b[0;34m.\u001b[0m\u001b[0m_check_X_y\u001b[0m\u001b[0;34m(\u001b[0m\u001b[0mX\u001b[0m\u001b[0;34m,\u001b[0m \u001b[0my\u001b[0m\u001b[0;34m)\u001b[0m\u001b[0;34m\u001b[0m\u001b[0;34m\u001b[0m\u001b[0m\n\u001b[0m\u001b[1;32m    613\u001b[0m         \u001b[0m_\u001b[0m\u001b[0;34m,\u001b[0m \u001b[0mn_features\u001b[0m \u001b[0;34m=\u001b[0m \u001b[0mX\u001b[0m\u001b[0;34m.\u001b[0m\u001b[0mshape\u001b[0m\u001b[0;34m\u001b[0m\u001b[0;34m\u001b[0m\u001b[0m\n\u001b[1;32m    614\u001b[0m         \u001b[0mself\u001b[0m\u001b[0;34m.\u001b[0m\u001b[0mn_features_\u001b[0m \u001b[0;34m=\u001b[0m \u001b[0mn_features\u001b[0m\u001b[0;34m\u001b[0m\u001b[0;34m\u001b[0m\u001b[0m\n",
      "\u001b[0;32m/Library/Frameworks/Python.framework/Versions/3.9/lib/python3.9/site-packages/sklearn/naive_bayes.py\u001b[0m in \u001b[0;36m_check_X_y\u001b[0;34m(self, X, y)\u001b[0m\n\u001b[1;32m    475\u001b[0m \u001b[0;34m\u001b[0m\u001b[0m\n\u001b[1;32m    476\u001b[0m     \u001b[0;32mdef\u001b[0m \u001b[0m_check_X_y\u001b[0m\u001b[0;34m(\u001b[0m\u001b[0mself\u001b[0m\u001b[0;34m,\u001b[0m \u001b[0mX\u001b[0m\u001b[0;34m,\u001b[0m \u001b[0my\u001b[0m\u001b[0;34m)\u001b[0m\u001b[0;34m:\u001b[0m\u001b[0;34m\u001b[0m\u001b[0;34m\u001b[0m\u001b[0m\n\u001b[0;32m--> 477\u001b[0;31m         \u001b[0;32mreturn\u001b[0m \u001b[0mself\u001b[0m\u001b[0;34m.\u001b[0m\u001b[0m_validate_data\u001b[0m\u001b[0;34m(\u001b[0m\u001b[0mX\u001b[0m\u001b[0;34m,\u001b[0m \u001b[0my\u001b[0m\u001b[0;34m,\u001b[0m \u001b[0maccept_sparse\u001b[0m\u001b[0;34m=\u001b[0m\u001b[0;34m'csr'\u001b[0m\u001b[0;34m)\u001b[0m\u001b[0;34m\u001b[0m\u001b[0;34m\u001b[0m\u001b[0m\n\u001b[0m\u001b[1;32m    478\u001b[0m \u001b[0;34m\u001b[0m\u001b[0m\n\u001b[1;32m    479\u001b[0m     \u001b[0;32mdef\u001b[0m \u001b[0m_update_class_log_prior\u001b[0m\u001b[0;34m(\u001b[0m\u001b[0mself\u001b[0m\u001b[0;34m,\u001b[0m \u001b[0mclass_prior\u001b[0m\u001b[0;34m=\u001b[0m\u001b[0;32mNone\u001b[0m\u001b[0;34m)\u001b[0m\u001b[0;34m:\u001b[0m\u001b[0;34m\u001b[0m\u001b[0;34m\u001b[0m\u001b[0m\n",
      "\u001b[0;32m/Library/Frameworks/Python.framework/Versions/3.9/lib/python3.9/site-packages/sklearn/base.py\u001b[0m in \u001b[0;36m_validate_data\u001b[0;34m(self, X, y, reset, validate_separately, **check_params)\u001b[0m\n\u001b[1;32m    431\u001b[0m                 \u001b[0my\u001b[0m \u001b[0;34m=\u001b[0m \u001b[0mcheck_array\u001b[0m\u001b[0;34m(\u001b[0m\u001b[0my\u001b[0m\u001b[0;34m,\u001b[0m \u001b[0;34m**\u001b[0m\u001b[0mcheck_y_params\u001b[0m\u001b[0;34m)\u001b[0m\u001b[0;34m\u001b[0m\u001b[0;34m\u001b[0m\u001b[0m\n\u001b[1;32m    432\u001b[0m             \u001b[0;32melse\u001b[0m\u001b[0;34m:\u001b[0m\u001b[0;34m\u001b[0m\u001b[0;34m\u001b[0m\u001b[0m\n\u001b[0;32m--> 433\u001b[0;31m                 \u001b[0mX\u001b[0m\u001b[0;34m,\u001b[0m \u001b[0my\u001b[0m \u001b[0;34m=\u001b[0m \u001b[0mcheck_X_y\u001b[0m\u001b[0;34m(\u001b[0m\u001b[0mX\u001b[0m\u001b[0;34m,\u001b[0m \u001b[0my\u001b[0m\u001b[0;34m,\u001b[0m \u001b[0;34m**\u001b[0m\u001b[0mcheck_params\u001b[0m\u001b[0;34m)\u001b[0m\u001b[0;34m\u001b[0m\u001b[0;34m\u001b[0m\u001b[0m\n\u001b[0m\u001b[1;32m    434\u001b[0m             \u001b[0mout\u001b[0m \u001b[0;34m=\u001b[0m \u001b[0mX\u001b[0m\u001b[0;34m,\u001b[0m \u001b[0my\u001b[0m\u001b[0;34m\u001b[0m\u001b[0;34m\u001b[0m\u001b[0m\n\u001b[1;32m    435\u001b[0m \u001b[0;34m\u001b[0m\u001b[0m\n",
      "\u001b[0;32m/Library/Frameworks/Python.framework/Versions/3.9/lib/python3.9/site-packages/sklearn/utils/validation.py\u001b[0m in \u001b[0;36minner_f\u001b[0;34m(*args, **kwargs)\u001b[0m\n\u001b[1;32m     61\u001b[0m             \u001b[0mextra_args\u001b[0m \u001b[0;34m=\u001b[0m \u001b[0mlen\u001b[0m\u001b[0;34m(\u001b[0m\u001b[0margs\u001b[0m\u001b[0;34m)\u001b[0m \u001b[0;34m-\u001b[0m \u001b[0mlen\u001b[0m\u001b[0;34m(\u001b[0m\u001b[0mall_args\u001b[0m\u001b[0;34m)\u001b[0m\u001b[0;34m\u001b[0m\u001b[0;34m\u001b[0m\u001b[0m\n\u001b[1;32m     62\u001b[0m             \u001b[0;32mif\u001b[0m \u001b[0mextra_args\u001b[0m \u001b[0;34m<=\u001b[0m \u001b[0;36m0\u001b[0m\u001b[0;34m:\u001b[0m\u001b[0;34m\u001b[0m\u001b[0;34m\u001b[0m\u001b[0m\n\u001b[0;32m---> 63\u001b[0;31m                 \u001b[0;32mreturn\u001b[0m \u001b[0mf\u001b[0m\u001b[0;34m(\u001b[0m\u001b[0;34m*\u001b[0m\u001b[0margs\u001b[0m\u001b[0;34m,\u001b[0m \u001b[0;34m**\u001b[0m\u001b[0mkwargs\u001b[0m\u001b[0;34m)\u001b[0m\u001b[0;34m\u001b[0m\u001b[0;34m\u001b[0m\u001b[0m\n\u001b[0m\u001b[1;32m     64\u001b[0m \u001b[0;34m\u001b[0m\u001b[0m\n\u001b[1;32m     65\u001b[0m             \u001b[0;31m# extra_args > 0\u001b[0m\u001b[0;34m\u001b[0m\u001b[0;34m\u001b[0m\u001b[0;34m\u001b[0m\u001b[0m\n",
      "\u001b[0;32m/Library/Frameworks/Python.framework/Versions/3.9/lib/python3.9/site-packages/sklearn/utils/validation.py\u001b[0m in \u001b[0;36mcheck_X_y\u001b[0;34m(X, y, accept_sparse, accept_large_sparse, dtype, order, copy, force_all_finite, ensure_2d, allow_nd, multi_output, ensure_min_samples, ensure_min_features, y_numeric, estimator)\u001b[0m\n\u001b[1;32m    869\u001b[0m         \u001b[0;32mraise\u001b[0m \u001b[0mValueError\u001b[0m\u001b[0;34m(\u001b[0m\u001b[0;34m\"y cannot be None\"\u001b[0m\u001b[0;34m)\u001b[0m\u001b[0;34m\u001b[0m\u001b[0;34m\u001b[0m\u001b[0m\n\u001b[1;32m    870\u001b[0m \u001b[0;34m\u001b[0m\u001b[0m\n\u001b[0;32m--> 871\u001b[0;31m     X = check_array(X, accept_sparse=accept_sparse,\n\u001b[0m\u001b[1;32m    872\u001b[0m                     \u001b[0maccept_large_sparse\u001b[0m\u001b[0;34m=\u001b[0m\u001b[0maccept_large_sparse\u001b[0m\u001b[0;34m,\u001b[0m\u001b[0;34m\u001b[0m\u001b[0;34m\u001b[0m\u001b[0m\n\u001b[1;32m    873\u001b[0m                     \u001b[0mdtype\u001b[0m\u001b[0;34m=\u001b[0m\u001b[0mdtype\u001b[0m\u001b[0;34m,\u001b[0m \u001b[0morder\u001b[0m\u001b[0;34m=\u001b[0m\u001b[0morder\u001b[0m\u001b[0;34m,\u001b[0m \u001b[0mcopy\u001b[0m\u001b[0;34m=\u001b[0m\u001b[0mcopy\u001b[0m\u001b[0;34m,\u001b[0m\u001b[0;34m\u001b[0m\u001b[0;34m\u001b[0m\u001b[0m\n",
      "\u001b[0;32m/Library/Frameworks/Python.framework/Versions/3.9/lib/python3.9/site-packages/sklearn/utils/validation.py\u001b[0m in \u001b[0;36minner_f\u001b[0;34m(*args, **kwargs)\u001b[0m\n\u001b[1;32m     61\u001b[0m             \u001b[0mextra_args\u001b[0m \u001b[0;34m=\u001b[0m \u001b[0mlen\u001b[0m\u001b[0;34m(\u001b[0m\u001b[0margs\u001b[0m\u001b[0;34m)\u001b[0m \u001b[0;34m-\u001b[0m \u001b[0mlen\u001b[0m\u001b[0;34m(\u001b[0m\u001b[0mall_args\u001b[0m\u001b[0;34m)\u001b[0m\u001b[0;34m\u001b[0m\u001b[0;34m\u001b[0m\u001b[0m\n\u001b[1;32m     62\u001b[0m             \u001b[0;32mif\u001b[0m \u001b[0mextra_args\u001b[0m \u001b[0;34m<=\u001b[0m \u001b[0;36m0\u001b[0m\u001b[0;34m:\u001b[0m\u001b[0;34m\u001b[0m\u001b[0;34m\u001b[0m\u001b[0m\n\u001b[0;32m---> 63\u001b[0;31m                 \u001b[0;32mreturn\u001b[0m \u001b[0mf\u001b[0m\u001b[0;34m(\u001b[0m\u001b[0;34m*\u001b[0m\u001b[0margs\u001b[0m\u001b[0;34m,\u001b[0m \u001b[0;34m**\u001b[0m\u001b[0mkwargs\u001b[0m\u001b[0;34m)\u001b[0m\u001b[0;34m\u001b[0m\u001b[0;34m\u001b[0m\u001b[0m\n\u001b[0m\u001b[1;32m     64\u001b[0m \u001b[0;34m\u001b[0m\u001b[0m\n\u001b[1;32m     65\u001b[0m             \u001b[0;31m# extra_args > 0\u001b[0m\u001b[0;34m\u001b[0m\u001b[0;34m\u001b[0m\u001b[0;34m\u001b[0m\u001b[0m\n",
      "\u001b[0;32m/Library/Frameworks/Python.framework/Versions/3.9/lib/python3.9/site-packages/sklearn/utils/validation.py\u001b[0m in \u001b[0;36mcheck_array\u001b[0;34m(array, accept_sparse, accept_large_sparse, dtype, order, copy, force_all_finite, ensure_2d, allow_nd, ensure_min_samples, ensure_min_features, estimator)\u001b[0m\n\u001b[1;32m    710\u001b[0m                 \u001b[0marray\u001b[0m \u001b[0;34m=\u001b[0m \u001b[0marray\u001b[0m\u001b[0;34m.\u001b[0m\u001b[0mastype\u001b[0m\u001b[0;34m(\u001b[0m\u001b[0mnp\u001b[0m\u001b[0;34m.\u001b[0m\u001b[0mfloat64\u001b[0m\u001b[0;34m)\u001b[0m\u001b[0;34m\u001b[0m\u001b[0;34m\u001b[0m\u001b[0m\n\u001b[1;32m    711\u001b[0m             \u001b[0;32mexcept\u001b[0m \u001b[0mValueError\u001b[0m \u001b[0;32mas\u001b[0m \u001b[0me\u001b[0m\u001b[0;34m:\u001b[0m\u001b[0;34m\u001b[0m\u001b[0;34m\u001b[0m\u001b[0m\n\u001b[0;32m--> 712\u001b[0;31m                 raise ValueError(\n\u001b[0m\u001b[1;32m    713\u001b[0m                     \u001b[0;34m\"Unable to convert array of bytes/strings \"\u001b[0m\u001b[0;34m\u001b[0m\u001b[0;34m\u001b[0m\u001b[0m\n\u001b[1;32m    714\u001b[0m                     \"into decimal numbers with dtype='numeric'\") from e\n",
      "\u001b[0;31mValueError\u001b[0m: Unable to convert array of bytes/strings into decimal numbers with dtype='numeric'"
     ]
    }
   ],
   "source": [
    "X_train, X_test, y_train, y_test = train_test_split(X, y, test_size = 0.2, stratify=y)\n",
    "best_nb.fit(X_train, y_train)\n",
    "y_pred = best_nb.predict(X_test)"
   ]
  },
  {
   "cell_type": "code",
   "execution_count": null,
   "id": "2221d99e",
   "metadata": {
    "scrolled": true
   },
   "outputs": [],
   "source": [
    "# Classification report\n",
    "print(\"Classification report\")\n",
    "print(classification_report(y_test, y_pred))"
   ]
  },
  {
   "cell_type": "code",
   "execution_count": 69,
   "id": "d9ab0e9b",
   "metadata": {},
   "outputs": [
    {
     "ename": "ValueError",
     "evalue": "Found input variables with inconsistent numbers of samples: [281, 7822]",
     "output_type": "error",
     "traceback": [
      "\u001b[0;31m---------------------------------------------------------------------------\u001b[0m",
      "\u001b[0;31mValueError\u001b[0m                                Traceback (most recent call last)",
      "\u001b[0;32m<ipython-input-69-d1d9db444c54>\u001b[0m in \u001b[0;36m<module>\u001b[0;34m\u001b[0m\n\u001b[0;32m----> 1\u001b[0;31m \u001b[0mconf_matrix\u001b[0m \u001b[0;34m=\u001b[0m \u001b[0mconfusion_matrix\u001b[0m\u001b[0;34m(\u001b[0m\u001b[0my_test\u001b[0m\u001b[0;34m,\u001b[0m \u001b[0my_pred\u001b[0m\u001b[0;34m,\u001b[0m \u001b[0mnormalize\u001b[0m\u001b[0;34m=\u001b[0m\u001b[0;34m'pred'\u001b[0m\u001b[0;34m)\u001b[0m\u001b[0;34m\u001b[0m\u001b[0;34m\u001b[0m\u001b[0m\n\u001b[0m",
      "\u001b[0;32m/Library/Frameworks/Python.framework/Versions/3.9/lib/python3.9/site-packages/sklearn/utils/validation.py\u001b[0m in \u001b[0;36minner_f\u001b[0;34m(*args, **kwargs)\u001b[0m\n\u001b[1;32m     61\u001b[0m             \u001b[0mextra_args\u001b[0m \u001b[0;34m=\u001b[0m \u001b[0mlen\u001b[0m\u001b[0;34m(\u001b[0m\u001b[0margs\u001b[0m\u001b[0;34m)\u001b[0m \u001b[0;34m-\u001b[0m \u001b[0mlen\u001b[0m\u001b[0;34m(\u001b[0m\u001b[0mall_args\u001b[0m\u001b[0;34m)\u001b[0m\u001b[0;34m\u001b[0m\u001b[0;34m\u001b[0m\u001b[0m\n\u001b[1;32m     62\u001b[0m             \u001b[0;32mif\u001b[0m \u001b[0mextra_args\u001b[0m \u001b[0;34m<=\u001b[0m \u001b[0;36m0\u001b[0m\u001b[0;34m:\u001b[0m\u001b[0;34m\u001b[0m\u001b[0;34m\u001b[0m\u001b[0m\n\u001b[0;32m---> 63\u001b[0;31m                 \u001b[0;32mreturn\u001b[0m \u001b[0mf\u001b[0m\u001b[0;34m(\u001b[0m\u001b[0;34m*\u001b[0m\u001b[0margs\u001b[0m\u001b[0;34m,\u001b[0m \u001b[0;34m**\u001b[0m\u001b[0mkwargs\u001b[0m\u001b[0;34m)\u001b[0m\u001b[0;34m\u001b[0m\u001b[0;34m\u001b[0m\u001b[0m\n\u001b[0m\u001b[1;32m     64\u001b[0m \u001b[0;34m\u001b[0m\u001b[0m\n\u001b[1;32m     65\u001b[0m             \u001b[0;31m# extra_args > 0\u001b[0m\u001b[0;34m\u001b[0m\u001b[0;34m\u001b[0m\u001b[0;34m\u001b[0m\u001b[0m\n",
      "\u001b[0;32m/Library/Frameworks/Python.framework/Versions/3.9/lib/python3.9/site-packages/sklearn/metrics/_classification.py\u001b[0m in \u001b[0;36mconfusion_matrix\u001b[0;34m(y_true, y_pred, labels, sample_weight, normalize)\u001b[0m\n\u001b[1;32m    297\u001b[0m \u001b[0;34m\u001b[0m\u001b[0m\n\u001b[1;32m    298\u001b[0m     \"\"\"\n\u001b[0;32m--> 299\u001b[0;31m     \u001b[0my_type\u001b[0m\u001b[0;34m,\u001b[0m \u001b[0my_true\u001b[0m\u001b[0;34m,\u001b[0m \u001b[0my_pred\u001b[0m \u001b[0;34m=\u001b[0m \u001b[0m_check_targets\u001b[0m\u001b[0;34m(\u001b[0m\u001b[0my_true\u001b[0m\u001b[0;34m,\u001b[0m \u001b[0my_pred\u001b[0m\u001b[0;34m)\u001b[0m\u001b[0;34m\u001b[0m\u001b[0;34m\u001b[0m\u001b[0m\n\u001b[0m\u001b[1;32m    300\u001b[0m     \u001b[0;32mif\u001b[0m \u001b[0my_type\u001b[0m \u001b[0;32mnot\u001b[0m \u001b[0;32min\u001b[0m \u001b[0;34m(\u001b[0m\u001b[0;34m\"binary\"\u001b[0m\u001b[0;34m,\u001b[0m \u001b[0;34m\"multiclass\"\u001b[0m\u001b[0;34m)\u001b[0m\u001b[0;34m:\u001b[0m\u001b[0;34m\u001b[0m\u001b[0;34m\u001b[0m\u001b[0m\n\u001b[1;32m    301\u001b[0m         \u001b[0;32mraise\u001b[0m \u001b[0mValueError\u001b[0m\u001b[0;34m(\u001b[0m\u001b[0;34m\"%s is not supported\"\u001b[0m \u001b[0;34m%\u001b[0m \u001b[0my_type\u001b[0m\u001b[0;34m)\u001b[0m\u001b[0;34m\u001b[0m\u001b[0;34m\u001b[0m\u001b[0m\n",
      "\u001b[0;32m/Library/Frameworks/Python.framework/Versions/3.9/lib/python3.9/site-packages/sklearn/metrics/_classification.py\u001b[0m in \u001b[0;36m_check_targets\u001b[0;34m(y_true, y_pred)\u001b[0m\n\u001b[1;32m     81\u001b[0m     \u001b[0my_pred\u001b[0m \u001b[0;34m:\u001b[0m \u001b[0marray\u001b[0m \u001b[0;32mor\u001b[0m \u001b[0mindicator\u001b[0m \u001b[0mmatrix\u001b[0m\u001b[0;34m\u001b[0m\u001b[0;34m\u001b[0m\u001b[0m\n\u001b[1;32m     82\u001b[0m     \"\"\"\n\u001b[0;32m---> 83\u001b[0;31m     \u001b[0mcheck_consistent_length\u001b[0m\u001b[0;34m(\u001b[0m\u001b[0my_true\u001b[0m\u001b[0;34m,\u001b[0m \u001b[0my_pred\u001b[0m\u001b[0;34m)\u001b[0m\u001b[0;34m\u001b[0m\u001b[0;34m\u001b[0m\u001b[0m\n\u001b[0m\u001b[1;32m     84\u001b[0m     \u001b[0mtype_true\u001b[0m \u001b[0;34m=\u001b[0m \u001b[0mtype_of_target\u001b[0m\u001b[0;34m(\u001b[0m\u001b[0my_true\u001b[0m\u001b[0;34m)\u001b[0m\u001b[0;34m\u001b[0m\u001b[0;34m\u001b[0m\u001b[0m\n\u001b[1;32m     85\u001b[0m     \u001b[0mtype_pred\u001b[0m \u001b[0;34m=\u001b[0m \u001b[0mtype_of_target\u001b[0m\u001b[0;34m(\u001b[0m\u001b[0my_pred\u001b[0m\u001b[0;34m)\u001b[0m\u001b[0;34m\u001b[0m\u001b[0;34m\u001b[0m\u001b[0m\n",
      "\u001b[0;32m/Library/Frameworks/Python.framework/Versions/3.9/lib/python3.9/site-packages/sklearn/utils/validation.py\u001b[0m in \u001b[0;36mcheck_consistent_length\u001b[0;34m(*arrays)\u001b[0m\n\u001b[1;32m    317\u001b[0m     \u001b[0muniques\u001b[0m \u001b[0;34m=\u001b[0m \u001b[0mnp\u001b[0m\u001b[0;34m.\u001b[0m\u001b[0munique\u001b[0m\u001b[0;34m(\u001b[0m\u001b[0mlengths\u001b[0m\u001b[0;34m)\u001b[0m\u001b[0;34m\u001b[0m\u001b[0;34m\u001b[0m\u001b[0m\n\u001b[1;32m    318\u001b[0m     \u001b[0;32mif\u001b[0m \u001b[0mlen\u001b[0m\u001b[0;34m(\u001b[0m\u001b[0muniques\u001b[0m\u001b[0;34m)\u001b[0m \u001b[0;34m>\u001b[0m \u001b[0;36m1\u001b[0m\u001b[0;34m:\u001b[0m\u001b[0;34m\u001b[0m\u001b[0;34m\u001b[0m\u001b[0m\n\u001b[0;32m--> 319\u001b[0;31m         raise ValueError(\"Found input variables with inconsistent numbers of\"\n\u001b[0m\u001b[1;32m    320\u001b[0m                          \" samples: %r\" % [int(l) for l in lengths])\n\u001b[1;32m    321\u001b[0m \u001b[0;34m\u001b[0m\u001b[0m\n",
      "\u001b[0;31mValueError\u001b[0m: Found input variables with inconsistent numbers of samples: [281, 7822]"
     ]
    }
   ],
   "source": [
    "conf_matrix = confusion_matrix(y_test, y_pred, normalize='pred')"
   ]
  },
  {
   "cell_type": "code",
   "execution_count": null,
   "id": "b6c8ea1d",
   "metadata": {
    "scrolled": true
   },
   "outputs": [],
   "source": [
    "plot_confusion_matrix(conf_matrix)"
   ]
  },
  {
   "cell_type": "code",
   "execution_count": null,
   "id": "5d574902",
   "metadata": {
    "scrolled": true
   },
   "outputs": [],
   "source": []
  },
  {
   "cell_type": "code",
   "execution_count": null,
   "id": "9105f1d6",
   "metadata": {
    "scrolled": true
   },
   "outputs": [],
   "source": [
    "_ = plot_roc_curve(best_nb, X_test, y_test)"
   ]
  },
  {
   "cell_type": "code",
   "execution_count": null,
   "id": "077b10d0",
   "metadata": {
    "scrolled": true
   },
   "outputs": [],
   "source": [
    "_ = plot_precision_recall_curve(best_nb, X_test, y_test)"
   ]
  },
  {
   "cell_type": "markdown",
   "id": "e3a3b753",
   "metadata": {},
   "source": [
    "# Stochastic Gradient Descent"
   ]
  },
  {
   "cell_type": "code",
   "execution_count": null,
   "id": "ad3c83d7",
   "metadata": {
    "scrolled": true
   },
   "outputs": [],
   "source": [
    "# Get current Parameters\n",
    "sgd = SGDClassifier()\n",
    "print('current params:')\n",
    "print(sgd.get_params())"
   ]
  },
  {
   "cell_type": "code",
   "execution_count": null,
   "id": "23c1aa19",
   "metadata": {},
   "outputs": [],
   "source": [
    "# Define the Grid using RandomSearchCV\n",
    "\n",
    "# loss function\n",
    "loss = ['hinge', 'log', 'modified_huber',\n",
    "    'squared_hinge', 'perceptron']\n",
    "\n",
    "# penalty \n",
    "penalty = ['l2', 'l1', 'elasticnet']\n",
    "\n",
    "# alpha used for calculating optimal learning rate\n",
    "alpha = np.linspace(0.0001, 0.1, 11)\n",
    "\n",
    "average = [True, False]\n",
    "\n",
    "\n",
    "max_iter = np.linspace(1000, 2000, 11)\n",
    "\n",
    "\n",
    "\n",
    "# Create the random grid\n",
    "random_grid = {'loss': loss,\n",
    "               'penalty': penalty,\n",
    "               'alpha': alpha,\n",
    "               'average': average,\n",
    "               'max_iter': max_iter}\n"
   ]
  },
  {
   "cell_type": "code",
   "execution_count": null,
   "id": "f714d4a7",
   "metadata": {},
   "outputs": [],
   "source": [
    "x = train_set.sample(frac=0.15)\n",
    "x.reset_index(inplace=True, drop=True)\n",
    "X, _ = vectorize(x['cleaned'], x[features])\n",
    "y = x['labels']\n",
    "assert len(X) == len(y)"
   ]
  },
  {
   "cell_type": "code",
   "execution_count": null,
   "id": "29474c8c",
   "metadata": {},
   "outputs": [],
   "source": [
    "#First create the base model to tune\n",
    "sgd = SGDClassifier()\n",
    "\n",
    "# Definition of the random search\n",
    "random_search = RandomizedSearchCV(estimator=sgd,\n",
    "                                   param_distributions=random_grid,\n",
    "                                   n_iter=30,\n",
    "                                   scoring='accuracy',\n",
    "                                   cv=3,\n",
    "                                   n_jobs=-1,\n",
    "                                   verbose=1, \n",
    "                                   random_state=42)\n",
    "\n",
    "# Fit the random search model\n",
    "random_search.fit(X, y)"
   ]
  },
  {
   "cell_type": "code",
   "execution_count": null,
   "id": "d616a6fa",
   "metadata": {
    "scrolled": true
   },
   "outputs": [],
   "source": [
    "print(\"The best hyperparameters from Random Search are:\")\n",
    "print(random_search.best_params_)\n",
    "print(\"\")\n",
    "print(\"The mean accuracy of a model with these hyperparameters is:\")\n",
    "print(random_search.best_score_)"
   ]
  },
  {
   "cell_type": "code",
   "execution_count": null,
   "id": "1bd9a44e",
   "metadata": {
    "scrolled": true
   },
   "outputs": [],
   "source": [
    "%%time\n",
    "#Create the parameter grid based on the results of random search \n",
    "max_iter = [1500, 2000, 2500]\n",
    "alpha = np.linspace(0.0001, 0.1, 11)\n",
    "\n",
    "\n",
    "param_grid = {\n",
    "    'max_iter': max_iter,\n",
    "    'alpha': alpha,\n",
    "    'penalty': ['l2'],\n",
    "    'loss':['hinge'],\n",
    "    'average':[False]\n",
    "}\n",
    "\n",
    "# Create a base model\n",
    "sgd = SGDClassifier(random_state=42)\n",
    "\n",
    "\n",
    "# Instantiate the grid search model\n",
    "grid_search = GridSearchCV(estimator=sgd, \n",
    "                           param_grid=param_grid,\n",
    "                           scoring='accuracy',\n",
    "                           cv=5,\n",
    "                           n_jobs=-1,\n",
    "                           verbose=1)\n",
    "\n",
    "# Fit the grid search to the data\n",
    "grid_search.fit(X, y)"
   ]
  },
  {
   "cell_type": "code",
   "execution_count": null,
   "id": "2baf5c19",
   "metadata": {},
   "outputs": [],
   "source": [
    "print(\"The best hyperparameters from Grid Search are:\")\n",
    "print(grid_search.best_params_)\n",
    "print(\"\")\n",
    "print(\"The mean accuracy of a model with these hyperparameters is:\")\n",
    "print(grid_search.best_score_)"
   ]
  },
  {
   "cell_type": "code",
   "execution_count": null,
   "id": "503a3ab9",
   "metadata": {},
   "outputs": [],
   "source": [
    "best_sgd = grid_search.best_estimator_"
   ]
  },
  {
   "cell_type": "code",
   "execution_count": null,
   "id": "05918c58",
   "metadata": {
    "scrolled": true
   },
   "outputs": [],
   "source": [
    "%%time\n",
    "best_score = 0\n",
    "best_ngrams = []\n",
    "# Cross Validation for various n-gram ranges\n",
    "for n_gram in ngram_range:\n",
    "    x = train_set.sample(frac=0.15)\n",
    "    x.reset_index(inplace=True, drop=True)\n",
    "    X, _ = vectorize(x['cleaned'], x[features], ngram_range=n_gram)\n",
    "    y = x['labels']\n",
    "    scores = cross_val_score(best_sgd, X, y, n_jobs=-1)\n",
    "    print('scores for {}-gram SGD:'.format(n_gram))\n",
    "    print('')\n",
    "    print(scores)\n",
    "    print('')\n",
    "    print('     best score: {}'.format(scores.max()))\n",
    "    print('     mean score: {}'.format(scores.mean()))\n",
    "    print('     score std: {}'.format(scores.std()))\n",
    "    print('')\n",
    "    if scores.mean() > best_score:\n",
    "        best_score = scores.mean()\n",
    "        best_ngrams = n_gram"
   ]
  },
  {
   "cell_type": "code",
   "execution_count": null,
   "id": "ebcf100d",
   "metadata": {},
   "outputs": [],
   "source": [
    "print('Best score {} with {}-grams'.format(best_score, best_ngrams))"
   ]
  },
  {
   "cell_type": "code",
   "execution_count": null,
   "id": "050ad27a",
   "metadata": {
    "scrolled": true
   },
   "outputs": [],
   "source": [
    "%%time\n",
    "best_min_df = 0\n",
    "best_score = 0\n",
    "# Iteration over min_df\n",
    "min_df_list = [0, 0.001, 1]\n",
    "for min_df in min_df_list:\n",
    "    x = train_set.sample(frac=0.15)\n",
    "    x.reset_index(inplace=True, drop=True)\n",
    "    X, _ = vectorize(x['cleaned'], x[features], ngram_range=best_ngram, min_df = min_df)\n",
    "    y = x['labels']\n",
    "    scores = cross_val_score(best_sgd, X, y, n_jobs=-1)\n",
    "    print('scores for {}-gram SGD with min_df of {}:'.format(best_ngram, min_df))\n",
    "    print('')\n",
    "    print(scores)\n",
    "    print('')\n",
    "    print('     best score: {}'.format(scores.max()))\n",
    "    print('     mean score: {}'.format(scores.mean()))\n",
    "    print('     score std: {}'.format(scores.std()))\n",
    "    print('')\n",
    "    if scores.mean() > best_score:\n",
    "        best_score = scores.mean()\n",
    "        best_min_df = min_df"
   ]
  },
  {
   "cell_type": "code",
   "execution_count": null,
   "id": "2e35be8d",
   "metadata": {},
   "outputs": [],
   "source": [
    "print('Best score {} with a min_df of {}'.format(best_score, best_min_df))"
   ]
  },
  {
   "cell_type": "code",
   "execution_count": null,
   "id": "eaade160",
   "metadata": {
    "scrolled": true
   },
   "outputs": [],
   "source": [
    "%%time\n",
    "best_features = []\n",
    "best_score = 0\n",
    "for iter in range(3):\n",
    "    for i in range(len(features)):\n",
    "        feature = random.sample(features, i)\n",
    "        x = train_set.sample(frac=0.15)\n",
    "        x.reset_index(inplace=True, drop=True)\n",
    "        X, _ = vectorize(x['cleaned'], x[feature], ngram_range=best_ngram, min_df = best_min_df)\n",
    "        y = x['labels']\n",
    "        scores = cross_val_score(best_sgd, X, y, n_jobs=-1)\n",
    "        if scores.mean() > best_score:\n",
    "            best_features = feature\n",
    "            best_score = scores.mean()\n",
    "        print('scores for {}-gram SGD with min_df of {} and {}:'.format(best_ngrams, best_min_df, feature))\n",
    "        print('')\n",
    "        print(scores)\n",
    "        print('')\n",
    "        print('     best score: {}'.format(scores.max()))\n",
    "        print('     mean score: {}'.format(scores.mean()))\n",
    "        print('     score std: {}'.format(scores.std()))\n",
    "        print('')\n"
   ]
  },
  {
   "cell_type": "code",
   "execution_count": null,
   "id": "3f828603",
   "metadata": {},
   "outputs": [],
   "source": [
    "print('Best score of {} with the following features: {}'.format(best_score, best_features))"
   ]
  },
  {
   "cell_type": "markdown",
   "id": "6b04b9d7",
   "metadata": {},
   "source": [
    "   # Final Model Fitting"
   ]
  },
  {
   "cell_type": "code",
   "execution_count": null,
   "id": "d2254dd5",
   "metadata": {
    "scrolled": true
   },
   "outputs": [],
   "source": [
    "print('model: {}'.format(best_sgd))\n",
    "print('ngrams: {}'.format(best_ngrams))\n",
    "print('min_df: {}'.format(best_min_df))\n",
    "print('best features: {}'.format(best_features))"
   ]
  },
  {
   "cell_type": "code",
   "execution_count": null,
   "id": "b86a8c4f",
   "metadata": {},
   "outputs": [],
   "source": [
    "data.reset_index(inplace=True, drop=True)\n",
    "X, _ = vectorize(data['cleaned'], data[best_features], ngram_range = best_ngrams, min_df = best_min_df)\n",
    "y = data['labels']"
   ]
  },
  {
   "cell_type": "code",
   "execution_count": null,
   "id": "ccde70f5",
   "metadata": {},
   "outputs": [],
   "source": [
    "assert len(X) == len(y)"
   ]
  },
  {
   "cell_type": "code",
   "execution_count": null,
   "id": "974837b4",
   "metadata": {},
   "outputs": [],
   "source": [
    "%%time\n",
    "X_train, X_test, y_train, y_test = train_test_split(X, y, test_size = 0.2, stratify=y)\n",
    "best_sgd.fit(X_train, y_train)\n",
    "y_pred = best_sgd.predict(X_test)"
   ]
  },
  {
   "cell_type": "code",
   "execution_count": null,
   "id": "5a86c1be",
   "metadata": {
    "scrolled": true
   },
   "outputs": [],
   "source": [
    "# Classification report\n",
    "print(\"Classification report\")\n",
    "print(classification_report(y_test, y_pred))"
   ]
  },
  {
   "cell_type": "code",
   "execution_count": null,
   "id": "ad57b61a",
   "metadata": {},
   "outputs": [],
   "source": [
    "conf_matrix = confusion_matrix(y_test, y_pred, normalize='pred')"
   ]
  },
  {
   "cell_type": "code",
   "execution_count": null,
   "id": "a0381a0c",
   "metadata": {},
   "outputs": [],
   "source": [
    "plot_confusion_matrix(conf_matrix)"
   ]
  },
  {
   "cell_type": "code",
   "execution_count": null,
   "id": "365334b2",
   "metadata": {
    "scrolled": true
   },
   "outputs": [],
   "source": [
    "_ = plot_roc_curve(best_sgd, X_test, y_test)"
   ]
  },
  {
   "cell_type": "code",
   "execution_count": null,
   "id": "51291d5d",
   "metadata": {
    "scrolled": true
   },
   "outputs": [],
   "source": [
    "_ = plot_precision_recall_curve(best_sgd, X_test, y_test)"
   ]
  },
  {
   "cell_type": "markdown",
   "id": "7e812f4c",
   "metadata": {},
   "source": [
    "# Logistic Regression"
   ]
  },
  {
   "cell_type": "code",
   "execution_count": null,
   "id": "a833281b",
   "metadata": {
    "scrolled": true
   },
   "outputs": [],
   "source": [
    "lgr = LogisticRegression()\n",
    "print(lgr.get_params())"
   ]
  },
  {
   "cell_type": "code",
   "execution_count": null,
   "id": "f23902ad",
   "metadata": {},
   "outputs": [],
   "source": [
    "# Define the Grid using RandomSearchCV\n",
    "\n",
    "penalty = ['l1', 'l2', 'elasticnet', 'none']\n",
    "\n",
    "max_iter = [50, 100, 150]\n",
    "\n",
    "\n",
    "C = [0.0001, 0.001, 0.01, 1.0]\n",
    "\n",
    "intercept_scaling = [1.0, 2.0, 3.0]\n",
    "\n",
    "solver = ['newton-cg', 'lbfgs', 'liblinear', 'sag', 'saga']\n",
    "\n",
    "\n",
    "# Create the random grid\n",
    "random_grid = {\n",
    "               'penalty': penalty,\n",
    "                'max_iter': max_iter,\n",
    "               'C': C,\n",
    "               'intercept_scaling': intercept_scaling,\n",
    "                'solver':solver}\n"
   ]
  },
  {
   "cell_type": "code",
   "execution_count": null,
   "id": "98153554",
   "metadata": {},
   "outputs": [],
   "source": [
    "x = train_set.sample(frac=0.15)\n",
    "x.reset_index(inplace=True, drop=True)\n",
    "X, _ = vectorize(x['cleaned'], x[features])\n",
    "y = x['labels']\n",
    "assert len(X) == len(y)"
   ]
  },
  {
   "cell_type": "code",
   "execution_count": null,
   "id": "c7439b40",
   "metadata": {},
   "outputs": [],
   "source": [
    "#First create the base model to tune\n",
    "lgr = LogisticRegression(random_state=42)\n",
    "\n",
    "# Definition of the random search\n",
    "random_search = RandomizedSearchCV(estimator=lgr,\n",
    "                                   param_distributions=random_grid,\n",
    "                                   n_iter=50,\n",
    "                                   scoring='accuracy',\n",
    "                                   cv=3,\n",
    "                                   n_jobs=-1,\n",
    "                                   verbose=1, \n",
    "                                   random_state=42)\n",
    "\n",
    "# Fit the random search model\n",
    "random_search.fit(X, y)"
   ]
  },
  {
   "cell_type": "code",
   "execution_count": null,
   "id": "010f6f44",
   "metadata": {
    "scrolled": true
   },
   "outputs": [],
   "source": [
    "random_search.best_params_"
   ]
  },
  {
   "cell_type": "code",
   "execution_count": null,
   "id": "6de35a71",
   "metadata": {},
   "outputs": [],
   "source": [
    "best_lgr = random_search.best_estimator_"
   ]
  },
  {
   "cell_type": "code",
   "execution_count": null,
   "id": "7e6b96a2",
   "metadata": {
    "scrolled": true
   },
   "outputs": [],
   "source": [
    "random_search.best_score_"
   ]
  },
  {
   "cell_type": "code",
   "execution_count": null,
   "id": "2986ca58",
   "metadata": {
    "scrolled": true
   },
   "outputs": [],
   "source": [
    "%%time\n",
    "best_score = 0\n",
    "best_ngrams = []\n",
    "# Cross Validation for various n-gram ranges\n",
    "for n_gram in ngram_range:\n",
    "    x = train_set.sample(frac=0.15)\n",
    "    x.reset_index(inplace=True, drop=True)\n",
    "    X, _ = vectorize(x['cleaned'], x[features], ngram_range=n_gram)\n",
    "    y = x['labels']\n",
    "    scores = cross_val_score(best_lgr, X, y, n_jobs=-1)\n",
    "    print('scores for {}-gram LGR:'.format(n_gram))\n",
    "    print('')\n",
    "    print(scores)\n",
    "    print('')\n",
    "    print('     best score: {}'.format(scores.max()))\n",
    "    print('     mean score: {}'.format(scores.mean()))\n",
    "    print('     score std: {}'.format(scores.std()))\n",
    "    print('')\n",
    "    if scores.mean() > best_score:\n",
    "        best_score = scores.mean()\n",
    "        best_ngrams = n_gram"
   ]
  },
  {
   "cell_type": "code",
   "execution_count": null,
   "id": "7fc0a7a7",
   "metadata": {},
   "outputs": [],
   "source": [
    "print('Best score {} with {}-grams'.format(best_score, best_ngrams))"
   ]
  },
  {
   "cell_type": "code",
   "execution_count": null,
   "id": "3cba2416",
   "metadata": {
    "scrolled": true
   },
   "outputs": [],
   "source": [
    "%%time\n",
    "best_features = []\n",
    "best_score = 0\n",
    "for iter in range(3):\n",
    "    for i in range(len(features)):\n",
    "        feature = random.sample(features, i)\n",
    "        x = train_set.sample(frac=0.15)\n",
    "        x.reset_index(inplace=True, drop=True)\n",
    "        X, _ = vectorize(x['cleaned'], x[feature], ngram_range=best_ngrams)\n",
    "        y = x['labels']\n",
    "        scores = cross_val_score(best_lgr, X, y, n_jobs=-1)\n",
    "        if scores.mean() > best_score:\n",
    "            best_features = feature\n",
    "            best_score = scores.mean()\n",
    "        print('scores for {}-gram LGR with  {}:'.format(best_ngrams, feature))\n",
    "        print('')\n",
    "        print(scores)\n",
    "        print('')\n",
    "        print('     best score: {}'.format(scores.max()))\n",
    "        print('     mean score: {}'.format(scores.mean()))\n",
    "        print('     score std: {}'.format(scores.std()))\n",
    "        print('')\n"
   ]
  },
  {
   "cell_type": "code",
   "execution_count": null,
   "id": "a85e347f",
   "metadata": {
    "scrolled": true
   },
   "outputs": [],
   "source": [
    "print('Best score of {} with the following features: {}'.format(best_score, best_features))"
   ]
  },
  {
   "cell_type": "markdown",
   "id": "ec56de5d",
   "metadata": {},
   "source": [
    "# Final Model Fitting"
   ]
  },
  {
   "cell_type": "code",
   "execution_count": null,
   "id": "068128ee",
   "metadata": {
    "scrolled": true
   },
   "outputs": [],
   "source": [
    "print('model: {}'.format(best_lgr))\n",
    "print('ngrams: {}'.format(best_ngrams))\n",
    "print('best features: {}'.format(best_features))"
   ]
  },
  {
   "cell_type": "code",
   "execution_count": null,
   "id": "fe99bf3b",
   "metadata": {},
   "outputs": [],
   "source": [
    "data.reset_index(inplace=True, drop=True)\n",
    "X, _ = vectorize(data['cleaned'], data[best_features], ngram_range = best_ngrams)\n",
    "y = data['labels']"
   ]
  },
  {
   "cell_type": "code",
   "execution_count": null,
   "id": "9d6bb27d",
   "metadata": {},
   "outputs": [],
   "source": [
    "assert len(X) == len(y)"
   ]
  },
  {
   "cell_type": "code",
   "execution_count": null,
   "id": "fdfa330d",
   "metadata": {},
   "outputs": [],
   "source": [
    "%%time\n",
    "X_train, X_test, y_train, y_test = train_test_split(X, y, test_size = 0.2, stratify=y)\n",
    "best_lgr.fit(X_train, y_train)\n",
    "y_pred = best_lgr.predict(X_test)"
   ]
  },
  {
   "cell_type": "code",
   "execution_count": null,
   "id": "844af225",
   "metadata": {
    "scrolled": true
   },
   "outputs": [],
   "source": [
    "# Classification report\n",
    "print(\"Classification report\")\n",
    "print(classification_report(y_test, y_pred))"
   ]
  },
  {
   "cell_type": "code",
   "execution_count": null,
   "id": "54c9e5bb",
   "metadata": {},
   "outputs": [],
   "source": [
    "conf_matrix = confusion_matrix(y_test, y_pred, normalize='pred')"
   ]
  },
  {
   "cell_type": "code",
   "execution_count": null,
   "id": "1d0e3d06",
   "metadata": {},
   "outputs": [],
   "source": [
    "plot_confusion_matrix(conf_matrix)"
   ]
  },
  {
   "cell_type": "code",
   "execution_count": null,
   "id": "23fe7cb1",
   "metadata": {
    "scrolled": true
   },
   "outputs": [],
   "source": [
    "_ = plot_roc_curve(best_lgr, X_test, y_test)"
   ]
  },
  {
   "cell_type": "code",
   "execution_count": null,
   "id": "470818ed",
   "metadata": {
    "scrolled": false
   },
   "outputs": [],
   "source": [
    "_ = plot_precision_recall_curve(best_lgr, X_test, y_test)"
   ]
  },
  {
   "cell_type": "markdown",
   "id": "f24e8db4",
   "metadata": {},
   "source": [
    "# Other Classification Methods"
   ]
  },
  {
   "cell_type": "markdown",
   "id": "6d6bfde9",
   "metadata": {},
   "source": [
    "## Training models on a labelled corpus"
   ]
  },
  {
   "cell_type": "code",
   "execution_count": 71,
   "id": "56d51a6a",
   "metadata": {},
   "outputs": [
    {
     "name": "stdout",
     "output_type": "stream",
     "text": [
      "Capstone 1 Final Report.ipynb\r\n",
      "Capstone_1_Report.ipynb\r\n",
      "DataWrangling-Copy1.ipynb\r\n",
      "DataWrangling.ipynb\r\n",
      "NLP_Pipeline.py\r\n",
      "Preprocessing and Machine Learning-Copy1.ipynb\r\n",
      "Preprocessing and Machine Learning-Copy2.ipynb\r\n",
      "Preprocessing and Machine Learning.ipynb\r\n",
      "\u001b[34m__pycache__\u001b[m\u001b[m/\r\n",
      "archive.zip\r\n",
      "corpus_fromDW.pkl\r\n",
      "\u001b[34mdata\u001b[m\u001b[m/\r\n",
      "\u001b[34mplots\u001b[m\u001b[m/\r\n"
     ]
    }
   ],
   "source": [
    "ls"
   ]
  },
  {
   "cell_type": "code",
   "execution_count": 103,
   "id": "3f16587f",
   "metadata": {
    "scrolled": true
   },
   "outputs": [],
   "source": [
    "file = 'data/archive/all-data.csv'\n",
    "import chardet\n",
    "with open(file, 'rb') as rawdata:\n",
    "    result = chardet.detect(rawdata.read(100000))\n",
    "result\n",
    "# Using a labelled corpus\n",
    "corpus = pd.read_csv('data/archive/all-data.csv', encoding='Windows-1252', header=None, names=['sentiment', 'cleaned'])"
   ]
  },
  {
   "cell_type": "code",
   "execution_count": 352,
   "id": "db1a85e7",
   "metadata": {
    "scrolled": true
   },
   "outputs": [],
   "source": [
    "corpus = pd.read_csv('data/archive/FinancialPhraseBank/Sentences_AllAgree.txt', delimiter='\\@' ,encoding='Windows-1252', header=None, names=[ 'cleaned', 'sentiment'])"
   ]
  },
  {
   "cell_type": "code",
   "execution_count": 353,
   "id": "9ac9cbdc",
   "metadata": {
    "scrolled": true
   },
   "outputs": [
    {
     "data": {
      "text/html": [
       "<div>\n",
       "<style scoped>\n",
       "    .dataframe tbody tr th:only-of-type {\n",
       "        vertical-align: middle;\n",
       "    }\n",
       "\n",
       "    .dataframe tbody tr th {\n",
       "        vertical-align: top;\n",
       "    }\n",
       "\n",
       "    .dataframe thead th {\n",
       "        text-align: right;\n",
       "    }\n",
       "</style>\n",
       "<table border=\"1\" class=\"dataframe\">\n",
       "  <thead>\n",
       "    <tr style=\"text-align: right;\">\n",
       "      <th></th>\n",
       "      <th>cleaned</th>\n",
       "      <th>sentiment</th>\n",
       "    </tr>\n",
       "  </thead>\n",
       "  <tbody>\n",
       "    <tr>\n",
       "      <th>0</th>\n",
       "      <td>According to Gran , the company has no plans to move all production to Russia , although that is where the company is growing .</td>\n",
       "      <td>neutral</td>\n",
       "    </tr>\n",
       "    <tr>\n",
       "      <th>1</th>\n",
       "      <td>For the last quarter of 2010 , Componenta 's net sales doubled to EUR131m from EUR76m for the same period a year earlier , while it moved to a zero pre-tax profit from a pre-tax loss of EUR7m .</td>\n",
       "      <td>positive</td>\n",
       "    </tr>\n",
       "    <tr>\n",
       "      <th>2</th>\n",
       "      <td>In the third quarter of 2010 , net sales increased by 5.2 % to EUR 205.5 mn , and operating profit by 34.9 % to EUR 23.5 mn .</td>\n",
       "      <td>positive</td>\n",
       "    </tr>\n",
       "    <tr>\n",
       "      <th>3</th>\n",
       "      <td>Operating profit rose to EUR 13.1 mn from EUR 8.7 mn in the corresponding period in 2007 representing 7.7 % of net sales .</td>\n",
       "      <td>positive</td>\n",
       "    </tr>\n",
       "    <tr>\n",
       "      <th>4</th>\n",
       "      <td>Operating profit totalled EUR 21.1 mn , up from EUR 18.6 mn in 2007 , representing 9.7 % of net sales .</td>\n",
       "      <td>positive</td>\n",
       "    </tr>\n",
       "    <tr>\n",
       "      <th>...</th>\n",
       "      <td>...</td>\n",
       "      <td>...</td>\n",
       "    </tr>\n",
       "    <tr>\n",
       "      <th>2259</th>\n",
       "      <td>Operating result for the 12-month period decreased from the profit of EUR0 .4 m while turnover decreased from EUR5 .6 m , as compared to 2004 .</td>\n",
       "      <td>negative</td>\n",
       "    </tr>\n",
       "    <tr>\n",
       "      <th>2260</th>\n",
       "      <td>HELSINKI Thomson Financial - Shares in Cargotec fell sharply in early afternoon trade after the cargo handling group posted a surprise drop in April-June profits , which overshadowed the large number of new orders received during the three months .</td>\n",
       "      <td>negative</td>\n",
       "    </tr>\n",
       "    <tr>\n",
       "      <th>2261</th>\n",
       "      <td>LONDON MarketWatch -- Share prices ended lower in London Monday as a rebound in bank stocks failed to offset broader weakness for the FTSE 100 .</td>\n",
       "      <td>negative</td>\n",
       "    </tr>\n",
       "    <tr>\n",
       "      <th>2262</th>\n",
       "      <td>Operating profit fell to EUR 35.4 mn from EUR 68.8 mn in 2007 , including vessel sales gain of EUR 12.3 mn .</td>\n",
       "      <td>negative</td>\n",
       "    </tr>\n",
       "    <tr>\n",
       "      <th>2263</th>\n",
       "      <td>Sales in Finland decreased by 10.5 % in January , while sales outside Finland dropped by 17 % .</td>\n",
       "      <td>negative</td>\n",
       "    </tr>\n",
       "  </tbody>\n",
       "</table>\n",
       "<p>2264 rows × 2 columns</p>\n",
       "</div>"
      ],
      "text/plain": [
       "                                                                                                                                                                                                                                                       cleaned  \\\n",
       "0                                                                                                                              According to Gran , the company has no plans to move all production to Russia , although that is where the company is growing .   \n",
       "1                                                            For the last quarter of 2010 , Componenta 's net sales doubled to EUR131m from EUR76m for the same period a year earlier , while it moved to a zero pre-tax profit from a pre-tax loss of EUR7m .   \n",
       "2                                                                                                                                In the third quarter of 2010 , net sales increased by 5.2 % to EUR 205.5 mn , and operating profit by 34.9 % to EUR 23.5 mn .   \n",
       "3                                                                                                                                   Operating profit rose to EUR 13.1 mn from EUR 8.7 mn in the corresponding period in 2007 representing 7.7 % of net sales .   \n",
       "4                                                                                                                                                      Operating profit totalled EUR 21.1 mn , up from EUR 18.6 mn in 2007 , representing 9.7 % of net sales .   \n",
       "...                                                                                                                                                                                                                                                        ...   \n",
       "2259                                                                                                           Operating result for the 12-month period decreased from the profit of EUR0 .4 m while turnover decreased from EUR5 .6 m , as compared to 2004 .   \n",
       "2260  HELSINKI Thomson Financial - Shares in Cargotec fell sharply in early afternoon trade after the cargo handling group posted a surprise drop in April-June profits , which overshadowed the large number of new orders received during the three months .   \n",
       "2261                                                                                                          LONDON MarketWatch -- Share prices ended lower in London Monday as a rebound in bank stocks failed to offset broader weakness for the FTSE 100 .   \n",
       "2262                                                                                                                                              Operating profit fell to EUR 35.4 mn from EUR 68.8 mn in 2007 , including vessel sales gain of EUR 12.3 mn .   \n",
       "2263                                                                                                                                                           Sales in Finland decreased by 10.5 % in January , while sales outside Finland dropped by 17 % .   \n",
       "\n",
       "     sentiment  \n",
       "0      neutral  \n",
       "1     positive  \n",
       "2     positive  \n",
       "3     positive  \n",
       "4     positive  \n",
       "...        ...  \n",
       "2259  negative  \n",
       "2260  negative  \n",
       "2261  negative  \n",
       "2262  negative  \n",
       "2263  negative  \n",
       "\n",
       "[2264 rows x 2 columns]"
      ]
     },
     "execution_count": 353,
     "metadata": {},
     "output_type": "execute_result"
    }
   ],
   "source": [
    "corpus"
   ]
  },
  {
   "cell_type": "code",
   "execution_count": null,
   "id": "48799f20",
   "metadata": {},
   "outputs": [],
   "source": []
  },
  {
   "cell_type": "code",
   "execution_count": null,
   "id": "6388c499",
   "metadata": {},
   "outputs": [],
   "source": []
  },
  {
   "cell_type": "code",
   "execution_count": 359,
   "id": "b7da5eb9",
   "metadata": {},
   "outputs": [
    {
     "name": "stdout",
     "output_type": "stream",
     "text": [
      "neutral     11636\n",
      "positive       39\n",
      "negative       22\n",
      "Name: sentiment, dtype: int64\n",
      "[-0.3, -0.1, 0.1, 0.3]\n",
      "\n",
      "0.7\n",
      "neutral     11330\n",
      "positive      201\n",
      "negative      166\n",
      "Name: sentiment, dtype: int64\n",
      "[-0.3, -0.05, 0.05, 0.3]\n",
      "\n",
      "0.46\n",
      "neutral     7712\n",
      "positive    2102\n",
      "negative    1883\n",
      "Name: sentiment, dtype: int64\n",
      "[-0.3, -0.01, 0.01, 0.3]\n",
      "\n",
      "0.42\n",
      "neutral     5229\n",
      "positive    3417\n",
      "negative    3051\n",
      "Name: sentiment, dtype: int64\n",
      "[-0.3, -0.005, 0.005, 0.3]\n",
      "\n",
      "0.56\n",
      "positive    5418\n",
      "negative    4821\n",
      "neutral     1458\n",
      "Name: sentiment, dtype: int64\n",
      "[-0.3, -0.001, 0.001, 0.3]\n",
      "\n",
      "0.5\n",
      "CPU times: user 40.9 s, sys: 1.25 s, total: 42.2 s\n",
      "Wall time: 42.7 s\n"
     ]
    }
   ],
   "source": [
    "%%time\n",
    "bin_range = [[-.3, -.1, .1, .3], [-.3, -.05, .05, .3],\n",
    "             [-.3, -.01, .01, .3], [-.3, -.005, .005, .3], [-.3, -.001, .001, .3]]\n",
    "for brange in bin_range:\n",
    "    test = df[['tweet', 'percent change']].copy()\n",
    "    test['cleaned'] = test['tweet'].apply(lambda x: clean_text(x, preserve_syntax=True))\n",
    "    test['sentiment'] = pd.cut(test['percent change'], bins=brange, labels=['negative', 'neutral', 'positive'] )\n",
    "    print(test['sentiment'].value_counts())\n",
    "    corpus['train/test'] = 'train'\n",
    "    test['train/test'] = 'test'\n",
    "    test.drop(labels = ['percent change', 'tweet'], axis=1, inplace=True)\n",
    "    corpus = corpus[corpus['sentiment'] != 'neutral']\n",
    "    test = test[test['sentiment'] != 'neutral']\n",
    "    test = test.sample(50, replace=False)\n",
    "    new_df = pd.concat([test, corpus])\n",
    "    new_df.reset_index(inplace=True, drop=True)\n",
    "    to_merge = new_df.drop('cleaned', axis=1)\n",
    "    new_df_vect, _ = vectorize(new_df['cleaned'], ngram_range=(1,2))\n",
    "    new_df_full = pd.concat([to_merge, new_df_vect], axis=1)\n",
    "    X_train, X_test, y_train, y_test = new_df_full[new_df_full['train/test'] == 'train'].drop(labels=['sentiment','train/test'], axis=1),new_df_full[new_df_full['train/test'] == 'test'].drop(labels=['sentiment', 'train/test'], axis=1), new_df_full[new_df_full['train/test'] == 'train']['sentiment'],new_df_full[new_df_full['train/test'] == 'test']['sentiment']\n",
    "    nb = MultinomialNB()\n",
    "    nb.fit(X_train, y_train)\n",
    "    y_pred = nb.predict(X_test)\n",
    "    print(brange)\n",
    "    print()\n",
    "    print(accuracy_score(y_pred, y_test))"
   ]
  },
  {
   "cell_type": "code",
   "execution_count": 287,
   "id": "e68c30b3",
   "metadata": {},
   "outputs": [
    {
     "data": {
      "text/plain": [
       "neutral     5229\n",
       "positive    3417\n",
       "negative    3051\n",
       "Name: sentiment, dtype: int64"
      ]
     },
     "execution_count": 287,
     "metadata": {},
     "output_type": "execute_result"
    }
   ],
   "source": []
  },
  {
   "cell_type": "code",
   "execution_count": 288,
   "id": "f3732101",
   "metadata": {},
   "outputs": [],
   "source": []
  },
  {
   "cell_type": "code",
   "execution_count": 289,
   "id": "d97610d5",
   "metadata": {},
   "outputs": [
    {
     "data": {
      "text/plain": [
       "Index(['tweet', 'percent change', 'cleaned', 'sentiment', 'train/test'], dtype='object')"
      ]
     },
     "execution_count": 289,
     "metadata": {},
     "output_type": "execute_result"
    }
   ],
   "source": [
    "test.columns"
   ]
  },
  {
   "cell_type": "code",
   "execution_count": 290,
   "id": "e5a6f1b3",
   "metadata": {},
   "outputs": [],
   "source": []
  },
  {
   "cell_type": "code",
   "execution_count": 323,
   "id": "5f3c915c",
   "metadata": {},
   "outputs": [],
   "source": []
  },
  {
   "cell_type": "code",
   "execution_count": 324,
   "id": "17b7b920",
   "metadata": {},
   "outputs": [],
   "source": []
  },
  {
   "cell_type": "code",
   "execution_count": 335,
   "id": "136d00a6",
   "metadata": {},
   "outputs": [],
   "source": []
  },
  {
   "cell_type": "code",
   "execution_count": 336,
   "id": "24f445a8",
   "metadata": {},
   "outputs": [],
   "source": []
  },
  {
   "cell_type": "code",
   "execution_count": 337,
   "id": "f8a9b15b",
   "metadata": {},
   "outputs": [],
   "source": []
  },
  {
   "cell_type": "code",
   "execution_count": 338,
   "id": "ecdae480",
   "metadata": {},
   "outputs": [
    {
     "data": {
      "text/html": [
       "<div>\n",
       "<style scoped>\n",
       "    .dataframe tbody tr th:only-of-type {\n",
       "        vertical-align: middle;\n",
       "    }\n",
       "\n",
       "    .dataframe tbody tr th {\n",
       "        vertical-align: top;\n",
       "    }\n",
       "\n",
       "    .dataframe thead th {\n",
       "        text-align: right;\n",
       "    }\n",
       "</style>\n",
       "<table border=\"1\" class=\"dataframe\">\n",
       "  <thead>\n",
       "    <tr style=\"text-align: right;\">\n",
       "      <th></th>\n",
       "      <th>sentiment</th>\n",
       "      <th>train/test</th>\n",
       "    </tr>\n",
       "  </thead>\n",
       "  <tbody>\n",
       "    <tr>\n",
       "      <th>0</th>\n",
       "      <td>positive</td>\n",
       "      <td>test</td>\n",
       "    </tr>\n",
       "    <tr>\n",
       "      <th>1</th>\n",
       "      <td>negative</td>\n",
       "      <td>test</td>\n",
       "    </tr>\n",
       "    <tr>\n",
       "      <th>2</th>\n",
       "      <td>negative</td>\n",
       "      <td>test</td>\n",
       "    </tr>\n",
       "    <tr>\n",
       "      <th>3</th>\n",
       "      <td>negative</td>\n",
       "      <td>test</td>\n",
       "    </tr>\n",
       "    <tr>\n",
       "      <th>4</th>\n",
       "      <td>positive</td>\n",
       "      <td>test</td>\n",
       "    </tr>\n",
       "    <tr>\n",
       "      <th>...</th>\n",
       "      <td>...</td>\n",
       "      <td>...</td>\n",
       "    </tr>\n",
       "    <tr>\n",
       "      <th>1402</th>\n",
       "      <td>negative</td>\n",
       "      <td>train</td>\n",
       "    </tr>\n",
       "    <tr>\n",
       "      <th>1403</th>\n",
       "      <td>negative</td>\n",
       "      <td>train</td>\n",
       "    </tr>\n",
       "    <tr>\n",
       "      <th>1404</th>\n",
       "      <td>negative</td>\n",
       "      <td>train</td>\n",
       "    </tr>\n",
       "    <tr>\n",
       "      <th>1405</th>\n",
       "      <td>negative</td>\n",
       "      <td>train</td>\n",
       "    </tr>\n",
       "    <tr>\n",
       "      <th>1406</th>\n",
       "      <td>negative</td>\n",
       "      <td>train</td>\n",
       "    </tr>\n",
       "  </tbody>\n",
       "</table>\n",
       "<p>1407 rows × 2 columns</p>\n",
       "</div>"
      ],
      "text/plain": [
       "     sentiment train/test\n",
       "0     positive       test\n",
       "1     negative       test\n",
       "2     negative       test\n",
       "3     negative       test\n",
       "4     positive       test\n",
       "...        ...        ...\n",
       "1402  negative      train\n",
       "1403  negative      train\n",
       "1404  negative      train\n",
       "1405  negative      train\n",
       "1406  negative      train\n",
       "\n",
       "[1407 rows x 2 columns]"
      ]
     },
     "execution_count": 338,
     "metadata": {},
     "output_type": "execute_result"
    }
   ],
   "source": [
    "to_merge"
   ]
  },
  {
   "cell_type": "code",
   "execution_count": 339,
   "id": "8e853f37",
   "metadata": {},
   "outputs": [],
   "source": []
  },
  {
   "cell_type": "code",
   "execution_count": 340,
   "id": "c76d706f",
   "metadata": {},
   "outputs": [
    {
     "data": {
      "text/html": [
       "<div>\n",
       "<style scoped>\n",
       "    .dataframe tbody tr th:only-of-type {\n",
       "        vertical-align: middle;\n",
       "    }\n",
       "\n",
       "    .dataframe tbody tr th {\n",
       "        vertical-align: top;\n",
       "    }\n",
       "\n",
       "    .dataframe thead th {\n",
       "        text-align: right;\n",
       "    }\n",
       "</style>\n",
       "<table border=\"1\" class=\"dataframe\">\n",
       "  <thead>\n",
       "    <tr style=\"text-align: right;\">\n",
       "      <th></th>\n",
       "      <th>0</th>\n",
       "      <th>1</th>\n",
       "      <th>2</th>\n",
       "      <th>3</th>\n",
       "      <th>4</th>\n",
       "      <th>5</th>\n",
       "      <th>6</th>\n",
       "      <th>7</th>\n",
       "      <th>8</th>\n",
       "      <th>9</th>\n",
       "      <th>...</th>\n",
       "      <th>17134</th>\n",
       "      <th>17135</th>\n",
       "      <th>17136</th>\n",
       "      <th>17137</th>\n",
       "      <th>17138</th>\n",
       "      <th>17139</th>\n",
       "      <th>17140</th>\n",
       "      <th>17141</th>\n",
       "      <th>17142</th>\n",
       "      <th>17143</th>\n",
       "    </tr>\n",
       "  </thead>\n",
       "  <tbody>\n",
       "    <tr>\n",
       "      <th>0</th>\n",
       "      <td>0.0</td>\n",
       "      <td>0.0</td>\n",
       "      <td>0.0</td>\n",
       "      <td>0.0</td>\n",
       "      <td>0.0</td>\n",
       "      <td>0.0</td>\n",
       "      <td>0.0</td>\n",
       "      <td>0.0</td>\n",
       "      <td>0.0</td>\n",
       "      <td>0.0</td>\n",
       "      <td>...</td>\n",
       "      <td>0.0</td>\n",
       "      <td>0.0</td>\n",
       "      <td>0.0</td>\n",
       "      <td>0.0</td>\n",
       "      <td>0.0</td>\n",
       "      <td>0.0</td>\n",
       "      <td>0.0</td>\n",
       "      <td>0.0</td>\n",
       "      <td>0.0</td>\n",
       "      <td>0.0</td>\n",
       "    </tr>\n",
       "    <tr>\n",
       "      <th>1</th>\n",
       "      <td>0.0</td>\n",
       "      <td>0.0</td>\n",
       "      <td>0.0</td>\n",
       "      <td>0.0</td>\n",
       "      <td>0.0</td>\n",
       "      <td>0.0</td>\n",
       "      <td>0.0</td>\n",
       "      <td>0.0</td>\n",
       "      <td>0.0</td>\n",
       "      <td>0.0</td>\n",
       "      <td>...</td>\n",
       "      <td>0.0</td>\n",
       "      <td>0.0</td>\n",
       "      <td>0.0</td>\n",
       "      <td>0.0</td>\n",
       "      <td>0.0</td>\n",
       "      <td>0.0</td>\n",
       "      <td>0.0</td>\n",
       "      <td>0.0</td>\n",
       "      <td>0.0</td>\n",
       "      <td>0.0</td>\n",
       "    </tr>\n",
       "    <tr>\n",
       "      <th>2</th>\n",
       "      <td>0.0</td>\n",
       "      <td>0.0</td>\n",
       "      <td>0.0</td>\n",
       "      <td>0.0</td>\n",
       "      <td>0.0</td>\n",
       "      <td>0.0</td>\n",
       "      <td>0.0</td>\n",
       "      <td>0.0</td>\n",
       "      <td>0.0</td>\n",
       "      <td>0.0</td>\n",
       "      <td>...</td>\n",
       "      <td>0.0</td>\n",
       "      <td>0.0</td>\n",
       "      <td>0.0</td>\n",
       "      <td>0.0</td>\n",
       "      <td>0.0</td>\n",
       "      <td>0.0</td>\n",
       "      <td>0.0</td>\n",
       "      <td>0.0</td>\n",
       "      <td>0.0</td>\n",
       "      <td>0.0</td>\n",
       "    </tr>\n",
       "    <tr>\n",
       "      <th>3</th>\n",
       "      <td>0.0</td>\n",
       "      <td>0.0</td>\n",
       "      <td>0.0</td>\n",
       "      <td>0.0</td>\n",
       "      <td>0.0</td>\n",
       "      <td>0.0</td>\n",
       "      <td>0.0</td>\n",
       "      <td>0.0</td>\n",
       "      <td>0.0</td>\n",
       "      <td>0.0</td>\n",
       "      <td>...</td>\n",
       "      <td>0.0</td>\n",
       "      <td>0.0</td>\n",
       "      <td>0.0</td>\n",
       "      <td>0.0</td>\n",
       "      <td>0.0</td>\n",
       "      <td>0.0</td>\n",
       "      <td>0.0</td>\n",
       "      <td>0.0</td>\n",
       "      <td>0.0</td>\n",
       "      <td>0.0</td>\n",
       "    </tr>\n",
       "    <tr>\n",
       "      <th>4</th>\n",
       "      <td>0.0</td>\n",
       "      <td>0.0</td>\n",
       "      <td>0.0</td>\n",
       "      <td>0.0</td>\n",
       "      <td>0.0</td>\n",
       "      <td>0.0</td>\n",
       "      <td>0.0</td>\n",
       "      <td>0.0</td>\n",
       "      <td>0.0</td>\n",
       "      <td>0.0</td>\n",
       "      <td>...</td>\n",
       "      <td>0.0</td>\n",
       "      <td>0.0</td>\n",
       "      <td>0.0</td>\n",
       "      <td>0.0</td>\n",
       "      <td>0.0</td>\n",
       "      <td>0.0</td>\n",
       "      <td>0.0</td>\n",
       "      <td>0.0</td>\n",
       "      <td>0.0</td>\n",
       "      <td>0.0</td>\n",
       "    </tr>\n",
       "    <tr>\n",
       "      <th>...</th>\n",
       "      <td>...</td>\n",
       "      <td>...</td>\n",
       "      <td>...</td>\n",
       "      <td>...</td>\n",
       "      <td>...</td>\n",
       "      <td>...</td>\n",
       "      <td>...</td>\n",
       "      <td>...</td>\n",
       "      <td>...</td>\n",
       "      <td>...</td>\n",
       "      <td>...</td>\n",
       "      <td>...</td>\n",
       "      <td>...</td>\n",
       "      <td>...</td>\n",
       "      <td>...</td>\n",
       "      <td>...</td>\n",
       "      <td>...</td>\n",
       "      <td>...</td>\n",
       "      <td>...</td>\n",
       "      <td>...</td>\n",
       "      <td>...</td>\n",
       "    </tr>\n",
       "    <tr>\n",
       "      <th>1402</th>\n",
       "      <td>0.0</td>\n",
       "      <td>0.0</td>\n",
       "      <td>0.0</td>\n",
       "      <td>0.0</td>\n",
       "      <td>0.0</td>\n",
       "      <td>0.0</td>\n",
       "      <td>0.0</td>\n",
       "      <td>0.0</td>\n",
       "      <td>0.0</td>\n",
       "      <td>0.0</td>\n",
       "      <td>...</td>\n",
       "      <td>0.0</td>\n",
       "      <td>0.0</td>\n",
       "      <td>0.0</td>\n",
       "      <td>0.0</td>\n",
       "      <td>0.0</td>\n",
       "      <td>0.0</td>\n",
       "      <td>0.0</td>\n",
       "      <td>0.0</td>\n",
       "      <td>0.0</td>\n",
       "      <td>0.0</td>\n",
       "    </tr>\n",
       "    <tr>\n",
       "      <th>1403</th>\n",
       "      <td>0.0</td>\n",
       "      <td>0.0</td>\n",
       "      <td>0.0</td>\n",
       "      <td>0.0</td>\n",
       "      <td>0.0</td>\n",
       "      <td>0.0</td>\n",
       "      <td>0.0</td>\n",
       "      <td>0.0</td>\n",
       "      <td>0.0</td>\n",
       "      <td>0.0</td>\n",
       "      <td>...</td>\n",
       "      <td>0.0</td>\n",
       "      <td>0.0</td>\n",
       "      <td>0.0</td>\n",
       "      <td>0.0</td>\n",
       "      <td>0.0</td>\n",
       "      <td>0.0</td>\n",
       "      <td>0.0</td>\n",
       "      <td>0.0</td>\n",
       "      <td>0.0</td>\n",
       "      <td>0.0</td>\n",
       "    </tr>\n",
       "    <tr>\n",
       "      <th>1404</th>\n",
       "      <td>0.0</td>\n",
       "      <td>0.0</td>\n",
       "      <td>0.0</td>\n",
       "      <td>0.0</td>\n",
       "      <td>0.0</td>\n",
       "      <td>0.0</td>\n",
       "      <td>0.0</td>\n",
       "      <td>0.0</td>\n",
       "      <td>0.0</td>\n",
       "      <td>0.0</td>\n",
       "      <td>...</td>\n",
       "      <td>0.0</td>\n",
       "      <td>0.0</td>\n",
       "      <td>0.0</td>\n",
       "      <td>0.0</td>\n",
       "      <td>0.0</td>\n",
       "      <td>0.0</td>\n",
       "      <td>0.0</td>\n",
       "      <td>0.0</td>\n",
       "      <td>0.0</td>\n",
       "      <td>0.0</td>\n",
       "    </tr>\n",
       "    <tr>\n",
       "      <th>1405</th>\n",
       "      <td>0.0</td>\n",
       "      <td>0.0</td>\n",
       "      <td>0.0</td>\n",
       "      <td>0.0</td>\n",
       "      <td>0.0</td>\n",
       "      <td>0.0</td>\n",
       "      <td>0.0</td>\n",
       "      <td>0.0</td>\n",
       "      <td>0.0</td>\n",
       "      <td>0.0</td>\n",
       "      <td>...</td>\n",
       "      <td>0.0</td>\n",
       "      <td>0.0</td>\n",
       "      <td>0.0</td>\n",
       "      <td>0.0</td>\n",
       "      <td>0.0</td>\n",
       "      <td>0.0</td>\n",
       "      <td>0.0</td>\n",
       "      <td>0.0</td>\n",
       "      <td>0.0</td>\n",
       "      <td>0.0</td>\n",
       "    </tr>\n",
       "    <tr>\n",
       "      <th>1406</th>\n",
       "      <td>0.0</td>\n",
       "      <td>0.0</td>\n",
       "      <td>0.0</td>\n",
       "      <td>0.0</td>\n",
       "      <td>0.0</td>\n",
       "      <td>0.0</td>\n",
       "      <td>0.0</td>\n",
       "      <td>0.0</td>\n",
       "      <td>0.0</td>\n",
       "      <td>0.0</td>\n",
       "      <td>...</td>\n",
       "      <td>0.0</td>\n",
       "      <td>0.0</td>\n",
       "      <td>0.0</td>\n",
       "      <td>0.0</td>\n",
       "      <td>0.0</td>\n",
       "      <td>0.0</td>\n",
       "      <td>0.0</td>\n",
       "      <td>0.0</td>\n",
       "      <td>0.0</td>\n",
       "      <td>0.0</td>\n",
       "    </tr>\n",
       "  </tbody>\n",
       "</table>\n",
       "<p>1407 rows × 17144 columns</p>\n",
       "</div>"
      ],
      "text/plain": [
       "      0      1      2      3      4      5      6      7      8      9      \\\n",
       "0       0.0    0.0    0.0    0.0    0.0    0.0    0.0    0.0    0.0    0.0   \n",
       "1       0.0    0.0    0.0    0.0    0.0    0.0    0.0    0.0    0.0    0.0   \n",
       "2       0.0    0.0    0.0    0.0    0.0    0.0    0.0    0.0    0.0    0.0   \n",
       "3       0.0    0.0    0.0    0.0    0.0    0.0    0.0    0.0    0.0    0.0   \n",
       "4       0.0    0.0    0.0    0.0    0.0    0.0    0.0    0.0    0.0    0.0   \n",
       "...     ...    ...    ...    ...    ...    ...    ...    ...    ...    ...   \n",
       "1402    0.0    0.0    0.0    0.0    0.0    0.0    0.0    0.0    0.0    0.0   \n",
       "1403    0.0    0.0    0.0    0.0    0.0    0.0    0.0    0.0    0.0    0.0   \n",
       "1404    0.0    0.0    0.0    0.0    0.0    0.0    0.0    0.0    0.0    0.0   \n",
       "1405    0.0    0.0    0.0    0.0    0.0    0.0    0.0    0.0    0.0    0.0   \n",
       "1406    0.0    0.0    0.0    0.0    0.0    0.0    0.0    0.0    0.0    0.0   \n",
       "\n",
       "      ...  17134  17135  17136  17137  17138  17139  17140  17141  17142  \\\n",
       "0     ...    0.0    0.0    0.0    0.0    0.0    0.0    0.0    0.0    0.0   \n",
       "1     ...    0.0    0.0    0.0    0.0    0.0    0.0    0.0    0.0    0.0   \n",
       "2     ...    0.0    0.0    0.0    0.0    0.0    0.0    0.0    0.0    0.0   \n",
       "3     ...    0.0    0.0    0.0    0.0    0.0    0.0    0.0    0.0    0.0   \n",
       "4     ...    0.0    0.0    0.0    0.0    0.0    0.0    0.0    0.0    0.0   \n",
       "...   ...    ...    ...    ...    ...    ...    ...    ...    ...    ...   \n",
       "1402  ...    0.0    0.0    0.0    0.0    0.0    0.0    0.0    0.0    0.0   \n",
       "1403  ...    0.0    0.0    0.0    0.0    0.0    0.0    0.0    0.0    0.0   \n",
       "1404  ...    0.0    0.0    0.0    0.0    0.0    0.0    0.0    0.0    0.0   \n",
       "1405  ...    0.0    0.0    0.0    0.0    0.0    0.0    0.0    0.0    0.0   \n",
       "1406  ...    0.0    0.0    0.0    0.0    0.0    0.0    0.0    0.0    0.0   \n",
       "\n",
       "      17143  \n",
       "0       0.0  \n",
       "1       0.0  \n",
       "2       0.0  \n",
       "3       0.0  \n",
       "4       0.0  \n",
       "...     ...  \n",
       "1402    0.0  \n",
       "1403    0.0  \n",
       "1404    0.0  \n",
       "1405    0.0  \n",
       "1406    0.0  \n",
       "\n",
       "[1407 rows x 17144 columns]"
      ]
     },
     "execution_count": 340,
     "metadata": {},
     "output_type": "execute_result"
    }
   ],
   "source": [
    "new_df_vect"
   ]
  },
  {
   "cell_type": "code",
   "execution_count": 341,
   "id": "6b0c7a8c",
   "metadata": {
    "scrolled": true
   },
   "outputs": [],
   "source": []
  },
  {
   "cell_type": "code",
   "execution_count": 342,
   "id": "c01a4e4b",
   "metadata": {},
   "outputs": [],
   "source": []
  },
  {
   "cell_type": "code",
   "execution_count": 343,
   "id": "e178df15",
   "metadata": {},
   "outputs": [
    {
     "data": {
      "text/plain": [
       "100     positive\n",
       "101     positive\n",
       "102     positive\n",
       "103     positive\n",
       "104     positive\n",
       "          ...   \n",
       "1402    negative\n",
       "1403    negative\n",
       "1404    negative\n",
       "1405    negative\n",
       "1406    negative\n",
       "Name: sentiment, Length: 1307, dtype: object"
      ]
     },
     "execution_count": 343,
     "metadata": {},
     "output_type": "execute_result"
    }
   ],
   "source": [
    "y_train"
   ]
  },
  {
   "cell_type": "code",
   "execution_count": 344,
   "id": "e399cf97",
   "metadata": {},
   "outputs": [
    {
     "data": {
      "text/plain": [
       "0.51"
      ]
     },
     "execution_count": 344,
     "metadata": {},
     "output_type": "execute_result"
    }
   ],
   "source": [
    "nb = MultinomialNB()\n",
    "nb.fit(X_train, y_train)\n",
    "y_pred = nb.predict(X_test)\n",
    "accuracy_score(y_pred, y_test)"
   ]
  },
  {
   "cell_type": "code",
   "execution_count": 312,
   "id": "a5f9d1d1",
   "metadata": {},
   "outputs": [
    {
     "ename": "KeyError",
     "evalue": "'labels'",
     "output_type": "error",
     "traceback": [
      "\u001b[0;31m---------------------------------------------------------------------------\u001b[0m",
      "\u001b[0;31mKeyError\u001b[0m                                  Traceback (most recent call last)",
      "\u001b[0;32m/Library/Frameworks/Python.framework/Versions/3.9/lib/python3.9/site-packages/pandas/core/indexes/base.py\u001b[0m in \u001b[0;36mget_loc\u001b[0;34m(self, key, method, tolerance)\u001b[0m\n\u001b[1;32m   3360\u001b[0m             \u001b[0;32mtry\u001b[0m\u001b[0;34m:\u001b[0m\u001b[0;34m\u001b[0m\u001b[0;34m\u001b[0m\u001b[0m\n\u001b[0;32m-> 3361\u001b[0;31m                 \u001b[0;32mreturn\u001b[0m \u001b[0mself\u001b[0m\u001b[0;34m.\u001b[0m\u001b[0m_engine\u001b[0m\u001b[0;34m.\u001b[0m\u001b[0mget_loc\u001b[0m\u001b[0;34m(\u001b[0m\u001b[0mcasted_key\u001b[0m\u001b[0;34m)\u001b[0m\u001b[0;34m\u001b[0m\u001b[0;34m\u001b[0m\u001b[0m\n\u001b[0m\u001b[1;32m   3362\u001b[0m             \u001b[0;32mexcept\u001b[0m \u001b[0mKeyError\u001b[0m \u001b[0;32mas\u001b[0m \u001b[0merr\u001b[0m\u001b[0;34m:\u001b[0m\u001b[0;34m\u001b[0m\u001b[0;34m\u001b[0m\u001b[0m\n",
      "\u001b[0;32m/Library/Frameworks/Python.framework/Versions/3.9/lib/python3.9/site-packages/pandas/_libs/index.pyx\u001b[0m in \u001b[0;36mpandas._libs.index.IndexEngine.get_loc\u001b[0;34m()\u001b[0m\n",
      "\u001b[0;32m/Library/Frameworks/Python.framework/Versions/3.9/lib/python3.9/site-packages/pandas/_libs/index.pyx\u001b[0m in \u001b[0;36mpandas._libs.index.IndexEngine.get_loc\u001b[0;34m()\u001b[0m\n",
      "\u001b[0;32mpandas/_libs/hashtable_class_helper.pxi\u001b[0m in \u001b[0;36mpandas._libs.hashtable.PyObjectHashTable.get_item\u001b[0;34m()\u001b[0m\n",
      "\u001b[0;32mpandas/_libs/hashtable_class_helper.pxi\u001b[0m in \u001b[0;36mpandas._libs.hashtable.PyObjectHashTable.get_item\u001b[0;34m()\u001b[0m\n",
      "\u001b[0;31mKeyError\u001b[0m: 'labels'",
      "\nThe above exception was the direct cause of the following exception:\n",
      "\u001b[0;31mKeyError\u001b[0m                                  Traceback (most recent call last)",
      "\u001b[0;32m<ipython-input-312-f7577af21391>\u001b[0m in \u001b[0;36m<module>\u001b[0;34m\u001b[0m\n\u001b[0;32m----> 1\u001b[0;31m \u001b[0mcorpus\u001b[0m\u001b[0;34m[\u001b[0m\u001b[0;34m'labels'\u001b[0m\u001b[0;34m]\u001b[0m \u001b[0;34m=\u001b[0m \u001b[0mcorpus\u001b[0m\u001b[0;34m[\u001b[0m\u001b[0;34m'labels'\u001b[0m\u001b[0;34m]\u001b[0m\u001b[0;34m.\u001b[0m\u001b[0mmap\u001b[0m\u001b[0;34m(\u001b[0m\u001b[0;34m{\u001b[0m\u001b[0;34m'Bearish'\u001b[0m\u001b[0;34m:\u001b[0m\u001b[0;34m'drop'\u001b[0m\u001b[0;34m,\u001b[0m \u001b[0;34m'Bullish'\u001b[0m\u001b[0;34m:\u001b[0m\u001b[0;34m'rise'\u001b[0m\u001b[0;34m}\u001b[0m\u001b[0;34m)\u001b[0m\u001b[0;34m\u001b[0m\u001b[0;34m\u001b[0m\u001b[0m\n\u001b[0m\u001b[1;32m      2\u001b[0m \u001b[0mcorpus\u001b[0m\u001b[0;34m[\u001b[0m\u001b[0;34m'text'\u001b[0m\u001b[0;34m]\u001b[0m \u001b[0;34m=\u001b[0m \u001b[0mcorpus\u001b[0m\u001b[0;34m[\u001b[0m\u001b[0;34m'tweet'\u001b[0m\u001b[0;34m]\u001b[0m\u001b[0;34m.\u001b[0m\u001b[0mapply\u001b[0m\u001b[0;34m(\u001b[0m\u001b[0;32mlambda\u001b[0m \u001b[0mx\u001b[0m\u001b[0;34m:\u001b[0m \u001b[0mclean_text\u001b[0m\u001b[0;34m(\u001b[0m\u001b[0mx\u001b[0m\u001b[0;34m,\u001b[0m \u001b[0mpreserve_syntax\u001b[0m\u001b[0;34m=\u001b[0m\u001b[0;32mTrue\u001b[0m\u001b[0;34m)\u001b[0m\u001b[0;34m)\u001b[0m\u001b[0;34m\u001b[0m\u001b[0;34m\u001b[0m\u001b[0m\n",
      "\u001b[0;32m/Library/Frameworks/Python.framework/Versions/3.9/lib/python3.9/site-packages/pandas/core/frame.py\u001b[0m in \u001b[0;36m__getitem__\u001b[0;34m(self, key)\u001b[0m\n\u001b[1;32m   3453\u001b[0m             \u001b[0;32mif\u001b[0m \u001b[0mself\u001b[0m\u001b[0;34m.\u001b[0m\u001b[0mcolumns\u001b[0m\u001b[0;34m.\u001b[0m\u001b[0mnlevels\u001b[0m \u001b[0;34m>\u001b[0m \u001b[0;36m1\u001b[0m\u001b[0;34m:\u001b[0m\u001b[0;34m\u001b[0m\u001b[0;34m\u001b[0m\u001b[0m\n\u001b[1;32m   3454\u001b[0m                 \u001b[0;32mreturn\u001b[0m \u001b[0mself\u001b[0m\u001b[0;34m.\u001b[0m\u001b[0m_getitem_multilevel\u001b[0m\u001b[0;34m(\u001b[0m\u001b[0mkey\u001b[0m\u001b[0;34m)\u001b[0m\u001b[0;34m\u001b[0m\u001b[0;34m\u001b[0m\u001b[0m\n\u001b[0;32m-> 3455\u001b[0;31m             \u001b[0mindexer\u001b[0m \u001b[0;34m=\u001b[0m \u001b[0mself\u001b[0m\u001b[0;34m.\u001b[0m\u001b[0mcolumns\u001b[0m\u001b[0;34m.\u001b[0m\u001b[0mget_loc\u001b[0m\u001b[0;34m(\u001b[0m\u001b[0mkey\u001b[0m\u001b[0;34m)\u001b[0m\u001b[0;34m\u001b[0m\u001b[0;34m\u001b[0m\u001b[0m\n\u001b[0m\u001b[1;32m   3456\u001b[0m             \u001b[0;32mif\u001b[0m \u001b[0mis_integer\u001b[0m\u001b[0;34m(\u001b[0m\u001b[0mindexer\u001b[0m\u001b[0;34m)\u001b[0m\u001b[0;34m:\u001b[0m\u001b[0;34m\u001b[0m\u001b[0;34m\u001b[0m\u001b[0m\n\u001b[1;32m   3457\u001b[0m                 \u001b[0mindexer\u001b[0m \u001b[0;34m=\u001b[0m \u001b[0;34m[\u001b[0m\u001b[0mindexer\u001b[0m\u001b[0;34m]\u001b[0m\u001b[0;34m\u001b[0m\u001b[0;34m\u001b[0m\u001b[0m\n",
      "\u001b[0;32m/Library/Frameworks/Python.framework/Versions/3.9/lib/python3.9/site-packages/pandas/core/indexes/base.py\u001b[0m in \u001b[0;36mget_loc\u001b[0;34m(self, key, method, tolerance)\u001b[0m\n\u001b[1;32m   3361\u001b[0m                 \u001b[0;32mreturn\u001b[0m \u001b[0mself\u001b[0m\u001b[0;34m.\u001b[0m\u001b[0m_engine\u001b[0m\u001b[0;34m.\u001b[0m\u001b[0mget_loc\u001b[0m\u001b[0;34m(\u001b[0m\u001b[0mcasted_key\u001b[0m\u001b[0;34m)\u001b[0m\u001b[0;34m\u001b[0m\u001b[0;34m\u001b[0m\u001b[0m\n\u001b[1;32m   3362\u001b[0m             \u001b[0;32mexcept\u001b[0m \u001b[0mKeyError\u001b[0m \u001b[0;32mas\u001b[0m \u001b[0merr\u001b[0m\u001b[0;34m:\u001b[0m\u001b[0;34m\u001b[0m\u001b[0;34m\u001b[0m\u001b[0m\n\u001b[0;32m-> 3363\u001b[0;31m                 \u001b[0;32mraise\u001b[0m \u001b[0mKeyError\u001b[0m\u001b[0;34m(\u001b[0m\u001b[0mkey\u001b[0m\u001b[0;34m)\u001b[0m \u001b[0;32mfrom\u001b[0m \u001b[0merr\u001b[0m\u001b[0;34m\u001b[0m\u001b[0;34m\u001b[0m\u001b[0m\n\u001b[0m\u001b[1;32m   3364\u001b[0m \u001b[0;34m\u001b[0m\u001b[0m\n\u001b[1;32m   3365\u001b[0m         \u001b[0;32mif\u001b[0m \u001b[0mis_scalar\u001b[0m\u001b[0;34m(\u001b[0m\u001b[0mkey\u001b[0m\u001b[0;34m)\u001b[0m \u001b[0;32mand\u001b[0m \u001b[0misna\u001b[0m\u001b[0;34m(\u001b[0m\u001b[0mkey\u001b[0m\u001b[0;34m)\u001b[0m \u001b[0;32mand\u001b[0m \u001b[0;32mnot\u001b[0m \u001b[0mself\u001b[0m\u001b[0;34m.\u001b[0m\u001b[0mhasnans\u001b[0m\u001b[0;34m:\u001b[0m\u001b[0;34m\u001b[0m\u001b[0;34m\u001b[0m\u001b[0m\n",
      "\u001b[0;31mKeyError\u001b[0m: 'labels'"
     ]
    }
   ],
   "source": [
    "corpus['labels'] = corpus['labels'].map({'Bearish':'drop', 'Bullish':'rise'})\n",
    "corpus['text'] = corpus['tweet'].apply(lambda x: clean_text(x, preserve_syntax=True))"
   ]
  },
  {
   "cell_type": "code",
   "execution_count": null,
   "id": "02b63048",
   "metadata": {},
   "outputs": [],
   "source": [
    "all_text = \" \".join(corpus['text'][:1000])"
   ]
  },
  {
   "cell_type": "code",
   "execution_count": null,
   "id": "c1568b02",
   "metadata": {},
   "outputs": [],
   "source": [
    "doc = nlp(all_text)"
   ]
  },
  {
   "cell_type": "code",
   "execution_count": null,
   "id": "616ea124",
   "metadata": {},
   "outputs": [],
   "source": [
    "ents = {}\n",
    "counts = 0\n",
    "for ent in doc.ents:\n",
    "    if ent.label_ in ents.keys():\n",
    "        ents[ent.label_] += 1\n",
    "    else:\n",
    "        ents[ent.label_] = 1"
   ]
  },
  {
   "cell_type": "code",
   "execution_count": null,
   "id": "9541baea",
   "metadata": {},
   "outputs": [],
   "source": [
    "ents_df = pd.DataFrame.from_dict(ents, orient='index')"
   ]
  },
  {
   "cell_type": "code",
   "execution_count": null,
   "id": "2a5d8947",
   "metadata": {},
   "outputs": [],
   "source": [
    "ents_df.sort_values(by=0, ascending=False)"
   ]
  },
  {
   "cell_type": "code",
   "execution_count": null,
   "id": "a0928a38",
   "metadata": {},
   "outputs": [],
   "source": [
    "corpus['username'] = 'stock_twits'"
   ]
  },
  {
   "cell_type": "code",
   "execution_count": null,
   "id": "bed2aebd",
   "metadata": {
    "scrolled": true
   },
   "outputs": [],
   "source": [
    "corpus.head()"
   ]
  },
  {
   "cell_type": "code",
   "execution_count": null,
   "id": "d6c4ffb7",
   "metadata": {},
   "outputs": [],
   "source": [
    "corpus['cleaned'] = corpus['text'].apply(lambda x: clean_text(x))"
   ]
  },
  {
   "cell_type": "code",
   "execution_count": null,
   "id": "cd286db4",
   "metadata": {
    "scrolled": true
   },
   "outputs": [],
   "source": [
    "corpus_test = df.copy()"
   ]
  },
  {
   "cell_type": "code",
   "execution_count": null,
   "id": "7249c490",
   "metadata": {},
   "outputs": [],
   "source": [
    "corpus_test['labels'] = 'rise'\n",
    "corpus_test['labels'][corpus_test['percent change'] <=0] = 'drop'"
   ]
  },
  {
   "cell_type": "code",
   "execution_count": null,
   "id": "7c48fed9",
   "metadata": {
    "scrolled": false
   },
   "outputs": [],
   "source": [
    "corpus_test['labels'].value_counts()"
   ]
  },
  {
   "cell_type": "code",
   "execution_count": null,
   "id": "e0b5de46",
   "metadata": {
    "scrolled": true
   },
   "outputs": [],
   "source": [
    "corpus['labels'].value_counts()"
   ]
  },
  {
   "cell_type": "code",
   "execution_count": null,
   "id": "fa8d573a",
   "metadata": {},
   "outputs": [],
   "source": [
    "corpus_train = corpus[corpus['labels'] == 'drop']\n",
    "corpus_rise = corpus[corpus['labels'] == 'rise']\n",
    "corpus_train = pd.concat([corpus_train, corpus_rise.sample(frac=0.25)])\n",
    "corpus_train['labels'].value_counts()"
   ]
  },
  {
   "cell_type": "code",
   "execution_count": null,
   "id": "4810b8b7",
   "metadata": {},
   "outputs": [],
   "source": [
    "len(corpus_test[corpus_test['username'] == 'elonmusk'])"
   ]
  },
  {
   "cell_type": "code",
   "execution_count": null,
   "id": "554ed760",
   "metadata": {},
   "outputs": [],
   "source": []
  },
  {
   "cell_type": "code",
   "execution_count": null,
   "id": "89fae769",
   "metadata": {},
   "outputs": [],
   "source": [
    "### KEEP HASHTAGS!!!\n",
    "full_corpus.reset_index(inplace=True, drop=True)"
   ]
  },
  {
   "cell_type": "code",
   "execution_count": null,
   "id": "2e18a807",
   "metadata": {},
   "outputs": [],
   "source": [
    "usernames = list(df['username'].unique())"
   ]
  },
  {
   "cell_type": "code",
   "execution_count": null,
   "id": "b5a8c1b5",
   "metadata": {},
   "outputs": [],
   "source": [
    "%%time\n",
    "for user in usernames:\n",
    "    print(user.upper())\n",
    "    for ngram in ngram_range: \n",
    "        corpus_test_user = corpus_test[corpus_test['username'] == user]\n",
    "        corpus_test_user = corpus_test_user.sample(frac=0.5)\n",
    "        corpus_train.reset_index(inplace=True, drop=True)\n",
    "        corpus_test_user.reset_index(inplace=True, drop=True)\n",
    "        full_corpus = pd.concat([corpus_train, corpus_test_user[['labels', 'tweet', 'text', 'cleaned', 'username']]])\n",
    "        full_corpus.reset_index(inplace=True, drop=True)\n",
    "        X, _ = vectorize(full_corpus['cleaned'], full_corpus[['labels', 'username']], ngram_range=ngram)\n",
    "        X_train = X[X['username'] == 'stock_twits'].drop(labels=['username'], axis=1)\n",
    "        X_test = X[X['username'] == user].drop(labels=['username'], axis=1)\n",
    "        X_train = X_train.sample(frac=0.1)\n",
    "        X_test = X_test.sample(frac=0.1)\n",
    "        y_train = X_train['labels']\n",
    "        y_test = X_test['labels']\n",
    "        X_train.drop('labels', inplace=True, axis=1)\n",
    "        X_test.drop('labels', inplace=True, axis=1)\n",
    "        \n",
    "        nb = MultinomialNB()\n",
    "        nb.fit(X_train, y_train)\n",
    "        y_pred = nb.predict(X_test)\n",
    "        \n",
    "        print('ngram_range {}'.format(ngram))\n",
    "        print(classification_report(y_test, y_pred))\n",
    "        print(\"\")"
   ]
  },
  {
   "cell_type": "code",
   "execution_count": null,
   "id": "24cce813",
   "metadata": {},
   "outputs": [],
   "source": [
    "user = 'elonmusk'\n",
    "corpus_test_user = corpus_test[corpus_test['username'] == user]\n",
    "corpus_test_user = corpus_test_user.sample(frac=0.5)\n",
    "corpus_train.reset_index(inplace=True, drop=True)\n",
    "corpus_test_user.reset_index(inplace=True, drop=True)\n",
    "full_corpus = pd.concat([corpus_train, corpus_test_user[['labels', 'tweet', 'text', 'cleaned', 'username']]])\n",
    "full_corpus.reset_index(inplace=True, drop=True)\n",
    "X, _ = vectorize(full_corpus['cleaned'], full_corpus[['labels', 'username']], ngram_range=(2,2))\n",
    "X_train = X[X['username'] == 'stock_twits'].drop(labels=['username'], axis=1)\n",
    "X_test = X[X['username'] == user].drop(labels=['username'], axis=1)\n",
    "X_train = X_train.sample(frac=0.1)\n",
    "X_test = X_test.sample(frac=0.1)\n",
    "y_train = X_train['labels']\n",
    "y_test = X_test['labels']\n",
    "X_train.drop('labels', inplace=True, axis=1)\n",
    "X_test.drop('labels', inplace=True, axis=1)\n",
    "\n",
    "nb = MultinomialNB()\n",
    "nb.fit(X_train, y_train)\n",
    "y_pred = nb.predict(X_test)\n",
    "\n",
    "print(classification_report(y_test, y_pred))\n",
    "print(\"\")\n",
    "_ = plot_precision_recall_curve(nb, X_test, y_test)\n",
    "_ = plot_roc_curve(nb, X_test, y_test)"
   ]
  },
  {
   "cell_type": "code",
   "execution_count": null,
   "id": "8aa3d15b",
   "metadata": {},
   "outputs": [],
   "source": [
    "X_train = X[X['username'] == 'stock_twits'].drop(labels=['labels'])\n",
    "y_train = X['labels'][X['username'] == 'stock_twits']"
   ]
  },
  {
   "cell_type": "code",
   "execution_count": null,
   "id": "9baeb1d5",
   "metadata": {},
   "outputs": [],
   "source": [
    "x = df[df['username'] == 'elonmusk']\n",
    "x.reset_index(inplace=True, drop=True)\n",
    "X, _ = vectorize(x['cleaned'], x[features], ngram_range=(3,3))\n",
    "X.reset_index(inplace=True, drop=True)\n",
    "y = x['labels'].reset_index(drop=True)"
   ]
  },
  {
   "cell_type": "code",
   "execution_count": null,
   "id": "6a81c7a0",
   "metadata": {},
   "outputs": [],
   "source": [
    "X_train, X_test, y_train, y_test = train_test_split(X, y, test_size=0.2, stratify=y)"
   ]
  },
  {
   "cell_type": "code",
   "execution_count": null,
   "id": "35032c4e",
   "metadata": {},
   "outputs": [],
   "source": [
    "sgd.fit(X_train, y_train)\n"
   ]
  },
  {
   "cell_type": "code",
   "execution_count": null,
   "id": "8ec674fa",
   "metadata": {},
   "outputs": [],
   "source": [
    "y_pred = sgd.predict(X_test)"
   ]
  },
  {
   "cell_type": "code",
   "execution_count": null,
   "id": "a9a9f309",
   "metadata": {},
   "outputs": [],
   "source": [
    "#Classification report\n",
    "print(\"Classification report\")\n",
    "print(classification_report(y_test, y_pred))"
   ]
  },
  {
   "cell_type": "code",
   "execution_count": null,
   "id": "44ffb6f1",
   "metadata": {},
   "outputs": [],
   "source": [
    "conf_matrix = confusion_matrix(y_test, y_pred, normalize='pred')"
   ]
  },
  {
   "cell_type": "code",
   "execution_count": null,
   "id": "8ef05338",
   "metadata": {},
   "outputs": [],
   "source": [
    "conf_matrix"
   ]
  },
  {
   "cell_type": "code",
   "execution_count": null,
   "id": "0ea1ef93",
   "metadata": {},
   "outputs": [],
   "source": [
    "tfidf = TfidfVectorizer(ngram_range=(1,1))\n",
    "model = tfidf.fit_transform(df['cleaned'])\n",
    "X = pd.concat([df[features], pd.DataFrame(model.toarray())], axis=1)\n",
    "X.reset_index(inplace=True, drop=True)\n",
    "y = df['labels'].reset_index(drop=True)\n",
    "X_train, X_test, y_train, y_test = train_test_split(X, y, stratify=y, test_size=0.2)"
   ]
  },
  {
   "cell_type": "code",
   "execution_count": null,
   "id": "434ef0eb",
   "metadata": {},
   "outputs": [],
   "source": [
    "sgd"
   ]
  },
  {
   "cell_type": "code",
   "execution_count": null,
   "id": "372c83a1",
   "metadata": {},
   "outputs": [],
   "source": [
    "test_2 = vectorize(df['cleaned'])"
   ]
  },
  {
   "cell_type": "code",
   "execution_count": null,
   "id": "8c75b4da",
   "metadata": {},
   "outputs": [],
   "source": [
    "test_2"
   ]
  },
  {
   "cell_type": "markdown",
   "id": "512f77ae",
   "metadata": {},
   "source": [
    "## Baseline Machine Learning"
   ]
  },
  {
   "cell_type": "code",
   "execution_count": null,
   "id": "2b508de1",
   "metadata": {},
   "outputs": [],
   "source": [
    "# Elon musk\n",
    "df_elon = df[df['username']=='elonmusk']\n",
    "df_elon.reset_index(inplace=True, drop=True)"
   ]
  },
  {
   "cell_type": "code",
   "execution_count": null,
   "id": "038401b0",
   "metadata": {},
   "outputs": [],
   "source": []
  },
  {
   "cell_type": "code",
   "execution_count": null,
   "id": "9aa2c222",
   "metadata": {},
   "outputs": [],
   "source": [
    "df_elon_features = pd.DataFrame(scaler.fit_transform(df_elon[features]), columns=features)"
   ]
  },
  {
   "cell_type": "code",
   "execution_count": null,
   "id": "3d363d72",
   "metadata": {},
   "outputs": [],
   "source": [
    "# Cleaned with features\n",
    "tfidf = TfidfVectorizer()\n",
    "elon_matrix = tfidf.fit_transform(df_elon['cleaned'])\n",
    "X = pd.concat([df_elon_features, pd.DataFrame(elon_matrix.toarray())], axis=1)"
   ]
  },
  {
   "cell_type": "code",
   "execution_count": null,
   "id": "1f4aae64",
   "metadata": {},
   "outputs": [],
   "source": [
    "y = df_elon['labels']"
   ]
  },
  {
   "cell_type": "code",
   "execution_count": null,
   "id": "15a887c3",
   "metadata": {},
   "outputs": [],
   "source": [
    "X_train, X_test, y_train, y_test = train_test_split(X, y, test_size=0.2, stratify=y)"
   ]
  },
  {
   "cell_type": "code",
   "execution_count": null,
   "id": "cdbb83c9",
   "metadata": {
    "scrolled": true
   },
   "outputs": [],
   "source": [
    "classify(X_train, y_train)"
   ]
  },
  {
   "cell_type": "code",
   "execution_count": null,
   "id": "ba55191a",
   "metadata": {
    "scrolled": true
   },
   "outputs": [],
   "source": [
    "# Cleaned phrases with features\n",
    "elon_phrases = just_phrases[just_phrases['username'] == 'elonmusk']\n",
    "elon_phrases.reset_index(inplace=True, drop=True)\n",
    "elon_phrases_feat = pd.DataFrame(scaler.fit_transform(elon_phrases[features]), columns=features)\n",
    "tfidf = TfidfVectorizer()\n",
    "elon_matrix = tfidf.fit_transform(elon_phrases['cleaned'])\n",
    "X = pd.concat([elon_phrases_feat, pd.DataFrame(elon_matrix.toarray())], axis=1)\n",
    "y = elon_phrases['labels']\n",
    "classify(X, y)"
   ]
  },
  {
   "cell_type": "code",
   "execution_count": null,
   "id": "834ccd0a",
   "metadata": {},
   "outputs": [],
   "source": [
    "# Using a labelled corpus\n",
    "stock_twits = pd.read_csv('data/stocktwits_labelled.csv', header=None, names=['labels', 'text'])"
   ]
  },
  {
   "cell_type": "code",
   "execution_count": null,
   "id": "d7e2e1f3",
   "metadata": {},
   "outputs": [],
   "source": [
    "%%time\n",
    "stock_twits['cleaned'] = stock_twits['text'].apply(lambda x: clean_text(x))"
   ]
  },
  {
   "cell_type": "code",
   "execution_count": null,
   "id": "4f903f0c",
   "metadata": {},
   "outputs": [],
   "source": [
    "stock_twits['username'] = 'stock_twits'\n",
    "stock_twits['target'] = stock_twits['labels']"
   ]
  },
  {
   "cell_type": "code",
   "execution_count": null,
   "id": "9be65fb1",
   "metadata": {},
   "outputs": [],
   "source": [
    "bins = [[-.3, -.1, .1, .3], [-.3, -0.05, 0.05, .3], [-.3, -0.01, 0.01, .3], [-.3, -0.005, 0.005, .3]]\n",
    "labels = ['drop', 'no change', 'rise']\n",
    "for bn in bins:\n",
    "    elon_phrases = just_phrases[just_phrases['username'] == 'elonmusk']\n",
    "    elon_phrases['labels'] = pd.cut(elon_phrases['percent change'], bn, labels=labels)\n",
    "    elon_phrases.reset_index(inplace=True, drop=True)\n",
    "    elon_phrases_feat = pd.DataFrame(scaler.fit_transform(elon_phrases[features]), columns=features)\n",
    "    elon_phrases = elon_phrases[elon_phrases['labels'] != 'no change']\n",
    "    elon_phrases['target'] = 'Bearish'\n",
    "    elon_phrases['target'][elon_phrases['labels'] == 'rise'] = 'Bullish'\n",
    "    df_new = pd.concat([stock_twits[['cleaned', 'username', 'target']], elon_phrases[['cleaned', 'username', 'target']]])\n",
    "    df_new.reset_index(inplace=True, drop=True)\n",
    "    tfidf = TfidfVectorizer()\n",
    "    matrix = tfidf.fit_transform(df_new['cleaned'])\n",
    "    X = pd.concat([df_new[['username', 'target']], pd.DataFrame(matrix.toarray())], axis=1)\n",
    "    train, test = X[X['username'] == 'stock_twits'], X[X['username'] == 'elonmusk']\n",
    "    X_train, y_train = train.drop(labels=['username', 'target'], axis=1), train['target']\n",
    "    X_test, y_test = test.drop(labels=['username', 'target'], axis=1), test['target']\n",
    "    for key in clf.keys():\n",
    "            clf[key].fit(X_train, y_train)\n",
    "            y_pred = clf[key].predict(X_test)\n",
    "            ac = accuracy_score(y_test, y_pred)\n",
    "            print(key, \" ---> \", ac)\n",
    "            print('classification report:')\n",
    "            print(classification_report(y_test, y_pred))"
   ]
  },
  {
   "cell_type": "code",
   "execution_count": null,
   "id": "882cd3b4",
   "metadata": {
    "scrolled": true
   },
   "outputs": [],
   "source": []
  },
  {
   "cell_type": "code",
   "execution_count": null,
   "id": "83ab3a10",
   "metadata": {},
   "outputs": [],
   "source": [
    "df = pd.concat([stock_twits[['cleaned', 'username', 'target']], elon_phrases[['cleaned', 'username', 'target']]])\n",
    "df.reset_index(inplace=True, drop=True)"
   ]
  },
  {
   "cell_type": "code",
   "execution_count": null,
   "id": "f1694147",
   "metadata": {
    "scrolled": true
   },
   "outputs": [],
   "source": [
    "tfidf = TfidfVectorizer()\n",
    "matrix = tfidf.fit_transform(df['cleaned'])\n",
    "X = pd.concat([df[['username', 'target']], pd.DataFrame(matrix.toarray())], axis=1)"
   ]
  },
  {
   "cell_type": "code",
   "execution_count": null,
   "id": "8dd41e99",
   "metadata": {},
   "outputs": [],
   "source": [
    "train, test = X[X['username'] == 'stock_twits'], X[X['username'] == 'elonmusk']"
   ]
  },
  {
   "cell_type": "code",
   "execution_count": null,
   "id": "f238d5d9",
   "metadata": {},
   "outputs": [],
   "source": [
    "X_train, y_train = train.drop(labels=['username', 'target'], axis=1), train['target']\n",
    "X_test, y_test = test.drop(labels=['username', 'target'], axis=1), test['target']"
   ]
  },
  {
   "cell_type": "code",
   "execution_count": null,
   "id": "e034f82e",
   "metadata": {},
   "outputs": [],
   "source": [
    "classify(X_train, y_train)"
   ]
  },
  {
   "cell_type": "code",
   "execution_count": null,
   "id": "e00d8010",
   "metadata": {},
   "outputs": [],
   "source": [
    "classify(X_test, y_test)"
   ]
  },
  {
   "cell_type": "code",
   "execution_count": null,
   "id": "d95d9b31",
   "metadata": {},
   "outputs": [],
   "source": [
    "for key in clf.keys():\n",
    "        clf[key].fit(X_train, y_train)\n",
    "        y_pred = clf[key].predict(X_test)\n",
    "        ac = accuracy_score(y_test, y_pred)\n",
    "        print(key, \" ---> \", ac)"
   ]
  },
  {
   "cell_type": "code",
   "execution_count": null,
   "id": "88a704b4",
   "metadata": {},
   "outputs": [],
   "source": [
    "X_train, X_test, y_train, y_test = train_test_split(df[df, y, test_size=0.2, stratify=y)"
   ]
  },
  {
   "cell_type": "code",
   "execution_count": null,
   "id": "b841de64",
   "metadata": {},
   "outputs": [],
   "source": [
    "train_set, test_set = train_test_split(df_scaled)"
   ]
  },
  {
   "cell_type": "markdown",
   "id": "baaccab2",
   "metadata": {},
   "source": [
    "# Base Case Machine Learning"
   ]
  },
  {
   "cell_type": "code",
   "execution_count": null,
   "id": "c35a621a",
   "metadata": {},
   "outputs": [],
   "source": [
    "model"
   ]
  },
  {
   "cell_type": "code",
   "execution_count": null,
   "id": "b2ef77ce",
   "metadata": {},
   "outputs": [],
   "source": [
    "\n",
    "# https://towardsdatascience.com/machine-learning-pipelines-with-scikit-learn-d43c32a6aa52\n",
    "def evaluation(y, y_hat, title = 'Confusion Matrix'):\n",
    "    cm = confusion_matrix(y, y_hat)\n",
    "    precision = precision_score(y, y_hat)\n",
    "    recall = recall_score(y, y_hat)\n",
    "    accuracy = accuracy_score(y,y_hat)\n",
    "    f1 = f1_score(y,y_hat)\n",
    "    print('Recall: ', recall)\n",
    "    print('Accuracy: ', accuracy)\n",
    "    print('Precision: ', precision)\n",
    "    print('F1: ', f1)\n",
    "    sns.heatmap(cm,  cmap= 'PuBu', annot=True, fmt='g', annot_kws=    {'size':20})\n",
    "    plt.xlabel('predicted', fontsize=18)\n",
    "    plt.ylabel('actual', fontsize=18)\n",
    "    plt.title(title, fontsize=18)\n",
    "    \n",
    "    plt.show()\n",
    "    \n",
    "def cross_validate(classifier, cv):\n",
    "    pipeline = Pipeline(steps=[\n",
    "        ('preprocess', preprocess),\n",
    "        ('classifier', classifier)\n",
    "    ])\n",
    "    train_acc = []\n",
    "    test_acc = []\n",
    "    for train_ind, val_ind in cv.split(X_train, y_train):\n",
    "        X_t, y_t = X_train.iloc[train_ind], y_train[train_ind]\n",
    "        pipeline.fit(X_t, y_t)\n",
    "        y_hat_t = pipeline.predict(X_t)\n",
    "        train_acc.append(accuracy_score(y_t, y_hat_t))\n",
    "        X_val, y_val = X_train.iloc[val_ind], y_train[val_ind]\n",
    "        y_hat_val = pipeline.predict(X_val)\n",
    "        test_acc.append(accuracy_score(y_val, y_hat_val))\n",
    "    print(evaluation(y_val, y_hat_val))\n",
    "    print('Training Accuracy: {}'.format(np.mean(train_acc)))\n",
    "    print('\\n')\n",
    "    print('Validation Accuracy: {}'.format(np.mean(test_acc)))\n",
    "    print('\\n')    \n",
    "    \n",
    "def grid_search(classifier, param_grid, cv):\n",
    "    search = GridSearchCV(Pipeline(steps=[\n",
    "        ('preprocess', preprocess),\n",
    "        ('classifier', classifier)\n",
    "    ]), param_grid, cv=cv)\n",
    "    train_acc = []\n",
    "    test_acc = []\n",
    "    for train_ind, val_ind in cv.split(X_train, y_train):\n",
    "        X_t, y_t = X_train.iloc[train_ind], y_train[train_ind]\n",
    "        search.fit(X_t, y_t)\n",
    "        y_hat_t = search.predict(X_t)\n",
    "        train_acc.append(accuracy_score(y_t, y_hat_t))\n",
    "        X_val, y_val = X_train.iloc[val_ind], y_train[val_ind]\n",
    "        y_hat_val = search.predict(X_val)\n",
    "        test_acc.append(accuracy_score(y_val, y_hat_val))\n",
    "    print(evaluation(y_val, y_hat_val))\n",
    "    print('Training Accuracy: {}'.format(np.mean(train_acc)))\n",
    "    print('\\n')\n",
    "    print('Validation Accuracy: {}'.format(np.mean(test_acc)))\n",
    "    print('\\n')\n",
    "    print('Grid Search Best Params:')\n",
    "    print('\\n')\n",
    "    print(search.best_params_)\n",
    "    "
   ]
  },
  {
   "cell_type": "code",
   "execution_count": null,
   "id": "abfaa6f3",
   "metadata": {},
   "outputs": [],
   "source": [
    "# Import necessary modules\n",
    "from scipy.stats import randint\n",
    "from sklearn.tree import DecisionTreeClassifier\n",
    "from sklearn.model_selection import RandomizedSearchCV\n",
    "\n",
    "# Setup the parameters and distributions to sample from: param_dist\n",
    "param_dist = {\"max_depth\": [3, None],\n",
    "              \"max_features\": randint(1, 9),\n",
    "              \"min_samples_leaf\": randint(1, 9),\n",
    "              \"criterion\": [\"gini\", \"entropy\"]}\n",
    "\n",
    "# Instantiate a Decision Tree classifier: tree\n",
    "tree = DecisionTreeClassifier()\n",
    "\n",
    "# Instantiate the RandomizedSearchCV object: tree_cv\n",
    "tree_cv = RandomizedSearchCV(tree, param_dist, cv=5)\n",
    "\n",
    "# Fit it to the data\n",
    "tree_cv.fit(X, y)\n",
    "\n",
    "# Print the tuned parameters and score\n",
    "print(\"Tuned Decision Tree Parameters: {}\".format(tree_cv.best_params_))\n",
    "print(\"Best score is {}\".format(tree_cv.best_score_))\n"
   ]
  },
  {
   "cell_type": "code",
   "execution_count": null,
   "id": "b12a0b96",
   "metadata": {},
   "outputs": [],
   "source": [
    "#Creating parameter grid for Random Forest\n",
    "rand_forest_parms = {'classifier__n_estimators': [100, 300, 500],\n",
    "                     'classifier__max_depth':[6, 25, 50, 70],\n",
    "                     'classifier__min_samples_split': [2, 5, 10],\n",
    "                     'classifier__min_samples_leaf': [1, 2, 10]}\n",
    "#Calling the grid_search function using the parameters above\n",
    "grid_search(RandomForestClassifier(), rand_forest_parms)"
   ]
  },
  {
   "cell_type": "code",
   "execution_count": null,
   "id": "b62180c0",
   "metadata": {},
   "outputs": [],
   "source": [
    "final_pipeline = GridSearchCV(Pipeline(steps=[\n",
    "        ('preprocess', preprocess),\n",
    "        ('classifier', RandomForestClassifier())\n",
    "    ]), rand_forest_parms, cv=KFold())\n",
    "#Fit and predict on train data\n",
    "final_pipeline.fit(X_train, y_train)\n",
    "train_pred = final_pipeline.best_estimator_.predict(X_train)\n",
    "print('Evaluation on training data \\n')\n",
    "print(evaluation(y_train, train_pred))\n",
    "print('\\n')\n",
    "#Predict on test data\n",
    "test_pred = final_pipeline.best_estimator_.predict(X_test)\n",
    "print('Evaluation on testing data \\n')\n",
    "print(evaluation(y_test, test_pred)"
   ]
  },
  {
   "cell_type": "markdown",
   "id": "20eb396f",
   "metadata": {},
   "source": [
    "Plan: Look at how 5 different classification methods work on Text + Features"
   ]
  },
  {
   "cell_type": "markdown",
   "id": "0ad872cb",
   "metadata": {},
   "source": [
    "First Case: Text + Features"
   ]
  },
  {
   "cell_type": "code",
   "execution_count": null,
   "id": "1d86c93a",
   "metadata": {
    "scrolled": true
   },
   "outputs": [],
   "source": [
    "X = df\n",
    "y = df['labels']\n",
    "vectorizer = TfidfVectorizer()\n",
    "sparse = vectorizer.fit_transform(X['cleaned'])\n",
    "X_features = X[features]\n",
    "X = pd.concat([X_features, pd.DataFrame(sparse.toarray())], axis=1)\n",
    "classify(X, y)"
   ]
  },
  {
   "cell_type": "markdown",
   "id": "8c38523c",
   "metadata": {},
   "source": [
    "The random forest classifier had the best accuracy score, closely followed by the Naive Bayes. Let's see how the algorithms do without features and without text."
   ]
  },
  {
   "cell_type": "markdown",
   "id": "c8716dc2",
   "metadata": {},
   "source": [
    "Without Features"
   ]
  },
  {
   "cell_type": "code",
   "execution_count": null,
   "id": "1ece5498",
   "metadata": {},
   "outputs": [],
   "source": [
    "X = df\n",
    "y = df['labels']\n",
    "vectorizer = TfidfVectorizer()\n",
    "sparse = vectorizer.fit_transform(X['cleaned'])\n",
    "#X_features = X[features]\n",
    "#X = pd.concat([X_features, pd.DataFrame(sparse.toarray())], axis=1)\n",
    "classify(sparse.toarray(), y)"
   ]
  },
  {
   "cell_type": "markdown",
   "id": "425254ba",
   "metadata": {},
   "source": [
    "The algorithms had only a slight decrease in accuracy when the features were removed. Let's see if we get comparable results without the text."
   ]
  },
  {
   "cell_type": "code",
   "execution_count": null,
   "id": "6009f321",
   "metadata": {
    "scrolled": true
   },
   "outputs": [],
   "source": [
    "X = df[features]\n",
    "y = df['labels']\n",
    "#X_features = X[features]\n",
    "#X = pd.concat([X_features, pd.DataFrame(sparse.toarray())], axis=1)\n",
    "classify(X, y)"
   ]
  },
  {
   "cell_type": "markdown",
   "id": "71bdc64d",
   "metadata": {},
   "source": [
    "The best score is still the random forest classifier, but it is interesting that the accuracy of the other models slightly improved without any text data. Let's see if the key phrases provide any benefit. "
   ]
  },
  {
   "cell_type": "code",
   "execution_count": null,
   "id": "6f522ecf",
   "metadata": {},
   "outputs": [],
   "source": [
    "X = df\n",
    "y = df['labels']\n",
    "vectorizer = TfidfVectorizer()\n",
    "sparse = vectorizer.fit_transform(X['phrases_cleaned'])\n",
    "sparse_2 = vectorizer.fit_transform(X['cleaned'])\n",
    "X_features = X[features]\n",
    "X = pd.concat([X_features, pd.DataFrame(sparse.toarray())], axis=1)\n",
    "X = pd.concat([X, pd.DataFrame(sparse_2.toarray())], axis=1)\n",
    "classify(X, y)"
   ]
  },
  {
   "cell_type": "markdown",
   "id": "d0933690",
   "metadata": {},
   "source": [
    "Adding the phrases seemed to help improve the accuracy of some of algorithms. Another way we can reduce the overall noise of the data is to look at the 'no change' bin and remove it, hopefully removing some of the noisy text as well. Let's search through these bins to see if we can derive any increase in the accuracy of these models."
   ]
  },
  {
   "cell_type": "markdown",
   "id": "ff8f2335",
   "metadata": {},
   "source": [
    "Baseline for removing no change."
   ]
  },
  {
   "cell_type": "code",
   "execution_count": null,
   "id": "19ebf588",
   "metadata": {},
   "outputs": [],
   "source": [
    "df['labels'] = 'rise'\n",
    "df['labels'][df['percent change'] <=0 ] = 'drop'\n",
    "X = df\n",
    "y = df['labels']\n",
    "vectorizer = TfidfVectorizer()\n",
    "sparse = vectorizer.fit_transform(X['phrases_cleaned'])\n",
    "sparse_2 = vectorizer.fit_transform(X['cleaned'])\n",
    "X_features = X[features]\n",
    "X = pd.concat([X_features, pd.DataFrame(sparse.toarray())], axis=1)\n",
    "X = pd.concat([X, pd.DataFrame(sparse_2.toarray())], axis=1)\n",
    "print(\"number of samples: {}\".format(len(X)))\n",
    "classify(X, y)"
   ]
  },
  {
   "cell_type": "code",
   "execution_count": null,
   "id": "581193a6",
   "metadata": {
    "scrolled": false
   },
   "outputs": [],
   "source": [
    "%%time\n",
    "# Iterate through the bins list\n",
    "bin_list = [[-.3, -0.15, 0.15, 0.3], [-.3, -0.1, 0.1, 0.3], [-.3, -0.05, 0.05, 0.3],\n",
    "            [-.3, -0.01, 0.01, 0.3], [-.3, -0.005, 0.005, 0.3]]\n",
    "labels = ['drop', 'no change', 'rise']\n",
    "for bn in bin_list:\n",
    "    df['labels'] = pd.cut(df['percent change'], bn, labels=labels)\n",
    "    X = df[df['labels']!='no change']\n",
    "    X.reset_index(inplace=True, drop=True)\n",
    "    y = X['labels']\n",
    "    \n",
    "    vectorizer = TfidfVectorizer()\n",
    "    sparse = vectorizer.fit_transform(X['phrases'])\n",
    "    sparse_2 = vectorizer.fit_transform(X['cleaned'])\n",
    "    X_features = X[features]\n",
    "    X = pd.concat([X_features, pd.DataFrame(sparse.toarray())], axis=1)\n",
    "    X = pd.concat([X, pd.DataFrame(sparse_2.toarray())], axis=1)\n",
    "    print(bn)\n",
    "    print(\" number of samples: {}\".format(len(X)))\n",
    "    classify(X, y)"
   ]
  },
  {
   "cell_type": "markdown",
   "id": "07087ae8",
   "metadata": {},
   "source": [
    "When the bins reduce the sample size, we get a higher accuracy for many of the tweets. However, we are also removing a lot of the text data in doing so. Moving forward, we will pick a bin size that accounts for no change within the 1% bin."
   ]
  },
  {
   "cell_type": "markdown",
   "id": "e22beb2b",
   "metadata": {},
   "source": [
    "# Random Forest Classifier"
   ]
  },
  {
   "cell_type": "code",
   "execution_count": null,
   "id": "afb148ca",
   "metadata": {},
   "outputs": [],
   "source": [
    "%%time\n",
    "n_estimators = [10, 50, 100, 200, 300, 400]\n",
    "criteria = ['gini', 'entropy']\n",
    "bn = [-.3, -0.01, 0.01, 0.3]\n",
    "labels = ['drop', 'no change', 'rise']\n",
    "for criterion in criteria:\n",
    "    for n_est in n_estimators:\n",
    "        rf = RandomForestClassifier(n_jobs=-1, n_estimators = n_est, criterion = criterion, random_state=42)\n",
    "        df['labels'] = pd.cut(df['percent change'], bn, labels=labels)\n",
    "        X = df[df['labels']!='no change']\n",
    "        X.reset_index(inplace=True, drop=True)\n",
    "        y = X['labels']\n",
    "        vectorizer = TfidfVectorizer()\n",
    "        sparse = vectorizer.fit_transform(X['phrases_cleaned'])\n",
    "        sparse_2 = vectorizer.fit_transform(X['cleaned'])\n",
    "        X_features = X[features]\n",
    "        X = pd.concat([X_features, pd.DataFrame(sparse.toarray())], axis=1)\n",
    "        X = pd.concat([X, pd.DataFrame(sparse_2.toarray())], axis=1)\n",
    "        scaler = MinMaxScaler(feature_range=(0,1))\n",
    "        X = scaler.fit_transform(X)\n",
    "        X_train, X_test, y_train, y_test = train_test_split(X, y, test_size=0.2, stratify=y, random_state=42) #stratify?\n",
    "        rf.fit(X_train, y_train)\n",
    "        y_pred = rf.predict(X_test)\n",
    "        ac = accuracy_score(y_test, y_pred)\n",
    "        print(\"criterion: {}\".format(criterion))\n",
    "        print(\"n_estimators: {}\".format(n_est))\n",
    "        print(\"       ---> accuracy: {:.3f}\".format(ac))\n",
    "        print(\"==================\")\n",
    "        "
   ]
  },
  {
   "cell_type": "markdown",
   "id": "64c70be1",
   "metadata": {},
   "source": [
    "Using Best Parameters"
   ]
  },
  {
   "cell_type": "code",
   "execution_count": null,
   "id": "b08d1039",
   "metadata": {},
   "outputs": [],
   "source": [
    "%%time\n",
    "n_estimators = [100]\n",
    "criteria = ['entropy']\n",
    "bn = [-.3, -0.01, 0.01, 0.3]\n",
    "labels = ['drop', 'no change', 'rise']\n",
    "ngram_range = [(1,1), (1,2), (1,3), (2,2), (2,3), (3,3)]\n",
    "for ngrams in ngram_range:\n",
    "    rf = RandomForestClassifier(n_jobs=-1, n_estimators = 100, criterion = 'entropy', random_state=42)\n",
    "    df['labels'] = pd.cut(df['percent change'], bn, labels=labels)\n",
    "    X = df[df['labels']!='no change']\n",
    "    X.reset_index(inplace=True, drop=True)\n",
    "    y = X['labels']\n",
    "    vectorizer = TfidfVectorizer(ngram_range=ngrams)\n",
    "    sparse = vectorizer.fit_transform(X['phrases'])\n",
    "    sparse_2 = vectorizer.fit_transform(X['cleaned'])\n",
    "    X_features = X[features]\n",
    "    X = pd.concat([X_features, pd.DataFrame(sparse.toarray())], axis=1)\n",
    "    X = pd.concat([X, pd.DataFrame(sparse_2.toarray())], axis=1)\n",
    "    scaler = MinMaxScaler(feature_range=(0,1))\n",
    "    X = scaler.fit_transform(X)\n",
    "    X_train, X_test, y_train, y_test = train_test_split(X, y, test_size=0.2, stratify=y, random_state=42) #stratify?\n",
    "    rf.fit(X_train, y_train)\n",
    "    y_pred = rf.predict(X_test)\n",
    "    ac = accuracy_score(y_test, y_pred)\n",
    "    print(\"ngram range: {}\".format(ngrams))\n",
    "    print(\"       ---> accuracy: {:.3f}\".format(ac))"
   ]
  },
  {
   "cell_type": "code",
   "execution_count": null,
   "id": "67f67956",
   "metadata": {},
   "outputs": [],
   "source": [
    "X = df['cleaned']\n",
    "y = df['labels']\n",
    "vect = TfidfVectorizer()\n",
    "term_matrix = vect.fit_transform(X)"
   ]
  },
  {
   "cell_type": "code",
   "execution_count": null,
   "id": "5267fefd",
   "metadata": {},
   "outputs": [],
   "source": [
    "classify(term_matrix.toarray(), y)"
   ]
  },
  {
   "cell_type": "code",
   "execution_count": null,
   "id": "e87808e7",
   "metadata": {},
   "outputs": [],
   "source": [
    "X = just_phrases['phrases']\n",
    "y = just_phrases['labels']\n",
    "vect = TfidfVectorizer()\n",
    "term_matrix = vect.fit_transform(X)"
   ]
  },
  {
   "cell_type": "code",
   "execution_count": null,
   "id": "c5af8cf1",
   "metadata": {},
   "outputs": [],
   "source": [
    "classify(term_matrix.toarray(), y)"
   ]
  },
  {
   "cell_type": "code",
   "execution_count": null,
   "id": "e9d44268",
   "metadata": {},
   "outputs": [],
   "source": [
    "vect = TfidfVectorizer()\n",
    "corpus_vect = vect.fit_transform(df['cleaned'])\n",
    "phrases_vect = vect.fit_transform(df['phrases_cleaned'])\n",
    "X = pd.concat([pd.DataFrame(corpus_vect.toarray()), pd.DataFrame(phrases_vect.toarray())], axis=1)\n",
    "y = df['labels']\n"
   ]
  },
  {
   "cell_type": "code",
   "execution_count": null,
   "id": "bdc9d07d",
   "metadata": {},
   "outputs": [],
   "source": [
    "classify(X, y)"
   ]
  },
  {
   "cell_type": "markdown",
   "id": "c1730b35",
   "metadata": {},
   "source": [
    "# Confusion Matrix\n"
   ]
  },
  {
   "cell_type": "code",
   "execution_count": null,
   "id": "0c6ad351",
   "metadata": {},
   "outputs": [],
   "source": [
    "cm = metrics.confusion_matrix(y_test, predicted)\n",
    "fig, ax = plt.subplots()\n",
    "sns.heatmap(cm, annot=True, fmt='d', ax=ax, cmap=plt.cm.Blues, \n",
    "            cbar=False)\n",
    "ax.set(xlabel=\"Pred\", ylabel=\"True\", xticklabels=classes, \n",
    "       yticklabels=classes, title=\"Confusion matrix\")\n",
    "plt.yticks(rotation=0)"
   ]
  },
  {
   "cell_type": "markdown",
   "id": "b8bcd0a2",
   "metadata": {},
   "source": [
    "# ROC-AUC"
   ]
  },
  {
   "cell_type": "code",
   "execution_count": null,
   "id": "f93b2740",
   "metadata": {},
   "outputs": [],
   "source": [
    "\n",
    "fig, ax = plt.subplots(nrows=1, ncols=2)\n",
    "## Plot roc\n",
    "for i in range(len(classes)):\n",
    "    fpr, tpr, thresholds = metrics.roc_curve(y_test_array[:,i],  \n",
    "                           predicted_prob[:,i])\n",
    "    ax[0].plot(fpr, tpr, lw=3, \n",
    "              label='{0} (area={1:0.2f})'.format(classes[i], \n",
    "                              metrics.auc(fpr, tpr))\n",
    "               )\n",
    "ax[0].plot([0,1], [0,1], color='navy', lw=3, linestyle='--')\n",
    "ax[0].set(xlim=[-0.05,1.0], ylim=[0.0,1.05], \n",
    "          xlabel='False Positive Rate', \n",
    "          ylabel=\"True Positive Rate (Recall)\", \n",
    "          title=\"Receiver operating characteristic\")\n",
    "ax[0].legend(loc=\"lower right\")\n",
    "ax[0].grid(True)\n",
    "\n",
    "## Plot precision-recall curve\n",
    "for i in range(len(classes)):\n",
    "    precision, recall, thresholds = metrics.precision_recall_curve(\n",
    "                 y_test_array[:,i], predicted_prob[:,i])\n",
    "    ax[1].plot(recall, precision, lw=3, \n",
    "               label='{0} (area={1:0.2f})'.format(classes[i], \n",
    "                                  metrics.auc(recall, precision))\n",
    "              )\n",
    "ax[1].set(xlim=[0.0,1.05], ylim=[0.0,1.05], xlabel='Recall', \n",
    "          ylabel=\"Precision\", title=\"Precision-Recall curve\")\n",
    "ax[1].legend(loc=\"best\")\n",
    "ax[1].grid(True)\n",
    "plt.show()"
   ]
  },
  {
   "cell_type": "markdown",
   "id": "795df5a8",
   "metadata": {},
   "source": [
    "# Individual CEOS"
   ]
  },
  {
   "cell_type": "code",
   "execution_count": null,
   "id": "8d0fe264",
   "metadata": {},
   "outputs": [],
   "source": [
    "usernames = df['username'].unique()"
   ]
  },
  {
   "cell_type": "code",
   "execution_count": null,
   "id": "07304a77",
   "metadata": {},
   "outputs": [],
   "source": [
    "for user in usernames:\n",
    "    rf = RandomForestClassifier(n_jobs=-1, n_estimators = 100, criterion = 'entropy', random_state=42)\n",
    "    df['labels'] = pd.cut(df['percent change'], bn, labels=labels)\n",
    "    X = df[df['labels']!='no change']\n",
    "    X = X[X['username'] == user]\n",
    "    X.reset_index(inplace=True, drop=True)\n",
    "    y = X['labels']\n",
    "    vectorizer = TfidfVectorizer(ngram_range=ngrams)\n",
    "    sparse = vectorizer.fit_transform(X['phrases'])\n",
    "    sparse_2 = vectorizer.fit_transform(X['cleaned'])\n",
    "    X_features = X[features]\n",
    "    X = pd.concat([X_features, pd.DataFrame(sparse.toarray())], axis=1)\n",
    "    X = pd.concat([X, pd.DataFrame(sparse_2.toarray())], axis=1)\n",
    "    scaler = MinMaxScaler(feature_range=(0,1))\n",
    "    X = scaler.fit_transform(X)\n",
    "    X_train, X_test, y_train, y_test = train_test_split(X, y, test_size=0.2, stratify=y, random_state=42) #stratify?\n",
    "    rf.fit(X_train, y_train)\n",
    "    y_pred = rf.predict(X_test)\n",
    "    ac = accuracy_score(y_test, y_pred)\n",
    "    print(\"user: {}\".format(user))\n",
    "    print(\"       ---> accuracy: {:.3f}\".format(ac))\n",
    "    print(\"==================\")"
   ]
  },
  {
   "cell_type": "code",
   "execution_count": null,
   "id": "1ccd4808",
   "metadata": {},
   "outputs": [],
   "source": [
    "%%time\n",
    "# This takes a while\n",
    "n_grams = [(1,1), (1, 2), (1, 3), (2, 2), (2, 3), (3,3)]\n",
    "matrices = []\n",
    "vocab = []\n",
    "for text_data in texts:\n",
    "    for n_gram in n_grams:\n",
    "        tfidf = TfidfVectorizer(ngram_range = n_gram)\n",
    "        model = tfidf.fit_transform(df[text_data])\n",
    "        vocab.append(tfidf.get_feature_names)\n",
    "        matrices.append(model.toarray())\n",
    "        \n",
    "matrix_labels = []\n",
    "for text_label in texts:\n",
    "    for n_gram in n_grams:\n",
    "        matrix_labels.append(\"{}_{}\".format(text_label, n_gram))\n",
    "        \n",
    "matrices_lab = dict(zip(matrix_labels, matrices))"
   ]
  }
 ],
 "metadata": {
  "kernelspec": {
   "display_name": "Python 3",
   "language": "python",
   "name": "python3"
  },
  "language_info": {
   "codemirror_mode": {
    "name": "ipython",
    "version": 3
   },
   "file_extension": ".py",
   "mimetype": "text/x-python",
   "name": "python",
   "nbconvert_exporter": "python",
   "pygments_lexer": "ipython3",
   "version": "3.9.4"
  }
 },
 "nbformat": 4,
 "nbformat_minor": 5
}
